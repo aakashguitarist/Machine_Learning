{
  "nbformat": 4,
  "nbformat_minor": 0,
  "metadata": {
    "colab": {
      "name": "Experiment_1_Final.ipynb",
      "provenance": [],
      "collapsed_sections": []
    },
    "kernelspec": {
      "name": "python3",
      "display_name": "Python 3"
    }
  },
  "cells": [
    {
      "cell_type": "markdown",
      "metadata": {
        "id": "TrlbUAoAIauL",
        "colab_type": "text"
      },
      "source": [
        "**Importing Few Important Libraries and reading the DATASET**"
      ]
    },
    {
      "cell_type": "code",
      "metadata": {
        "id": "GgqOC2m7goqt",
        "colab_type": "code",
        "colab": {
          "base_uri": "https://localhost:8080/",
          "height": 70
        },
        "outputId": "aa1057f5-933b-4e4d-f373-a10a9d958b0c"
      },
      "source": [
        "import pandas as pd\n",
        "import pandas as pd\n",
        "import numpy as np\n",
        "from sklearn import linear_model\n",
        "from sklearn.model_selection import train_test_split\n",
        "import seaborn as sns\n",
        "from sklearn import metrics\n",
        "import matplotlib.pyplot as plt\n",
        "%matplotlib inline\n",
        "\n",
        "df = pd.read_csv('https://query.data.world/s/xlh353wvypzveoxm7h4u4c6hnucftk',encoding='latin1')"
      ],
      "execution_count": null,
      "outputs": [
        {
          "output_type": "stream",
          "text": [
            "/usr/local/lib/python3.6/dist-packages/statsmodels/tools/_testing.py:19: FutureWarning: pandas.util.testing is deprecated. Use the functions in the public API at pandas.testing instead.\n",
            "  import pandas.util.testing as tm\n"
          ],
          "name": "stderr"
        }
      ]
    },
    {
      "cell_type": "markdown",
      "metadata": {
        "id": "3PhmRFeeTyoM",
        "colab_type": "text"
      },
      "source": [
        "# DESCRIPTION: Predict cancer mortality rates for US counties.\n",
        "\n",
        "**DATA DICTIONARY:**\n",
        "\n",
        "TARGET_deathRate: Dependent variable. Mean per capita (100,000) cancer mortalities(a)\n",
        "\n",
        "avgAnnCount: Mean number of reported cases of cancer diagnosed annually(a)\n",
        "\n",
        "avgDeathsPerYear: Mean number of reported mortalities due to cancer(a)\n",
        "\n",
        "incidenceRate: Mean per capita (100,000) cancer diagoses(a)\n",
        "\n",
        "medianIncome: Median income per county (b)\n",
        "\n",
        "popEst2015: Population of county (b)\n",
        "\n",
        "povertyPercent: Percent of populace in poverty (b)\n",
        "\n",
        "studyPerCap: Per capita number of cancer-related clinical trials per county (a)\n",
        "\n",
        "binnedInc: Median income per capita binned by decile (b)\n",
        "\n",
        "MedianAge: Median age of county residents (b)\n",
        "\n",
        "MedianAgeMale: Median age of male county residents (b)\n",
        "\n",
        "MedianAgeFemale: Median age of female county residents (b)\n",
        "\n",
        "Geography: County name (b)\n",
        "\n",
        "AvgHouseholdSize: Mean household size of county (b)\n",
        "\n",
        "PercentMarried: Percent of county residents who are married (b)\n",
        "\n",
        "PctNoHS18_24: Percent of county residents ages 18-24 highest education attained: less than high school (b)\n",
        "\n",
        "PctHS18_24: Percent of county residents ages 18-24 highest education attained: high school diploma (b)\n",
        "\n",
        "PctSomeCol18_24: Percent of county residents ages 18-24 highest education attained: some college (b)\n",
        "\n",
        "PctBachDeg18_24: Percent of county residents ages 18-24 highest education attained: bachelor's degree (b)\n",
        "\n",
        "PctHS25_Over: Percent of county residents ages 25 and over highest education attained: high school diploma (b)\n",
        "\n",
        "PctBachDeg25_Over: Percent of county residents ages 25 and over highest education attained: bachelor's degree (b)\n",
        "\n",
        "PctEmployed16_Over: Percent of county residents ages 16 and over employed (b)\n",
        "\n",
        "PctUnemployed16_Over: Percent of county residents ages 16 and over unemployed (b)\n",
        "\n",
        "PctPrivateCoverage: Percent of county residents with private health coverage (b)\n",
        "\n",
        "PctPrivateCoverageAlone: Percent of county residents with private health coverage alone (no public assistance) (b)\n",
        "\n",
        "PctEmpPrivCoverage: Percent of county residents with employee-provided private health coverage (b)\n",
        "\n",
        "PctPublicCoverage: Percent of county residents with government-provided health coverage (b)\n",
        "\n",
        "PctPubliceCoverageAlone: Percent of county residents with government-provided health coverage alone (b)\n",
        "\n",
        "PctWhite: Percent of county residents who identify as White (b)\n",
        "\n",
        "PctBlack: Percent of county residents who identify as Black (b)\n",
        "\n",
        "PctAsian: Percent of county residents who identify as Asian (b)\n",
        "\n",
        "PctOtherRace: Percent of county residents who identify in a category which is not White, Black, or Asian (b)\n",
        "\n",
        "PctMarriedHouseholds: Percent of married households (b)\n",
        "\n",
        "BirthRate: Number of live births relative to number of women in county (b)\n",
        "\n",
        "(a): years 2010-2016\n",
        "\n",
        "(b): 2013 Census Estimates"
      ]
    },
    {
      "cell_type": "code",
      "metadata": {
        "id": "I5DlhPhdgqLo",
        "colab_type": "code",
        "colab": {
          "base_uri": "https://localhost:8080/",
          "height": 383
        },
        "outputId": "37b0f667-eb0c-4be9-c374-a034b1945071"
      },
      "source": [
        "df.head()"
      ],
      "execution_count": null,
      "outputs": [
        {
          "output_type": "execute_result",
          "data": {
            "text/html": [
              "<div>\n",
              "<style scoped>\n",
              "    .dataframe tbody tr th:only-of-type {\n",
              "        vertical-align: middle;\n",
              "    }\n",
              "\n",
              "    .dataframe tbody tr th {\n",
              "        vertical-align: top;\n",
              "    }\n",
              "\n",
              "    .dataframe thead th {\n",
              "        text-align: right;\n",
              "    }\n",
              "</style>\n",
              "<table border=\"1\" class=\"dataframe\">\n",
              "  <thead>\n",
              "    <tr style=\"text-align: right;\">\n",
              "      <th></th>\n",
              "      <th>avgAnnCount</th>\n",
              "      <th>avgDeathsPerYear</th>\n",
              "      <th>TARGET_deathRate</th>\n",
              "      <th>incidenceRate</th>\n",
              "      <th>medIncome</th>\n",
              "      <th>popEst2015</th>\n",
              "      <th>povertyPercent</th>\n",
              "      <th>studyPerCap</th>\n",
              "      <th>binnedInc</th>\n",
              "      <th>MedianAge</th>\n",
              "      <th>MedianAgeMale</th>\n",
              "      <th>MedianAgeFemale</th>\n",
              "      <th>Geography</th>\n",
              "      <th>AvgHouseholdSize</th>\n",
              "      <th>PercentMarried</th>\n",
              "      <th>PctNoHS18_24</th>\n",
              "      <th>PctHS18_24</th>\n",
              "      <th>PctSomeCol18_24</th>\n",
              "      <th>PctBachDeg18_24</th>\n",
              "      <th>PctHS25_Over</th>\n",
              "      <th>PctBachDeg25_Over</th>\n",
              "      <th>PctEmployed16_Over</th>\n",
              "      <th>PctUnemployed16_Over</th>\n",
              "      <th>PctPrivateCoverage</th>\n",
              "      <th>PctPrivateCoverageAlone</th>\n",
              "      <th>PctEmpPrivCoverage</th>\n",
              "      <th>PctPublicCoverage</th>\n",
              "      <th>PctPublicCoverageAlone</th>\n",
              "      <th>PctWhite</th>\n",
              "      <th>PctBlack</th>\n",
              "      <th>PctAsian</th>\n",
              "      <th>PctOtherRace</th>\n",
              "      <th>PctMarriedHouseholds</th>\n",
              "      <th>BirthRate</th>\n",
              "    </tr>\n",
              "  </thead>\n",
              "  <tbody>\n",
              "    <tr>\n",
              "      <th>0</th>\n",
              "      <td>1397.0</td>\n",
              "      <td>469</td>\n",
              "      <td>164.9</td>\n",
              "      <td>489.8</td>\n",
              "      <td>61898</td>\n",
              "      <td>260131</td>\n",
              "      <td>11.2</td>\n",
              "      <td>499.748204</td>\n",
              "      <td>(61494.5, 125635]</td>\n",
              "      <td>39.3</td>\n",
              "      <td>36.9</td>\n",
              "      <td>41.7</td>\n",
              "      <td>Kitsap County, Washington</td>\n",
              "      <td>2.54</td>\n",
              "      <td>52.5</td>\n",
              "      <td>11.5</td>\n",
              "      <td>39.5</td>\n",
              "      <td>42.1</td>\n",
              "      <td>6.9</td>\n",
              "      <td>23.2</td>\n",
              "      <td>19.6</td>\n",
              "      <td>51.9</td>\n",
              "      <td>8.0</td>\n",
              "      <td>75.1</td>\n",
              "      <td>NaN</td>\n",
              "      <td>41.6</td>\n",
              "      <td>32.9</td>\n",
              "      <td>14.0</td>\n",
              "      <td>81.780529</td>\n",
              "      <td>2.594728</td>\n",
              "      <td>4.821857</td>\n",
              "      <td>1.843479</td>\n",
              "      <td>52.856076</td>\n",
              "      <td>6.118831</td>\n",
              "    </tr>\n",
              "    <tr>\n",
              "      <th>1</th>\n",
              "      <td>173.0</td>\n",
              "      <td>70</td>\n",
              "      <td>161.3</td>\n",
              "      <td>411.6</td>\n",
              "      <td>48127</td>\n",
              "      <td>43269</td>\n",
              "      <td>18.6</td>\n",
              "      <td>23.111234</td>\n",
              "      <td>(48021.6, 51046.4]</td>\n",
              "      <td>33.0</td>\n",
              "      <td>32.2</td>\n",
              "      <td>33.7</td>\n",
              "      <td>Kittitas County, Washington</td>\n",
              "      <td>2.34</td>\n",
              "      <td>44.5</td>\n",
              "      <td>6.1</td>\n",
              "      <td>22.4</td>\n",
              "      <td>64.0</td>\n",
              "      <td>7.5</td>\n",
              "      <td>26.0</td>\n",
              "      <td>22.7</td>\n",
              "      <td>55.9</td>\n",
              "      <td>7.8</td>\n",
              "      <td>70.2</td>\n",
              "      <td>53.8</td>\n",
              "      <td>43.6</td>\n",
              "      <td>31.1</td>\n",
              "      <td>15.3</td>\n",
              "      <td>89.228509</td>\n",
              "      <td>0.969102</td>\n",
              "      <td>2.246233</td>\n",
              "      <td>3.741352</td>\n",
              "      <td>45.372500</td>\n",
              "      <td>4.333096</td>\n",
              "    </tr>\n",
              "    <tr>\n",
              "      <th>2</th>\n",
              "      <td>102.0</td>\n",
              "      <td>50</td>\n",
              "      <td>174.7</td>\n",
              "      <td>349.7</td>\n",
              "      <td>49348</td>\n",
              "      <td>21026</td>\n",
              "      <td>14.6</td>\n",
              "      <td>47.560164</td>\n",
              "      <td>(48021.6, 51046.4]</td>\n",
              "      <td>45.0</td>\n",
              "      <td>44.0</td>\n",
              "      <td>45.8</td>\n",
              "      <td>Klickitat County, Washington</td>\n",
              "      <td>2.62</td>\n",
              "      <td>54.2</td>\n",
              "      <td>24.0</td>\n",
              "      <td>36.6</td>\n",
              "      <td>NaN</td>\n",
              "      <td>9.5</td>\n",
              "      <td>29.0</td>\n",
              "      <td>16.0</td>\n",
              "      <td>45.9</td>\n",
              "      <td>7.0</td>\n",
              "      <td>63.7</td>\n",
              "      <td>43.5</td>\n",
              "      <td>34.9</td>\n",
              "      <td>42.1</td>\n",
              "      <td>21.1</td>\n",
              "      <td>90.922190</td>\n",
              "      <td>0.739673</td>\n",
              "      <td>0.465898</td>\n",
              "      <td>2.747358</td>\n",
              "      <td>54.444868</td>\n",
              "      <td>3.729488</td>\n",
              "    </tr>\n",
              "    <tr>\n",
              "      <th>3</th>\n",
              "      <td>427.0</td>\n",
              "      <td>202</td>\n",
              "      <td>194.8</td>\n",
              "      <td>430.4</td>\n",
              "      <td>44243</td>\n",
              "      <td>75882</td>\n",
              "      <td>17.1</td>\n",
              "      <td>342.637253</td>\n",
              "      <td>(42724.4, 45201]</td>\n",
              "      <td>42.8</td>\n",
              "      <td>42.2</td>\n",
              "      <td>43.4</td>\n",
              "      <td>Lewis County, Washington</td>\n",
              "      <td>2.52</td>\n",
              "      <td>52.7</td>\n",
              "      <td>20.2</td>\n",
              "      <td>41.2</td>\n",
              "      <td>36.1</td>\n",
              "      <td>2.5</td>\n",
              "      <td>31.6</td>\n",
              "      <td>9.3</td>\n",
              "      <td>48.3</td>\n",
              "      <td>12.1</td>\n",
              "      <td>58.4</td>\n",
              "      <td>40.3</td>\n",
              "      <td>35.0</td>\n",
              "      <td>45.3</td>\n",
              "      <td>25.0</td>\n",
              "      <td>91.744686</td>\n",
              "      <td>0.782626</td>\n",
              "      <td>1.161359</td>\n",
              "      <td>1.362643</td>\n",
              "      <td>51.021514</td>\n",
              "      <td>4.603841</td>\n",
              "    </tr>\n",
              "    <tr>\n",
              "      <th>4</th>\n",
              "      <td>57.0</td>\n",
              "      <td>26</td>\n",
              "      <td>144.4</td>\n",
              "      <td>350.1</td>\n",
              "      <td>49955</td>\n",
              "      <td>10321</td>\n",
              "      <td>12.5</td>\n",
              "      <td>0.000000</td>\n",
              "      <td>(48021.6, 51046.4]</td>\n",
              "      <td>48.3</td>\n",
              "      <td>47.8</td>\n",
              "      <td>48.9</td>\n",
              "      <td>Lincoln County, Washington</td>\n",
              "      <td>2.34</td>\n",
              "      <td>57.8</td>\n",
              "      <td>14.9</td>\n",
              "      <td>43.0</td>\n",
              "      <td>40.0</td>\n",
              "      <td>2.0</td>\n",
              "      <td>33.4</td>\n",
              "      <td>15.0</td>\n",
              "      <td>48.2</td>\n",
              "      <td>4.8</td>\n",
              "      <td>61.6</td>\n",
              "      <td>43.9</td>\n",
              "      <td>35.1</td>\n",
              "      <td>44.0</td>\n",
              "      <td>22.7</td>\n",
              "      <td>94.104024</td>\n",
              "      <td>0.270192</td>\n",
              "      <td>0.665830</td>\n",
              "      <td>0.492135</td>\n",
              "      <td>54.027460</td>\n",
              "      <td>6.796657</td>\n",
              "    </tr>\n",
              "  </tbody>\n",
              "</table>\n",
              "</div>"
            ],
            "text/plain": [
              "   avgAnnCount  avgDeathsPerYear  ...  PctMarriedHouseholds  BirthRate\n",
              "0       1397.0               469  ...             52.856076   6.118831\n",
              "1        173.0                70  ...             45.372500   4.333096\n",
              "2        102.0                50  ...             54.444868   3.729488\n",
              "3        427.0               202  ...             51.021514   4.603841\n",
              "4         57.0                26  ...             54.027460   6.796657\n",
              "\n",
              "[5 rows x 34 columns]"
            ]
          },
          "metadata": {
            "tags": []
          },
          "execution_count": 2
        }
      ]
    },
    {
      "cell_type": "markdown",
      "metadata": {
        "id": "iFfxlt-EI0o2",
        "colab_type": "text"
      },
      "source": [
        "**Viewing the description of data**"
      ]
    },
    {
      "cell_type": "code",
      "metadata": {
        "id": "0BDibT5Phl_x",
        "colab_type": "code",
        "colab": {
          "base_uri": "https://localhost:8080/",
          "height": 304
        },
        "outputId": "abb91550-4f37-4834-e988-96822f6a62b7"
      },
      "source": [
        "df.describe()"
      ],
      "execution_count": null,
      "outputs": [
        {
          "output_type": "execute_result",
          "data": {
            "text/html": [
              "<div>\n",
              "<style scoped>\n",
              "    .dataframe tbody tr th:only-of-type {\n",
              "        vertical-align: middle;\n",
              "    }\n",
              "\n",
              "    .dataframe tbody tr th {\n",
              "        vertical-align: top;\n",
              "    }\n",
              "\n",
              "    .dataframe thead th {\n",
              "        text-align: right;\n",
              "    }\n",
              "</style>\n",
              "<table border=\"1\" class=\"dataframe\">\n",
              "  <thead>\n",
              "    <tr style=\"text-align: right;\">\n",
              "      <th></th>\n",
              "      <th>avgAnnCount</th>\n",
              "      <th>avgDeathsPerYear</th>\n",
              "      <th>TARGET_deathRate</th>\n",
              "      <th>incidenceRate</th>\n",
              "      <th>medIncome</th>\n",
              "      <th>popEst2015</th>\n",
              "      <th>povertyPercent</th>\n",
              "      <th>studyPerCap</th>\n",
              "      <th>MedianAge</th>\n",
              "      <th>MedianAgeMale</th>\n",
              "      <th>MedianAgeFemale</th>\n",
              "      <th>AvgHouseholdSize</th>\n",
              "      <th>PercentMarried</th>\n",
              "      <th>PctNoHS18_24</th>\n",
              "      <th>PctHS18_24</th>\n",
              "      <th>PctSomeCol18_24</th>\n",
              "      <th>PctBachDeg18_24</th>\n",
              "      <th>PctHS25_Over</th>\n",
              "      <th>PctBachDeg25_Over</th>\n",
              "      <th>PctEmployed16_Over</th>\n",
              "      <th>PctUnemployed16_Over</th>\n",
              "      <th>PctPrivateCoverage</th>\n",
              "      <th>PctPrivateCoverageAlone</th>\n",
              "      <th>PctEmpPrivCoverage</th>\n",
              "      <th>PctPublicCoverage</th>\n",
              "      <th>PctPublicCoverageAlone</th>\n",
              "      <th>PctWhite</th>\n",
              "      <th>PctBlack</th>\n",
              "      <th>PctAsian</th>\n",
              "      <th>PctOtherRace</th>\n",
              "      <th>PctMarriedHouseholds</th>\n",
              "      <th>BirthRate</th>\n",
              "    </tr>\n",
              "  </thead>\n",
              "  <tbody>\n",
              "    <tr>\n",
              "      <th>count</th>\n",
              "      <td>3047.000000</td>\n",
              "      <td>3047.000000</td>\n",
              "      <td>3047.000000</td>\n",
              "      <td>3047.000000</td>\n",
              "      <td>3047.000000</td>\n",
              "      <td>3.047000e+03</td>\n",
              "      <td>3047.000000</td>\n",
              "      <td>3047.000000</td>\n",
              "      <td>3047.000000</td>\n",
              "      <td>3047.000000</td>\n",
              "      <td>3047.000000</td>\n",
              "      <td>3047.000000</td>\n",
              "      <td>3047.000000</td>\n",
              "      <td>3047.000000</td>\n",
              "      <td>3047.000000</td>\n",
              "      <td>762.000000</td>\n",
              "      <td>3047.000000</td>\n",
              "      <td>3047.000000</td>\n",
              "      <td>3047.000000</td>\n",
              "      <td>2895.000000</td>\n",
              "      <td>3047.000000</td>\n",
              "      <td>3047.000000</td>\n",
              "      <td>2438.000000</td>\n",
              "      <td>3047.000000</td>\n",
              "      <td>3047.000000</td>\n",
              "      <td>3047.000000</td>\n",
              "      <td>3047.000000</td>\n",
              "      <td>3047.000000</td>\n",
              "      <td>3047.000000</td>\n",
              "      <td>3047.000000</td>\n",
              "      <td>3047.000000</td>\n",
              "      <td>3047.000000</td>\n",
              "    </tr>\n",
              "    <tr>\n",
              "      <th>mean</th>\n",
              "      <td>606.338544</td>\n",
              "      <td>185.965868</td>\n",
              "      <td>178.664063</td>\n",
              "      <td>448.268586</td>\n",
              "      <td>47063.281917</td>\n",
              "      <td>1.026374e+05</td>\n",
              "      <td>16.878175</td>\n",
              "      <td>155.399415</td>\n",
              "      <td>45.272333</td>\n",
              "      <td>39.570725</td>\n",
              "      <td>42.145323</td>\n",
              "      <td>2.479662</td>\n",
              "      <td>51.773679</td>\n",
              "      <td>18.224450</td>\n",
              "      <td>35.002068</td>\n",
              "      <td>40.977034</td>\n",
              "      <td>6.158287</td>\n",
              "      <td>34.804660</td>\n",
              "      <td>13.282015</td>\n",
              "      <td>54.152642</td>\n",
              "      <td>7.852412</td>\n",
              "      <td>64.354939</td>\n",
              "      <td>48.453774</td>\n",
              "      <td>41.196324</td>\n",
              "      <td>36.252642</td>\n",
              "      <td>19.240072</td>\n",
              "      <td>83.645286</td>\n",
              "      <td>9.107978</td>\n",
              "      <td>1.253965</td>\n",
              "      <td>1.983523</td>\n",
              "      <td>51.243872</td>\n",
              "      <td>5.640306</td>\n",
              "    </tr>\n",
              "    <tr>\n",
              "      <th>std</th>\n",
              "      <td>1416.356223</td>\n",
              "      <td>504.134286</td>\n",
              "      <td>27.751511</td>\n",
              "      <td>54.560733</td>\n",
              "      <td>12040.090836</td>\n",
              "      <td>3.290592e+05</td>\n",
              "      <td>6.409087</td>\n",
              "      <td>529.628366</td>\n",
              "      <td>45.304480</td>\n",
              "      <td>5.226017</td>\n",
              "      <td>5.292849</td>\n",
              "      <td>0.429174</td>\n",
              "      <td>6.896928</td>\n",
              "      <td>8.093064</td>\n",
              "      <td>9.069722</td>\n",
              "      <td>11.115805</td>\n",
              "      <td>4.529059</td>\n",
              "      <td>7.034924</td>\n",
              "      <td>5.394756</td>\n",
              "      <td>8.315064</td>\n",
              "      <td>3.452371</td>\n",
              "      <td>10.647057</td>\n",
              "      <td>10.083006</td>\n",
              "      <td>9.447687</td>\n",
              "      <td>7.841741</td>\n",
              "      <td>6.113041</td>\n",
              "      <td>16.380025</td>\n",
              "      <td>14.534538</td>\n",
              "      <td>2.610276</td>\n",
              "      <td>3.517710</td>\n",
              "      <td>6.572814</td>\n",
              "      <td>1.985816</td>\n",
              "    </tr>\n",
              "    <tr>\n",
              "      <th>min</th>\n",
              "      <td>6.000000</td>\n",
              "      <td>3.000000</td>\n",
              "      <td>59.700000</td>\n",
              "      <td>201.300000</td>\n",
              "      <td>22640.000000</td>\n",
              "      <td>8.270000e+02</td>\n",
              "      <td>3.200000</td>\n",
              "      <td>0.000000</td>\n",
              "      <td>22.300000</td>\n",
              "      <td>22.400000</td>\n",
              "      <td>22.300000</td>\n",
              "      <td>0.022100</td>\n",
              "      <td>23.100000</td>\n",
              "      <td>0.000000</td>\n",
              "      <td>0.000000</td>\n",
              "      <td>7.100000</td>\n",
              "      <td>0.000000</td>\n",
              "      <td>7.500000</td>\n",
              "      <td>2.500000</td>\n",
              "      <td>17.600000</td>\n",
              "      <td>0.400000</td>\n",
              "      <td>22.300000</td>\n",
              "      <td>15.700000</td>\n",
              "      <td>13.500000</td>\n",
              "      <td>11.200000</td>\n",
              "      <td>2.600000</td>\n",
              "      <td>10.199155</td>\n",
              "      <td>0.000000</td>\n",
              "      <td>0.000000</td>\n",
              "      <td>0.000000</td>\n",
              "      <td>22.992490</td>\n",
              "      <td>0.000000</td>\n",
              "    </tr>\n",
              "    <tr>\n",
              "      <th>25%</th>\n",
              "      <td>76.000000</td>\n",
              "      <td>28.000000</td>\n",
              "      <td>161.200000</td>\n",
              "      <td>420.300000</td>\n",
              "      <td>38882.500000</td>\n",
              "      <td>1.168400e+04</td>\n",
              "      <td>12.150000</td>\n",
              "      <td>0.000000</td>\n",
              "      <td>37.700000</td>\n",
              "      <td>36.350000</td>\n",
              "      <td>39.100000</td>\n",
              "      <td>2.370000</td>\n",
              "      <td>47.750000</td>\n",
              "      <td>12.800000</td>\n",
              "      <td>29.200000</td>\n",
              "      <td>34.000000</td>\n",
              "      <td>3.100000</td>\n",
              "      <td>30.400000</td>\n",
              "      <td>9.400000</td>\n",
              "      <td>48.600000</td>\n",
              "      <td>5.500000</td>\n",
              "      <td>57.200000</td>\n",
              "      <td>41.000000</td>\n",
              "      <td>34.500000</td>\n",
              "      <td>30.900000</td>\n",
              "      <td>14.850000</td>\n",
              "      <td>77.296180</td>\n",
              "      <td>0.620675</td>\n",
              "      <td>0.254199</td>\n",
              "      <td>0.295172</td>\n",
              "      <td>47.763063</td>\n",
              "      <td>4.521419</td>\n",
              "    </tr>\n",
              "    <tr>\n",
              "      <th>50%</th>\n",
              "      <td>171.000000</td>\n",
              "      <td>61.000000</td>\n",
              "      <td>178.100000</td>\n",
              "      <td>453.549422</td>\n",
              "      <td>45207.000000</td>\n",
              "      <td>2.664300e+04</td>\n",
              "      <td>15.900000</td>\n",
              "      <td>0.000000</td>\n",
              "      <td>41.000000</td>\n",
              "      <td>39.600000</td>\n",
              "      <td>42.400000</td>\n",
              "      <td>2.500000</td>\n",
              "      <td>52.400000</td>\n",
              "      <td>17.100000</td>\n",
              "      <td>34.700000</td>\n",
              "      <td>40.400000</td>\n",
              "      <td>5.400000</td>\n",
              "      <td>35.300000</td>\n",
              "      <td>12.300000</td>\n",
              "      <td>54.500000</td>\n",
              "      <td>7.600000</td>\n",
              "      <td>65.100000</td>\n",
              "      <td>48.700000</td>\n",
              "      <td>41.100000</td>\n",
              "      <td>36.300000</td>\n",
              "      <td>18.800000</td>\n",
              "      <td>90.059774</td>\n",
              "      <td>2.247576</td>\n",
              "      <td>0.549812</td>\n",
              "      <td>0.826185</td>\n",
              "      <td>51.669941</td>\n",
              "      <td>5.381478</td>\n",
              "    </tr>\n",
              "    <tr>\n",
              "      <th>75%</th>\n",
              "      <td>518.000000</td>\n",
              "      <td>149.000000</td>\n",
              "      <td>195.200000</td>\n",
              "      <td>480.850000</td>\n",
              "      <td>52492.000000</td>\n",
              "      <td>6.867100e+04</td>\n",
              "      <td>20.400000</td>\n",
              "      <td>83.650776</td>\n",
              "      <td>44.000000</td>\n",
              "      <td>42.500000</td>\n",
              "      <td>45.300000</td>\n",
              "      <td>2.630000</td>\n",
              "      <td>56.400000</td>\n",
              "      <td>22.700000</td>\n",
              "      <td>40.700000</td>\n",
              "      <td>46.400000</td>\n",
              "      <td>8.200000</td>\n",
              "      <td>39.650000</td>\n",
              "      <td>16.100000</td>\n",
              "      <td>60.300000</td>\n",
              "      <td>9.700000</td>\n",
              "      <td>72.100000</td>\n",
              "      <td>55.600000</td>\n",
              "      <td>47.700000</td>\n",
              "      <td>41.550000</td>\n",
              "      <td>23.100000</td>\n",
              "      <td>95.451693</td>\n",
              "      <td>10.509732</td>\n",
              "      <td>1.221037</td>\n",
              "      <td>2.177960</td>\n",
              "      <td>55.395132</td>\n",
              "      <td>6.493677</td>\n",
              "    </tr>\n",
              "    <tr>\n",
              "      <th>max</th>\n",
              "      <td>38150.000000</td>\n",
              "      <td>14010.000000</td>\n",
              "      <td>362.800000</td>\n",
              "      <td>1206.900000</td>\n",
              "      <td>125635.000000</td>\n",
              "      <td>1.017029e+07</td>\n",
              "      <td>47.400000</td>\n",
              "      <td>9762.308998</td>\n",
              "      <td>624.000000</td>\n",
              "      <td>64.700000</td>\n",
              "      <td>65.700000</td>\n",
              "      <td>3.970000</td>\n",
              "      <td>72.500000</td>\n",
              "      <td>64.100000</td>\n",
              "      <td>72.500000</td>\n",
              "      <td>79.000000</td>\n",
              "      <td>51.800000</td>\n",
              "      <td>54.800000</td>\n",
              "      <td>42.200000</td>\n",
              "      <td>80.100000</td>\n",
              "      <td>29.400000</td>\n",
              "      <td>92.300000</td>\n",
              "      <td>78.900000</td>\n",
              "      <td>70.700000</td>\n",
              "      <td>65.100000</td>\n",
              "      <td>46.600000</td>\n",
              "      <td>100.000000</td>\n",
              "      <td>85.947799</td>\n",
              "      <td>42.619425</td>\n",
              "      <td>41.930251</td>\n",
              "      <td>78.075397</td>\n",
              "      <td>21.326165</td>\n",
              "    </tr>\n",
              "  </tbody>\n",
              "</table>\n",
              "</div>"
            ],
            "text/plain": [
              "        avgAnnCount  avgDeathsPerYear  ...  PctMarriedHouseholds    BirthRate\n",
              "count   3047.000000       3047.000000  ...           3047.000000  3047.000000\n",
              "mean     606.338544        185.965868  ...             51.243872     5.640306\n",
              "std     1416.356223        504.134286  ...              6.572814     1.985816\n",
              "min        6.000000          3.000000  ...             22.992490     0.000000\n",
              "25%       76.000000         28.000000  ...             47.763063     4.521419\n",
              "50%      171.000000         61.000000  ...             51.669941     5.381478\n",
              "75%      518.000000        149.000000  ...             55.395132     6.493677\n",
              "max    38150.000000      14010.000000  ...             78.075397    21.326165\n",
              "\n",
              "[8 rows x 32 columns]"
            ]
          },
          "metadata": {
            "tags": []
          },
          "execution_count": 3
        }
      ]
    },
    {
      "cell_type": "markdown",
      "metadata": {
        "id": "Z6t2TcxrI57i",
        "colab_type": "text"
      },
      "source": [
        "**Viewing the types of data in out DataFrame**"
      ]
    },
    {
      "cell_type": "code",
      "metadata": {
        "id": "cmHCuH1ahpCX",
        "colab_type": "code",
        "colab": {
          "base_uri": "https://localhost:8080/",
          "height": 706
        },
        "outputId": "f0669b9e-7f81-4e62-8f30-977986b7902a"
      },
      "source": [
        "df.info()"
      ],
      "execution_count": null,
      "outputs": [
        {
          "output_type": "stream",
          "text": [
            "<class 'pandas.core.frame.DataFrame'>\n",
            "RangeIndex: 3047 entries, 0 to 3046\n",
            "Data columns (total 34 columns):\n",
            " #   Column                   Non-Null Count  Dtype  \n",
            "---  ------                   --------------  -----  \n",
            " 0   avgAnnCount              3047 non-null   float64\n",
            " 1   avgDeathsPerYear         3047 non-null   int64  \n",
            " 2   TARGET_deathRate         3047 non-null   float64\n",
            " 3   incidenceRate            3047 non-null   float64\n",
            " 4   medIncome                3047 non-null   int64  \n",
            " 5   popEst2015               3047 non-null   int64  \n",
            " 6   povertyPercent           3047 non-null   float64\n",
            " 7   studyPerCap              3047 non-null   float64\n",
            " 8   binnedInc                3047 non-null   object \n",
            " 9   MedianAge                3047 non-null   float64\n",
            " 10  MedianAgeMale            3047 non-null   float64\n",
            " 11  MedianAgeFemale          3047 non-null   float64\n",
            " 12  Geography                3047 non-null   object \n",
            " 13  AvgHouseholdSize         3047 non-null   float64\n",
            " 14  PercentMarried           3047 non-null   float64\n",
            " 15  PctNoHS18_24             3047 non-null   float64\n",
            " 16  PctHS18_24               3047 non-null   float64\n",
            " 17  PctSomeCol18_24          762 non-null    float64\n",
            " 18  PctBachDeg18_24          3047 non-null   float64\n",
            " 19  PctHS25_Over             3047 non-null   float64\n",
            " 20  PctBachDeg25_Over        3047 non-null   float64\n",
            " 21  PctEmployed16_Over       2895 non-null   float64\n",
            " 22  PctUnemployed16_Over     3047 non-null   float64\n",
            " 23  PctPrivateCoverage       3047 non-null   float64\n",
            " 24  PctPrivateCoverageAlone  2438 non-null   float64\n",
            " 25  PctEmpPrivCoverage       3047 non-null   float64\n",
            " 26  PctPublicCoverage        3047 non-null   float64\n",
            " 27  PctPublicCoverageAlone   3047 non-null   float64\n",
            " 28  PctWhite                 3047 non-null   float64\n",
            " 29  PctBlack                 3047 non-null   float64\n",
            " 30  PctAsian                 3047 non-null   float64\n",
            " 31  PctOtherRace             3047 non-null   float64\n",
            " 32  PctMarriedHouseholds     3047 non-null   float64\n",
            " 33  BirthRate                3047 non-null   float64\n",
            "dtypes: float64(29), int64(3), object(2)\n",
            "memory usage: 809.5+ KB\n"
          ],
          "name": "stdout"
        }
      ]
    },
    {
      "cell_type": "markdown",
      "metadata": {
        "id": "MwA1x90OJCHY",
        "colab_type": "text"
      },
      "source": [
        "**Visualising few of the columns of the dataframe against the output columns**\n",
        "\n",
        "\n",
        "*   avgDeathsPerYear\n",
        "*   PctBachDeg25_Over\n",
        "*   medIncome \n",
        "\n"
      ]
    },
    {
      "cell_type": "code",
      "metadata": {
        "id": "HXPB5jHphqdy",
        "colab_type": "code",
        "colab": {
          "base_uri": "https://localhost:8080/",
          "height": 458
        },
        "outputId": "ee208b47-c820-49b8-e30c-dd35b7f643f6"
      },
      "source": [
        "sns.jointplot(x=df['avgDeathsPerYear'], y=df['TARGET_deathRate'], data=df, kind='reg')"
      ],
      "execution_count": null,
      "outputs": [
        {
          "output_type": "execute_result",
          "data": {
            "text/plain": [
              "<seaborn.axisgrid.JointGrid at 0x7f60643450b8>"
            ]
          },
          "metadata": {
            "tags": []
          },
          "execution_count": 5
        },
        {
          "output_type": "display_data",
          "data": {
            "image/png": "[encoded data removed]",
            "text/plain": [
              "<Figure size 432x432 with 3 Axes>"
            ]
          },
          "metadata": {
            "tags": [],
            "needs_background": "light"
          }
        }
      ]
    },
    {
      "cell_type": "code",
      "metadata": {
        "id": "mx8m6iuKrVyh",
        "colab_type": "code",
        "colab": {
          "base_uri": "https://localhost:8080/",
          "height": 469
        },
        "outputId": "961c38c3-5f21-4c5f-d7cf-519db955d2ed"
      },
      "source": [
        "sns.jointplot(x=df['medIncome'], y=df['TARGET_deathRate'], data=df, kind='reg')"
      ],
      "execution_count": null,
      "outputs": [
        {
          "output_type": "execute_result",
          "data": {
            "text/plain": [
              "<seaborn.axisgrid.JointGrid at 0x7f6061872278>"
            ]
          },
          "metadata": {
            "tags": []
          },
          "execution_count": 6
        },
        {
          "output_type": "display_data",
          "data": {
            "image/png": "[encoded data removed]",
            "text/plain": [
              "<Figure size 432x432 with 3 Axes>"
            ]
          },
          "metadata": {
            "tags": [],
            "needs_background": "light"
          }
        }
      ]
    },
    {
      "cell_type": "code",
      "metadata": {
        "id": "VUIY7bBP-yz3",
        "colab_type": "code",
        "colab": {
          "base_uri": "https://localhost:8080/",
          "height": 458
        },
        "outputId": "8a398321-18e0-4028-e2fa-80ddf21fc9b4"
      },
      "source": [
        "sns.jointplot(x=df['PctBachDeg25_Over'], y=df['TARGET_deathRate'], data=df, kind='reg')"
      ],
      "execution_count": null,
      "outputs": [
        {
          "output_type": "execute_result",
          "data": {
            "text/plain": [
              "<seaborn.axisgrid.JointGrid at 0x7f606106c748>"
            ]
          },
          "metadata": {
            "tags": []
          },
          "execution_count": 8
        },
        {
          "output_type": "display_data",
          "data": {
            "image/png": "[encoded data removed]",
            "text/plain": [
              "<Figure size 432x432 with 3 Axes>"
            ]
          },
          "metadata": {
            "tags": [],
            "needs_background": "light"
          }
        }
      ]
    },
    {
      "cell_type": "markdown",
      "metadata": {
        "id": "Q4E9m4uuJp0K",
        "colab_type": "text"
      },
      "source": [
        "After some of the visualization, now I have viewed the missing values in the **Dataframe** "
      ]
    },
    {
      "cell_type": "code",
      "metadata": {
        "id": "hptI_Nw5radq",
        "colab_type": "code",
        "colab": {
          "base_uri": "https://localhost:8080/",
          "height": 605
        },
        "outputId": "b2a34ca2-a9df-470e-8bde-5c5d4a65bbe9"
      },
      "source": [
        "df.isna().sum()\n"
      ],
      "execution_count": null,
      "outputs": [
        {
          "output_type": "execute_result",
          "data": {
            "text/plain": [
              "avgAnnCount                   0\n",
              "avgDeathsPerYear              0\n",
              "TARGET_deathRate              0\n",
              "incidenceRate                 0\n",
              "medIncome                     0\n",
              "popEst2015                    0\n",
              "povertyPercent                0\n",
              "studyPerCap                   0\n",
              "binnedInc                     0\n",
              "MedianAge                     0\n",
              "MedianAgeMale                 0\n",
              "MedianAgeFemale               0\n",
              "Geography                     0\n",
              "AvgHouseholdSize              0\n",
              "PercentMarried                0\n",
              "PctNoHS18_24                  0\n",
              "PctHS18_24                    0\n",
              "PctSomeCol18_24            2285\n",
              "PctBachDeg18_24               0\n",
              "PctHS25_Over                  0\n",
              "PctBachDeg25_Over             0\n",
              "PctEmployed16_Over          152\n",
              "PctUnemployed16_Over          0\n",
              "PctPrivateCoverage            0\n",
              "PctPrivateCoverageAlone     609\n",
              "PctEmpPrivCoverage            0\n",
              "PctPublicCoverage             0\n",
              "PctPublicCoverageAlone        0\n",
              "PctWhite                      0\n",
              "PctBlack                      0\n",
              "PctAsian                      0\n",
              "PctOtherRace                  0\n",
              "PctMarriedHouseholds          0\n",
              "BirthRate                     0\n",
              "dtype: int64"
            ]
          },
          "metadata": {
            "tags": []
          },
          "execution_count": 10
        }
      ]
    },
    {
      "cell_type": "markdown",
      "metadata": {
        "id": "_JVD5v0oJ5Ax",
        "colab_type": "text"
      },
      "source": [
        "# **Handling the Missing Values**\n",
        "\n",
        "Here in out data, I found that there are three columns where missing values are present i.e. **PctSomeCol18_24 ,PctPrivateCoverageAlone** and  **PctEmployed16_Over**.\n",
        "\n",
        "Thus the columns **PctSomeCol18_24** was having 2285 missing values out of 3047 which can't be handled thus it was dropped directly and the rest two columns are filled with the help of *bfill* and *ffill* methods\n",
        "\n",
        "**bfill()** :  is used to backward fill the missing values in the dataset. It will backward fill the NaN values that are present in the pandas dataframe.\n",
        "\n",
        "**ffill()** : is used to fill the missing value in the dataframe. ‘ffill’ stands for ‘forward fill’ and will propagate last valid observation forward.\n",
        "\n"
      ]
    },
    {
      "cell_type": "code",
      "metadata": {
        "id": "tSxUgbYG6t4b",
        "colab_type": "code",
        "colab": {}
      },
      "source": [
        "df[\"PctPrivateCoverageAlone\"]=df[\"PctPrivateCoverageAlone\"].fillna(method=\"bfill\")\n",
        "df[\"PctEmployed16_Over\"]=(df[\"PctEmployed16_Over\"].fillna(method=\"ffill\"))\n",
        "df=df.drop([\"PctSomeCol18_24\"],axis=1)"
      ],
      "execution_count": null,
      "outputs": []
    },
    {
      "cell_type": "code",
      "metadata": {
        "id": "eNOj6HQo6vRJ",
        "colab_type": "code",
        "colab": {
          "base_uri": "https://localhost:8080/",
          "height": 588
        },
        "outputId": "e2b9d421-d769-4b44-f9fd-3c075d7a0eeb"
      },
      "source": [
        "df.isna().sum()"
      ],
      "execution_count": null,
      "outputs": [
        {
          "output_type": "execute_result",
          "data": {
            "text/plain": [
              "avgAnnCount                0\n",
              "avgDeathsPerYear           0\n",
              "TARGET_deathRate           0\n",
              "incidenceRate              0\n",
              "medIncome                  0\n",
              "popEst2015                 0\n",
              "povertyPercent             0\n",
              "studyPerCap                0\n",
              "binnedInc                  0\n",
              "MedianAge                  0\n",
              "MedianAgeMale              0\n",
              "MedianAgeFemale            0\n",
              "Geography                  0\n",
              "AvgHouseholdSize           0\n",
              "PercentMarried             0\n",
              "PctNoHS18_24               0\n",
              "PctHS18_24                 0\n",
              "PctBachDeg18_24            0\n",
              "PctHS25_Over               0\n",
              "PctBachDeg25_Over          0\n",
              "PctEmployed16_Over         0\n",
              "PctUnemployed16_Over       0\n",
              "PctPrivateCoverage         0\n",
              "PctPrivateCoverageAlone    0\n",
              "PctEmpPrivCoverage         0\n",
              "PctPublicCoverage          0\n",
              "PctPublicCoverageAlone     0\n",
              "PctWhite                   0\n",
              "PctBlack                   0\n",
              "PctAsian                   0\n",
              "PctOtherRace               0\n",
              "PctMarriedHouseholds       0\n",
              "BirthRate                  0\n",
              "dtype: int64"
            ]
          },
          "metadata": {
            "tags": []
          },
          "execution_count": 12
        }
      ]
    },
    {
      "cell_type": "markdown",
      "metadata": {
        "id": "5MJKImjkLIlZ",
        "colab_type": "text"
      },
      "source": [
        "# VISUALIZATION AND ANALYSIS"
      ]
    },
    {
      "cell_type": "markdown",
      "metadata": {
        "id": "0LcMsRReLSNZ",
        "colab_type": "text"
      },
      "source": [
        "**BOX PLOTS**\n",
        "\n",
        "The outliers can be directly seen with the help of boxplots."
      ]
    },
    {
      "cell_type": "code",
      "metadata": {
        "id": "TIR43oGZ_rxo",
        "colab_type": "code",
        "colab": {
          "base_uri": "https://localhost:8080/",
          "height": 297
        },
        "outputId": "6744faec-a981-42bd-f83f-91c4d9df597c"
      },
      "source": [
        "sns.boxplot(df[\"PctBachDeg25_Over\"])"
      ],
      "execution_count": null,
      "outputs": [
        {
          "output_type": "execute_result",
          "data": {
            "text/plain": [
              "<matplotlib.axes._subplots.AxesSubplot at 0x7f60577bf4e0>"
            ]
          },
          "metadata": {
            "tags": []
          },
          "execution_count": 13
        },
        {
          "output_type": "display_data",
          "data": {
            "image/png": "[encoded data removed]",
            "text/plain": [
              "<Figure size 432x288 with 1 Axes>"
            ]
          },
          "metadata": {
            "tags": [],
            "needs_background": "light"
          }
        }
      ]
    },
    {
      "cell_type": "code",
      "metadata": {
        "id": "j2aLN-li_x6o",
        "colab_type": "code",
        "colab": {
          "base_uri": "https://localhost:8080/",
          "height": 296
        },
        "outputId": "665d4ce3-7955-4d01-f520-d5a7b27404a8"
      },
      "source": [
        "sns.boxplot(df[\"incidenceRate\"])  "
      ],
      "execution_count": null,
      "outputs": [
        {
          "output_type": "execute_result",
          "data": {
            "text/plain": [
              "<matplotlib.axes._subplots.AxesSubplot at 0x7f60577bf4a8>"
            ]
          },
          "metadata": {
            "tags": []
          },
          "execution_count": 14
        },
        {
          "output_type": "display_data",
          "data": {
            "image/png": "[encoded data removed]",
            "text/plain": [
              "<Figure size 432x288 with 1 Axes>"
            ]
          },
          "metadata": {
            "tags": [],
            "needs_background": "light"
          }
        }
      ]
    },
    {
      "cell_type": "code",
      "metadata": {
        "id": "is_R-xM9_yCG",
        "colab_type": "code",
        "colab": {
          "base_uri": "https://localhost:8080/",
          "height": 296
        },
        "outputId": "b1e1536a-7948-4d68-81d7-39fb4dd61878"
      },
      "source": [
        "sns.boxplot(df[\"medIncome\"])"
      ],
      "execution_count": null,
      "outputs": [
        {
          "output_type": "execute_result",
          "data": {
            "text/plain": [
              "<matplotlib.axes._subplots.AxesSubplot at 0x7f60576f55c0>"
            ]
          },
          "metadata": {
            "tags": []
          },
          "execution_count": 15
        },
        {
          "output_type": "display_data",
          "data": {
            "image/png": "[encoded data removed]",
            "text/plain": [
              "<Figure size 432x288 with 1 Axes>"
            ]
          },
          "metadata": {
            "tags": [],
            "needs_background": "light"
          }
        }
      ]
    },
    {
      "cell_type": "code",
      "metadata": {
        "id": "WUiJzIVl_yJJ",
        "colab_type": "code",
        "colab": {
          "base_uri": "https://localhost:8080/",
          "height": 297
        },
        "outputId": "6531871d-3fcc-4f19-d9b7-61384bf291ec"
      },
      "source": [
        "sns.boxplot(df[\"TARGET_deathRate\"])"
      ],
      "execution_count": null,
      "outputs": [
        {
          "output_type": "execute_result",
          "data": {
            "text/plain": [
              "<matplotlib.axes._subplots.AxesSubplot at 0x7f605765fb70>"
            ]
          },
          "metadata": {
            "tags": []
          },
          "execution_count": 16
        },
        {
          "output_type": "display_data",
          "data": {
            "image/png": "[encoded data removed]",
            "text/plain": [
              "<Figure size 432x288 with 1 Axes>"
            ]
          },
          "metadata": {
            "tags": [],
            "needs_background": "light"
          }
        }
      ]
    },
    {
      "cell_type": "markdown",
      "metadata": {
        "id": "_uTCkpy4Ldvs",
        "colab_type": "text"
      },
      "source": [
        "**KDE PLOTS along with NORMALIZED KDE PLOTS**"
      ]
    },
    {
      "cell_type": "code",
      "metadata": {
        "id": "kNgpshJBBuRZ",
        "colab_type": "code",
        "colab": {
          "base_uri": "https://localhost:8080/",
          "height": 239
        },
        "outputId": "c6e5093b-84a9-4102-a112-a1ed7632502d"
      },
      "source": [
        "plt.figure(figsize=(25,5))\n",
        "\n",
        "plt.subplot(1,3,1)\n",
        "sns.kdeplot(df[\"TARGET_deathRate\"])\n",
        "\n",
        "plt.subplot(1,3,2)\n",
        "sns.kdeplot(np.log(df[\"TARGET_deathRate\"]))\n"
      ],
      "execution_count": null,
      "outputs": [
        {
          "output_type": "execute_result",
          "data": {
            "text/plain": [
              "<matplotlib.axes._subplots.AxesSubplot at 0x7f6055be1c18>"
            ]
          },
          "metadata": {
            "tags": []
          },
          "execution_count": 41
        },
        {
          "output_type": "display_data",
          "data": {
            "image/png": "[encoded data removed]",
            "text/plain": [
              "<Figure size 1800x360 with 2 Axes>"
            ]
          },
          "metadata": {
            "tags": []
          }
        }
      ]
    },
    {
      "cell_type": "code",
      "metadata": {
        "id": "4Mj85TepGgDF",
        "colab_type": "code",
        "colab": {
          "base_uri": "https://localhost:8080/",
          "height": 241
        },
        "outputId": "3b6254a5-ebc2-41bf-8e6a-c2ee22c2e08c"
      },
      "source": [
        "plt.figure(figsize=(25,5))\n",
        "\n",
        "plt.subplot(1,3,1)\n",
        "sns.kdeplot(df[\"PctBachDeg25_Over\"])\n",
        "\n",
        "plt.subplot(1,3,2)\n",
        "sns.kdeplot(np.log(df[\"PctBachDeg25_Over\"]))\n"
      ],
      "execution_count": null,
      "outputs": [
        {
          "output_type": "execute_result",
          "data": {
            "text/plain": [
              "<matplotlib.axes._subplots.AxesSubplot at 0x7f6055bee940>"
            ]
          },
          "metadata": {
            "tags": []
          },
          "execution_count": 44
        },
        {
          "output_type": "display_data",
          "data": {
            "image/png": "[encoded data removed]",
            "text/plain": [
              "<Figure size 1800x360 with 2 Axes>"
            ]
          },
          "metadata": {
            "tags": []
          }
        }
      ]
    },
    {
      "cell_type": "code",
      "metadata": {
        "id": "PYLgj9KzGRyj",
        "colab_type": "code",
        "colab": {
          "base_uri": "https://localhost:8080/",
          "height": 250
        },
        "outputId": "0616de52-2c95-4016-d16b-b98308416c74"
      },
      "source": [
        "plt.figure(figsize=(25,5))\n",
        "\n",
        "plt.subplot(1,3,1)\n",
        "sns.kdeplot(df[\"medIncome\"])\n",
        "\n",
        "plt.subplot(1,3,2)\n",
        "sns.kdeplot(np.log(df[\"medIncome\"]))\n"
      ],
      "execution_count": null,
      "outputs": [
        {
          "output_type": "execute_result",
          "data": {
            "text/plain": [
              "<matplotlib.axes._subplots.AxesSubplot at 0x7f6055b05668>"
            ]
          },
          "metadata": {
            "tags": []
          },
          "execution_count": 42
        },
        {
          "output_type": "display_data",
          "data": {
            "image/png": "[encoded data removed]",
            "text/plain": [
              "<Figure size 1800x360 with 2 Axes>"
            ]
          },
          "metadata": {
            "tags": []
          }
        }
      ]
    },
    {
      "cell_type": "code",
      "metadata": {
        "id": "IXaYq_oTGR83",
        "colab_type": "code",
        "colab": {
          "base_uri": "https://localhost:8080/",
          "height": 241
        },
        "outputId": "b0d76a7a-044f-4fec-87f1-274228b2887a"
      },
      "source": [
        "plt.figure(figsize=(25,5))\n",
        "\n",
        "plt.subplot(1,3,1)\n",
        "sns.kdeplot(df[\"PctBachDeg25_Over\"])\n",
        "\n",
        "plt.subplot(1,3,2)\n",
        "sns.kdeplot(np.log(df[\"PctBachDeg25_Over\"]))\n"
      ],
      "execution_count": null,
      "outputs": [
        {
          "output_type": "execute_result",
          "data": {
            "text/plain": [
              "<matplotlib.axes._subplots.AxesSubplot at 0x7f6055a67748>"
            ]
          },
          "metadata": {
            "tags": []
          },
          "execution_count": 43
        },
        {
          "output_type": "display_data",
          "data": {
            "image/png": "[encoded data removed]",
            "text/plain": [
              "<Figure size 1800x360 with 2 Axes>"
            ]
          },
          "metadata": {
            "tags": []
          }
        }
      ]
    },
    {
      "cell_type": "markdown",
      "metadata": {
        "id": "44zBlJfGLmzQ",
        "colab_type": "text"
      },
      "source": [
        "# **HEAT MAP**\n",
        "\n",
        "Heatmap is used to view the correlation among the various columns.\n",
        "We See that there is not even a single columns which is having correlation above 0.5 with the output column or our target i.e. *TARGET_deathRate* "
      ]
    },
    {
      "cell_type": "code",
      "metadata": {
        "id": "x5XOK6IRArUA",
        "colab_type": "code",
        "colab": {
          "base_uri": "https://localhost:8080/",
          "height": 759
        },
        "outputId": "680de8e5-e7f7-4843-e272-af6091b238ff"
      },
      "source": [
        "plt.figure(num=None, figsize=(12, 10), dpi=80, facecolor='w', edgecolor='k')\n",
        "\n",
        "corr= df.corr()\n",
        "sns.heatmap(corr, xticklabels=corr.columns.values, yticklabels=corr.columns.values,cmap=\"YlGnBu\")\n",
        "\n",
        "# Selecting only correlated features\n",
        "corr_y = abs(corr['TARGET_deathRate'])\n",
        "highest_corr = corr_y[corr_y >0.4]\n",
        "highest_corr.sort_values(ascending=True)"
      ],
      "execution_count": null,
      "outputs": [
        {
          "output_type": "execute_result",
          "data": {
            "text/plain": [
              "PctEmployed16_Over        0.403575\n",
              "PctPublicCoverage         0.404572\n",
              "PctHS25_Over              0.404589\n",
              "medIncome                 0.428615\n",
              "povertyPercent            0.429389\n",
              "PctPublicCoverageAlone    0.449358\n",
              "incidenceRate             0.449432\n",
              "PctBachDeg25_Over         0.485477\n",
              "TARGET_deathRate          1.000000\n",
              "Name: TARGET_deathRate, dtype: float64"
            ]
          },
          "metadata": {
            "tags": []
          },
          "execution_count": 29
        },
        {
          "output_type": "display_data",
          "data": {
            "image/png": "[encoded data removed]",
            "text/plain": [
              "<Figure size 960x800 with 2 Axes>"
            ]
          },
          "metadata": {
            "tags": []
          }
        }
      ]
    },
    {
      "cell_type": "markdown",
      "metadata": {
        "id": "9eBIvnDrxu8g",
        "colab_type": "text"
      },
      "source": [
        "## **Outliers Handling**"
      ]
    },
    {
      "cell_type": "code",
      "metadata": {
        "id": "-bMNt_9oxjag",
        "colab_type": "code",
        "colab": {
          "base_uri": "https://localhost:8080/",
          "height": 554
        },
        "outputId": "313efda7-e066-4994-b4c6-d8d91b084ea8"
      },
      "source": [
        "Q1 = df.quantile(0.25)\n",
        "Q3 = df.quantile(0.75)\n",
        "IQR = Q3 - Q1\n",
        "print(IQR)"
      ],
      "execution_count": null,
      "outputs": [
        {
          "output_type": "stream",
          "text": [
            "avgAnnCount                  442.000000\n",
            "avgDeathsPerYear             121.000000\n",
            "TARGET_deathRate              34.000000\n",
            "incidenceRate                 60.550000\n",
            "medIncome                  13609.500000\n",
            "popEst2015                 56987.000000\n",
            "povertyPercent                 8.250000\n",
            "studyPerCap                   83.650776\n",
            "MedianAge                      6.300000\n",
            "MedianAgeMale                  6.150000\n",
            "MedianAgeFemale                6.200000\n",
            "AvgHouseholdSize               0.260000\n",
            "PercentMarried                 8.650000\n",
            "PctNoHS18_24                   9.900000\n",
            "PctHS18_24                    11.500000\n",
            "PctBachDeg18_24                5.100000\n",
            "PctHS25_Over                   9.250000\n",
            "PctBachDeg25_Over              6.700000\n",
            "PctEmployed16_Over            11.700000\n",
            "PctUnemployed16_Over           4.200000\n",
            "PctPrivateCoverage            14.900000\n",
            "PctPrivateCoverageAlone       14.700000\n",
            "PctEmpPrivCoverage            13.200000\n",
            "PctPublicCoverage             10.650000\n",
            "PctPublicCoverageAlone         8.250000\n",
            "PctWhite                      18.155514\n",
            "PctBlack                       9.889057\n",
            "PctAsian                       0.966838\n",
            "PctOtherRace                   1.882788\n",
            "PctMarriedHouseholds           7.632070\n",
            "BirthRate                      1.972257\n",
            "dtype: float64\n"
          ],
          "name": "stdout"
        }
      ]
    },
    {
      "cell_type": "markdown",
      "metadata": {
        "id": "tW8-vqDpyxTI",
        "colab_type": "text"
      },
      "source": [
        "# **NORMALISASTION followed by  TRANSFORMATION**"
      ]
    },
    {
      "cell_type": "markdown",
      "metadata": {
        "id": "NNnBj0HBMGvF",
        "colab_type": "text"
      },
      "source": [
        "Few of the columns with numerical data are being *normalized* by taking **LOG** of them ; \n",
        "\n",
        "Few of the columns with numerical data are being *transformed* by taking **SQUARE** of them ; \n",
        "\n",
        "Few of the columns with numerical data are being *transformed* by taking **SQUAREROOT** of them ; "
      ]
    },
    {
      "cell_type": "code",
      "metadata": {
        "id": "lWrQ016vxjfe",
        "colab_type": "code",
        "colab": {}
      },
      "source": [
        "log_trans=[\"AvgHouseholdSize\",\"povertyPercent\",\"popEst2015\",\"PctBachDeg25_Over\",\"medIncome\",\"incidenceRate\",\"avgAnnCount\",\"avgDeathsPerYear\"]\n",
        "square_trans=[\"PercentMarried\",\"PctEmployed16_Over\"]\n",
        "sqrt_trans=Check_var=[\"PctBachDeg18_24\",\"studyPerCap\",\"popEst2015\"]\n",
        "for i in log_trans:\n",
        "  df[i]=np.log(df[i])\n",
        "for i in square_trans:\n",
        "  df[i]=np.square(df[i])\n",
        "for i in sqrt_trans:\n",
        "  df[i]=np.sqrt(df[i])    "
      ],
      "execution_count": null,
      "outputs": []
    },
    {
      "cell_type": "code",
      "metadata": {
        "id": "PfCseLwExjkp",
        "colab_type": "code",
        "colab": {
          "base_uri": "https://localhost:8080/",
          "height": 383
        },
        "outputId": "0d223064-3c71-4609-82b6-64f876aacf06"
      },
      "source": [
        "df.head()"
      ],
      "execution_count": null,
      "outputs": [
        {
          "output_type": "execute_result",
          "data": {
            "text/html": [
              "<div>\n",
              "<style scoped>\n",
              "    .dataframe tbody tr th:only-of-type {\n",
              "        vertical-align: middle;\n",
              "    }\n",
              "\n",
              "    .dataframe tbody tr th {\n",
              "        vertical-align: top;\n",
              "    }\n",
              "\n",
              "    .dataframe thead th {\n",
              "        text-align: right;\n",
              "    }\n",
              "</style>\n",
              "<table border=\"1\" class=\"dataframe\">\n",
              "  <thead>\n",
              "    <tr style=\"text-align: right;\">\n",
              "      <th></th>\n",
              "      <th>avgAnnCount</th>\n",
              "      <th>avgDeathsPerYear</th>\n",
              "      <th>TARGET_deathRate</th>\n",
              "      <th>incidenceRate</th>\n",
              "      <th>medIncome</th>\n",
              "      <th>popEst2015</th>\n",
              "      <th>povertyPercent</th>\n",
              "      <th>studyPerCap</th>\n",
              "      <th>binnedInc</th>\n",
              "      <th>MedianAge</th>\n",
              "      <th>MedianAgeMale</th>\n",
              "      <th>MedianAgeFemale</th>\n",
              "      <th>Geography</th>\n",
              "      <th>AvgHouseholdSize</th>\n",
              "      <th>PercentMarried</th>\n",
              "      <th>PctNoHS18_24</th>\n",
              "      <th>PctHS18_24</th>\n",
              "      <th>PctBachDeg18_24</th>\n",
              "      <th>PctHS25_Over</th>\n",
              "      <th>PctBachDeg25_Over</th>\n",
              "      <th>PctEmployed16_Over</th>\n",
              "      <th>PctUnemployed16_Over</th>\n",
              "      <th>PctPrivateCoverage</th>\n",
              "      <th>PctPrivateCoverageAlone</th>\n",
              "      <th>PctEmpPrivCoverage</th>\n",
              "      <th>PctPublicCoverage</th>\n",
              "      <th>PctPublicCoverageAlone</th>\n",
              "      <th>PctWhite</th>\n",
              "      <th>PctBlack</th>\n",
              "      <th>PctAsian</th>\n",
              "      <th>PctOtherRace</th>\n",
              "      <th>PctMarriedHouseholds</th>\n",
              "      <th>BirthRate</th>\n",
              "    </tr>\n",
              "  </thead>\n",
              "  <tbody>\n",
              "    <tr>\n",
              "      <th>0</th>\n",
              "      <td>7.242082</td>\n",
              "      <td>6.150603</td>\n",
              "      <td>164.9</td>\n",
              "      <td>6.193997</td>\n",
              "      <td>11.033243</td>\n",
              "      <td>3.531139</td>\n",
              "      <td>2.415914</td>\n",
              "      <td>22.355049</td>\n",
              "      <td>(61494.5, 125635]</td>\n",
              "      <td>39.3</td>\n",
              "      <td>36.9</td>\n",
              "      <td>41.7</td>\n",
              "      <td>Kitsap County, Washington</td>\n",
              "      <td>0.932164</td>\n",
              "      <td>2756.25</td>\n",
              "      <td>11.5</td>\n",
              "      <td>39.5</td>\n",
              "      <td>2.626785</td>\n",
              "      <td>23.2</td>\n",
              "      <td>2.975530</td>\n",
              "      <td>2693.61</td>\n",
              "      <td>8.0</td>\n",
              "      <td>75.1</td>\n",
              "      <td>53.8</td>\n",
              "      <td>41.6</td>\n",
              "      <td>32.9</td>\n",
              "      <td>14.0</td>\n",
              "      <td>81.780529</td>\n",
              "      <td>2.594728</td>\n",
              "      <td>4.821857</td>\n",
              "      <td>1.843479</td>\n",
              "      <td>52.856076</td>\n",
              "      <td>6.118831</td>\n",
              "    </tr>\n",
              "    <tr>\n",
              "      <th>1</th>\n",
              "      <td>5.153292</td>\n",
              "      <td>4.248495</td>\n",
              "      <td>161.3</td>\n",
              "      <td>6.020052</td>\n",
              "      <td>10.781599</td>\n",
              "      <td>3.267291</td>\n",
              "      <td>2.923162</td>\n",
              "      <td>4.807415</td>\n",
              "      <td>(48021.6, 51046.4]</td>\n",
              "      <td>33.0</td>\n",
              "      <td>32.2</td>\n",
              "      <td>33.7</td>\n",
              "      <td>Kittitas County, Washington</td>\n",
              "      <td>0.850151</td>\n",
              "      <td>1980.25</td>\n",
              "      <td>6.1</td>\n",
              "      <td>22.4</td>\n",
              "      <td>2.738613</td>\n",
              "      <td>26.0</td>\n",
              "      <td>3.122365</td>\n",
              "      <td>3124.81</td>\n",
              "      <td>7.8</td>\n",
              "      <td>70.2</td>\n",
              "      <td>53.8</td>\n",
              "      <td>43.6</td>\n",
              "      <td>31.1</td>\n",
              "      <td>15.3</td>\n",
              "      <td>89.228509</td>\n",
              "      <td>0.969102</td>\n",
              "      <td>2.246233</td>\n",
              "      <td>3.741352</td>\n",
              "      <td>45.372500</td>\n",
              "      <td>4.333096</td>\n",
              "    </tr>\n",
              "    <tr>\n",
              "      <th>2</th>\n",
              "      <td>4.624973</td>\n",
              "      <td>3.912023</td>\n",
              "      <td>174.7</td>\n",
              "      <td>5.857076</td>\n",
              "      <td>10.806653</td>\n",
              "      <td>3.154919</td>\n",
              "      <td>2.681022</td>\n",
              "      <td>6.896388</td>\n",
              "      <td>(48021.6, 51046.4]</td>\n",
              "      <td>45.0</td>\n",
              "      <td>44.0</td>\n",
              "      <td>45.8</td>\n",
              "      <td>Klickitat County, Washington</td>\n",
              "      <td>0.963174</td>\n",
              "      <td>2937.64</td>\n",
              "      <td>24.0</td>\n",
              "      <td>36.6</td>\n",
              "      <td>3.082207</td>\n",
              "      <td>29.0</td>\n",
              "      <td>2.772589</td>\n",
              "      <td>2106.81</td>\n",
              "      <td>7.0</td>\n",
              "      <td>63.7</td>\n",
              "      <td>43.5</td>\n",
              "      <td>34.9</td>\n",
              "      <td>42.1</td>\n",
              "      <td>21.1</td>\n",
              "      <td>90.922190</td>\n",
              "      <td>0.739673</td>\n",
              "      <td>0.465898</td>\n",
              "      <td>2.747358</td>\n",
              "      <td>54.444868</td>\n",
              "      <td>3.729488</td>\n",
              "    </tr>\n",
              "    <tr>\n",
              "      <th>3</th>\n",
              "      <td>6.056784</td>\n",
              "      <td>5.308268</td>\n",
              "      <td>194.8</td>\n",
              "      <td>6.064715</td>\n",
              "      <td>10.697452</td>\n",
              "      <td>3.352154</td>\n",
              "      <td>2.839078</td>\n",
              "      <td>18.510463</td>\n",
              "      <td>(42724.4, 45201]</td>\n",
              "      <td>42.8</td>\n",
              "      <td>42.2</td>\n",
              "      <td>43.4</td>\n",
              "      <td>Lewis County, Washington</td>\n",
              "      <td>0.924259</td>\n",
              "      <td>2777.29</td>\n",
              "      <td>20.2</td>\n",
              "      <td>41.2</td>\n",
              "      <td>1.581139</td>\n",
              "      <td>31.6</td>\n",
              "      <td>2.230014</td>\n",
              "      <td>2332.89</td>\n",
              "      <td>12.1</td>\n",
              "      <td>58.4</td>\n",
              "      <td>40.3</td>\n",
              "      <td>35.0</td>\n",
              "      <td>45.3</td>\n",
              "      <td>25.0</td>\n",
              "      <td>91.744686</td>\n",
              "      <td>0.782626</td>\n",
              "      <td>1.161359</td>\n",
              "      <td>1.362643</td>\n",
              "      <td>51.021514</td>\n",
              "      <td>4.603841</td>\n",
              "    </tr>\n",
              "    <tr>\n",
              "      <th>4</th>\n",
              "      <td>4.043051</td>\n",
              "      <td>3.258097</td>\n",
              "      <td>144.4</td>\n",
              "      <td>5.858219</td>\n",
              "      <td>10.818878</td>\n",
              "      <td>3.040055</td>\n",
              "      <td>2.525729</td>\n",
              "      <td>0.000000</td>\n",
              "      <td>(48021.6, 51046.4]</td>\n",
              "      <td>48.3</td>\n",
              "      <td>47.8</td>\n",
              "      <td>48.9</td>\n",
              "      <td>Lincoln County, Washington</td>\n",
              "      <td>0.850151</td>\n",
              "      <td>3340.84</td>\n",
              "      <td>14.9</td>\n",
              "      <td>43.0</td>\n",
              "      <td>1.414214</td>\n",
              "      <td>33.4</td>\n",
              "      <td>2.708050</td>\n",
              "      <td>2323.24</td>\n",
              "      <td>4.8</td>\n",
              "      <td>61.6</td>\n",
              "      <td>43.9</td>\n",
              "      <td>35.1</td>\n",
              "      <td>44.0</td>\n",
              "      <td>22.7</td>\n",
              "      <td>94.104024</td>\n",
              "      <td>0.270192</td>\n",
              "      <td>0.665830</td>\n",
              "      <td>0.492135</td>\n",
              "      <td>54.027460</td>\n",
              "      <td>6.796657</td>\n",
              "    </tr>\n",
              "  </tbody>\n",
              "</table>\n",
              "</div>"
            ],
            "text/plain": [
              "   avgAnnCount  avgDeathsPerYear  ...  PctMarriedHouseholds  BirthRate\n",
              "0     7.242082          6.150603  ...             52.856076   6.118831\n",
              "1     5.153292          4.248495  ...             45.372500   4.333096\n",
              "2     4.624973          3.912023  ...             54.444868   3.729488\n",
              "3     6.056784          5.308268  ...             51.021514   4.603841\n",
              "4     4.043051          3.258097  ...             54.027460   6.796657\n",
              "\n",
              "[5 rows x 33 columns]"
            ]
          },
          "metadata": {
            "tags": []
          },
          "execution_count": 126
        }
      ]
    },
    {
      "cell_type": "markdown",
      "metadata": {
        "id": "10-piYcey1-k",
        "colab_type": "text"
      },
      "source": [
        "# **FEATURE SCALING**"
      ]
    },
    {
      "cell_type": "markdown",
      "metadata": {
        "id": "Ac27t0M8Mt2X",
        "colab_type": "text"
      },
      "source": [
        "*Dropping the columns with object type data*"
      ]
    },
    {
      "cell_type": "code",
      "metadata": {
        "id": "VR0TbOtDxjok",
        "colab_type": "code",
        "colab": {}
      },
      "source": [
        "df=df.drop([\"Geography\",\"binnedInc\"],axis=1)\n",
        "features=df.columns"
      ],
      "execution_count": null,
      "outputs": []
    },
    {
      "cell_type": "markdown",
      "metadata": {
        "id": "w9q_5aUFM0zn",
        "colab_type": "text"
      },
      "source": [
        "Standardization by using StandardScaler()"
      ]
    },
    {
      "cell_type": "code",
      "metadata": {
        "id": "dNvN5124yu8R",
        "colab_type": "code",
        "colab": {
          "base_uri": "https://localhost:8080/",
          "height": 35
        },
        "outputId": "149b7289-25c0-4e39-b559-620337f7afb1"
      },
      "source": [
        "from sklearn.preprocessing import StandardScaler\n",
        "scaler = StandardScaler()\n",
        "df[features]= scaler.fit_transform(df[features])\n",
        "'''\n",
        "X = StandardScaler().fit_transform(features)\n",
        "\n",
        "targets=(np.array(target)).reshape(-1,1)\n",
        "\n",
        "Y = StandardScaler().fit_transform(targets)'''"
      ],
      "execution_count": null,
      "outputs": [
        {
          "output_type": "execute_result",
          "data": {
            "application/vnd.google.colaboratory.intrinsic+json": {
              "type": "string"
            },
            "text/plain": [
              "'\\nX = StandardScaler().fit_transform(features)\\n\\ntargets=(np.array(target)).reshape(-1,1)\\n\\nY = StandardScaler().fit_transform(targets)'"
            ]
          },
          "metadata": {
            "tags": []
          },
          "execution_count": 131
        }
      ]
    },
    {
      "cell_type": "code",
      "metadata": {
        "id": "i1xxT9Rq7MCG",
        "colab_type": "code",
        "colab": {}
      },
      "source": [
        "target= df[\"TARGET_deathRate\"]"
      ],
      "execution_count": null,
      "outputs": []
    },
    {
      "cell_type": "code",
      "metadata": {
        "id": "RpwTpPv3-Ioj",
        "colab_type": "code",
        "colab": {}
      },
      "source": [
        "features=df.drop(\"TARGET_deathRate\",axis=1)"
      ],
      "execution_count": null,
      "outputs": []
    },
    {
      "cell_type": "markdown",
      "metadata": {
        "id": "9L4vgATgM9ou",
        "colab_type": "text"
      },
      "source": [
        "# Model Building"
      ]
    },
    {
      "cell_type": "markdown",
      "metadata": {
        "id": "WvQHiYF0NBju",
        "colab_type": "text"
      },
      "source": [
        "**Splitting the data into Training and Testing**"
      ]
    },
    {
      "cell_type": "code",
      "metadata": {
        "id": "3DHWjj6UyvC1",
        "colab_type": "code",
        "colab": {}
      },
      "source": [
        "from sklearn.preprocessing import StandardScaler\n",
        "from sklearn.model_selection import train_test_split\n",
        "from sklearn import tree\n",
        "from sklearn import linear_model\n",
        "from sklearn.ensemble import RandomForestRegressor\n",
        "\n",
        "\n",
        "X_Train, X_Test, Y_Train, Y_Test = train_test_split(features, target, test_size = 0.30, random_state = 101)"
      ],
      "execution_count": null,
      "outputs": []
    },
    {
      "cell_type": "code",
      "metadata": {
        "id": "UCBNO5Y40_pP",
        "colab_type": "code",
        "colab": {
          "base_uri": "https://localhost:8080/",
          "height": 84
        },
        "outputId": "5233d41c-28ce-424d-c176-737a7b3f59be"
      },
      "source": [
        "print('Train - Predictors shape', X_Train.shape)\n",
        "print('Test - Predictors shape', X_Test.shape)\n",
        "print('Train - Target shape', Y_Train.shape)\n",
        "print('Test - Target shape', Y_Test.shape)\n"
      ],
      "execution_count": null,
      "outputs": [
        {
          "output_type": "stream",
          "text": [
            "Train - Predictors shape (2132, 30)\n",
            "Test - Predictors shape (915, 30)\n",
            "Train - Target shape (2132,)\n",
            "Test - Target shape (915,)\n"
          ],
          "name": "stdout"
        }
      ]
    },
    {
      "cell_type": "markdown",
      "metadata": {
        "id": "QeQnd0otNc5c",
        "colab_type": "text"
      },
      "source": [
        "**Fitting the Data into the Multi Linear Model**"
      ]
    },
    {
      "cell_type": "code",
      "metadata": {
        "id": "iEnMsDy31DMN",
        "colab_type": "code",
        "colab": {}
      },
      "source": [
        "from sklearn.linear_model import LinearRegression\n",
        "cls = LinearRegression()\n",
        "#Fit method is used for fitting your training data into the model\n",
        "cls.fit(X_Train,Y_Train) \n",
        "prediction = cls.predict(X_Test)"
      ],
      "execution_count": null,
      "outputs": []
    },
    {
      "cell_type": "markdown",
      "metadata": {
        "id": "quyjCpOYNniq",
        "colab_type": "text"
      },
      "source": [
        "**Checking the MSE AND MAE to predict how good the model has reduced the errors**"
      ]
    },
    {
      "cell_type": "code",
      "metadata": {
        "id": "bxAUwB921DQM",
        "colab_type": "code",
        "colab": {
          "base_uri": "https://localhost:8080/",
          "height": 50
        },
        "outputId": "583976bc-ae9c-43d7-9013-5a7d985ca2fd"
      },
      "source": [
        "from sklearn.metrics import mean_squared_error,mean_absolute_error\n",
        "print('Mean Square Error',mean_squared_error(prediction,Y_Test))\n",
        "print('Mean Absolute Error',mean_absolute_error(prediction,Y_Test))\n"
      ],
      "execution_count": null,
      "outputs": [
        {
          "output_type": "stream",
          "text": [
            "Mean Square Error 0.3141259239269917\n",
            "Mean Absolute Error 0.38300712849956153\n"
          ],
          "name": "stdout"
        }
      ]
    },
    {
      "cell_type": "markdown",
      "metadata": {
        "id": "iPNcf4MvNwnQ",
        "colab_type": "text"
      },
      "source": [
        "**Intercept, Coefficient and R2 values:**"
      ]
    },
    {
      "cell_type": "code",
      "metadata": {
        "id": "H_eFz2jL1IAU",
        "colab_type": "code",
        "colab": {
          "base_uri": "https://localhost:8080/",
          "height": 185
        },
        "outputId": "8446cef7-a501-4f22-9322-9c09531a2f12"
      },
      "source": [
        "print('Co-efficient of multi-linear regression',cls.coef_)\n",
        "print('Intercept of linear regression model',cls.intercept_)\n",
        "print('Model R^2 Square value', metrics.r2_score(Y_Test, prediction))\n"
      ],
      "execution_count": null,
      "outputs": [
        {
          "output_type": "stream",
          "text": [
            "Co-efficient of multi-linear regression [-2.03897135e-01  4.30598888e+00  2.16967254e-01  5.30786188e-02\n",
            " -4.38022694e+00 -7.76655183e-02 -3.37965829e-02 -1.98725349e-03\n",
            " -9.31427247e-02 -4.44676564e-01  9.21101128e-03 -3.09853904e-02\n",
            " -1.27646817e-02  1.15799674e-01 -1.44330266e-03 -8.53445143e-02\n",
            " -2.02590441e-01 -1.21105696e-01  7.81401648e-02 -1.04380571e-01\n",
            "  1.51783466e-02  6.20783831e-02 -4.00373815e-01  3.01019106e-01\n",
            " -1.06361367e-01 -5.31357285e-02 -1.03186545e-01 -1.27208530e-01\n",
            "  5.34021615e-02 -6.74554463e-02]\n",
            "Intercept of linear regression model -0.006349169080184259\n",
            "Model R^2 Square value 0.6913449522788087\n"
          ],
          "name": "stdout"
        }
      ]
    },
    {
      "cell_type": "markdown",
      "metadata": {
        "id": "uHFxJ_kpN5Z8",
        "colab_type": "text"
      },
      "source": [
        "# Residual plot"
      ]
    },
    {
      "cell_type": "code",
      "metadata": {
        "id": "hogEj6_P1IFG",
        "colab_type": "code",
        "colab": {
          "base_uri": "https://localhost:8080/",
          "height": 298
        },
        "outputId": "3e1bb7b3-6dcd-45ac-a04d-65cb805b8499"
      },
      "source": [
        "\n",
        "plt.scatter(cls.predict(X_Test), cls.predict(X_Test) - Y_Test, c='g', s = 40)\n",
        "plt.hlines(y=0, xmin=-5, xmax=15)\n",
        "plt.title('Residual plot')\n",
        "plt.ylabel('Residual')"
      ],
      "execution_count": null,
      "outputs": [
        {
          "output_type": "execute_result",
          "data": {
            "text/plain": [
              "Text(0, 0.5, 'Residual')"
            ]
          },
          "metadata": {
            "tags": []
          },
          "execution_count": 142
        },
        {
          "output_type": "display_data",
          "data": {
            "image/png": "[encoded data removed]",
            "text/plain": [
              "<Figure size 432x288 with 1 Axes>"
            ]
          },
          "metadata": {
            "tags": [],
            "needs_background": "light"
          }
        }
      ]
    },
    {
      "cell_type": "markdown",
      "metadata": {
        "id": "tv3Yro3T1MyG",
        "colab_type": "text"
      },
      "source": [
        "#RFE"
      ]
    },
    {
      "cell_type": "code",
      "metadata": {
        "id": "7q5ltWSVtpL1",
        "colab_type": "code",
        "colab": {
          "base_uri": "https://localhost:8080/",
          "height": 34
        },
        "outputId": "c0b6cc24-cb95-4bd6-c8b7-338f4c03bb83"
      },
      "source": [
        "from sklearn.feature_selection import RFE\n",
        "from sklearn.linear_model import LinearRegression\n",
        "\n",
        "model = LinearRegression()\n",
        "rfe = RFE(model, 20)\n",
        "\n",
        "RFE_X_Train = rfe.fit_transform(X_Train,Y_Train)\n",
        "RFE_X_Test = rfe.transform(X_Test)\n",
        "rfe = rfe.fit(RFE_X_Train,Y_Train)\n",
        "print(\"Overall Accuracy using RFE: \", rfe.score(RFE_X_Test,Y_Test))"
      ],
      "execution_count": null,
      "outputs": [
        {
          "output_type": "stream",
          "text": [
            "Overall Accuracy using RFE:  0.6884743883040134\n"
          ],
          "name": "stdout"
        }
      ]
    },
    {
      "cell_type": "code",
      "metadata": {
        "id": "NOr9VBkpuR6A",
        "colab_type": "code",
        "colab": {
          "base_uri": "https://localhost:8080/",
          "height": 118
        },
        "outputId": "1cbb52ec-871f-45a2-88ea-ca65f01d7a67"
      },
      "source": [
        "model = LinearRegression()\n",
        "rfe = RFE(model, 10)\n",
        "RFE_X_Train = rfe.fit_transform(X_Train,Y_Train)\n",
        "model.fit(RFE_X_Train,Y_Train) \n",
        "print(\"Number of Features: \", rfe.n_features_)\n",
        "print(\"Selected Features: \")\n",
        "colcheck = pd.Series(rfe.support_,index = list(features.columns))\n",
        "colcheck[colcheck == True].index"
      ],
      "execution_count": null,
      "outputs": [
        {
          "output_type": "stream",
          "text": [
            "Number of Features:  10\n",
            "Selected Features: \n"
          ],
          "name": "stdout"
        },
        {
          "output_type": "execute_result",
          "data": {
            "text/plain": [
              "Index(['avgAnnCount', 'avgDeathsPerYear', 'incidenceRate', 'popEst2015',\n",
              "       'MedianAgeFemale', 'PctHS18_24', 'PctBachDeg25_Over',\n",
              "       'PctEmployed16_Over', 'PctPublicCoverage', 'PctPublicCoverageAlone'],\n",
              "      dtype='object')"
            ]
          },
          "metadata": {
            "tags": []
          },
          "execution_count": 144
        }
      ]
    },
    {
      "cell_type": "code",
      "metadata": {
        "id": "tgq9ix2Gv8J5",
        "colab_type": "code",
        "colab": {}
      },
      "source": [
        "#Running RFE with the output number of the variable equal to 10\n",
        "lm = LinearRegression()\n",
        "lm.fit(X_Train, Y_Train)\n",
        "\n",
        "rfe = RFE(lm,20)             # running RFE\n",
        "rfe = rfe.fit(X_Train,Y_Train)"
      ],
      "execution_count": null,
      "outputs": []
    },
    {
      "cell_type": "code",
      "metadata": {
        "id": "qO2i8Ikhv8Qh",
        "colab_type": "code",
        "colab": {
          "base_uri": "https://localhost:8080/",
          "height": 521
        },
        "outputId": "e0cf4612-a4aa-45ad-dbe8-37e3731604b6"
      },
      "source": [
        "list(zip(features.columns,rfe.support_,rfe.ranking_))"
      ],
      "execution_count": null,
      "outputs": [
        {
          "output_type": "execute_result",
          "data": {
            "text/plain": [
              "[('avgAnnCount', True, 1),\n",
              " ('avgDeathsPerYear', True, 1),\n",
              " ('incidenceRate', True, 1),\n",
              " ('medIncome', True, 1),\n",
              " ('popEst2015', True, 1),\n",
              " ('povertyPercent', True, 1),\n",
              " ('studyPerCap', False, 4),\n",
              " ('MedianAge', False, 10),\n",
              " ('MedianAgeMale', True, 1),\n",
              " ('MedianAgeFemale', True, 1),\n",
              " ('AvgHouseholdSize', False, 9),\n",
              " ('PercentMarried', False, 6),\n",
              " ('PctNoHS18_24', False, 8),\n",
              " ('PctHS18_24', True, 1),\n",
              " ('PctBachDeg18_24', False, 11),\n",
              " ('PctHS25_Over', True, 1),\n",
              " ('PctBachDeg25_Over', True, 1),\n",
              " ('PctEmployed16_Over', True, 1),\n",
              " ('PctUnemployed16_Over', True, 1),\n",
              " ('PctPrivateCoverage', True, 1),\n",
              " ('PctPrivateCoverageAlone', False, 7),\n",
              " ('PctEmpPrivCoverage', True, 1),\n",
              " ('PctPublicCoverage', True, 1),\n",
              " ('PctPublicCoverageAlone', True, 1),\n",
              " ('PctWhite', False, 2),\n",
              " ('PctBlack', False, 3),\n",
              " ('PctAsian', True, 1),\n",
              " ('PctOtherRace', True, 1),\n",
              " ('PctMarriedHouseholds', False, 5),\n",
              " ('BirthRate', True, 1)]"
            ]
          },
          "metadata": {
            "tags": []
          },
          "execution_count": 146
        }
      ]
    },
    {
      "cell_type": "code",
      "metadata": {
        "id": "2M1Sapjgv8O3",
        "colab_type": "code",
        "colab": {
          "base_uri": "https://localhost:8080/",
          "height": 134
        },
        "outputId": "3f5cf0d1-2d8a-4028-e295-46834a5ae536"
      },
      "source": [
        "col = X_Train.columns[rfe.support_]\n",
        "col"
      ],
      "execution_count": null,
      "outputs": [
        {
          "output_type": "execute_result",
          "data": {
            "text/plain": [
              "Index(['avgAnnCount', 'avgDeathsPerYear', 'incidenceRate', 'medIncome',\n",
              "       'popEst2015', 'povertyPercent', 'MedianAgeMale', 'MedianAgeFemale',\n",
              "       'PctHS18_24', 'PctHS25_Over', 'PctBachDeg25_Over', 'PctEmployed16_Over',\n",
              "       'PctUnemployed16_Over', 'PctPrivateCoverage', 'PctEmpPrivCoverage',\n",
              "       'PctPublicCoverage', 'PctPublicCoverageAlone', 'PctAsian',\n",
              "       'PctOtherRace', 'BirthRate'],\n",
              "      dtype='object')"
            ]
          },
          "metadata": {
            "tags": []
          },
          "execution_count": 147
        }
      ]
    },
    {
      "cell_type": "code",
      "metadata": {
        "id": "mL79RVpq2AQS",
        "colab_type": "code",
        "colab": {
          "base_uri": "https://localhost:8080/",
          "height": 84
        },
        "outputId": "36b2267c-37a0-48f5-ce82-f3367938c9cd"
      },
      "source": [
        "X_Train.columns[~rfe.support_]"
      ],
      "execution_count": null,
      "outputs": [
        {
          "output_type": "execute_result",
          "data": {
            "text/plain": [
              "Index(['studyPerCap', 'MedianAge', 'AvgHouseholdSize', 'PercentMarried',\n",
              "       'PctNoHS18_24', 'PctBachDeg18_24', 'PctPrivateCoverageAlone',\n",
              "       'PctWhite', 'PctBlack', 'PctMarriedHouseholds'],\n",
              "      dtype='object')"
            ]
          },
          "metadata": {
            "tags": []
          },
          "execution_count": 148
        }
      ]
    },
    {
      "cell_type": "code",
      "metadata": {
        "id": "k3eLz7gE76i4",
        "colab_type": "code",
        "colab": {}
      },
      "source": [
        "X_train_rfe = X_Train[col]"
      ],
      "execution_count": null,
      "outputs": []
    },
    {
      "cell_type": "code",
      "metadata": {
        "id": "fHQA8njM7-lX",
        "colab_type": "code",
        "colab": {
          "base_uri": "https://localhost:8080/",
          "height": 422
        },
        "outputId": "4853d661-138d-4c7b-e542-b3950ad42bb0"
      },
      "source": [
        "X_train_rfe"
      ],
      "execution_count": null,
      "outputs": [
        {
          "output_type": "execute_result",
          "data": {
            "text/html": [
              "<div>\n",
              "<style scoped>\n",
              "    .dataframe tbody tr th:only-of-type {\n",
              "        vertical-align: middle;\n",
              "    }\n",
              "\n",
              "    .dataframe tbody tr th {\n",
              "        vertical-align: top;\n",
              "    }\n",
              "\n",
              "    .dataframe thead th {\n",
              "        text-align: right;\n",
              "    }\n",
              "</style>\n",
              "<table border=\"1\" class=\"dataframe\">\n",
              "  <thead>\n",
              "    <tr style=\"text-align: right;\">\n",
              "      <th></th>\n",
              "      <th>avgAnnCount</th>\n",
              "      <th>avgDeathsPerYear</th>\n",
              "      <th>incidenceRate</th>\n",
              "      <th>medIncome</th>\n",
              "      <th>popEst2015</th>\n",
              "      <th>povertyPercent</th>\n",
              "      <th>MedianAgeMale</th>\n",
              "      <th>MedianAgeFemale</th>\n",
              "      <th>PctHS18_24</th>\n",
              "      <th>PctHS25_Over</th>\n",
              "      <th>PctBachDeg25_Over</th>\n",
              "      <th>PctEmployed16_Over</th>\n",
              "      <th>PctUnemployed16_Over</th>\n",
              "      <th>PctPrivateCoverage</th>\n",
              "      <th>PctEmpPrivCoverage</th>\n",
              "      <th>PctPublicCoverage</th>\n",
              "      <th>PctPublicCoverageAlone</th>\n",
              "      <th>PctAsian</th>\n",
              "      <th>PctOtherRace</th>\n",
              "      <th>BirthRate</th>\n",
              "    </tr>\n",
              "  </thead>\n",
              "  <tbody>\n",
              "    <tr>\n",
              "      <th>1909</th>\n",
              "      <td>1.131917</td>\n",
              "      <td>1.441426</td>\n",
              "      <td>-0.223743</td>\n",
              "      <td>-0.208981</td>\n",
              "      <td>1.453418</td>\n",
              "      <td>0.591320</td>\n",
              "      <td>-1.525451</td>\n",
              "      <td>-1.482493</td>\n",
              "      <td>-1.114006</td>\n",
              "      <td>-0.981644</td>\n",
              "      <td>0.434837</td>\n",
              "      <td>0.313300</td>\n",
              "      <td>-0.478710</td>\n",
              "      <td>-0.183643</td>\n",
              "      <td>0.339152</td>\n",
              "      <td>-0.644432</td>\n",
              "      <td>-0.219251</td>\n",
              "      <td>0.117344</td>\n",
              "      <td>0.527039</td>\n",
              "      <td>-0.379110</td>\n",
              "    </tr>\n",
              "    <tr>\n",
              "      <th>2571</th>\n",
              "      <td>0.483481</td>\n",
              "      <td>0.608066</td>\n",
              "      <td>0.675345</td>\n",
              "      <td>-0.434590</td>\n",
              "      <td>0.560331</td>\n",
              "      <td>0.280564</td>\n",
              "      <td>0.311813</td>\n",
              "      <td>0.293780</td>\n",
              "      <td>0.065937</td>\n",
              "      <td>-0.498262</td>\n",
              "      <td>0.256368</td>\n",
              "      <td>0.044930</td>\n",
              "      <td>-0.507680</td>\n",
              "      <td>0.079383</td>\n",
              "      <td>0.275634</td>\n",
              "      <td>0.210110</td>\n",
              "      <td>0.304306</td>\n",
              "      <td>-0.134849</td>\n",
              "      <td>-0.447463</td>\n",
              "      <td>-0.180435</td>\n",
              "    </tr>\n",
              "    <tr>\n",
              "      <th>2803</th>\n",
              "      <td>-1.875883</td>\n",
              "      <td>-1.848592</td>\n",
              "      <td>0.121612</td>\n",
              "      <td>0.273244</td>\n",
              "      <td>-2.074336</td>\n",
              "      <td>-0.141517</td>\n",
              "      <td>0.943373</td>\n",
              "      <td>1.370881</td>\n",
              "      <td>-0.187696</td>\n",
              "      <td>0.866582</td>\n",
              "      <td>-0.165514</td>\n",
              "      <td>1.353550</td>\n",
              "      <td>-2.014139</td>\n",
              "      <td>1.046946</td>\n",
              "      <td>0.497947</td>\n",
              "      <td>-0.453117</td>\n",
              "      <td>-0.562836</td>\n",
              "      <td>-0.480474</td>\n",
              "      <td>-0.479965</td>\n",
              "      <td>2.211086</td>\n",
              "    </tr>\n",
              "    <tr>\n",
              "      <th>1398</th>\n",
              "      <td>-0.648615</td>\n",
              "      <td>-0.823049</td>\n",
              "      <td>-1.406511</td>\n",
              "      <td>1.598572</td>\n",
              "      <td>-0.141050</td>\n",
              "      <td>-1.645544</td>\n",
              "      <td>0.043879</td>\n",
              "      <td>-0.310909</td>\n",
              "      <td>-0.518521</td>\n",
              "      <td>-2.033712</td>\n",
              "      <td>2.575917</td>\n",
              "      <td>0.007410</td>\n",
              "      <td>-1.116058</td>\n",
              "      <td>1.225428</td>\n",
              "      <td>0.550879</td>\n",
              "      <td>-2.187710</td>\n",
              "      <td>-1.495421</td>\n",
              "      <td>-0.082799</td>\n",
              "      <td>-0.017140</td>\n",
              "      <td>-0.767263</td>\n",
              "    </tr>\n",
              "    <tr>\n",
              "      <th>273</th>\n",
              "      <td>-0.972055</td>\n",
              "      <td>-0.892479</td>\n",
              "      <td>0.320848</td>\n",
              "      <td>-1.210930</td>\n",
              "      <td>-0.379798</td>\n",
              "      <td>1.896982</td>\n",
              "      <td>-3.286163</td>\n",
              "      <td>-3.750075</td>\n",
              "      <td>-1.907987</td>\n",
              "      <td>-1.735152</td>\n",
              "      <td>1.312978</td>\n",
              "      <td>-1.136462</td>\n",
              "      <td>0.274520</td>\n",
              "      <td>1.103309</td>\n",
              "      <td>1.196645</td>\n",
              "      <td>-1.715799</td>\n",
              "      <td>-0.988226</td>\n",
              "      <td>0.260829</td>\n",
              "      <td>-0.355598</td>\n",
              "      <td>-2.317401</td>\n",
              "    </tr>\n",
              "    <tr>\n",
              "      <th>...</th>\n",
              "      <td>...</td>\n",
              "      <td>...</td>\n",
              "      <td>...</td>\n",
              "      <td>...</td>\n",
              "      <td>...</td>\n",
              "      <td>...</td>\n",
              "      <td>...</td>\n",
              "      <td>...</td>\n",
              "      <td>...</td>\n",
              "      <td>...</td>\n",
              "      <td>...</td>\n",
              "      <td>...</td>\n",
              "      <td>...</td>\n",
              "      <td>...</td>\n",
              "      <td>...</td>\n",
              "      <td>...</td>\n",
              "      <td>...</td>\n",
              "      <td>...</td>\n",
              "      <td>...</td>\n",
              "      <td>...</td>\n",
              "    </tr>\n",
              "    <tr>\n",
              "      <th>599</th>\n",
              "      <td>-0.168336</td>\n",
              "      <td>-0.091250</td>\n",
              "      <td>-0.244094</td>\n",
              "      <td>-0.751785</td>\n",
              "      <td>0.002777</td>\n",
              "      <td>0.963296</td>\n",
              "      <td>0.043879</td>\n",
              "      <td>0.161504</td>\n",
              "      <td>0.462927</td>\n",
              "      <td>-0.484045</td>\n",
              "      <td>0.601478</td>\n",
              "      <td>-0.368330</td>\n",
              "      <td>0.593193</td>\n",
              "      <td>-1.489383</td>\n",
              "      <td>-1.682839</td>\n",
              "      <td>0.720285</td>\n",
              "      <td>0.844224</td>\n",
              "      <td>-0.334605</td>\n",
              "      <td>-0.477172</td>\n",
              "      <td>0.880690</td>\n",
              "    </tr>\n",
              "    <tr>\n",
              "      <th>1599</th>\n",
              "      <td>0.779942</td>\n",
              "      <td>1.036620</td>\n",
              "      <td>0.906442</td>\n",
              "      <td>-0.586124</td>\n",
              "      <td>0.845804</td>\n",
              "      <td>0.820769</td>\n",
              "      <td>0.177846</td>\n",
              "      <td>0.237090</td>\n",
              "      <td>0.760670</td>\n",
              "      <td>1.435267</td>\n",
              "      <td>-0.810189</td>\n",
              "      <td>-0.496409</td>\n",
              "      <td>0.303490</td>\n",
              "      <td>-0.249400</td>\n",
              "      <td>0.190943</td>\n",
              "      <td>0.363162</td>\n",
              "      <td>0.549723</td>\n",
              "      <td>-0.299601</td>\n",
              "      <td>-0.426326</td>\n",
              "      <td>0.406445</td>\n",
              "    </tr>\n",
              "    <tr>\n",
              "      <th>1361</th>\n",
              "      <td>1.579976</td>\n",
              "      <td>-2.158045</td>\n",
              "      <td>0.154274</td>\n",
              "      <td>0.302110</td>\n",
              "      <td>-2.305428</td>\n",
              "      <td>-0.709545</td>\n",
              "      <td>0.732853</td>\n",
              "      <td>-0.632150</td>\n",
              "      <td>-1.411749</td>\n",
              "      <td>-0.270788</td>\n",
              "      <td>1.175629</td>\n",
              "      <td>0.796671</td>\n",
              "      <td>-0.710473</td>\n",
              "      <td>1.028158</td>\n",
              "      <td>-0.105474</td>\n",
              "      <td>-1.205624</td>\n",
              "      <td>-1.315449</td>\n",
              "      <td>-0.456451</td>\n",
              "      <td>-0.563960</td>\n",
              "      <td>1.356354</td>\n",
              "    </tr>\n",
              "    <tr>\n",
              "      <th>1547</th>\n",
              "      <td>-0.870181</td>\n",
              "      <td>-0.420026</td>\n",
              "      <td>-1.810773</td>\n",
              "      <td>-1.470562</td>\n",
              "      <td>-0.709331</td>\n",
              "      <td>1.009135</td>\n",
              "      <td>0.732853</td>\n",
              "      <td>0.728400</td>\n",
              "      <td>0.727587</td>\n",
              "      <td>0.624891</td>\n",
              "      <td>-0.955626</td>\n",
              "      <td>-1.085287</td>\n",
              "      <td>0.795986</td>\n",
              "      <td>-1.996648</td>\n",
              "      <td>-1.672252</td>\n",
              "      <td>1.358003</td>\n",
              "      <td>1.220530</td>\n",
              "      <td>-0.316641</td>\n",
              "      <td>-0.381605</td>\n",
              "      <td>-0.297056</td>\n",
              "    </tr>\n",
              "    <tr>\n",
              "      <th>863</th>\n",
              "      <td>0.415305</td>\n",
              "      <td>0.628152</td>\n",
              "      <td>0.567290</td>\n",
              "      <td>-0.547909</td>\n",
              "      <td>0.471521</td>\n",
              "      <td>0.061751</td>\n",
              "      <td>1.077340</td>\n",
              "      <td>0.728400</td>\n",
              "      <td>-0.000228</td>\n",
              "      <td>1.534787</td>\n",
              "      <td>-0.079511</td>\n",
              "      <td>0.287309</td>\n",
              "      <td>0.390401</td>\n",
              "      <td>-0.503033</td>\n",
              "      <td>-0.380719</td>\n",
              "      <td>1.039144</td>\n",
              "      <td>0.746057</td>\n",
              "      <td>-0.241585</td>\n",
              "      <td>-0.519396</td>\n",
              "      <td>-0.523528</td>\n",
              "    </tr>\n",
              "  </tbody>\n",
              "</table>\n",
              "<p>2132 rows × 20 columns</p>\n",
              "</div>"
            ],
            "text/plain": [
              "      avgAnnCount  avgDeathsPerYear  ...  PctOtherRace  BirthRate\n",
              "1909     1.131917          1.441426  ...      0.527039  -0.379110\n",
              "2571     0.483481          0.608066  ...     -0.447463  -0.180435\n",
              "2803    -1.875883         -1.848592  ...     -0.479965   2.211086\n",
              "1398    -0.648615         -0.823049  ...     -0.017140  -0.767263\n",
              "273     -0.972055         -0.892479  ...     -0.355598  -2.317401\n",
              "...           ...               ...  ...           ...        ...\n",
              "599     -0.168336         -0.091250  ...     -0.477172   0.880690\n",
              "1599     0.779942          1.036620  ...     -0.426326   0.406445\n",
              "1361     1.579976         -2.158045  ...     -0.563960   1.356354\n",
              "1547    -0.870181         -0.420026  ...     -0.381605  -0.297056\n",
              "863      0.415305          0.628152  ...     -0.519396  -0.523528\n",
              "\n",
              "[2132 rows x 20 columns]"
            ]
          },
          "metadata": {
            "tags": []
          },
          "execution_count": 150
        }
      ]
    },
    {
      "cell_type": "code",
      "metadata": {
        "id": "R04t1WtV7pud",
        "colab_type": "code",
        "colab": {}
      },
      "source": [
        "# Adding a constant variable \n",
        "import statsmodels.api as sm  \n",
        "X_train_rfe = sm.add_constant(X_train_rfe)"
      ],
      "execution_count": null,
      "outputs": []
    },
    {
      "cell_type": "code",
      "metadata": {
        "id": "xt1ehhBB7p07",
        "colab_type": "code",
        "colab": {}
      },
      "source": [
        "lm = sm.OLS(Y_Train,X_train_rfe).fit()   # Running the linear model"
      ],
      "execution_count": null,
      "outputs": []
    },
    {
      "cell_type": "code",
      "metadata": {
        "id": "9uW_I4SW7p7A",
        "colab_type": "code",
        "colab": {
          "base_uri": "https://localhost:8080/",
          "height": 756
        },
        "outputId": "bb4a4eb9-fb6c-44ff-8179-b563cbe2b00c"
      },
      "source": [
        "#Let's see the summary of our linear model\n",
        "print(lm.summary())"
      ],
      "execution_count": null,
      "outputs": [
        {
          "output_type": "stream",
          "text": [
            "                            OLS Regression Results                            \n",
            "==============================================================================\n",
            "Dep. Variable:       TARGET_deathRate   R-squared:                       0.740\n",
            "Model:                            OLS   Adj. R-squared:                  0.738\n",
            "Method:                 Least Squares   F-statistic:                     300.8\n",
            "Date:                Mon, 10 Aug 2020   Prob (F-statistic):               0.00\n",
            "Time:                        15:26:02   Log-Likelihood:                -1579.7\n",
            "No. Observations:                2132   AIC:                             3201.\n",
            "Df Residuals:                    2111   BIC:                             3320.\n",
            "Df Model:                          20                                         \n",
            "Covariance Type:            nonrobust                                         \n",
            "==========================================================================================\n",
            "                             coef    std err          t      P>|t|      [0.025      0.975]\n",
            "------------------------------------------------------------------------------------------\n",
            "const                     -0.0073      0.011     -0.660      0.509      -0.029       0.014\n",
            "avgAnnCount               -0.2056      0.020    -10.350      0.000      -0.245      -0.167\n",
            "avgDeathsPerYear           4.2726      0.097     44.203      0.000       4.083       4.462\n",
            "incidenceRate              0.2137      0.014     15.594      0.000       0.187       0.241\n",
            "medIncome                  0.1000      0.036      2.786      0.005       0.030       0.170\n",
            "popEst2015                -4.3628      0.102    -42.607      0.000      -4.564      -4.162\n",
            "povertyPercent            -0.0658      0.037     -1.781      0.075      -0.138       0.007\n",
            "MedianAgeMale             -0.1141      0.033     -3.486      0.001      -0.178      -0.050\n",
            "MedianAgeFemale           -0.4416      0.036    -12.207      0.000      -0.513      -0.371\n",
            "PctHS18_24                 0.1185      0.013      8.849      0.000       0.092       0.145\n",
            "PctHS25_Over              -0.0723      0.020     -3.599      0.000      -0.112      -0.033\n",
            "PctBachDeg25_Over         -0.1957      0.024     -8.173      0.000      -0.243      -0.149\n",
            "PctEmployed16_Over        -0.1347      0.023     -5.977      0.000      -0.179      -0.091\n",
            "PctUnemployed16_Over       0.0935      0.018      5.249      0.000       0.059       0.128\n",
            "PctPrivateCoverage        -0.1107      0.042     -2.620      0.009      -0.194      -0.028\n",
            "PctEmpPrivCoverage         0.0476      0.031      1.560      0.119      -0.012       0.107\n",
            "PctPublicCoverage         -0.4236      0.053     -7.954      0.000      -0.528      -0.319\n",
            "PctPublicCoverageAlone     0.3139      0.052      6.086      0.000       0.213       0.415\n",
            "PctAsian                  -0.0845      0.014     -5.891      0.000      -0.113      -0.056\n",
            "PctOtherRace              -0.1152      0.013     -8.647      0.000      -0.141      -0.089\n",
            "BirthRate                 -0.0674      0.012     -5.463      0.000      -0.092      -0.043\n",
            "==============================================================================\n",
            "Omnibus:                      117.249   Durbin-Watson:                   2.062\n",
            "Prob(Omnibus):                  0.000   Jarque-Bera (JB):              422.844\n",
            "Skew:                           0.128   Prob(JB):                     1.52e-92\n",
            "Kurtosis:                       5.167   Cond. No.                         34.4\n",
            "==============================================================================\n",
            "\n",
            "Warnings:\n",
            "[1] Standard Errors assume that the covariance matrix of the errors is correctly specified.\n"
          ],
          "name": "stdout"
        }
      ]
    },
    {
      "cell_type": "code",
      "metadata": {
        "id": "VM3_h_kQ7qAV",
        "colab_type": "code",
        "colab": {}
      },
      "source": [
        "X_train_new = X_train_rfe.drop([\"const\"], axis = 1)"
      ],
      "execution_count": null,
      "outputs": []
    },
    {
      "cell_type": "code",
      "metadata": {
        "id": "Vu-S7oK7OXys",
        "colab_type": "code",
        "colab": {
          "base_uri": "https://localhost:8080/",
          "height": 134
        },
        "outputId": "8d10c7c6-b329-4148-a3f9-e963bcef777d"
      },
      "source": [
        "X_train_new.columns"
      ],
      "execution_count": null,
      "outputs": [
        {
          "output_type": "execute_result",
          "data": {
            "text/plain": [
              "Index(['avgAnnCount', 'avgDeathsPerYear', 'incidenceRate', 'medIncome',\n",
              "       'popEst2015', 'povertyPercent', 'MedianAgeMale', 'MedianAgeFemale',\n",
              "       'PctHS18_24', 'PctHS25_Over', 'PctBachDeg25_Over', 'PctEmployed16_Over',\n",
              "       'PctUnemployed16_Over', 'PctPrivateCoverage', 'PctEmpPrivCoverage',\n",
              "       'PctPublicCoverage', 'PctPublicCoverageAlone', 'PctAsian',\n",
              "       'PctOtherRace', 'BirthRate'],\n",
              "      dtype='object')"
            ]
          },
          "metadata": {
            "tags": []
          },
          "execution_count": 155
        }
      ]
    },
    {
      "cell_type": "code",
      "metadata": {
        "id": "p0vtcVhiOX3f",
        "colab_type": "code",
        "colab": {}
      },
      "source": [
        "y_train_price = lm.predict(X_train_rfe)"
      ],
      "execution_count": null,
      "outputs": []
    },
    {
      "cell_type": "code",
      "metadata": {
        "id": "4ebGiwDGOX8e",
        "colab_type": "code",
        "colab": {
          "base_uri": "https://localhost:8080/",
          "height": 333
        },
        "outputId": "afaaa997-2cd1-425c-9aa5-fb0f09499176"
      },
      "source": [
        "# Importing the required libraries for plots.\n",
        "import matplotlib.pyplot as plt\n",
        "import seaborn as sns\n",
        "%matplotlib inline\n",
        "# Plot the histogram of the error terms\n",
        "fig = plt.figure()\n",
        "sns.distplot(((Y_Train) - y_train_price), bins = 20)\n",
        "fig.suptitle('Error Terms', fontsize = 20)                  # Plot heading \n",
        "plt.xlabel('Errors', fontsize = 18)        "
      ],
      "execution_count": null,
      "outputs": [
        {
          "output_type": "execute_result",
          "data": {
            "text/plain": [
              "Text(0.5, 0, 'Errors')"
            ]
          },
          "metadata": {
            "tags": []
          },
          "execution_count": 157
        },
        {
          "output_type": "display_data",
          "data": {
            "image/png": "[encoded data removed]",
            "text/plain": [
              "<Figure size 432x288 with 1 Axes>"
            ]
          },
          "metadata": {
            "tags": [],
            "needs_background": "light"
          }
        }
      ]
    },
    {
      "cell_type": "code",
      "metadata": {
        "id": "X964Kbb8Og2A",
        "colab_type": "code",
        "colab": {}
      },
      "source": [
        "X_test=X_Test[X_train_new.columns]\n",
        "# Adding a constant variable \n",
        "X_test_new = sm.add_constant(X_test)\n",
        "# Making predictions\n",
        "y_pred = lm.predict(X_test_new)"
      ],
      "execution_count": null,
      "outputs": []
    },
    {
      "cell_type": "code",
      "metadata": {
        "id": "r9q4VZhtOg7N",
        "colab_type": "code",
        "colab": {
          "base_uri": "https://localhost:8080/",
          "height": 333
        },
        "outputId": "cdd558ff-0366-4eff-ec6e-6f3aa9763715"
      },
      "source": [
        "# Plotting y_test and y_pred to understand the spread.\n",
        "fig = plt.figure()\n",
        "plt.scatter(Y_Test,y_pred)\n",
        "fig.suptitle('y_test vs y_pred', fontsize=20)              # Plot heading \n",
        "plt.xlabel('y_test', fontsize=18)                          # X-label\n",
        "plt.ylabel('y_pred', fontsize=16)                          # Y-label"
      ],
      "execution_count": null,
      "outputs": [
        {
          "output_type": "execute_result",
          "data": {
            "text/plain": [
              "Text(0, 0.5, 'y_pred')"
            ]
          },
          "metadata": {
            "tags": []
          },
          "execution_count": 159
        },
        {
          "output_type": "display_data",
          "data": {
            "image/png": "[encoded data removed]",
            "text/plain": [
              "<Figure size 432x288 with 1 Axes>"
            ]
          },
          "metadata": {
            "tags": [],
            "needs_background": "light"
          }
        }
      ]
    },
    {
      "cell_type": "code",
      "metadata": {
        "id": "rKVxDS1HOg_v",
        "colab_type": "code",
        "colab": {
          "base_uri": "https://localhost:8080/",
          "height": 639
        },
        "outputId": "8ec50d78-021c-4862-d992-3ca736506c00"
      },
      "source": [
        "# Calculate the VIFs for the new model\n",
        "from statsmodels.stats.outliers_influence import variance_inflation_factor\n",
        "\n",
        "vif = pd.DataFrame()\n",
        "X = X_train_new\n",
        "vif['Features'] = X.columns\n",
        "vif['VIF'] = [variance_inflation_factor(X.values, i) for i in range(X.shape[1])]\n",
        "vif['VIF'] = round(vif['VIF'], 2)\n",
        "vif = vif.sort_values(by = \"VIF\", ascending = False)\n",
        "vif"
      ],
      "execution_count": null,
      "outputs": [
        {
          "output_type": "execute_result",
          "data": {
            "text/html": [
              "<div>\n",
              "<style scoped>\n",
              "    .dataframe tbody tr th:only-of-type {\n",
              "        vertical-align: middle;\n",
              "    }\n",
              "\n",
              "    .dataframe tbody tr th {\n",
              "        vertical-align: top;\n",
              "    }\n",
              "\n",
              "    .dataframe thead th {\n",
              "        text-align: right;\n",
              "    }\n",
              "</style>\n",
              "<table border=\"1\" class=\"dataframe\">\n",
              "  <thead>\n",
              "    <tr style=\"text-align: right;\">\n",
              "      <th></th>\n",
              "      <th>Features</th>\n",
              "      <th>VIF</th>\n",
              "    </tr>\n",
              "  </thead>\n",
              "  <tbody>\n",
              "    <tr>\n",
              "      <th>4</th>\n",
              "      <td>popEst2015</td>\n",
              "      <td>84.30</td>\n",
              "    </tr>\n",
              "    <tr>\n",
              "      <th>1</th>\n",
              "      <td>avgDeathsPerYear</td>\n",
              "      <td>75.88</td>\n",
              "    </tr>\n",
              "    <tr>\n",
              "      <th>15</th>\n",
              "      <td>PctPublicCoverage</td>\n",
              "      <td>22.85</td>\n",
              "    </tr>\n",
              "    <tr>\n",
              "      <th>16</th>\n",
              "      <td>PctPublicCoverageAlone</td>\n",
              "      <td>21.37</td>\n",
              "    </tr>\n",
              "    <tr>\n",
              "      <th>13</th>\n",
              "      <td>PctPrivateCoverage</td>\n",
              "      <td>14.35</td>\n",
              "    </tr>\n",
              "    <tr>\n",
              "      <th>5</th>\n",
              "      <td>povertyPercent</td>\n",
              "      <td>10.92</td>\n",
              "    </tr>\n",
              "    <tr>\n",
              "      <th>7</th>\n",
              "      <td>MedianAgeFemale</td>\n",
              "      <td>10.75</td>\n",
              "    </tr>\n",
              "    <tr>\n",
              "      <th>3</th>\n",
              "      <td>medIncome</td>\n",
              "      <td>10.32</td>\n",
              "    </tr>\n",
              "    <tr>\n",
              "      <th>6</th>\n",
              "      <td>MedianAgeMale</td>\n",
              "      <td>8.84</td>\n",
              "    </tr>\n",
              "    <tr>\n",
              "      <th>14</th>\n",
              "      <td>PctEmpPrivCoverage</td>\n",
              "      <td>7.42</td>\n",
              "    </tr>\n",
              "    <tr>\n",
              "      <th>10</th>\n",
              "      <td>PctBachDeg25_Over</td>\n",
              "      <td>4.70</td>\n",
              "    </tr>\n",
              "    <tr>\n",
              "      <th>11</th>\n",
              "      <td>PctEmployed16_Over</td>\n",
              "      <td>4.09</td>\n",
              "    </tr>\n",
              "    <tr>\n",
              "      <th>9</th>\n",
              "      <td>PctHS25_Over</td>\n",
              "      <td>3.36</td>\n",
              "    </tr>\n",
              "    <tr>\n",
              "      <th>0</th>\n",
              "      <td>avgAnnCount</td>\n",
              "      <td>3.19</td>\n",
              "    </tr>\n",
              "    <tr>\n",
              "      <th>12</th>\n",
              "      <td>PctUnemployed16_Over</td>\n",
              "      <td>2.57</td>\n",
              "    </tr>\n",
              "    <tr>\n",
              "      <th>17</th>\n",
              "      <td>PctAsian</td>\n",
              "      <td>1.56</td>\n",
              "    </tr>\n",
              "    <tr>\n",
              "      <th>2</th>\n",
              "      <td>incidenceRate</td>\n",
              "      <td>1.50</td>\n",
              "    </tr>\n",
              "    <tr>\n",
              "      <th>8</th>\n",
              "      <td>PctHS18_24</td>\n",
              "      <td>1.45</td>\n",
              "    </tr>\n",
              "    <tr>\n",
              "      <th>18</th>\n",
              "      <td>PctOtherRace</td>\n",
              "      <td>1.39</td>\n",
              "    </tr>\n",
              "    <tr>\n",
              "      <th>19</th>\n",
              "      <td>BirthRate</td>\n",
              "      <td>1.19</td>\n",
              "    </tr>\n",
              "  </tbody>\n",
              "</table>\n",
              "</div>"
            ],
            "text/plain": [
              "                  Features    VIF\n",
              "4               popEst2015  84.30\n",
              "1         avgDeathsPerYear  75.88\n",
              "15       PctPublicCoverage  22.85\n",
              "16  PctPublicCoverageAlone  21.37\n",
              "13      PctPrivateCoverage  14.35\n",
              "5           povertyPercent  10.92\n",
              "7          MedianAgeFemale  10.75\n",
              "3                medIncome  10.32\n",
              "6            MedianAgeMale   8.84\n",
              "14      PctEmpPrivCoverage   7.42\n",
              "10       PctBachDeg25_Over   4.70\n",
              "11      PctEmployed16_Over   4.09\n",
              "9             PctHS25_Over   3.36\n",
              "0              avgAnnCount   3.19\n",
              "12    PctUnemployed16_Over   2.57\n",
              "17                PctAsian   1.56\n",
              "2            incidenceRate   1.50\n",
              "8               PctHS18_24   1.45\n",
              "18            PctOtherRace   1.39\n",
              "19               BirthRate   1.19"
            ]
          },
          "metadata": {
            "tags": []
          },
          "execution_count": 160
        }
      ]
    },
    {
      "cell_type": "code",
      "metadata": {
        "id": "GejIwQKcOmts",
        "colab_type": "code",
        "colab": {}
      },
      "source": [
        "features=features[[\"medIncome\",\"MedianAge\",\"PctEmployed16_Over\",\"avgAnnCount\",\"PctBachDeg25_Over\",\"PctUnemployed16_Over\",\"PctAsian\",\"incidenceRate\",\"PctHS18_24\",\"PctOtherRace\"]]"
      ],
      "execution_count": null,
      "outputs": []
    },
    {
      "cell_type": "code",
      "metadata": {
        "id": "Z7Lw5ibLOmyu",
        "colab_type": "code",
        "colab": {}
      },
      "source": [
        "from sklearn.model_selection import train_test_split\n",
        "X_Train, X_Test, Y_Train, Y_Test = train_test_split(features,target, test_size = 0.30, random_state = 101)\n",
        "from sklearn.ensemble import RandomForestRegressor\n",
        "regressor = RandomForestRegressor(random_state = 0)\n",
        "regressor.fit(X_Train, Y_Train)\n",
        "y_pred = regressor.predict(X_Test)"
      ],
      "execution_count": null,
      "outputs": []
    },
    {
      "cell_type": "code",
      "metadata": {
        "id": "ye2lvfHZOm3U",
        "colab_type": "code",
        "colab": {
          "base_uri": "https://localhost:8080/",
          "height": 50
        },
        "outputId": "4d07c47c-e5c0-41f5-f524-15c68250d60c"
      },
      "source": [
        "regressor.feature_importances_"
      ],
      "execution_count": null,
      "outputs": [
        {
          "output_type": "execute_result",
          "data": {
            "text/plain": [
              "array([0.12155155, 0.05695926, 0.05100012, 0.05823518, 0.24641187,\n",
              "       0.06096495, 0.04524709, 0.25371048, 0.05545993, 0.05045958])"
            ]
          },
          "metadata": {
            "tags": []
          },
          "execution_count": 164
        }
      ]
    },
    {
      "cell_type": "code",
      "metadata": {
        "id": "sWejMpb0OwSU",
        "colab_type": "code",
        "colab": {
          "base_uri": "https://localhost:8080/",
          "height": 50
        },
        "outputId": "4d52b267-c9eb-4b4c-9424-ebd19bd4fc81"
      },
      "source": [
        "from sklearn import metrics\n",
        "print('Mean Square Error', metrics.mean_squared_error(Y_Test,y_pred))\n",
        "print('Model R^2 Square value', metrics.r2_score(Y_Test,y_pred))\n",
        "y_train_price = regressor.predict(X_Train)"
      ],
      "execution_count": null,
      "outputs": [
        {
          "output_type": "stream",
          "text": [
            "Mean Square Error 0.49769213371182697\n",
            "Model R^2 Square value 0.5109757661485197\n"
          ],
          "name": "stdout"
        }
      ]
    },
    {
      "cell_type": "code",
      "metadata": {
        "id": "-IegL18xOwaG",
        "colab_type": "code",
        "colab": {
          "base_uri": "https://localhost:8080/",
          "height": 333
        },
        "outputId": "a93464ff-f604-4fd3-8902-f4128120468e"
      },
      "source": [
        "# Plot the histogram of the error terms\n",
        "fig = plt.figure()\n",
        "sns.distplot(((Y_Train) - y_train_price), bins = 20)\n",
        "fig.suptitle('Error Terms', fontsize = 20)                  # Plot heading \n",
        "plt.xlabel('Errors', fontsize = 18)  "
      ],
      "execution_count": null,
      "outputs": [
        {
          "output_type": "execute_result",
          "data": {
            "text/plain": [
              "Text(0.5, 0, 'Errors')"
            ]
          },
          "metadata": {
            "tags": []
          },
          "execution_count": 167
        },
        {
          "output_type": "display_data",
          "data": {
            "image/png": "[encoded data removed]",
            "text/plain": [
              "<Figure size 432x288 with 1 Axes>"
            ]
          },
          "metadata": {
            "tags": [],
            "needs_background": "light"
          }
        }
      ]
    },
    {
      "cell_type": "code",
      "metadata": {
        "id": "jXV_OZcGOwgQ",
        "colab_type": "code",
        "colab": {
          "base_uri": "https://localhost:8080/",
          "height": 333
        },
        "outputId": "d7d21c7c-a62c-4615-cf7b-da6fd443d3da"
      },
      "source": [
        "# Plotting y_test and y_pred to understand the spread.\n",
        "fig = plt.figure()\n",
        "plt.scatter(Y_Test,y_pred)\n",
        "fig.suptitle('y_test vs y_pred', fontsize=20)              # Plot heading \n",
        "plt.xlabel('y_test', fontsize=18)                          # X-label\n",
        "plt.ylabel('y_pred', fontsize=16)    "
      ],
      "execution_count": null,
      "outputs": [
        {
          "output_type": "execute_result",
          "data": {
            "text/plain": [
              "Text(0, 0.5, 'y_pred')"
            ]
          },
          "metadata": {
            "tags": []
          },
          "execution_count": 168
        },
        {
          "output_type": "display_data",
          "data": {
            "image/png": "[encoded data removed]",
            "text/plain": [
              "<Figure size 432x288 with 1 Axes>"
            ]
          },
          "metadata": {
            "tags": [],
            "needs_background": "light"
          }
        }
      ]
    },
    {
      "cell_type": "code",
      "metadata": {
        "id": "DOn24s1n2AWp",
        "colab_type": "code",
        "colab": {
          "base_uri": "https://localhost:8080/",
          "height": 343
        },
        "outputId": "051db264-681f-4e3e-8b0b-0f1109e99eda"
      },
      "source": [
        "from statsmodels.stats.outliers_influence import variance_inflation_factor\n",
        "\n",
        "vif = pd.DataFrame()\n",
        "X = X_Train\n",
        "vif['Features'] = X.columns\n",
        "vif['VIF'] = [variance_inflation_factor(X.values, i) for i in range(X.shape[1])]\n",
        "vif['VIF'] = round(vif['VIF'], 2)\n",
        "vif = vif.sort_values(by = \"VIF\", ascending = False)\n",
        "vif"
      ],
      "execution_count": null,
      "outputs": [
        {
          "output_type": "execute_result",
          "data": {
            "text/html": [
              "<div>\n",
              "<style scoped>\n",
              "    .dataframe tbody tr th:only-of-type {\n",
              "        vertical-align: middle;\n",
              "    }\n",
              "\n",
              "    .dataframe tbody tr th {\n",
              "        vertical-align: top;\n",
              "    }\n",
              "\n",
              "    .dataframe thead th {\n",
              "        text-align: right;\n",
              "    }\n",
              "</style>\n",
              "<table border=\"1\" class=\"dataframe\">\n",
              "  <thead>\n",
              "    <tr style=\"text-align: right;\">\n",
              "      <th></th>\n",
              "      <th>Features</th>\n",
              "      <th>VIF</th>\n",
              "    </tr>\n",
              "  </thead>\n",
              "  <tbody>\n",
              "    <tr>\n",
              "      <th>0</th>\n",
              "      <td>medIncome</td>\n",
              "      <td>2.93</td>\n",
              "    </tr>\n",
              "    <tr>\n",
              "      <th>2</th>\n",
              "      <td>PctEmployed16_Over</td>\n",
              "      <td>2.77</td>\n",
              "    </tr>\n",
              "    <tr>\n",
              "      <th>4</th>\n",
              "      <td>PctBachDeg25_Over</td>\n",
              "      <td>2.54</td>\n",
              "    </tr>\n",
              "    <tr>\n",
              "      <th>5</th>\n",
              "      <td>PctUnemployed16_Over</td>\n",
              "      <td>1.83</td>\n",
              "    </tr>\n",
              "    <tr>\n",
              "      <th>3</th>\n",
              "      <td>avgAnnCount</td>\n",
              "      <td>1.57</td>\n",
              "    </tr>\n",
              "    <tr>\n",
              "      <th>6</th>\n",
              "      <td>PctAsian</td>\n",
              "      <td>1.41</td>\n",
              "    </tr>\n",
              "    <tr>\n",
              "      <th>8</th>\n",
              "      <td>PctHS18_24</td>\n",
              "      <td>1.26</td>\n",
              "    </tr>\n",
              "    <tr>\n",
              "      <th>7</th>\n",
              "      <td>incidenceRate</td>\n",
              "      <td>1.21</td>\n",
              "    </tr>\n",
              "    <tr>\n",
              "      <th>9</th>\n",
              "      <td>PctOtherRace</td>\n",
              "      <td>1.13</td>\n",
              "    </tr>\n",
              "    <tr>\n",
              "      <th>1</th>\n",
              "      <td>MedianAge</td>\n",
              "      <td>1.01</td>\n",
              "    </tr>\n",
              "  </tbody>\n",
              "</table>\n",
              "</div>"
            ],
            "text/plain": [
              "               Features   VIF\n",
              "0             medIncome  2.93\n",
              "2    PctEmployed16_Over  2.77\n",
              "4     PctBachDeg25_Over  2.54\n",
              "5  PctUnemployed16_Over  1.83\n",
              "3           avgAnnCount  1.57\n",
              "6              PctAsian  1.41\n",
              "8            PctHS18_24  1.26\n",
              "7         incidenceRate  1.21\n",
              "9          PctOtherRace  1.13\n",
              "1             MedianAge  1.01"
            ]
          },
          "metadata": {
            "tags": []
          },
          "execution_count": 169
        }
      ]
    }
  ]
}