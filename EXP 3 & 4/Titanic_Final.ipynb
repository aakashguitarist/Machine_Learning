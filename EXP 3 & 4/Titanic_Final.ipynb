{
  "nbformat": 4,
  "nbformat_minor": 0,
  "metadata": {
    "colab": {
      "name": "Titanic_Final.ipynb",
      "provenance": [],
      "collapsed_sections": [],
      "toc_visible": true
    },
    "kernelspec": {
      "name": "python3",
      "display_name": "Python 3"
    }
  },
  "cells": [
    {
      "cell_type": "markdown",
      "metadata": {
        "id": "r533Dretkn0V",
        "colab_type": "text"
      },
      "source": [
        "**Importing the utility libraries**"
      ]
    },
    {
      "cell_type": "code",
      "metadata": {
        "id": "O_TsJNwO6_HR",
        "colab_type": "code",
        "colab": {}
      },
      "source": [
        "import cv2\n",
        "import numpy as np\n",
        "import pandas as pd\n",
        "import matplotlib.pyplot as plt\n"
      ],
      "execution_count": null,
      "outputs": []
    },
    {
      "cell_type": "code",
      "metadata": {
        "id": "m0uNflny8Sb4",
        "colab_type": "code",
        "colab": {
          "base_uri": "https://localhost:8080/",
          "height": 70
        },
        "outputId": "67afec93-7849-4a1b-cd94-e51ce6e2f549"
      },
      "source": [
        "import numpy as np # linear algebra\n",
        "import pandas as pd # data processing, CSV file I/O (e.g. pd.read_csv)\n",
        "import matplotlib.pyplot as plt\n",
        "import seaborn as sns\n",
        "from matplotlib.pyplot import figure\n",
        "import plotly.graph_objs as go\n",
        "from plotly.offline import init_notebook_mode, iplot\n",
        "from sklearn.utils import shuffle\n",
        "from sklearn import preprocessing\n",
        "from sklearn.preprocessing import LabelEncoder\n",
        "import time\n",
        "import os\n",
        "\n",
        "for dirname, _, filenames in os.walk('/kaggle/input'):\n",
        "    for filename in filenames:\n",
        "        print(os.path.join(dirname, filename))\n",
        "\n",
        "# Any results you write to the current directory are saved as output."
      ],
      "execution_count": null,
      "outputs": [
        {
          "output_type": "stream",
          "text": [
            "/usr/local/lib/python3.6/dist-packages/statsmodels/tools/_testing.py:19: FutureWarning: pandas.util.testing is deprecated. Use the functions in the public API at pandas.testing instead.\n",
            "  import pandas.util.testing as tm\n"
          ],
          "name": "stderr"
        }
      ]
    },
    {
      "cell_type": "markdown",
      "metadata": {
        "id": "9OpeXdg7kujP",
        "colab_type": "text"
      },
      "source": [
        "**Reading the Titanic CSV files and creating the dataframes**"
      ]
    },
    {
      "cell_type": "code",
      "metadata": {
        "id": "WjDE5wLj8Ucf",
        "colab_type": "code",
        "colab": {}
      },
      "source": [
        "df=pd.read_csv('train.csv')"
      ],
      "execution_count": null,
      "outputs": []
    },
    {
      "cell_type": "code",
      "metadata": {
        "id": "13M-qvgd8y8x",
        "colab_type": "code",
        "colab": {}
      },
      "source": [
        "ds=pd.read_csv('test.csv')"
      ],
      "execution_count": null,
      "outputs": []
    },
    {
      "cell_type": "code",
      "metadata": {
        "id": "XRYTwIXn82Wo",
        "colab_type": "code",
        "colab": {
          "base_uri": "https://localhost:8080/",
          "height": 229
        },
        "outputId": "2a6e8fb2-17a5-4e05-f6c3-6f66044c1739"
      },
      "source": [
        "df.head()"
      ],
      "execution_count": null,
      "outputs": [
        {
          "output_type": "execute_result",
          "data": {
            "text/html": [
              "<div>\n",
              "<style scoped>\n",
              "    .dataframe tbody tr th:only-of-type {\n",
              "        vertical-align: middle;\n",
              "    }\n",
              "\n",
              "    .dataframe tbody tr th {\n",
              "        vertical-align: top;\n",
              "    }\n",
              "\n",
              "    .dataframe thead th {\n",
              "        text-align: right;\n",
              "    }\n",
              "</style>\n",
              "<table border=\"1\" class=\"dataframe\">\n",
              "  <thead>\n",
              "    <tr style=\"text-align: right;\">\n",
              "      <th></th>\n",
              "      <th>PassengerId</th>\n",
              "      <th>Survived</th>\n",
              "      <th>Pclass</th>\n",
              "      <th>Name</th>\n",
              "      <th>Sex</th>\n",
              "      <th>Age</th>\n",
              "      <th>SibSp</th>\n",
              "      <th>Parch</th>\n",
              "      <th>Ticket</th>\n",
              "      <th>Fare</th>\n",
              "      <th>Cabin</th>\n",
              "      <th>Embarked</th>\n",
              "    </tr>\n",
              "  </thead>\n",
              "  <tbody>\n",
              "    <tr>\n",
              "      <th>0</th>\n",
              "      <td>1</td>\n",
              "      <td>0</td>\n",
              "      <td>3</td>\n",
              "      <td>Braund, Mr. Owen Harris</td>\n",
              "      <td>male</td>\n",
              "      <td>22.0</td>\n",
              "      <td>1</td>\n",
              "      <td>0</td>\n",
              "      <td>A/5 21171</td>\n",
              "      <td>7.2500</td>\n",
              "      <td>NaN</td>\n",
              "      <td>S</td>\n",
              "    </tr>\n",
              "    <tr>\n",
              "      <th>1</th>\n",
              "      <td>2</td>\n",
              "      <td>1</td>\n",
              "      <td>1</td>\n",
              "      <td>Cumings, Mrs. John Bradley (Florence Briggs Th...</td>\n",
              "      <td>female</td>\n",
              "      <td>38.0</td>\n",
              "      <td>1</td>\n",
              "      <td>0</td>\n",
              "      <td>PC 17599</td>\n",
              "      <td>71.2833</td>\n",
              "      <td>C85</td>\n",
              "      <td>C</td>\n",
              "    </tr>\n",
              "    <tr>\n",
              "      <th>2</th>\n",
              "      <td>3</td>\n",
              "      <td>1</td>\n",
              "      <td>3</td>\n",
              "      <td>Heikkinen, Miss. Laina</td>\n",
              "      <td>female</td>\n",
              "      <td>26.0</td>\n",
              "      <td>0</td>\n",
              "      <td>0</td>\n",
              "      <td>STON/O2. 3101282</td>\n",
              "      <td>7.9250</td>\n",
              "      <td>NaN</td>\n",
              "      <td>S</td>\n",
              "    </tr>\n",
              "    <tr>\n",
              "      <th>3</th>\n",
              "      <td>4</td>\n",
              "      <td>1</td>\n",
              "      <td>1</td>\n",
              "      <td>Futrelle, Mrs. Jacques Heath (Lily May Peel)</td>\n",
              "      <td>female</td>\n",
              "      <td>35.0</td>\n",
              "      <td>1</td>\n",
              "      <td>0</td>\n",
              "      <td>113803</td>\n",
              "      <td>53.1000</td>\n",
              "      <td>C123</td>\n",
              "      <td>S</td>\n",
              "    </tr>\n",
              "    <tr>\n",
              "      <th>4</th>\n",
              "      <td>5</td>\n",
              "      <td>0</td>\n",
              "      <td>3</td>\n",
              "      <td>Allen, Mr. William Henry</td>\n",
              "      <td>male</td>\n",
              "      <td>35.0</td>\n",
              "      <td>0</td>\n",
              "      <td>0</td>\n",
              "      <td>373450</td>\n",
              "      <td>8.0500</td>\n",
              "      <td>NaN</td>\n",
              "      <td>S</td>\n",
              "    </tr>\n",
              "  </tbody>\n",
              "</table>\n",
              "</div>"
            ],
            "text/plain": [
              "   PassengerId  Survived  Pclass  ...     Fare Cabin  Embarked\n",
              "0            1         0       3  ...   7.2500   NaN         S\n",
              "1            2         1       1  ...  71.2833   C85         C\n",
              "2            3         1       3  ...   7.9250   NaN         S\n",
              "3            4         1       1  ...  53.1000  C123         S\n",
              "4            5         0       3  ...   8.0500   NaN         S\n",
              "\n",
              "[5 rows x 12 columns]"
            ]
          },
          "metadata": {
            "tags": []
          },
          "execution_count": 5
        }
      ]
    },
    {
      "cell_type": "markdown",
      "metadata": {
        "id": "d42xcpeJnZDF",
        "colab_type": "text"
      },
      "source": [
        "**Checking the TYPES of data in out dataframe**"
      ]
    },
    {
      "cell_type": "code",
      "metadata": {
        "id": "DeEcNXSq9DS-",
        "colab_type": "code",
        "colab": {
          "base_uri": "https://localhost:8080/",
          "height": 336
        },
        "outputId": "c616db02-dfa1-464e-c4d2-aa56cb2496f9"
      },
      "source": [
        "df.info()"
      ],
      "execution_count": null,
      "outputs": [
        {
          "output_type": "stream",
          "text": [
            "<class 'pandas.core.frame.DataFrame'>\n",
            "RangeIndex: 891 entries, 0 to 890\n",
            "Data columns (total 12 columns):\n",
            " #   Column       Non-Null Count  Dtype  \n",
            "---  ------       --------------  -----  \n",
            " 0   PassengerId  891 non-null    int64  \n",
            " 1   Survived     891 non-null    int64  \n",
            " 2   Pclass       891 non-null    int64  \n",
            " 3   Name         891 non-null    object \n",
            " 4   Sex          891 non-null    object \n",
            " 5   Age          714 non-null    float64\n",
            " 6   SibSp        891 non-null    int64  \n",
            " 7   Parch        891 non-null    int64  \n",
            " 8   Ticket       891 non-null    object \n",
            " 9   Fare         891 non-null    float64\n",
            " 10  Cabin        204 non-null    object \n",
            " 11  Embarked     889 non-null    object \n",
            "dtypes: float64(2), int64(5), object(5)\n",
            "memory usage: 83.7+ KB\n"
          ],
          "name": "stdout"
        }
      ]
    },
    {
      "cell_type": "markdown",
      "metadata": {
        "id": "2rJs6OInne8j",
        "colab_type": "text"
      },
      "source": [
        "**Checking the NaN values in our dataframe**"
      ]
    },
    {
      "cell_type": "code",
      "metadata": {
        "id": "sMvhjmZW9ELd",
        "colab_type": "code",
        "colab": {
          "base_uri": "https://localhost:8080/",
          "height": 235
        },
        "outputId": "2810950b-bae8-4cfb-9e39-c37f3a5ed334"
      },
      "source": [
        "df.isna().sum()"
      ],
      "execution_count": null,
      "outputs": [
        {
          "output_type": "execute_result",
          "data": {
            "text/plain": [
              "PassengerId      0\n",
              "Survived         0\n",
              "Pclass           0\n",
              "Name             0\n",
              "Sex              0\n",
              "Age            177\n",
              "SibSp            0\n",
              "Parch            0\n",
              "Ticket           0\n",
              "Fare             0\n",
              "Cabin          687\n",
              "Embarked         2\n",
              "dtype: int64"
            ]
          },
          "metadata": {
            "tags": []
          },
          "execution_count": 7
        }
      ]
    },
    {
      "cell_type": "markdown",
      "metadata": {
        "id": "YxPcbZaEpGFC",
        "colab_type": "text"
      },
      "source": [
        "**Checking the shape of model**"
      ]
    },
    {
      "cell_type": "code",
      "metadata": {
        "id": "c1b-lNI19G0U",
        "colab_type": "code",
        "colab": {
          "base_uri": "https://localhost:8080/",
          "height": 34
        },
        "outputId": "9661cdf5-e1d1-47d2-a5dc-6351e668d12d"
      },
      "source": [
        "df.shape"
      ],
      "execution_count": null,
      "outputs": [
        {
          "output_type": "execute_result",
          "data": {
            "text/plain": [
              "(891, 12)"
            ]
          },
          "metadata": {
            "tags": []
          },
          "execution_count": 8
        }
      ]
    },
    {
      "cell_type": "markdown",
      "metadata": {
        "id": "ysEN7iBypJ0M",
        "colab_type": "text"
      },
      "source": [
        "**Dropping the Name and Cabin Columns**"
      ]
    },
    {
      "cell_type": "code",
      "metadata": {
        "id": "AGaRN71v9TCK",
        "colab_type": "code",
        "colab": {}
      },
      "source": [
        "df=df.drop(['Name','Cabin'],axis=1)"
      ],
      "execution_count": null,
      "outputs": []
    },
    {
      "cell_type": "code",
      "metadata": {
        "id": "GsQSgguV9ZRM",
        "colab_type": "code",
        "colab": {
          "base_uri": "https://localhost:8080/",
          "height": 202
        },
        "outputId": "4598187b-68d7-4a0c-c00c-356a8a5e1531"
      },
      "source": [
        "df.isna().sum()"
      ],
      "execution_count": null,
      "outputs": [
        {
          "output_type": "execute_result",
          "data": {
            "text/plain": [
              "PassengerId      0\n",
              "Survived         0\n",
              "Pclass           0\n",
              "Sex              0\n",
              "Age            177\n",
              "SibSp            0\n",
              "Parch            0\n",
              "Ticket           0\n",
              "Fare             0\n",
              "Embarked         2\n",
              "dtype: int64"
            ]
          },
          "metadata": {
            "tags": []
          },
          "execution_count": 10
        }
      ]
    },
    {
      "cell_type": "markdown",
      "metadata": {
        "id": "cRRD5HO3pSGe",
        "colab_type": "text"
      },
      "source": [
        "**Describing the *Age* Column of Dataframe**"
      ]
    },
    {
      "cell_type": "code",
      "metadata": {
        "id": "aqkIrw-JGcfs",
        "colab_type": "code",
        "colab": {
          "base_uri": "https://localhost:8080/",
          "height": 168
        },
        "outputId": "d894b61c-7554-40be-f06c-525a4caf4e64"
      },
      "source": [
        "df['Age'].describe()"
      ],
      "execution_count": null,
      "outputs": [
        {
          "output_type": "execute_result",
          "data": {
            "text/plain": [
              "count    714.000000\n",
              "mean      29.699118\n",
              "std       14.526497\n",
              "min        0.420000\n",
              "25%       20.125000\n",
              "50%       28.000000\n",
              "75%       38.000000\n",
              "max       80.000000\n",
              "Name: Age, dtype: float64"
            ]
          },
          "metadata": {
            "tags": []
          },
          "execution_count": 11
        }
      ]
    },
    {
      "cell_type": "code",
      "metadata": {
        "id": "bVCIYGsGGckN",
        "colab_type": "code",
        "colab": {
          "base_uri": "https://localhost:8080/",
          "height": 77
        },
        "outputId": "cccf295c-7c53-4ff2-aa0f-84b254b88193"
      },
      "source": [
        "df[df['Age']==0.42]"
      ],
      "execution_count": null,
      "outputs": [
        {
          "output_type": "execute_result",
          "data": {
            "text/html": [
              "<div>\n",
              "<style scoped>\n",
              "    .dataframe tbody tr th:only-of-type {\n",
              "        vertical-align: middle;\n",
              "    }\n",
              "\n",
              "    .dataframe tbody tr th {\n",
              "        vertical-align: top;\n",
              "    }\n",
              "\n",
              "    .dataframe thead th {\n",
              "        text-align: right;\n",
              "    }\n",
              "</style>\n",
              "<table border=\"1\" class=\"dataframe\">\n",
              "  <thead>\n",
              "    <tr style=\"text-align: right;\">\n",
              "      <th></th>\n",
              "      <th>PassengerId</th>\n",
              "      <th>Survived</th>\n",
              "      <th>Pclass</th>\n",
              "      <th>Sex</th>\n",
              "      <th>Age</th>\n",
              "      <th>SibSp</th>\n",
              "      <th>Parch</th>\n",
              "      <th>Ticket</th>\n",
              "      <th>Fare</th>\n",
              "      <th>Embarked</th>\n",
              "    </tr>\n",
              "  </thead>\n",
              "  <tbody>\n",
              "    <tr>\n",
              "      <th>803</th>\n",
              "      <td>804</td>\n",
              "      <td>1</td>\n",
              "      <td>3</td>\n",
              "      <td>male</td>\n",
              "      <td>0.42</td>\n",
              "      <td>0</td>\n",
              "      <td>1</td>\n",
              "      <td>2625</td>\n",
              "      <td>8.5167</td>\n",
              "      <td>C</td>\n",
              "    </tr>\n",
              "  </tbody>\n",
              "</table>\n",
              "</div>"
            ],
            "text/plain": [
              "     PassengerId  Survived  Pclass   Sex  ...  Parch  Ticket    Fare Embarked\n",
              "803          804         1       3  male  ...      1    2625  8.5167        C\n",
              "\n",
              "[1 rows x 10 columns]"
            ]
          },
          "metadata": {
            "tags": []
          },
          "execution_count": 12
        }
      ]
    },
    {
      "cell_type": "markdown",
      "metadata": {
        "id": "W2LJ7lgypmvT",
        "colab_type": "text"
      },
      "source": [
        "# Data Viz"
      ]
    },
    {
      "cell_type": "markdown",
      "metadata": {
        "id": "H93YnV2_ppnS",
        "colab_type": "text"
      },
      "source": [
        "Counter Plots"
      ]
    },
    {
      "cell_type": "code",
      "metadata": {
        "id": "IKb_DLKwYYV2",
        "colab_type": "code",
        "colab": {
          "base_uri": "https://localhost:8080/",
          "height": 285
        },
        "outputId": "478e311b-cbec-425a-931b-2d812a5dd2a8"
      },
      "source": [
        "sns.set(style=\"ticks\")\n",
        "f = sns.countplot(x=\"Survived\", data=df, palette=\"bwr\")\n",
        "plt.show()"
      ],
      "execution_count": null,
      "outputs": [
        {
          "output_type": "display_data",
          "data": {
            "image/png": "[encoded data removed]",
            "text/plain": [
              "<Figure size 432x288 with 1 Axes>"
            ]
          },
          "metadata": {
            "tags": []
          }
        }
      ]
    },
    {
      "cell_type": "code",
      "metadata": {
        "id": "t0gYwwFrYtN1",
        "colab_type": "code",
        "colab": {
          "base_uri": "https://localhost:8080/",
          "height": 302
        },
        "outputId": "d9a8ef75-21c5-47a2-ec2e-bc63f6697ecd"
      },
      "source": [
        "sns.countplot(x='Pclass',data = df)"
      ],
      "execution_count": null,
      "outputs": [
        {
          "output_type": "execute_result",
          "data": {
            "text/plain": [
              "<matplotlib.axes._subplots.AxesSubplot at 0x7f136b9db198>"
            ]
          },
          "metadata": {
            "tags": []
          },
          "execution_count": 14
        },
        {
          "output_type": "display_data",
          "data": {
            "image/png": "[encoded data removed]",
            "text/plain": [
              "<Figure size 432x288 with 1 Axes>"
            ]
          },
          "metadata": {
            "tags": []
          }
        }
      ]
    },
    {
      "cell_type": "code",
      "metadata": {
        "id": "9ZbTfY_QYzMI",
        "colab_type": "code",
        "colab": {
          "base_uri": "https://localhost:8080/",
          "height": 302
        },
        "outputId": "65d37a58-fe27-49fe-eb25-eda268cb7311"
      },
      "source": [
        "sns.countplot(x='Pclass', hue='Survived',data=df)\n"
      ],
      "execution_count": null,
      "outputs": [
        {
          "output_type": "execute_result",
          "data": {
            "text/plain": [
              "<matplotlib.axes._subplots.AxesSubplot at 0x7f136b519ac8>"
            ]
          },
          "metadata": {
            "tags": []
          },
          "execution_count": 15
        },
        {
          "output_type": "display_data",
          "data": {
            "image/png": "[encoded data removed]",
            "text/plain": [
              "<Figure size 432x288 with 1 Axes>"
            ]
          },
          "metadata": {
            "tags": []
          }
        }
      ]
    },
    {
      "cell_type": "code",
      "metadata": {
        "id": "JCJXAE-uY1sl",
        "colab_type": "code",
        "colab": {
          "base_uri": "https://localhost:8080/",
          "height": 302
        },
        "outputId": "8aea9fa3-4f83-4f45-da5d-0cac154dc2c6"
      },
      "source": [
        "sns.countplot(x='Sex',hue='Survived',data=df)"
      ],
      "execution_count": null,
      "outputs": [
        {
          "output_type": "execute_result",
          "data": {
            "text/plain": [
              "<matplotlib.axes._subplots.AxesSubplot at 0x7f136b48f898>"
            ]
          },
          "metadata": {
            "tags": []
          },
          "execution_count": 16
        },
        {
          "output_type": "display_data",
          "data": {
            "image/png": "[encoded data removed]",
            "text/plain": [
              "<Figure size 432x288 with 1 Axes>"
            ]
          },
          "metadata": {
            "tags": []
          }
        }
      ]
    },
    {
      "cell_type": "markdown",
      "metadata": {
        "id": "W5ofQtUxpsVN",
        "colab_type": "text"
      },
      "source": [
        "Violin Plot"
      ]
    },
    {
      "cell_type": "code",
      "metadata": {
        "id": "CZST5uF3Y4O1",
        "colab_type": "code",
        "colab": {
          "base_uri": "https://localhost:8080/",
          "height": 302
        },
        "outputId": "60be6a82-e51f-40c9-adb2-73fd6e6bae4d"
      },
      "source": [
        "sns.violinplot(\"Pclass\",'Sex',data=df)"
      ],
      "execution_count": null,
      "outputs": [
        {
          "output_type": "execute_result",
          "data": {
            "text/plain": [
              "<matplotlib.axes._subplots.AxesSubplot at 0x7f136b3feba8>"
            ]
          },
          "metadata": {
            "tags": []
          },
          "execution_count": 17
        },
        {
          "output_type": "display_data",
          "data": {
            "image/png": "[encoded data removed]",
            "text/plain": [
              "<Figure size 432x288 with 1 Axes>"
            ]
          },
          "metadata": {
            "tags": []
          }
        }
      ]
    },
    {
      "cell_type": "markdown",
      "metadata": {
        "id": "4qTynAZKpvh4",
        "colab_type": "text"
      },
      "source": [
        "Joint Plot"
      ]
    },
    {
      "cell_type": "code",
      "metadata": {
        "id": "G-C4r5viZfm3",
        "colab_type": "code",
        "colab": {
          "base_uri": "https://localhost:8080/",
          "height": 454
        },
        "outputId": "5ee8dc75-f944-4d6e-ad15-5bb0a9ab15e9"
      },
      "source": [
        "sns.jointplot(x=\"Survived\",y='Survived',data=df, kind=\"kde\")"
      ],
      "execution_count": null,
      "outputs": [
        {
          "output_type": "execute_result",
          "data": {
            "text/plain": [
              "<seaborn.axisgrid.JointGrid at 0x7f136b377a20>"
            ]
          },
          "metadata": {
            "tags": []
          },
          "execution_count": 18
        },
        {
          "output_type": "display_data",
          "data": {
            "image/png": "[encoded data removed]",
            "text/plain": [
              "<Figure size 432x432 with 3 Axes>"
            ]
          },
          "metadata": {
            "tags": []
          }
        }
      ]
    },
    {
      "cell_type": "markdown",
      "metadata": {
        "id": "TbnMdDDtpySF",
        "colab_type": "text"
      },
      "source": [
        "Bar Plot"
      ]
    },
    {
      "cell_type": "code",
      "metadata": {
        "id": "gRlHtf3wY-KM",
        "colab_type": "code",
        "colab": {
          "base_uri": "https://localhost:8080/",
          "height": 305
        },
        "outputId": "5709adc9-bcc3-49d8-e0fd-fe40b501829f"
      },
      "source": [
        "sns.barplot(x='Pclass',y='Fare',data=df)"
      ],
      "execution_count": null,
      "outputs": [
        {
          "output_type": "execute_result",
          "data": {
            "text/plain": [
              "<matplotlib.axes._subplots.AxesSubplot at 0x7f13688102e8>"
            ]
          },
          "metadata": {
            "tags": []
          },
          "execution_count": 19
        },
        {
          "output_type": "display_data",
          "data": {
            "image/png": "[encoded data removed]",
            "text/plain": [
              "<Figure size 432x288 with 1 Axes>"
            ]
          },
          "metadata": {
            "tags": []
          }
        }
      ]
    },
    {
      "cell_type": "markdown",
      "metadata": {
        "id": "Pj5BqNvOpz3q",
        "colab_type": "text"
      },
      "source": [
        "Factor Plot"
      ]
    },
    {
      "cell_type": "code",
      "metadata": {
        "id": "sACvFWHgaxiG",
        "colab_type": "code",
        "colab": {
          "base_uri": "https://localhost:8080/",
          "height": 469
        },
        "outputId": "3f52100a-28ee-42bb-f829-e09020111f4e"
      },
      "source": [
        "sns.factorplot('Pclass','Survived',data=df)"
      ],
      "execution_count": null,
      "outputs": [
        {
          "output_type": "stream",
          "text": [
            "/usr/local/lib/python3.6/dist-packages/seaborn/categorical.py:3666: UserWarning:\n",
            "\n",
            "The `factorplot` function has been renamed to `catplot`. The original name will be removed in a future release. Please update your code. Note that the default `kind` in `factorplot` (`'point'`) has changed `'strip'` in `catplot`.\n",
            "\n"
          ],
          "name": "stderr"
        },
        {
          "output_type": "execute_result",
          "data": {
            "text/plain": [
              "<seaborn.axisgrid.FacetGrid at 0x7f13688891d0>"
            ]
          },
          "metadata": {
            "tags": []
          },
          "execution_count": 20
        },
        {
          "output_type": "display_data",
          "data": {
            "image/png": "[encoded data removed]",
            "text/plain": [
              "<Figure size 360x360 with 1 Axes>"
            ]
          },
          "metadata": {
            "tags": []
          }
        }
      ]
    },
    {
      "cell_type": "markdown",
      "metadata": {
        "id": "PSa2P7O2p2PX",
        "colab_type": "text"
      },
      "source": [
        "***HEATMAP***\n"
      ]
    },
    {
      "cell_type": "code",
      "metadata": {
        "id": "h4845yrgZCuk",
        "colab_type": "code",
        "colab": {
          "base_uri": "https://localhost:8080/",
          "height": 798
        },
        "outputId": "82b0a72e-bb4b-48fb-b60f-8efc1af2bc7d"
      },
      "source": [
        "plt.figure(num=None, figsize=(12, 10), dpi=80, facecolor='w', edgecolor='k')\n",
        "\n",
        "corr= df.corr()\n",
        "sns.heatmap(corr, xticklabels=corr.columns.values, yticklabels=corr.columns.values,cmap=\"YlGnBu\")\n",
        "\n",
        "# Selecting only correlated features\n",
        "corr_y = abs(corr['Survived'])\n",
        "highest_corr = corr_y[corr_y >0.4]\n",
        "highest_corr.sort_values(ascending=True)\n"
      ],
      "execution_count": null,
      "outputs": [
        {
          "output_type": "execute_result",
          "data": {
            "text/plain": [
              "Sex_female    0.543351\n",
              "Sex_male      0.543351\n",
              "Survived      1.000000\n",
              "Name: Survived, dtype: float64"
            ]
          },
          "metadata": {
            "tags": []
          },
          "execution_count": 156
        },
        {
          "output_type": "display_data",
          "data": {
            "image/png": "[encoded data removed]",
            "text/plain": [
              "<Figure size 960x800 with 2 Axes>"
            ]
          },
          "metadata": {
            "tags": []
          }
        }
      ]
    },
    {
      "cell_type": "markdown",
      "metadata": {
        "id": "NIEkcCjtp4u6",
        "colab_type": "text"
      },
      "source": [
        "**Pair Plot**"
      ]
    },
    {
      "cell_type": "code",
      "metadata": {
        "id": "ZlsLijQpZGpS",
        "colab_type": "code",
        "colab": {
          "base_uri": "https://localhost:8080/",
          "height": 1000
        },
        "outputId": "9dd8e211-10a5-436b-e132-e74e2ace53c0"
      },
      "source": [
        "sns.pairplot(df)"
      ],
      "execution_count": null,
      "outputs": [
        {
          "output_type": "execute_result",
          "data": {
            "text/plain": [
              "<seaborn.axisgrid.PairGrid at 0x7f1368857cc0>"
            ]
          },
          "metadata": {
            "tags": []
          },
          "execution_count": 22
        },
        {
          "output_type": "display_data",
          "data": {
            "image/png": "[encoded data removed]",
            "text/plain": [
              "<Figure size 1260x1260 with 56 Axes>"
            ]
          },
          "metadata": {
            "tags": []
          }
        }
      ]
    },
    {
      "cell_type": "markdown",
      "metadata": {
        "id": "cYdydSmiqARz",
        "colab_type": "text"
      },
      "source": [
        "**BOX PLOT**"
      ]
    },
    {
      "cell_type": "code",
      "metadata": {
        "id": "xfGJgv_XGMDe",
        "colab_type": "code",
        "colab": {
          "base_uri": "https://localhost:8080/",
          "height": 302
        },
        "outputId": "9308a740-367d-4f28-a139-81901bb08407"
      },
      "source": [
        "sns.boxplot(df['Age'])"
      ],
      "execution_count": null,
      "outputs": [
        {
          "output_type": "execute_result",
          "data": {
            "text/plain": [
              "<matplotlib.axes._subplots.AxesSubplot at 0x7f13688576d8>"
            ]
          },
          "metadata": {
            "tags": []
          },
          "execution_count": 23
        },
        {
          "output_type": "display_data",
          "data": {
            "image/png": "[encoded data removed]",
            "text/plain": [
              "<Figure size 432x288 with 1 Axes>"
            ]
          },
          "metadata": {
            "tags": []
          }
        }
      ]
    },
    {
      "cell_type": "markdown",
      "metadata": {
        "id": "xWX7H1C_qpYE",
        "colab_type": "text"
      },
      "source": [
        "# Handling Missing Values"
      ]
    },
    {
      "cell_type": "markdown",
      "metadata": {
        "id": "l9bmPE3eqH2l",
        "colab_type": "text"
      },
      "source": [
        "# **Handling the Missing Values**\n",
        "\n",
        "Here in out data, I found that there are three columns where missing values are present i.e. **AGE** and  **Embarked**.\n",
        "\n",
        "\n",
        "**bfill()** :  is used to backward fill the missing values in the dataset. It will backward fill the NaN values that are present in the pandas dataframe.\n",
        "\n",
        "**ffill()** : is used to fill the missing value in the dataframe. ‘ffill’ stands for ‘forward fill’ and will propagate last valid observation forward.\n",
        "\n",
        "\n",
        "Filling the Missing Values in Age Column by *BFILL* method.\n"
      ]
    },
    {
      "cell_type": "code",
      "metadata": {
        "id": "4fw6trcy9buS",
        "colab_type": "code",
        "colab": {}
      },
      "source": [
        "df['Age']=df['Age'].fillna(method='bfill')"
      ],
      "execution_count": null,
      "outputs": []
    },
    {
      "cell_type": "code",
      "metadata": {
        "id": "-kVUrU4DIYed",
        "colab_type": "code",
        "colab": {
          "base_uri": "https://localhost:8080/",
          "height": 302
        },
        "outputId": "e3e3a12f-8924-49ec-8a86-60bdfb86f1e2"
      },
      "source": [
        "sns.boxplot(df['Age'])"
      ],
      "execution_count": null,
      "outputs": [
        {
          "output_type": "execute_result",
          "data": {
            "text/plain": [
              "<matplotlib.axes._subplots.AxesSubplot at 0x7f13665d6860>"
            ]
          },
          "metadata": {
            "tags": []
          },
          "execution_count": 25
        },
        {
          "output_type": "display_data",
          "data": {
            "image/png": "[encoded data removed]",
            "text/plain": [
              "<Figure size 432x288 with 1 Axes>"
            ]
          },
          "metadata": {
            "tags": []
          }
        }
      ]
    },
    {
      "cell_type": "code",
      "metadata": {
        "id": "H1EdPFYAIiUc",
        "colab_type": "code",
        "colab": {
          "base_uri": "https://localhost:8080/",
          "height": 314
        },
        "outputId": "f7b22d78-7ffe-4b98-c06c-4c0469956633"
      },
      "source": [
        "df[df['Age']>68]"
      ],
      "execution_count": null,
      "outputs": [
        {
          "output_type": "execute_result",
          "data": {
            "text/html": [
              "<div>\n",
              "<style scoped>\n",
              "    .dataframe tbody tr th:only-of-type {\n",
              "        vertical-align: middle;\n",
              "    }\n",
              "\n",
              "    .dataframe tbody tr th {\n",
              "        vertical-align: top;\n",
              "    }\n",
              "\n",
              "    .dataframe thead th {\n",
              "        text-align: right;\n",
              "    }\n",
              "</style>\n",
              "<table border=\"1\" class=\"dataframe\">\n",
              "  <thead>\n",
              "    <tr style=\"text-align: right;\">\n",
              "      <th></th>\n",
              "      <th>PassengerId</th>\n",
              "      <th>Survived</th>\n",
              "      <th>Pclass</th>\n",
              "      <th>Sex</th>\n",
              "      <th>Age</th>\n",
              "      <th>SibSp</th>\n",
              "      <th>Parch</th>\n",
              "      <th>Ticket</th>\n",
              "      <th>Fare</th>\n",
              "      <th>Embarked</th>\n",
              "    </tr>\n",
              "  </thead>\n",
              "  <tbody>\n",
              "    <tr>\n",
              "      <th>95</th>\n",
              "      <td>96</td>\n",
              "      <td>0</td>\n",
              "      <td>3</td>\n",
              "      <td>male</td>\n",
              "      <td>71.0</td>\n",
              "      <td>0</td>\n",
              "      <td>0</td>\n",
              "      <td>374910</td>\n",
              "      <td>8.0500</td>\n",
              "      <td>S</td>\n",
              "    </tr>\n",
              "    <tr>\n",
              "      <th>96</th>\n",
              "      <td>97</td>\n",
              "      <td>0</td>\n",
              "      <td>1</td>\n",
              "      <td>male</td>\n",
              "      <td>71.0</td>\n",
              "      <td>0</td>\n",
              "      <td>0</td>\n",
              "      <td>PC 17754</td>\n",
              "      <td>34.6542</td>\n",
              "      <td>C</td>\n",
              "    </tr>\n",
              "    <tr>\n",
              "      <th>116</th>\n",
              "      <td>117</td>\n",
              "      <td>0</td>\n",
              "      <td>3</td>\n",
              "      <td>male</td>\n",
              "      <td>70.5</td>\n",
              "      <td>0</td>\n",
              "      <td>0</td>\n",
              "      <td>370369</td>\n",
              "      <td>7.7500</td>\n",
              "      <td>Q</td>\n",
              "    </tr>\n",
              "    <tr>\n",
              "      <th>493</th>\n",
              "      <td>494</td>\n",
              "      <td>0</td>\n",
              "      <td>1</td>\n",
              "      <td>male</td>\n",
              "      <td>71.0</td>\n",
              "      <td>0</td>\n",
              "      <td>0</td>\n",
              "      <td>PC 17609</td>\n",
              "      <td>49.5042</td>\n",
              "      <td>C</td>\n",
              "    </tr>\n",
              "    <tr>\n",
              "      <th>629</th>\n",
              "      <td>630</td>\n",
              "      <td>0</td>\n",
              "      <td>3</td>\n",
              "      <td>male</td>\n",
              "      <td>80.0</td>\n",
              "      <td>0</td>\n",
              "      <td>0</td>\n",
              "      <td>334912</td>\n",
              "      <td>7.7333</td>\n",
              "      <td>Q</td>\n",
              "    </tr>\n",
              "    <tr>\n",
              "      <th>630</th>\n",
              "      <td>631</td>\n",
              "      <td>1</td>\n",
              "      <td>1</td>\n",
              "      <td>male</td>\n",
              "      <td>80.0</td>\n",
              "      <td>0</td>\n",
              "      <td>0</td>\n",
              "      <td>27042</td>\n",
              "      <td>30.0000</td>\n",
              "      <td>S</td>\n",
              "    </tr>\n",
              "    <tr>\n",
              "      <th>672</th>\n",
              "      <td>673</td>\n",
              "      <td>0</td>\n",
              "      <td>2</td>\n",
              "      <td>male</td>\n",
              "      <td>70.0</td>\n",
              "      <td>0</td>\n",
              "      <td>0</td>\n",
              "      <td>C.A. 24580</td>\n",
              "      <td>10.5000</td>\n",
              "      <td>S</td>\n",
              "    </tr>\n",
              "    <tr>\n",
              "      <th>745</th>\n",
              "      <td>746</td>\n",
              "      <td>0</td>\n",
              "      <td>1</td>\n",
              "      <td>male</td>\n",
              "      <td>70.0</td>\n",
              "      <td>1</td>\n",
              "      <td>1</td>\n",
              "      <td>WE/P 5735</td>\n",
              "      <td>71.0000</td>\n",
              "      <td>S</td>\n",
              "    </tr>\n",
              "    <tr>\n",
              "      <th>851</th>\n",
              "      <td>852</td>\n",
              "      <td>0</td>\n",
              "      <td>3</td>\n",
              "      <td>male</td>\n",
              "      <td>74.0</td>\n",
              "      <td>0</td>\n",
              "      <td>0</td>\n",
              "      <td>347060</td>\n",
              "      <td>7.7750</td>\n",
              "      <td>S</td>\n",
              "    </tr>\n",
              "  </tbody>\n",
              "</table>\n",
              "</div>"
            ],
            "text/plain": [
              "     PassengerId  Survived  Pclass   Sex  ...  Parch      Ticket     Fare Embarked\n",
              "95            96         0       3  male  ...      0      374910   8.0500        S\n",
              "96            97         0       1  male  ...      0    PC 17754  34.6542        C\n",
              "116          117         0       3  male  ...      0      370369   7.7500        Q\n",
              "493          494         0       1  male  ...      0    PC 17609  49.5042        C\n",
              "629          630         0       3  male  ...      0      334912   7.7333        Q\n",
              "630          631         1       1  male  ...      0       27042  30.0000        S\n",
              "672          673         0       2  male  ...      0  C.A. 24580  10.5000        S\n",
              "745          746         0       1  male  ...      1   WE/P 5735  71.0000        S\n",
              "851          852         0       3  male  ...      0      347060   7.7750        S\n",
              "\n",
              "[9 rows x 10 columns]"
            ]
          },
          "metadata": {
            "tags": []
          },
          "execution_count": 26
        }
      ]
    },
    {
      "cell_type": "markdown",
      "metadata": {
        "id": "himYRdAcqyCb",
        "colab_type": "text"
      },
      "source": [
        "Filling the Missing Values in Embarked Column by BFILL method."
      ]
    },
    {
      "cell_type": "code",
      "metadata": {
        "id": "9ANCxRXd9z2I",
        "colab_type": "code",
        "colab": {}
      },
      "source": [
        "df['Embarked']=df['Embarked'].fillna(method='ffill')"
      ],
      "execution_count": null,
      "outputs": []
    },
    {
      "cell_type": "code",
      "metadata": {
        "id": "9wo3r8Qx96c-",
        "colab_type": "code",
        "colab": {
          "base_uri": "https://localhost:8080/",
          "height": 202
        },
        "outputId": "627f6a1a-6757-4d8c-fc3a-d7491fad4df7"
      },
      "source": [
        "df.isna().sum()"
      ],
      "execution_count": null,
      "outputs": [
        {
          "output_type": "execute_result",
          "data": {
            "text/plain": [
              "PassengerId    0\n",
              "Survived       0\n",
              "Pclass         0\n",
              "Sex            0\n",
              "Age            0\n",
              "SibSp          0\n",
              "Parch          0\n",
              "Ticket         0\n",
              "Fare           0\n",
              "Embarked       0\n",
              "dtype: int64"
            ]
          },
          "metadata": {
            "tags": []
          },
          "execution_count": 28
        }
      ]
    },
    {
      "cell_type": "code",
      "metadata": {
        "id": "qtv9jHHi98fb",
        "colab_type": "code",
        "colab": {
          "base_uri": "https://localhost:8080/",
          "height": 302
        },
        "outputId": "9a4a7a25-f6a7-4cbb-9147-d6c9b4f7d677"
      },
      "source": [
        "df.info()"
      ],
      "execution_count": null,
      "outputs": [
        {
          "output_type": "stream",
          "text": [
            "<class 'pandas.core.frame.DataFrame'>\n",
            "RangeIndex: 891 entries, 0 to 890\n",
            "Data columns (total 10 columns):\n",
            " #   Column       Non-Null Count  Dtype  \n",
            "---  ------       --------------  -----  \n",
            " 0   PassengerId  891 non-null    int64  \n",
            " 1   Survived     891 non-null    int64  \n",
            " 2   Pclass       891 non-null    int64  \n",
            " 3   Sex          891 non-null    object \n",
            " 4   Age          891 non-null    float64\n",
            " 5   SibSp        891 non-null    int64  \n",
            " 6   Parch        891 non-null    int64  \n",
            " 7   Ticket       891 non-null    object \n",
            " 8   Fare         891 non-null    float64\n",
            " 9   Embarked     891 non-null    object \n",
            "dtypes: float64(2), int64(5), object(3)\n",
            "memory usage: 69.7+ KB\n"
          ],
          "name": "stdout"
        }
      ]
    },
    {
      "cell_type": "markdown",
      "metadata": {
        "id": "K4wjDG5Zq3AW",
        "colab_type": "text"
      },
      "source": [
        "**Now getting a view of the dataframe**"
      ]
    },
    {
      "cell_type": "code",
      "metadata": {
        "id": "rMwfsxVT-I6t",
        "colab_type": "code",
        "colab": {
          "base_uri": "https://localhost:8080/",
          "height": 195
        },
        "outputId": "59a52d38-b0ae-4695-c0d5-aa55775ec3ca"
      },
      "source": [
        "df.head()"
      ],
      "execution_count": null,
      "outputs": [
        {
          "output_type": "execute_result",
          "data": {
            "text/html": [
              "<div>\n",
              "<style scoped>\n",
              "    .dataframe tbody tr th:only-of-type {\n",
              "        vertical-align: middle;\n",
              "    }\n",
              "\n",
              "    .dataframe tbody tr th {\n",
              "        vertical-align: top;\n",
              "    }\n",
              "\n",
              "    .dataframe thead th {\n",
              "        text-align: right;\n",
              "    }\n",
              "</style>\n",
              "<table border=\"1\" class=\"dataframe\">\n",
              "  <thead>\n",
              "    <tr style=\"text-align: right;\">\n",
              "      <th></th>\n",
              "      <th>PassengerId</th>\n",
              "      <th>Survived</th>\n",
              "      <th>Pclass</th>\n",
              "      <th>Sex</th>\n",
              "      <th>Age</th>\n",
              "      <th>SibSp</th>\n",
              "      <th>Parch</th>\n",
              "      <th>Ticket</th>\n",
              "      <th>Fare</th>\n",
              "      <th>Embarked</th>\n",
              "    </tr>\n",
              "  </thead>\n",
              "  <tbody>\n",
              "    <tr>\n",
              "      <th>0</th>\n",
              "      <td>1</td>\n",
              "      <td>0</td>\n",
              "      <td>3</td>\n",
              "      <td>male</td>\n",
              "      <td>22.0</td>\n",
              "      <td>1</td>\n",
              "      <td>0</td>\n",
              "      <td>A/5 21171</td>\n",
              "      <td>7.2500</td>\n",
              "      <td>S</td>\n",
              "    </tr>\n",
              "    <tr>\n",
              "      <th>1</th>\n",
              "      <td>2</td>\n",
              "      <td>1</td>\n",
              "      <td>1</td>\n",
              "      <td>female</td>\n",
              "      <td>38.0</td>\n",
              "      <td>1</td>\n",
              "      <td>0</td>\n",
              "      <td>PC 17599</td>\n",
              "      <td>71.2833</td>\n",
              "      <td>C</td>\n",
              "    </tr>\n",
              "    <tr>\n",
              "      <th>2</th>\n",
              "      <td>3</td>\n",
              "      <td>1</td>\n",
              "      <td>3</td>\n",
              "      <td>female</td>\n",
              "      <td>26.0</td>\n",
              "      <td>0</td>\n",
              "      <td>0</td>\n",
              "      <td>STON/O2. 3101282</td>\n",
              "      <td>7.9250</td>\n",
              "      <td>S</td>\n",
              "    </tr>\n",
              "    <tr>\n",
              "      <th>3</th>\n",
              "      <td>4</td>\n",
              "      <td>1</td>\n",
              "      <td>1</td>\n",
              "      <td>female</td>\n",
              "      <td>35.0</td>\n",
              "      <td>1</td>\n",
              "      <td>0</td>\n",
              "      <td>113803</td>\n",
              "      <td>53.1000</td>\n",
              "      <td>S</td>\n",
              "    </tr>\n",
              "    <tr>\n",
              "      <th>4</th>\n",
              "      <td>5</td>\n",
              "      <td>0</td>\n",
              "      <td>3</td>\n",
              "      <td>male</td>\n",
              "      <td>35.0</td>\n",
              "      <td>0</td>\n",
              "      <td>0</td>\n",
              "      <td>373450</td>\n",
              "      <td>8.0500</td>\n",
              "      <td>S</td>\n",
              "    </tr>\n",
              "  </tbody>\n",
              "</table>\n",
              "</div>"
            ],
            "text/plain": [
              "   PassengerId  Survived  Pclass  ...            Ticket     Fare  Embarked\n",
              "0            1         0       3  ...         A/5 21171   7.2500         S\n",
              "1            2         1       1  ...          PC 17599  71.2833         C\n",
              "2            3         1       3  ...  STON/O2. 3101282   7.9250         S\n",
              "3            4         1       1  ...            113803  53.1000         S\n",
              "4            5         0       3  ...            373450   8.0500         S\n",
              "\n",
              "[5 rows x 10 columns]"
            ]
          },
          "metadata": {
            "tags": []
          },
          "execution_count": 30
        }
      ]
    },
    {
      "cell_type": "markdown",
      "metadata": {
        "id": "6JRw4-ourk9R",
        "colab_type": "text"
      },
      "source": [
        "Handling the Categorical Columns i.e. **Sex** and **Embarked**"
      ]
    },
    {
      "cell_type": "code",
      "metadata": {
        "id": "N0AZ2c_N-MKU",
        "colab_type": "code",
        "colab": {}
      },
      "source": [
        "X=pd.get_dummies(df['Sex'], prefix='Sex')"
      ],
      "execution_count": null,
      "outputs": []
    },
    {
      "cell_type": "code",
      "metadata": {
        "id": "ZFHdbS3--R6b",
        "colab_type": "code",
        "colab": {
          "base_uri": "https://localhost:8080/",
          "height": 195
        },
        "outputId": "45f8b2ad-dc7a-414c-a4c6-4d455f69afd8"
      },
      "source": [
        "X.head()"
      ],
      "execution_count": null,
      "outputs": [
        {
          "output_type": "execute_result",
          "data": {
            "text/html": [
              "<div>\n",
              "<style scoped>\n",
              "    .dataframe tbody tr th:only-of-type {\n",
              "        vertical-align: middle;\n",
              "    }\n",
              "\n",
              "    .dataframe tbody tr th {\n",
              "        vertical-align: top;\n",
              "    }\n",
              "\n",
              "    .dataframe thead th {\n",
              "        text-align: right;\n",
              "    }\n",
              "</style>\n",
              "<table border=\"1\" class=\"dataframe\">\n",
              "  <thead>\n",
              "    <tr style=\"text-align: right;\">\n",
              "      <th></th>\n",
              "      <th>Sex_female</th>\n",
              "      <th>Sex_male</th>\n",
              "    </tr>\n",
              "  </thead>\n",
              "  <tbody>\n",
              "    <tr>\n",
              "      <th>0</th>\n",
              "      <td>0</td>\n",
              "      <td>1</td>\n",
              "    </tr>\n",
              "    <tr>\n",
              "      <th>1</th>\n",
              "      <td>1</td>\n",
              "      <td>0</td>\n",
              "    </tr>\n",
              "    <tr>\n",
              "      <th>2</th>\n",
              "      <td>1</td>\n",
              "      <td>0</td>\n",
              "    </tr>\n",
              "    <tr>\n",
              "      <th>3</th>\n",
              "      <td>1</td>\n",
              "      <td>0</td>\n",
              "    </tr>\n",
              "    <tr>\n",
              "      <th>4</th>\n",
              "      <td>0</td>\n",
              "      <td>1</td>\n",
              "    </tr>\n",
              "  </tbody>\n",
              "</table>\n",
              "</div>"
            ],
            "text/plain": [
              "   Sex_female  Sex_male\n",
              "0           0         1\n",
              "1           1         0\n",
              "2           1         0\n",
              "3           1         0\n",
              "4           0         1"
            ]
          },
          "metadata": {
            "tags": []
          },
          "execution_count": 32
        }
      ]
    },
    {
      "cell_type": "markdown",
      "metadata": {
        "id": "hAs2T3A0rxCg",
        "colab_type": "text"
      },
      "source": [
        "Concatinating the dataframed obtained"
      ]
    },
    {
      "cell_type": "code",
      "metadata": {
        "id": "TaAXv_Ki_vLk",
        "colab_type": "code",
        "colab": {}
      },
      "source": [
        "df=pd.concat([df,X],axis=1)"
      ],
      "execution_count": null,
      "outputs": []
    },
    {
      "cell_type": "code",
      "metadata": {
        "id": "wtc1bNYxAn1V",
        "colab_type": "code",
        "colab": {
          "base_uri": "https://localhost:8080/",
          "height": 195
        },
        "outputId": "70b82425-87fc-40ce-c50a-6ed64bcb35ce"
      },
      "source": [
        "df.head()"
      ],
      "execution_count": null,
      "outputs": [
        {
          "output_type": "execute_result",
          "data": {
            "text/html": [
              "<div>\n",
              "<style scoped>\n",
              "    .dataframe tbody tr th:only-of-type {\n",
              "        vertical-align: middle;\n",
              "    }\n",
              "\n",
              "    .dataframe tbody tr th {\n",
              "        vertical-align: top;\n",
              "    }\n",
              "\n",
              "    .dataframe thead th {\n",
              "        text-align: right;\n",
              "    }\n",
              "</style>\n",
              "<table border=\"1\" class=\"dataframe\">\n",
              "  <thead>\n",
              "    <tr style=\"text-align: right;\">\n",
              "      <th></th>\n",
              "      <th>PassengerId</th>\n",
              "      <th>Survived</th>\n",
              "      <th>Pclass</th>\n",
              "      <th>Sex</th>\n",
              "      <th>Age</th>\n",
              "      <th>SibSp</th>\n",
              "      <th>Parch</th>\n",
              "      <th>Ticket</th>\n",
              "      <th>Fare</th>\n",
              "      <th>Embarked</th>\n",
              "      <th>Sex_female</th>\n",
              "      <th>Sex_male</th>\n",
              "    </tr>\n",
              "  </thead>\n",
              "  <tbody>\n",
              "    <tr>\n",
              "      <th>0</th>\n",
              "      <td>1</td>\n",
              "      <td>0</td>\n",
              "      <td>3</td>\n",
              "      <td>male</td>\n",
              "      <td>22.0</td>\n",
              "      <td>1</td>\n",
              "      <td>0</td>\n",
              "      <td>A/5 21171</td>\n",
              "      <td>7.2500</td>\n",
              "      <td>S</td>\n",
              "      <td>0</td>\n",
              "      <td>1</td>\n",
              "    </tr>\n",
              "    <tr>\n",
              "      <th>1</th>\n",
              "      <td>2</td>\n",
              "      <td>1</td>\n",
              "      <td>1</td>\n",
              "      <td>female</td>\n",
              "      <td>38.0</td>\n",
              "      <td>1</td>\n",
              "      <td>0</td>\n",
              "      <td>PC 17599</td>\n",
              "      <td>71.2833</td>\n",
              "      <td>C</td>\n",
              "      <td>1</td>\n",
              "      <td>0</td>\n",
              "    </tr>\n",
              "    <tr>\n",
              "      <th>2</th>\n",
              "      <td>3</td>\n",
              "      <td>1</td>\n",
              "      <td>3</td>\n",
              "      <td>female</td>\n",
              "      <td>26.0</td>\n",
              "      <td>0</td>\n",
              "      <td>0</td>\n",
              "      <td>STON/O2. 3101282</td>\n",
              "      <td>7.9250</td>\n",
              "      <td>S</td>\n",
              "      <td>1</td>\n",
              "      <td>0</td>\n",
              "    </tr>\n",
              "    <tr>\n",
              "      <th>3</th>\n",
              "      <td>4</td>\n",
              "      <td>1</td>\n",
              "      <td>1</td>\n",
              "      <td>female</td>\n",
              "      <td>35.0</td>\n",
              "      <td>1</td>\n",
              "      <td>0</td>\n",
              "      <td>113803</td>\n",
              "      <td>53.1000</td>\n",
              "      <td>S</td>\n",
              "      <td>1</td>\n",
              "      <td>0</td>\n",
              "    </tr>\n",
              "    <tr>\n",
              "      <th>4</th>\n",
              "      <td>5</td>\n",
              "      <td>0</td>\n",
              "      <td>3</td>\n",
              "      <td>male</td>\n",
              "      <td>35.0</td>\n",
              "      <td>0</td>\n",
              "      <td>0</td>\n",
              "      <td>373450</td>\n",
              "      <td>8.0500</td>\n",
              "      <td>S</td>\n",
              "      <td>0</td>\n",
              "      <td>1</td>\n",
              "    </tr>\n",
              "  </tbody>\n",
              "</table>\n",
              "</div>"
            ],
            "text/plain": [
              "   PassengerId  Survived  Pclass  ... Embarked  Sex_female  Sex_male\n",
              "0            1         0       3  ...        S           0         1\n",
              "1            2         1       1  ...        C           1         0\n",
              "2            3         1       3  ...        S           1         0\n",
              "3            4         1       1  ...        S           1         0\n",
              "4            5         0       3  ...        S           0         1\n",
              "\n",
              "[5 rows x 12 columns]"
            ]
          },
          "metadata": {
            "tags": []
          },
          "execution_count": 34
        }
      ]
    },
    {
      "cell_type": "code",
      "metadata": {
        "id": "RKP3gpanAo4R",
        "colab_type": "code",
        "colab": {}
      },
      "source": [
        "X=pd.get_dummies(df['Embarked'], prefix='Embarked')"
      ],
      "execution_count": null,
      "outputs": []
    },
    {
      "cell_type": "code",
      "metadata": {
        "id": "Oy1txnuAAvKe",
        "colab_type": "code",
        "colab": {
          "base_uri": "https://localhost:8080/",
          "height": 232
        },
        "outputId": "10142d06-a3c8-482a-bbb0-b7a5cbc38ba0"
      },
      "source": [
        "df=pd.concat([df,X],axis=1)\n",
        "df.head()"
      ],
      "execution_count": null,
      "outputs": [
        {
          "output_type": "execute_result",
          "data": {
            "text/html": [
              "<div>\n",
              "<style scoped>\n",
              "    .dataframe tbody tr th:only-of-type {\n",
              "        vertical-align: middle;\n",
              "    }\n",
              "\n",
              "    .dataframe tbody tr th {\n",
              "        vertical-align: top;\n",
              "    }\n",
              "\n",
              "    .dataframe thead th {\n",
              "        text-align: right;\n",
              "    }\n",
              "</style>\n",
              "<table border=\"1\" class=\"dataframe\">\n",
              "  <thead>\n",
              "    <tr style=\"text-align: right;\">\n",
              "      <th></th>\n",
              "      <th>PassengerId</th>\n",
              "      <th>Survived</th>\n",
              "      <th>Pclass</th>\n",
              "      <th>Sex</th>\n",
              "      <th>Age</th>\n",
              "      <th>SibSp</th>\n",
              "      <th>Parch</th>\n",
              "      <th>Ticket</th>\n",
              "      <th>Fare</th>\n",
              "      <th>Embarked</th>\n",
              "      <th>Sex_female</th>\n",
              "      <th>Sex_male</th>\n",
              "      <th>Embarked_C</th>\n",
              "      <th>Embarked_Q</th>\n",
              "      <th>Embarked_S</th>\n",
              "    </tr>\n",
              "  </thead>\n",
              "  <tbody>\n",
              "    <tr>\n",
              "      <th>0</th>\n",
              "      <td>1</td>\n",
              "      <td>0</td>\n",
              "      <td>3</td>\n",
              "      <td>male</td>\n",
              "      <td>22.0</td>\n",
              "      <td>1</td>\n",
              "      <td>0</td>\n",
              "      <td>A/5 21171</td>\n",
              "      <td>7.2500</td>\n",
              "      <td>S</td>\n",
              "      <td>0</td>\n",
              "      <td>1</td>\n",
              "      <td>0</td>\n",
              "      <td>0</td>\n",
              "      <td>1</td>\n",
              "    </tr>\n",
              "    <tr>\n",
              "      <th>1</th>\n",
              "      <td>2</td>\n",
              "      <td>1</td>\n",
              "      <td>1</td>\n",
              "      <td>female</td>\n",
              "      <td>38.0</td>\n",
              "      <td>1</td>\n",
              "      <td>0</td>\n",
              "      <td>PC 17599</td>\n",
              "      <td>71.2833</td>\n",
              "      <td>C</td>\n",
              "      <td>1</td>\n",
              "      <td>0</td>\n",
              "      <td>1</td>\n",
              "      <td>0</td>\n",
              "      <td>0</td>\n",
              "    </tr>\n",
              "    <tr>\n",
              "      <th>2</th>\n",
              "      <td>3</td>\n",
              "      <td>1</td>\n",
              "      <td>3</td>\n",
              "      <td>female</td>\n",
              "      <td>26.0</td>\n",
              "      <td>0</td>\n",
              "      <td>0</td>\n",
              "      <td>STON/O2. 3101282</td>\n",
              "      <td>7.9250</td>\n",
              "      <td>S</td>\n",
              "      <td>1</td>\n",
              "      <td>0</td>\n",
              "      <td>0</td>\n",
              "      <td>0</td>\n",
              "      <td>1</td>\n",
              "    </tr>\n",
              "    <tr>\n",
              "      <th>3</th>\n",
              "      <td>4</td>\n",
              "      <td>1</td>\n",
              "      <td>1</td>\n",
              "      <td>female</td>\n",
              "      <td>35.0</td>\n",
              "      <td>1</td>\n",
              "      <td>0</td>\n",
              "      <td>113803</td>\n",
              "      <td>53.1000</td>\n",
              "      <td>S</td>\n",
              "      <td>1</td>\n",
              "      <td>0</td>\n",
              "      <td>0</td>\n",
              "      <td>0</td>\n",
              "      <td>1</td>\n",
              "    </tr>\n",
              "    <tr>\n",
              "      <th>4</th>\n",
              "      <td>5</td>\n",
              "      <td>0</td>\n",
              "      <td>3</td>\n",
              "      <td>male</td>\n",
              "      <td>35.0</td>\n",
              "      <td>0</td>\n",
              "      <td>0</td>\n",
              "      <td>373450</td>\n",
              "      <td>8.0500</td>\n",
              "      <td>S</td>\n",
              "      <td>0</td>\n",
              "      <td>1</td>\n",
              "      <td>0</td>\n",
              "      <td>0</td>\n",
              "      <td>1</td>\n",
              "    </tr>\n",
              "  </tbody>\n",
              "</table>\n",
              "</div>"
            ],
            "text/plain": [
              "   PassengerId  Survived  Pclass  ... Embarked_C  Embarked_Q  Embarked_S\n",
              "0            1         0       3  ...          0           0           1\n",
              "1            2         1       1  ...          1           0           0\n",
              "2            3         1       3  ...          0           0           1\n",
              "3            4         1       1  ...          0           0           1\n",
              "4            5         0       3  ...          0           0           1\n",
              "\n",
              "[5 rows x 15 columns]"
            ]
          },
          "metadata": {
            "tags": []
          },
          "execution_count": 36
        }
      ]
    },
    {
      "cell_type": "markdown",
      "metadata": {
        "id": "bg-GstAir6XS",
        "colab_type": "text"
      },
      "source": [
        "**Dropping the Original Categorical Columns**"
      ]
    },
    {
      "cell_type": "code",
      "metadata": {
        "id": "P_Qx3bS_AxZ2",
        "colab_type": "code",
        "colab": {}
      },
      "source": [
        "df=df.drop(['Sex','Embarked','Ticket'],axis=1)"
      ],
      "execution_count": null,
      "outputs": []
    },
    {
      "cell_type": "code",
      "metadata": {
        "id": "Ns_cMYy0A9Cn",
        "colab_type": "code",
        "colab": {
          "base_uri": "https://localhost:8080/",
          "height": 195
        },
        "outputId": "7687e599-6baa-458b-b8c4-7c644226bba3"
      },
      "source": [
        "df.head()"
      ],
      "execution_count": null,
      "outputs": [
        {
          "output_type": "execute_result",
          "data": {
            "text/html": [
              "<div>\n",
              "<style scoped>\n",
              "    .dataframe tbody tr th:only-of-type {\n",
              "        vertical-align: middle;\n",
              "    }\n",
              "\n",
              "    .dataframe tbody tr th {\n",
              "        vertical-align: top;\n",
              "    }\n",
              "\n",
              "    .dataframe thead th {\n",
              "        text-align: right;\n",
              "    }\n",
              "</style>\n",
              "<table border=\"1\" class=\"dataframe\">\n",
              "  <thead>\n",
              "    <tr style=\"text-align: right;\">\n",
              "      <th></th>\n",
              "      <th>PassengerId</th>\n",
              "      <th>Survived</th>\n",
              "      <th>Pclass</th>\n",
              "      <th>Age</th>\n",
              "      <th>SibSp</th>\n",
              "      <th>Parch</th>\n",
              "      <th>Fare</th>\n",
              "      <th>Sex_female</th>\n",
              "      <th>Sex_male</th>\n",
              "      <th>Embarked_C</th>\n",
              "      <th>Embarked_Q</th>\n",
              "      <th>Embarked_S</th>\n",
              "    </tr>\n",
              "  </thead>\n",
              "  <tbody>\n",
              "    <tr>\n",
              "      <th>0</th>\n",
              "      <td>1</td>\n",
              "      <td>0</td>\n",
              "      <td>3</td>\n",
              "      <td>22.0</td>\n",
              "      <td>1</td>\n",
              "      <td>0</td>\n",
              "      <td>7.2500</td>\n",
              "      <td>0</td>\n",
              "      <td>1</td>\n",
              "      <td>0</td>\n",
              "      <td>0</td>\n",
              "      <td>1</td>\n",
              "    </tr>\n",
              "    <tr>\n",
              "      <th>1</th>\n",
              "      <td>2</td>\n",
              "      <td>1</td>\n",
              "      <td>1</td>\n",
              "      <td>38.0</td>\n",
              "      <td>1</td>\n",
              "      <td>0</td>\n",
              "      <td>71.2833</td>\n",
              "      <td>1</td>\n",
              "      <td>0</td>\n",
              "      <td>1</td>\n",
              "      <td>0</td>\n",
              "      <td>0</td>\n",
              "    </tr>\n",
              "    <tr>\n",
              "      <th>2</th>\n",
              "      <td>3</td>\n",
              "      <td>1</td>\n",
              "      <td>3</td>\n",
              "      <td>26.0</td>\n",
              "      <td>0</td>\n",
              "      <td>0</td>\n",
              "      <td>7.9250</td>\n",
              "      <td>1</td>\n",
              "      <td>0</td>\n",
              "      <td>0</td>\n",
              "      <td>0</td>\n",
              "      <td>1</td>\n",
              "    </tr>\n",
              "    <tr>\n",
              "      <th>3</th>\n",
              "      <td>4</td>\n",
              "      <td>1</td>\n",
              "      <td>1</td>\n",
              "      <td>35.0</td>\n",
              "      <td>1</td>\n",
              "      <td>0</td>\n",
              "      <td>53.1000</td>\n",
              "      <td>1</td>\n",
              "      <td>0</td>\n",
              "      <td>0</td>\n",
              "      <td>0</td>\n",
              "      <td>1</td>\n",
              "    </tr>\n",
              "    <tr>\n",
              "      <th>4</th>\n",
              "      <td>5</td>\n",
              "      <td>0</td>\n",
              "      <td>3</td>\n",
              "      <td>35.0</td>\n",
              "      <td>0</td>\n",
              "      <td>0</td>\n",
              "      <td>8.0500</td>\n",
              "      <td>0</td>\n",
              "      <td>1</td>\n",
              "      <td>0</td>\n",
              "      <td>0</td>\n",
              "      <td>1</td>\n",
              "    </tr>\n",
              "  </tbody>\n",
              "</table>\n",
              "</div>"
            ],
            "text/plain": [
              "   PassengerId  Survived  Pclass  ...  Embarked_C  Embarked_Q  Embarked_S\n",
              "0            1         0       3  ...           0           0           1\n",
              "1            2         1       1  ...           1           0           0\n",
              "2            3         1       3  ...           0           0           1\n",
              "3            4         1       1  ...           0           0           1\n",
              "4            5         0       3  ...           0           0           1\n",
              "\n",
              "[5 rows x 12 columns]"
            ]
          },
          "metadata": {
            "tags": []
          },
          "execution_count": 38
        }
      ]
    },
    {
      "cell_type": "code",
      "metadata": {
        "id": "RUf4Xjx6BAN5",
        "colab_type": "code",
        "colab": {
          "base_uri": "https://localhost:8080/",
          "height": 302
        },
        "outputId": "42955717-56ea-4825-a302-ebea3accc7b9"
      },
      "source": [
        "import seaborn as sns\n",
        "sns.boxplot(df['Fare'])"
      ],
      "execution_count": null,
      "outputs": [
        {
          "output_type": "execute_result",
          "data": {
            "text/plain": [
              "<matplotlib.axes._subplots.AxesSubplot at 0x7f13649ad240>"
            ]
          },
          "metadata": {
            "tags": []
          },
          "execution_count": 39
        },
        {
          "output_type": "display_data",
          "data": {
            "image/png": "[encoded data removed]",
            "text/plain": [
              "<Figure size 432x288 with 1 Axes>"
            ]
          },
          "metadata": {
            "tags": []
          }
        }
      ]
    },
    {
      "cell_type": "code",
      "metadata": {
        "id": "n5Yt7WyzBFIY",
        "colab_type": "code",
        "colab": {
          "base_uri": "https://localhost:8080/",
          "height": 168
        },
        "outputId": "3d59269d-dfbd-4066-d069-a03a4db9b358"
      },
      "source": [
        "df['Fare'].describe()"
      ],
      "execution_count": null,
      "outputs": [
        {
          "output_type": "execute_result",
          "data": {
            "text/plain": [
              "count    891.000000\n",
              "mean      32.204208\n",
              "std       49.693429\n",
              "min        0.000000\n",
              "25%        7.910400\n",
              "50%       14.454200\n",
              "75%       31.000000\n",
              "max      512.329200\n",
              "Name: Fare, dtype: float64"
            ]
          },
          "metadata": {
            "tags": []
          },
          "execution_count": 40
        }
      ]
    },
    {
      "cell_type": "code",
      "metadata": {
        "id": "H6ps8v8eFfOe",
        "colab_type": "code",
        "colab": {
          "base_uri": "https://localhost:8080/",
          "height": 34
        },
        "outputId": "7a95a78c-74ec-4a28-8d46-674c3ca055ec"
      },
      "source": [
        "df.shape"
      ],
      "execution_count": null,
      "outputs": [
        {
          "output_type": "execute_result",
          "data": {
            "text/plain": [
              "(891, 12)"
            ]
          },
          "metadata": {
            "tags": []
          },
          "execution_count": 41
        }
      ]
    },
    {
      "cell_type": "code",
      "metadata": {
        "id": "TcWzV4u6FdUa",
        "colab_type": "code",
        "colab": {
          "base_uri": "https://localhost:8080/",
          "height": 369
        },
        "outputId": "80555715-6949-4e7e-cab4-d6364837d6ad"
      },
      "source": [
        "sns.boxplot(np.log(df['Fare']))"
      ],
      "execution_count": null,
      "outputs": [
        {
          "output_type": "stream",
          "text": [
            "/usr/local/lib/python3.6/dist-packages/pandas/core/series.py:679: RuntimeWarning:\n",
            "\n",
            "divide by zero encountered in log\n",
            "\n"
          ],
          "name": "stderr"
        },
        {
          "output_type": "execute_result",
          "data": {
            "text/plain": [
              "<matplotlib.axes._subplots.AxesSubplot at 0x7f1366334d30>"
            ]
          },
          "metadata": {
            "tags": []
          },
          "execution_count": 42
        },
        {
          "output_type": "display_data",
          "data": {
            "image/png": "[encoded data removed]",
            "text/plain": [
              "<Figure size 432x288 with 1 Axes>"
            ]
          },
          "metadata": {
            "tags": []
          }
        }
      ]
    },
    {
      "cell_type": "markdown",
      "metadata": {
        "id": "jAHhogs5sKNv",
        "colab_type": "text"
      },
      "source": [
        "KDE PLOT"
      ]
    },
    {
      "cell_type": "code",
      "metadata": {
        "id": "-6R1Gku1Jywt",
        "colab_type": "code",
        "colab": {
          "base_uri": "https://localhost:8080/",
          "height": 285
        },
        "outputId": "83522baa-f8d8-45b1-9701-001b3b4ecb8c"
      },
      "source": [
        "sns.kdeplot((df['Fare']))"
      ],
      "execution_count": null,
      "outputs": [
        {
          "output_type": "execute_result",
          "data": {
            "text/plain": [
              "<matplotlib.axes._subplots.AxesSubplot at 0x7f13648fbe10>"
            ]
          },
          "metadata": {
            "tags": []
          },
          "execution_count": 43
        },
        {
          "output_type": "display_data",
          "data": {
            "image/png": "[encoded data removed]",
            "text/plain": [
              "<Figure size 432x288 with 1 Axes>"
            ]
          },
          "metadata": {
            "tags": []
          }
        }
      ]
    },
    {
      "cell_type": "code",
      "metadata": {
        "id": "Rr-8WBgqLG5S",
        "colab_type": "code",
        "colab": {
          "base_uri": "https://localhost:8080/",
          "height": 195
        },
        "outputId": "9dee52ba-8f65-4074-bc70-0aba60e020e5"
      },
      "source": [
        "df.head()"
      ],
      "execution_count": null,
      "outputs": [
        {
          "output_type": "execute_result",
          "data": {
            "text/html": [
              "<div>\n",
              "<style scoped>\n",
              "    .dataframe tbody tr th:only-of-type {\n",
              "        vertical-align: middle;\n",
              "    }\n",
              "\n",
              "    .dataframe tbody tr th {\n",
              "        vertical-align: top;\n",
              "    }\n",
              "\n",
              "    .dataframe thead th {\n",
              "        text-align: right;\n",
              "    }\n",
              "</style>\n",
              "<table border=\"1\" class=\"dataframe\">\n",
              "  <thead>\n",
              "    <tr style=\"text-align: right;\">\n",
              "      <th></th>\n",
              "      <th>PassengerId</th>\n",
              "      <th>Survived</th>\n",
              "      <th>Pclass</th>\n",
              "      <th>Age</th>\n",
              "      <th>SibSp</th>\n",
              "      <th>Parch</th>\n",
              "      <th>Fare</th>\n",
              "      <th>Sex_female</th>\n",
              "      <th>Sex_male</th>\n",
              "      <th>Embarked_C</th>\n",
              "      <th>Embarked_Q</th>\n",
              "      <th>Embarked_S</th>\n",
              "    </tr>\n",
              "  </thead>\n",
              "  <tbody>\n",
              "    <tr>\n",
              "      <th>0</th>\n",
              "      <td>1</td>\n",
              "      <td>0</td>\n",
              "      <td>3</td>\n",
              "      <td>22.0</td>\n",
              "      <td>1</td>\n",
              "      <td>0</td>\n",
              "      <td>7.2500</td>\n",
              "      <td>0</td>\n",
              "      <td>1</td>\n",
              "      <td>0</td>\n",
              "      <td>0</td>\n",
              "      <td>1</td>\n",
              "    </tr>\n",
              "    <tr>\n",
              "      <th>1</th>\n",
              "      <td>2</td>\n",
              "      <td>1</td>\n",
              "      <td>1</td>\n",
              "      <td>38.0</td>\n",
              "      <td>1</td>\n",
              "      <td>0</td>\n",
              "      <td>71.2833</td>\n",
              "      <td>1</td>\n",
              "      <td>0</td>\n",
              "      <td>1</td>\n",
              "      <td>0</td>\n",
              "      <td>0</td>\n",
              "    </tr>\n",
              "    <tr>\n",
              "      <th>2</th>\n",
              "      <td>3</td>\n",
              "      <td>1</td>\n",
              "      <td>3</td>\n",
              "      <td>26.0</td>\n",
              "      <td>0</td>\n",
              "      <td>0</td>\n",
              "      <td>7.9250</td>\n",
              "      <td>1</td>\n",
              "      <td>0</td>\n",
              "      <td>0</td>\n",
              "      <td>0</td>\n",
              "      <td>1</td>\n",
              "    </tr>\n",
              "    <tr>\n",
              "      <th>3</th>\n",
              "      <td>4</td>\n",
              "      <td>1</td>\n",
              "      <td>1</td>\n",
              "      <td>35.0</td>\n",
              "      <td>1</td>\n",
              "      <td>0</td>\n",
              "      <td>53.1000</td>\n",
              "      <td>1</td>\n",
              "      <td>0</td>\n",
              "      <td>0</td>\n",
              "      <td>0</td>\n",
              "      <td>1</td>\n",
              "    </tr>\n",
              "    <tr>\n",
              "      <th>4</th>\n",
              "      <td>5</td>\n",
              "      <td>0</td>\n",
              "      <td>3</td>\n",
              "      <td>35.0</td>\n",
              "      <td>0</td>\n",
              "      <td>0</td>\n",
              "      <td>8.0500</td>\n",
              "      <td>0</td>\n",
              "      <td>1</td>\n",
              "      <td>0</td>\n",
              "      <td>0</td>\n",
              "      <td>1</td>\n",
              "    </tr>\n",
              "  </tbody>\n",
              "</table>\n",
              "</div>"
            ],
            "text/plain": [
              "   PassengerId  Survived  Pclass  ...  Embarked_C  Embarked_Q  Embarked_S\n",
              "0            1         0       3  ...           0           0           1\n",
              "1            2         1       1  ...           1           0           0\n",
              "2            3         1       3  ...           0           0           1\n",
              "3            4         1       1  ...           0           0           1\n",
              "4            5         0       3  ...           0           0           1\n",
              "\n",
              "[5 rows x 12 columns]"
            ]
          },
          "metadata": {
            "tags": []
          },
          "execution_count": 44
        }
      ]
    },
    {
      "cell_type": "code",
      "metadata": {
        "id": "6kZkcRQoDFSf",
        "colab_type": "code",
        "colab": {
          "base_uri": "https://localhost:8080/",
          "height": 402
        },
        "outputId": "787a4d01-f426-4df3-fe64-bd82220b2c97"
      },
      "source": [
        "df.corr()"
      ],
      "execution_count": null,
      "outputs": [
        {
          "output_type": "execute_result",
          "data": {
            "text/html": [
              "<div>\n",
              "<style scoped>\n",
              "    .dataframe tbody tr th:only-of-type {\n",
              "        vertical-align: middle;\n",
              "    }\n",
              "\n",
              "    .dataframe tbody tr th {\n",
              "        vertical-align: top;\n",
              "    }\n",
              "\n",
              "    .dataframe thead th {\n",
              "        text-align: right;\n",
              "    }\n",
              "</style>\n",
              "<table border=\"1\" class=\"dataframe\">\n",
              "  <thead>\n",
              "    <tr style=\"text-align: right;\">\n",
              "      <th></th>\n",
              "      <th>PassengerId</th>\n",
              "      <th>Survived</th>\n",
              "      <th>Pclass</th>\n",
              "      <th>Age</th>\n",
              "      <th>SibSp</th>\n",
              "      <th>Parch</th>\n",
              "      <th>Fare</th>\n",
              "      <th>Sex_female</th>\n",
              "      <th>Sex_male</th>\n",
              "      <th>Embarked_C</th>\n",
              "      <th>Embarked_Q</th>\n",
              "      <th>Embarked_S</th>\n",
              "    </tr>\n",
              "  </thead>\n",
              "  <tbody>\n",
              "    <tr>\n",
              "      <th>PassengerId</th>\n",
              "      <td>1.000000</td>\n",
              "      <td>-0.005007</td>\n",
              "      <td>-0.035144</td>\n",
              "      <td>0.021671</td>\n",
              "      <td>-0.057527</td>\n",
              "      <td>-0.001652</td>\n",
              "      <td>0.012658</td>\n",
              "      <td>-0.042939</td>\n",
              "      <td>0.042939</td>\n",
              "      <td>-0.005476</td>\n",
              "      <td>-0.027482</td>\n",
              "      <td>0.022148</td>\n",
              "    </tr>\n",
              "    <tr>\n",
              "      <th>Survived</th>\n",
              "      <td>-0.005007</td>\n",
              "      <td>1.000000</td>\n",
              "      <td>-0.338481</td>\n",
              "      <td>-0.055505</td>\n",
              "      <td>-0.035322</td>\n",
              "      <td>0.081629</td>\n",
              "      <td>0.257307</td>\n",
              "      <td>0.543351</td>\n",
              "      <td>-0.543351</td>\n",
              "      <td>0.171485</td>\n",
              "      <td>0.008660</td>\n",
              "      <td>-0.155660</td>\n",
              "    </tr>\n",
              "    <tr>\n",
              "      <th>Pclass</th>\n",
              "      <td>-0.035144</td>\n",
              "      <td>-0.338481</td>\n",
              "      <td>1.000000</td>\n",
              "      <td>-0.295367</td>\n",
              "      <td>0.083081</td>\n",
              "      <td>0.018443</td>\n",
              "      <td>-0.549500</td>\n",
              "      <td>-0.131900</td>\n",
              "      <td>0.131900</td>\n",
              "      <td>-0.247223</td>\n",
              "      <td>0.213504</td>\n",
              "      <td>0.081720</td>\n",
              "    </tr>\n",
              "    <tr>\n",
              "      <th>Age</th>\n",
              "      <td>0.021671</td>\n",
              "      <td>-0.055505</td>\n",
              "      <td>-0.295367</td>\n",
              "      <td>1.000000</td>\n",
              "      <td>-0.204810</td>\n",
              "      <td>-0.161386</td>\n",
              "      <td>0.085406</td>\n",
              "      <td>-0.061342</td>\n",
              "      <td>0.061342</td>\n",
              "      <td>0.018895</td>\n",
              "      <td>0.023072</td>\n",
              "      <td>-0.031117</td>\n",
              "    </tr>\n",
              "    <tr>\n",
              "      <th>SibSp</th>\n",
              "      <td>-0.057527</td>\n",
              "      <td>-0.035322</td>\n",
              "      <td>0.083081</td>\n",
              "      <td>-0.204810</td>\n",
              "      <td>1.000000</td>\n",
              "      <td>0.414838</td>\n",
              "      <td>0.159651</td>\n",
              "      <td>0.114631</td>\n",
              "      <td>-0.114631</td>\n",
              "      <td>-0.060751</td>\n",
              "      <td>-0.028085</td>\n",
              "      <td>0.070941</td>\n",
              "    </tr>\n",
              "    <tr>\n",
              "      <th>Parch</th>\n",
              "      <td>-0.001652</td>\n",
              "      <td>0.081629</td>\n",
              "      <td>0.018443</td>\n",
              "      <td>-0.161386</td>\n",
              "      <td>0.414838</td>\n",
              "      <td>1.000000</td>\n",
              "      <td>0.216225</td>\n",
              "      <td>0.245489</td>\n",
              "      <td>-0.245489</td>\n",
              "      <td>-0.012400</td>\n",
              "      <td>-0.082636</td>\n",
              "      <td>0.063036</td>\n",
              "    </tr>\n",
              "    <tr>\n",
              "      <th>Fare</th>\n",
              "      <td>0.012658</td>\n",
              "      <td>0.257307</td>\n",
              "      <td>-0.549500</td>\n",
              "      <td>0.085406</td>\n",
              "      <td>0.159651</td>\n",
              "      <td>0.216225</td>\n",
              "      <td>1.000000</td>\n",
              "      <td>0.182333</td>\n",
              "      <td>-0.182333</td>\n",
              "      <td>0.271478</td>\n",
              "      <td>-0.112712</td>\n",
              "      <td>-0.166603</td>\n",
              "    </tr>\n",
              "    <tr>\n",
              "      <th>Sex_female</th>\n",
              "      <td>-0.042939</td>\n",
              "      <td>0.543351</td>\n",
              "      <td>-0.131900</td>\n",
              "      <td>-0.061342</td>\n",
              "      <td>0.114631</td>\n",
              "      <td>0.245489</td>\n",
              "      <td>0.182333</td>\n",
              "      <td>1.000000</td>\n",
              "      <td>-1.000000</td>\n",
              "      <td>0.086546</td>\n",
              "      <td>0.079067</td>\n",
              "      <td>-0.125722</td>\n",
              "    </tr>\n",
              "    <tr>\n",
              "      <th>Sex_male</th>\n",
              "      <td>0.042939</td>\n",
              "      <td>-0.543351</td>\n",
              "      <td>0.131900</td>\n",
              "      <td>0.061342</td>\n",
              "      <td>-0.114631</td>\n",
              "      <td>-0.245489</td>\n",
              "      <td>-0.182333</td>\n",
              "      <td>-1.000000</td>\n",
              "      <td>1.000000</td>\n",
              "      <td>-0.086546</td>\n",
              "      <td>-0.079067</td>\n",
              "      <td>0.125722</td>\n",
              "    </tr>\n",
              "    <tr>\n",
              "      <th>Embarked_C</th>\n",
              "      <td>-0.005476</td>\n",
              "      <td>0.171485</td>\n",
              "      <td>-0.247223</td>\n",
              "      <td>0.018895</td>\n",
              "      <td>-0.060751</td>\n",
              "      <td>-0.012400</td>\n",
              "      <td>0.271478</td>\n",
              "      <td>0.086546</td>\n",
              "      <td>-0.086546</td>\n",
              "      <td>1.000000</td>\n",
              "      <td>-0.149857</td>\n",
              "      <td>-0.781213</td>\n",
              "    </tr>\n",
              "    <tr>\n",
              "      <th>Embarked_Q</th>\n",
              "      <td>-0.027482</td>\n",
              "      <td>0.008660</td>\n",
              "      <td>0.213504</td>\n",
              "      <td>0.023072</td>\n",
              "      <td>-0.028085</td>\n",
              "      <td>-0.082636</td>\n",
              "      <td>-0.112712</td>\n",
              "      <td>0.079067</td>\n",
              "      <td>-0.079067</td>\n",
              "      <td>-0.149857</td>\n",
              "      <td>1.000000</td>\n",
              "      <td>-0.500146</td>\n",
              "    </tr>\n",
              "    <tr>\n",
              "      <th>Embarked_S</th>\n",
              "      <td>0.022148</td>\n",
              "      <td>-0.155660</td>\n",
              "      <td>0.081720</td>\n",
              "      <td>-0.031117</td>\n",
              "      <td>0.070941</td>\n",
              "      <td>0.063036</td>\n",
              "      <td>-0.166603</td>\n",
              "      <td>-0.125722</td>\n",
              "      <td>0.125722</td>\n",
              "      <td>-0.781213</td>\n",
              "      <td>-0.500146</td>\n",
              "      <td>1.000000</td>\n",
              "    </tr>\n",
              "  </tbody>\n",
              "</table>\n",
              "</div>"
            ],
            "text/plain": [
              "             PassengerId  Survived  ...  Embarked_Q  Embarked_S\n",
              "PassengerId     1.000000 -0.005007  ...   -0.027482    0.022148\n",
              "Survived       -0.005007  1.000000  ...    0.008660   -0.155660\n",
              "Pclass         -0.035144 -0.338481  ...    0.213504    0.081720\n",
              "Age             0.021671 -0.055505  ...    0.023072   -0.031117\n",
              "SibSp          -0.057527 -0.035322  ...   -0.028085    0.070941\n",
              "Parch          -0.001652  0.081629  ...   -0.082636    0.063036\n",
              "Fare            0.012658  0.257307  ...   -0.112712   -0.166603\n",
              "Sex_female     -0.042939  0.543351  ...    0.079067   -0.125722\n",
              "Sex_male        0.042939 -0.543351  ...   -0.079067    0.125722\n",
              "Embarked_C     -0.005476  0.171485  ...   -0.149857   -0.781213\n",
              "Embarked_Q     -0.027482  0.008660  ...    1.000000   -0.500146\n",
              "Embarked_S      0.022148 -0.155660  ...   -0.500146    1.000000\n",
              "\n",
              "[12 rows x 12 columns]"
            ]
          },
          "metadata": {
            "tags": []
          },
          "execution_count": 45
        }
      ]
    },
    {
      "cell_type": "code",
      "metadata": {
        "id": "vOqQkRddWIGX",
        "colab_type": "code",
        "colab": {
          "base_uri": "https://localhost:8080/",
          "height": 195
        },
        "outputId": "52b6de90-3e70-40a9-b3a2-f4a2d747c2c9"
      },
      "source": [
        "df.head()"
      ],
      "execution_count": null,
      "outputs": [
        {
          "output_type": "execute_result",
          "data": {
            "text/html": [
              "<div>\n",
              "<style scoped>\n",
              "    .dataframe tbody tr th:only-of-type {\n",
              "        vertical-align: middle;\n",
              "    }\n",
              "\n",
              "    .dataframe tbody tr th {\n",
              "        vertical-align: top;\n",
              "    }\n",
              "\n",
              "    .dataframe thead th {\n",
              "        text-align: right;\n",
              "    }\n",
              "</style>\n",
              "<table border=\"1\" class=\"dataframe\">\n",
              "  <thead>\n",
              "    <tr style=\"text-align: right;\">\n",
              "      <th></th>\n",
              "      <th>PassengerId</th>\n",
              "      <th>Survived</th>\n",
              "      <th>Pclass</th>\n",
              "      <th>Age</th>\n",
              "      <th>SibSp</th>\n",
              "      <th>Parch</th>\n",
              "      <th>Fare</th>\n",
              "      <th>Sex_female</th>\n",
              "      <th>Sex_male</th>\n",
              "      <th>Embarked_C</th>\n",
              "      <th>Embarked_Q</th>\n",
              "      <th>Embarked_S</th>\n",
              "    </tr>\n",
              "  </thead>\n",
              "  <tbody>\n",
              "    <tr>\n",
              "      <th>0</th>\n",
              "      <td>1</td>\n",
              "      <td>0</td>\n",
              "      <td>3</td>\n",
              "      <td>22.0</td>\n",
              "      <td>1</td>\n",
              "      <td>0</td>\n",
              "      <td>7.2500</td>\n",
              "      <td>0</td>\n",
              "      <td>1</td>\n",
              "      <td>0</td>\n",
              "      <td>0</td>\n",
              "      <td>1</td>\n",
              "    </tr>\n",
              "    <tr>\n",
              "      <th>1</th>\n",
              "      <td>2</td>\n",
              "      <td>1</td>\n",
              "      <td>1</td>\n",
              "      <td>38.0</td>\n",
              "      <td>1</td>\n",
              "      <td>0</td>\n",
              "      <td>71.2833</td>\n",
              "      <td>1</td>\n",
              "      <td>0</td>\n",
              "      <td>1</td>\n",
              "      <td>0</td>\n",
              "      <td>0</td>\n",
              "    </tr>\n",
              "    <tr>\n",
              "      <th>2</th>\n",
              "      <td>3</td>\n",
              "      <td>1</td>\n",
              "      <td>3</td>\n",
              "      <td>26.0</td>\n",
              "      <td>0</td>\n",
              "      <td>0</td>\n",
              "      <td>7.9250</td>\n",
              "      <td>1</td>\n",
              "      <td>0</td>\n",
              "      <td>0</td>\n",
              "      <td>0</td>\n",
              "      <td>1</td>\n",
              "    </tr>\n",
              "    <tr>\n",
              "      <th>3</th>\n",
              "      <td>4</td>\n",
              "      <td>1</td>\n",
              "      <td>1</td>\n",
              "      <td>35.0</td>\n",
              "      <td>1</td>\n",
              "      <td>0</td>\n",
              "      <td>53.1000</td>\n",
              "      <td>1</td>\n",
              "      <td>0</td>\n",
              "      <td>0</td>\n",
              "      <td>0</td>\n",
              "      <td>1</td>\n",
              "    </tr>\n",
              "    <tr>\n",
              "      <th>4</th>\n",
              "      <td>5</td>\n",
              "      <td>0</td>\n",
              "      <td>3</td>\n",
              "      <td>35.0</td>\n",
              "      <td>0</td>\n",
              "      <td>0</td>\n",
              "      <td>8.0500</td>\n",
              "      <td>0</td>\n",
              "      <td>1</td>\n",
              "      <td>0</td>\n",
              "      <td>0</td>\n",
              "      <td>1</td>\n",
              "    </tr>\n",
              "  </tbody>\n",
              "</table>\n",
              "</div>"
            ],
            "text/plain": [
              "   PassengerId  Survived  Pclass  ...  Embarked_C  Embarked_Q  Embarked_S\n",
              "0            1         0       3  ...           0           0           1\n",
              "1            2         1       1  ...           1           0           0\n",
              "2            3         1       3  ...           0           0           1\n",
              "3            4         1       1  ...           0           0           1\n",
              "4            5         0       3  ...           0           0           1\n",
              "\n",
              "[5 rows x 12 columns]"
            ]
          },
          "metadata": {
            "tags": []
          },
          "execution_count": 46
        }
      ]
    },
    {
      "cell_type": "markdown",
      "metadata": {
        "id": "V_Sb-Tv2sMUu",
        "colab_type": "text"
      },
      "source": [
        "# Feature Scaling using MinMaxScaler"
      ]
    },
    {
      "cell_type": "code",
      "metadata": {
        "id": "FzFxvwC8LQUk",
        "colab_type": "code",
        "colab": {}
      },
      "source": [
        "sc=['Age','Fare']\n",
        "\n",
        "from sklearn.preprocessing import MinMaxScaler\n",
        "\n",
        "scaler = MinMaxScaler()\n",
        "\n",
        "df[sc]= scaler.fit_transform(df[sc])"
      ],
      "execution_count": null,
      "outputs": []
    },
    {
      "cell_type": "code",
      "metadata": {
        "id": "clDAtwGC5Vtn",
        "colab_type": "code",
        "colab": {}
      },
      "source": [
        "feature=df.drop(['PassengerId','Survived'],axis=1)\n",
        "target=df['Survived']\n"
      ],
      "execution_count": null,
      "outputs": []
    },
    {
      "cell_type": "code",
      "metadata": {
        "id": "ScfVeEotLQbU",
        "colab_type": "code",
        "colab": {
          "base_uri": "https://localhost:8080/",
          "height": 195
        },
        "outputId": "480f54bb-3f1f-4234-ceae-6777a7081df2"
      },
      "source": [
        "feature.head()"
      ],
      "execution_count": null,
      "outputs": [
        {
          "output_type": "execute_result",
          "data": {
            "text/html": [
              "<div>\n",
              "<style scoped>\n",
              "    .dataframe tbody tr th:only-of-type {\n",
              "        vertical-align: middle;\n",
              "    }\n",
              "\n",
              "    .dataframe tbody tr th {\n",
              "        vertical-align: top;\n",
              "    }\n",
              "\n",
              "    .dataframe thead th {\n",
              "        text-align: right;\n",
              "    }\n",
              "</style>\n",
              "<table border=\"1\" class=\"dataframe\">\n",
              "  <thead>\n",
              "    <tr style=\"text-align: right;\">\n",
              "      <th></th>\n",
              "      <th>Pclass</th>\n",
              "      <th>Age</th>\n",
              "      <th>SibSp</th>\n",
              "      <th>Parch</th>\n",
              "      <th>Fare</th>\n",
              "      <th>Sex_female</th>\n",
              "      <th>Sex_male</th>\n",
              "      <th>Embarked_C</th>\n",
              "      <th>Embarked_Q</th>\n",
              "      <th>Embarked_S</th>\n",
              "    </tr>\n",
              "  </thead>\n",
              "  <tbody>\n",
              "    <tr>\n",
              "      <th>0</th>\n",
              "      <td>3</td>\n",
              "      <td>0.271174</td>\n",
              "      <td>1</td>\n",
              "      <td>0</td>\n",
              "      <td>0.014151</td>\n",
              "      <td>0</td>\n",
              "      <td>1</td>\n",
              "      <td>0</td>\n",
              "      <td>0</td>\n",
              "      <td>1</td>\n",
              "    </tr>\n",
              "    <tr>\n",
              "      <th>1</th>\n",
              "      <td>1</td>\n",
              "      <td>0.472229</td>\n",
              "      <td>1</td>\n",
              "      <td>0</td>\n",
              "      <td>0.139136</td>\n",
              "      <td>1</td>\n",
              "      <td>0</td>\n",
              "      <td>1</td>\n",
              "      <td>0</td>\n",
              "      <td>0</td>\n",
              "    </tr>\n",
              "    <tr>\n",
              "      <th>2</th>\n",
              "      <td>3</td>\n",
              "      <td>0.321438</td>\n",
              "      <td>0</td>\n",
              "      <td>0</td>\n",
              "      <td>0.015469</td>\n",
              "      <td>1</td>\n",
              "      <td>0</td>\n",
              "      <td>0</td>\n",
              "      <td>0</td>\n",
              "      <td>1</td>\n",
              "    </tr>\n",
              "    <tr>\n",
              "      <th>3</th>\n",
              "      <td>1</td>\n",
              "      <td>0.434531</td>\n",
              "      <td>1</td>\n",
              "      <td>0</td>\n",
              "      <td>0.103644</td>\n",
              "      <td>1</td>\n",
              "      <td>0</td>\n",
              "      <td>0</td>\n",
              "      <td>0</td>\n",
              "      <td>1</td>\n",
              "    </tr>\n",
              "    <tr>\n",
              "      <th>4</th>\n",
              "      <td>3</td>\n",
              "      <td>0.434531</td>\n",
              "      <td>0</td>\n",
              "      <td>0</td>\n",
              "      <td>0.015713</td>\n",
              "      <td>0</td>\n",
              "      <td>1</td>\n",
              "      <td>0</td>\n",
              "      <td>0</td>\n",
              "      <td>1</td>\n",
              "    </tr>\n",
              "  </tbody>\n",
              "</table>\n",
              "</div>"
            ],
            "text/plain": [
              "   Pclass       Age  SibSp  Parch  ...  Sex_male  Embarked_C  Embarked_Q  Embarked_S\n",
              "0       3  0.271174      1      0  ...         1           0           0           1\n",
              "1       1  0.472229      1      0  ...         0           1           0           0\n",
              "2       3  0.321438      0      0  ...         0           0           0           1\n",
              "3       1  0.434531      1      0  ...         0           0           0           1\n",
              "4       3  0.434531      0      0  ...         1           0           0           1\n",
              "\n",
              "[5 rows x 10 columns]"
            ]
          },
          "metadata": {
            "tags": []
          },
          "execution_count": 49
        }
      ]
    },
    {
      "cell_type": "markdown",
      "metadata": {
        "id": "c--K11umKuf6",
        "colab_type": "text"
      },
      "source": [
        "# Now Working on TEST DATA"
      ]
    },
    {
      "cell_type": "markdown",
      "metadata": {
        "id": "o-mY4CFcsWhs",
        "colab_type": "text"
      },
      "source": [
        "Applying the same operations on Test Data"
      ]
    },
    {
      "cell_type": "code",
      "metadata": {
        "id": "EntsXcthDFW8",
        "colab_type": "code",
        "colab": {
          "base_uri": "https://localhost:8080/",
          "height": 195
        },
        "outputId": "b16c61c6-6537-4813-c55c-0fdf016c874b"
      },
      "source": [
        "ds.head()"
      ],
      "execution_count": null,
      "outputs": [
        {
          "output_type": "execute_result",
          "data": {
            "text/html": [
              "<div>\n",
              "<style scoped>\n",
              "    .dataframe tbody tr th:only-of-type {\n",
              "        vertical-align: middle;\n",
              "    }\n",
              "\n",
              "    .dataframe tbody tr th {\n",
              "        vertical-align: top;\n",
              "    }\n",
              "\n",
              "    .dataframe thead th {\n",
              "        text-align: right;\n",
              "    }\n",
              "</style>\n",
              "<table border=\"1\" class=\"dataframe\">\n",
              "  <thead>\n",
              "    <tr style=\"text-align: right;\">\n",
              "      <th></th>\n",
              "      <th>PassengerId</th>\n",
              "      <th>Pclass</th>\n",
              "      <th>Name</th>\n",
              "      <th>Sex</th>\n",
              "      <th>Age</th>\n",
              "      <th>SibSp</th>\n",
              "      <th>Parch</th>\n",
              "      <th>Ticket</th>\n",
              "      <th>Fare</th>\n",
              "      <th>Cabin</th>\n",
              "      <th>Embarked</th>\n",
              "    </tr>\n",
              "  </thead>\n",
              "  <tbody>\n",
              "    <tr>\n",
              "      <th>0</th>\n",
              "      <td>892</td>\n",
              "      <td>3</td>\n",
              "      <td>Kelly, Mr. James</td>\n",
              "      <td>male</td>\n",
              "      <td>34.5</td>\n",
              "      <td>0</td>\n",
              "      <td>0</td>\n",
              "      <td>330911</td>\n",
              "      <td>7.8292</td>\n",
              "      <td>NaN</td>\n",
              "      <td>Q</td>\n",
              "    </tr>\n",
              "    <tr>\n",
              "      <th>1</th>\n",
              "      <td>893</td>\n",
              "      <td>3</td>\n",
              "      <td>Wilkes, Mrs. James (Ellen Needs)</td>\n",
              "      <td>female</td>\n",
              "      <td>47.0</td>\n",
              "      <td>1</td>\n",
              "      <td>0</td>\n",
              "      <td>363272</td>\n",
              "      <td>7.0000</td>\n",
              "      <td>NaN</td>\n",
              "      <td>S</td>\n",
              "    </tr>\n",
              "    <tr>\n",
              "      <th>2</th>\n",
              "      <td>894</td>\n",
              "      <td>2</td>\n",
              "      <td>Myles, Mr. Thomas Francis</td>\n",
              "      <td>male</td>\n",
              "      <td>62.0</td>\n",
              "      <td>0</td>\n",
              "      <td>0</td>\n",
              "      <td>240276</td>\n",
              "      <td>9.6875</td>\n",
              "      <td>NaN</td>\n",
              "      <td>Q</td>\n",
              "    </tr>\n",
              "    <tr>\n",
              "      <th>3</th>\n",
              "      <td>895</td>\n",
              "      <td>3</td>\n",
              "      <td>Wirz, Mr. Albert</td>\n",
              "      <td>male</td>\n",
              "      <td>27.0</td>\n",
              "      <td>0</td>\n",
              "      <td>0</td>\n",
              "      <td>315154</td>\n",
              "      <td>8.6625</td>\n",
              "      <td>NaN</td>\n",
              "      <td>S</td>\n",
              "    </tr>\n",
              "    <tr>\n",
              "      <th>4</th>\n",
              "      <td>896</td>\n",
              "      <td>3</td>\n",
              "      <td>Hirvonen, Mrs. Alexander (Helga E Lindqvist)</td>\n",
              "      <td>female</td>\n",
              "      <td>22.0</td>\n",
              "      <td>1</td>\n",
              "      <td>1</td>\n",
              "      <td>3101298</td>\n",
              "      <td>12.2875</td>\n",
              "      <td>NaN</td>\n",
              "      <td>S</td>\n",
              "    </tr>\n",
              "  </tbody>\n",
              "</table>\n",
              "</div>"
            ],
            "text/plain": [
              "   PassengerId  Pclass  ... Cabin Embarked\n",
              "0          892       3  ...   NaN        Q\n",
              "1          893       3  ...   NaN        S\n",
              "2          894       2  ...   NaN        Q\n",
              "3          895       3  ...   NaN        S\n",
              "4          896       3  ...   NaN        S\n",
              "\n",
              "[5 rows x 11 columns]"
            ]
          },
          "metadata": {
            "tags": []
          },
          "execution_count": 50
        }
      ]
    },
    {
      "cell_type": "code",
      "metadata": {
        "id": "taGXqDRXDHHu",
        "colab_type": "code",
        "colab": {}
      },
      "source": [
        "ds=ds.drop(['Name','Cabin'],axis=1)"
      ],
      "execution_count": null,
      "outputs": []
    },
    {
      "cell_type": "code",
      "metadata": {
        "id": "KpUtgHm3DTAl",
        "colab_type": "code",
        "colab": {}
      },
      "source": [
        "ds['Embarked']=ds['Embarked'].fillna(method='ffill')\n",
        "ds['Age']=ds['Age'].fillna(method='ffill')\n"
      ],
      "execution_count": null,
      "outputs": []
    },
    {
      "cell_type": "code",
      "metadata": {
        "id": "X0w8zrbFDYC2",
        "colab_type": "code",
        "colab": {
          "base_uri": "https://localhost:8080/",
          "height": 195
        },
        "outputId": "051e5e60-5855-4da5-e00c-87984f8a350e"
      },
      "source": [
        "ds.head()"
      ],
      "execution_count": null,
      "outputs": [
        {
          "output_type": "execute_result",
          "data": {
            "text/html": [
              "<div>\n",
              "<style scoped>\n",
              "    .dataframe tbody tr th:only-of-type {\n",
              "        vertical-align: middle;\n",
              "    }\n",
              "\n",
              "    .dataframe tbody tr th {\n",
              "        vertical-align: top;\n",
              "    }\n",
              "\n",
              "    .dataframe thead th {\n",
              "        text-align: right;\n",
              "    }\n",
              "</style>\n",
              "<table border=\"1\" class=\"dataframe\">\n",
              "  <thead>\n",
              "    <tr style=\"text-align: right;\">\n",
              "      <th></th>\n",
              "      <th>PassengerId</th>\n",
              "      <th>Pclass</th>\n",
              "      <th>Sex</th>\n",
              "      <th>Age</th>\n",
              "      <th>SibSp</th>\n",
              "      <th>Parch</th>\n",
              "      <th>Ticket</th>\n",
              "      <th>Fare</th>\n",
              "      <th>Embarked</th>\n",
              "    </tr>\n",
              "  </thead>\n",
              "  <tbody>\n",
              "    <tr>\n",
              "      <th>0</th>\n",
              "      <td>892</td>\n",
              "      <td>3</td>\n",
              "      <td>male</td>\n",
              "      <td>34.5</td>\n",
              "      <td>0</td>\n",
              "      <td>0</td>\n",
              "      <td>330911</td>\n",
              "      <td>7.8292</td>\n",
              "      <td>Q</td>\n",
              "    </tr>\n",
              "    <tr>\n",
              "      <th>1</th>\n",
              "      <td>893</td>\n",
              "      <td>3</td>\n",
              "      <td>female</td>\n",
              "      <td>47.0</td>\n",
              "      <td>1</td>\n",
              "      <td>0</td>\n",
              "      <td>363272</td>\n",
              "      <td>7.0000</td>\n",
              "      <td>S</td>\n",
              "    </tr>\n",
              "    <tr>\n",
              "      <th>2</th>\n",
              "      <td>894</td>\n",
              "      <td>2</td>\n",
              "      <td>male</td>\n",
              "      <td>62.0</td>\n",
              "      <td>0</td>\n",
              "      <td>0</td>\n",
              "      <td>240276</td>\n",
              "      <td>9.6875</td>\n",
              "      <td>Q</td>\n",
              "    </tr>\n",
              "    <tr>\n",
              "      <th>3</th>\n",
              "      <td>895</td>\n",
              "      <td>3</td>\n",
              "      <td>male</td>\n",
              "      <td>27.0</td>\n",
              "      <td>0</td>\n",
              "      <td>0</td>\n",
              "      <td>315154</td>\n",
              "      <td>8.6625</td>\n",
              "      <td>S</td>\n",
              "    </tr>\n",
              "    <tr>\n",
              "      <th>4</th>\n",
              "      <td>896</td>\n",
              "      <td>3</td>\n",
              "      <td>female</td>\n",
              "      <td>22.0</td>\n",
              "      <td>1</td>\n",
              "      <td>1</td>\n",
              "      <td>3101298</td>\n",
              "      <td>12.2875</td>\n",
              "      <td>S</td>\n",
              "    </tr>\n",
              "  </tbody>\n",
              "</table>\n",
              "</div>"
            ],
            "text/plain": [
              "   PassengerId  Pclass     Sex   Age  SibSp  Parch   Ticket     Fare Embarked\n",
              "0          892       3    male  34.5      0      0   330911   7.8292        Q\n",
              "1          893       3  female  47.0      1      0   363272   7.0000        S\n",
              "2          894       2    male  62.0      0      0   240276   9.6875        Q\n",
              "3          895       3    male  27.0      0      0   315154   8.6625        S\n",
              "4          896       3  female  22.0      1      1  3101298  12.2875        S"
            ]
          },
          "metadata": {
            "tags": []
          },
          "execution_count": 53
        }
      ]
    },
    {
      "cell_type": "code",
      "metadata": {
        "id": "K3JPaEiZDfaw",
        "colab_type": "code",
        "colab": {}
      },
      "source": [
        "X=pd.get_dummies(ds['Sex'], prefix='Sex')\n",
        "ds=pd.concat([ds,X],axis=1)"
      ],
      "execution_count": null,
      "outputs": []
    },
    {
      "cell_type": "code",
      "metadata": {
        "id": "Dv9Dyj6cDpdf",
        "colab_type": "code",
        "colab": {}
      },
      "source": [
        "X=pd.get_dummies(ds['Embarked'], prefix='Embarked')\n",
        "ds=pd.concat([ds,X],axis=1)"
      ],
      "execution_count": null,
      "outputs": []
    },
    {
      "cell_type": "code",
      "metadata": {
        "id": "1fGtaRCuDtG3",
        "colab_type": "code",
        "colab": {
          "base_uri": "https://localhost:8080/",
          "height": 195
        },
        "outputId": "fc880743-9f3c-46bd-e2be-1484685880aa"
      },
      "source": [
        "ds.head()"
      ],
      "execution_count": null,
      "outputs": [
        {
          "output_type": "execute_result",
          "data": {
            "text/html": [
              "<div>\n",
              "<style scoped>\n",
              "    .dataframe tbody tr th:only-of-type {\n",
              "        vertical-align: middle;\n",
              "    }\n",
              "\n",
              "    .dataframe tbody tr th {\n",
              "        vertical-align: top;\n",
              "    }\n",
              "\n",
              "    .dataframe thead th {\n",
              "        text-align: right;\n",
              "    }\n",
              "</style>\n",
              "<table border=\"1\" class=\"dataframe\">\n",
              "  <thead>\n",
              "    <tr style=\"text-align: right;\">\n",
              "      <th></th>\n",
              "      <th>PassengerId</th>\n",
              "      <th>Pclass</th>\n",
              "      <th>Sex</th>\n",
              "      <th>Age</th>\n",
              "      <th>SibSp</th>\n",
              "      <th>Parch</th>\n",
              "      <th>Ticket</th>\n",
              "      <th>Fare</th>\n",
              "      <th>Embarked</th>\n",
              "      <th>Sex_female</th>\n",
              "      <th>Sex_male</th>\n",
              "      <th>Embarked_C</th>\n",
              "      <th>Embarked_Q</th>\n",
              "      <th>Embarked_S</th>\n",
              "    </tr>\n",
              "  </thead>\n",
              "  <tbody>\n",
              "    <tr>\n",
              "      <th>0</th>\n",
              "      <td>892</td>\n",
              "      <td>3</td>\n",
              "      <td>male</td>\n",
              "      <td>34.5</td>\n",
              "      <td>0</td>\n",
              "      <td>0</td>\n",
              "      <td>330911</td>\n",
              "      <td>7.8292</td>\n",
              "      <td>Q</td>\n",
              "      <td>0</td>\n",
              "      <td>1</td>\n",
              "      <td>0</td>\n",
              "      <td>1</td>\n",
              "      <td>0</td>\n",
              "    </tr>\n",
              "    <tr>\n",
              "      <th>1</th>\n",
              "      <td>893</td>\n",
              "      <td>3</td>\n",
              "      <td>female</td>\n",
              "      <td>47.0</td>\n",
              "      <td>1</td>\n",
              "      <td>0</td>\n",
              "      <td>363272</td>\n",
              "      <td>7.0000</td>\n",
              "      <td>S</td>\n",
              "      <td>1</td>\n",
              "      <td>0</td>\n",
              "      <td>0</td>\n",
              "      <td>0</td>\n",
              "      <td>1</td>\n",
              "    </tr>\n",
              "    <tr>\n",
              "      <th>2</th>\n",
              "      <td>894</td>\n",
              "      <td>2</td>\n",
              "      <td>male</td>\n",
              "      <td>62.0</td>\n",
              "      <td>0</td>\n",
              "      <td>0</td>\n",
              "      <td>240276</td>\n",
              "      <td>9.6875</td>\n",
              "      <td>Q</td>\n",
              "      <td>0</td>\n",
              "      <td>1</td>\n",
              "      <td>0</td>\n",
              "      <td>1</td>\n",
              "      <td>0</td>\n",
              "    </tr>\n",
              "    <tr>\n",
              "      <th>3</th>\n",
              "      <td>895</td>\n",
              "      <td>3</td>\n",
              "      <td>male</td>\n",
              "      <td>27.0</td>\n",
              "      <td>0</td>\n",
              "      <td>0</td>\n",
              "      <td>315154</td>\n",
              "      <td>8.6625</td>\n",
              "      <td>S</td>\n",
              "      <td>0</td>\n",
              "      <td>1</td>\n",
              "      <td>0</td>\n",
              "      <td>0</td>\n",
              "      <td>1</td>\n",
              "    </tr>\n",
              "    <tr>\n",
              "      <th>4</th>\n",
              "      <td>896</td>\n",
              "      <td>3</td>\n",
              "      <td>female</td>\n",
              "      <td>22.0</td>\n",
              "      <td>1</td>\n",
              "      <td>1</td>\n",
              "      <td>3101298</td>\n",
              "      <td>12.2875</td>\n",
              "      <td>S</td>\n",
              "      <td>1</td>\n",
              "      <td>0</td>\n",
              "      <td>0</td>\n",
              "      <td>0</td>\n",
              "      <td>1</td>\n",
              "    </tr>\n",
              "  </tbody>\n",
              "</table>\n",
              "</div>"
            ],
            "text/plain": [
              "   PassengerId  Pclass     Sex  ...  Embarked_C  Embarked_Q  Embarked_S\n",
              "0          892       3    male  ...           0           1           0\n",
              "1          893       3  female  ...           0           0           1\n",
              "2          894       2    male  ...           0           1           0\n",
              "3          895       3    male  ...           0           0           1\n",
              "4          896       3  female  ...           0           0           1\n",
              "\n",
              "[5 rows x 14 columns]"
            ]
          },
          "metadata": {
            "tags": []
          },
          "execution_count": 56
        }
      ]
    },
    {
      "cell_type": "code",
      "metadata": {
        "id": "rysx82FuD_bV",
        "colab_type": "code",
        "colab": {}
      },
      "source": [
        "ds=ds.drop(['Sex','Embarked','Ticket'],axis=1)"
      ],
      "execution_count": null,
      "outputs": []
    },
    {
      "cell_type": "code",
      "metadata": {
        "id": "OB7Ke5HVED5n",
        "colab_type": "code",
        "colab": {
          "base_uri": "https://localhost:8080/",
          "height": 195
        },
        "outputId": "8d8ccd50-8072-49f0-8828-f35a27bba43c"
      },
      "source": [
        "ds.head()"
      ],
      "execution_count": null,
      "outputs": [
        {
          "output_type": "execute_result",
          "data": {
            "text/html": [
              "<div>\n",
              "<style scoped>\n",
              "    .dataframe tbody tr th:only-of-type {\n",
              "        vertical-align: middle;\n",
              "    }\n",
              "\n",
              "    .dataframe tbody tr th {\n",
              "        vertical-align: top;\n",
              "    }\n",
              "\n",
              "    .dataframe thead th {\n",
              "        text-align: right;\n",
              "    }\n",
              "</style>\n",
              "<table border=\"1\" class=\"dataframe\">\n",
              "  <thead>\n",
              "    <tr style=\"text-align: right;\">\n",
              "      <th></th>\n",
              "      <th>PassengerId</th>\n",
              "      <th>Pclass</th>\n",
              "      <th>Age</th>\n",
              "      <th>SibSp</th>\n",
              "      <th>Parch</th>\n",
              "      <th>Fare</th>\n",
              "      <th>Sex_female</th>\n",
              "      <th>Sex_male</th>\n",
              "      <th>Embarked_C</th>\n",
              "      <th>Embarked_Q</th>\n",
              "      <th>Embarked_S</th>\n",
              "    </tr>\n",
              "  </thead>\n",
              "  <tbody>\n",
              "    <tr>\n",
              "      <th>0</th>\n",
              "      <td>892</td>\n",
              "      <td>3</td>\n",
              "      <td>34.5</td>\n",
              "      <td>0</td>\n",
              "      <td>0</td>\n",
              "      <td>7.8292</td>\n",
              "      <td>0</td>\n",
              "      <td>1</td>\n",
              "      <td>0</td>\n",
              "      <td>1</td>\n",
              "      <td>0</td>\n",
              "    </tr>\n",
              "    <tr>\n",
              "      <th>1</th>\n",
              "      <td>893</td>\n",
              "      <td>3</td>\n",
              "      <td>47.0</td>\n",
              "      <td>1</td>\n",
              "      <td>0</td>\n",
              "      <td>7.0000</td>\n",
              "      <td>1</td>\n",
              "      <td>0</td>\n",
              "      <td>0</td>\n",
              "      <td>0</td>\n",
              "      <td>1</td>\n",
              "    </tr>\n",
              "    <tr>\n",
              "      <th>2</th>\n",
              "      <td>894</td>\n",
              "      <td>2</td>\n",
              "      <td>62.0</td>\n",
              "      <td>0</td>\n",
              "      <td>0</td>\n",
              "      <td>9.6875</td>\n",
              "      <td>0</td>\n",
              "      <td>1</td>\n",
              "      <td>0</td>\n",
              "      <td>1</td>\n",
              "      <td>0</td>\n",
              "    </tr>\n",
              "    <tr>\n",
              "      <th>3</th>\n",
              "      <td>895</td>\n",
              "      <td>3</td>\n",
              "      <td>27.0</td>\n",
              "      <td>0</td>\n",
              "      <td>0</td>\n",
              "      <td>8.6625</td>\n",
              "      <td>0</td>\n",
              "      <td>1</td>\n",
              "      <td>0</td>\n",
              "      <td>0</td>\n",
              "      <td>1</td>\n",
              "    </tr>\n",
              "    <tr>\n",
              "      <th>4</th>\n",
              "      <td>896</td>\n",
              "      <td>3</td>\n",
              "      <td>22.0</td>\n",
              "      <td>1</td>\n",
              "      <td>1</td>\n",
              "      <td>12.2875</td>\n",
              "      <td>1</td>\n",
              "      <td>0</td>\n",
              "      <td>0</td>\n",
              "      <td>0</td>\n",
              "      <td>1</td>\n",
              "    </tr>\n",
              "  </tbody>\n",
              "</table>\n",
              "</div>"
            ],
            "text/plain": [
              "   PassengerId  Pclass   Age  ...  Embarked_C  Embarked_Q  Embarked_S\n",
              "0          892       3  34.5  ...           0           1           0\n",
              "1          893       3  47.0  ...           0           0           1\n",
              "2          894       2  62.0  ...           0           1           0\n",
              "3          895       3  27.0  ...           0           0           1\n",
              "4          896       3  22.0  ...           0           0           1\n",
              "\n",
              "[5 rows x 11 columns]"
            ]
          },
          "metadata": {
            "tags": []
          },
          "execution_count": 58
        }
      ]
    },
    {
      "cell_type": "code",
      "metadata": {
        "id": "g5ZaIbpzEE93",
        "colab_type": "code",
        "colab": {
          "base_uri": "https://localhost:8080/",
          "height": 369
        },
        "outputId": "57dda2ad-4fac-473c-abaf-d0b4a478a05e"
      },
      "source": [
        "sns.boxplot(np.log(ds['Fare']))"
      ],
      "execution_count": null,
      "outputs": [
        {
          "output_type": "stream",
          "text": [
            "/usr/local/lib/python3.6/dist-packages/pandas/core/series.py:679: RuntimeWarning:\n",
            "\n",
            "divide by zero encountered in log\n",
            "\n"
          ],
          "name": "stderr"
        },
        {
          "output_type": "execute_result",
          "data": {
            "text/plain": [
              "<matplotlib.axes._subplots.AxesSubplot at 0x7f13648b9908>"
            ]
          },
          "metadata": {
            "tags": []
          },
          "execution_count": 59
        },
        {
          "output_type": "display_data",
          "data": {
            "image/png": "[encoded data removed]",
            "text/plain": [
              "<Figure size 432x288 with 1 Axes>"
            ]
          },
          "metadata": {
            "tags": []
          }
        }
      ]
    },
    {
      "cell_type": "code",
      "metadata": {
        "id": "6UKxzc5tFVKd",
        "colab_type": "code",
        "colab": {
          "base_uri": "https://localhost:8080/",
          "height": 34
        },
        "outputId": "1adcf5e3-17c9-4c25-fd65-10ad1cd43dac"
      },
      "source": [
        "ds.shape"
      ],
      "execution_count": null,
      "outputs": [
        {
          "output_type": "execute_result",
          "data": {
            "text/plain": [
              "(418, 11)"
            ]
          },
          "metadata": {
            "tags": []
          },
          "execution_count": 60
        }
      ]
    },
    {
      "cell_type": "code",
      "metadata": {
        "id": "biXXZTSDMXbS",
        "colab_type": "code",
        "colab": {
          "base_uri": "https://localhost:8080/",
          "height": 195
        },
        "outputId": "9257d39f-2be4-44d5-9f80-39aeda54135c"
      },
      "source": [
        "ds.head()"
      ],
      "execution_count": null,
      "outputs": [
        {
          "output_type": "execute_result",
          "data": {
            "text/html": [
              "<div>\n",
              "<style scoped>\n",
              "    .dataframe tbody tr th:only-of-type {\n",
              "        vertical-align: middle;\n",
              "    }\n",
              "\n",
              "    .dataframe tbody tr th {\n",
              "        vertical-align: top;\n",
              "    }\n",
              "\n",
              "    .dataframe thead th {\n",
              "        text-align: right;\n",
              "    }\n",
              "</style>\n",
              "<table border=\"1\" class=\"dataframe\">\n",
              "  <thead>\n",
              "    <tr style=\"text-align: right;\">\n",
              "      <th></th>\n",
              "      <th>PassengerId</th>\n",
              "      <th>Pclass</th>\n",
              "      <th>Age</th>\n",
              "      <th>SibSp</th>\n",
              "      <th>Parch</th>\n",
              "      <th>Fare</th>\n",
              "      <th>Sex_female</th>\n",
              "      <th>Sex_male</th>\n",
              "      <th>Embarked_C</th>\n",
              "      <th>Embarked_Q</th>\n",
              "      <th>Embarked_S</th>\n",
              "    </tr>\n",
              "  </thead>\n",
              "  <tbody>\n",
              "    <tr>\n",
              "      <th>0</th>\n",
              "      <td>892</td>\n",
              "      <td>3</td>\n",
              "      <td>34.5</td>\n",
              "      <td>0</td>\n",
              "      <td>0</td>\n",
              "      <td>7.8292</td>\n",
              "      <td>0</td>\n",
              "      <td>1</td>\n",
              "      <td>0</td>\n",
              "      <td>1</td>\n",
              "      <td>0</td>\n",
              "    </tr>\n",
              "    <tr>\n",
              "      <th>1</th>\n",
              "      <td>893</td>\n",
              "      <td>3</td>\n",
              "      <td>47.0</td>\n",
              "      <td>1</td>\n",
              "      <td>0</td>\n",
              "      <td>7.0000</td>\n",
              "      <td>1</td>\n",
              "      <td>0</td>\n",
              "      <td>0</td>\n",
              "      <td>0</td>\n",
              "      <td>1</td>\n",
              "    </tr>\n",
              "    <tr>\n",
              "      <th>2</th>\n",
              "      <td>894</td>\n",
              "      <td>2</td>\n",
              "      <td>62.0</td>\n",
              "      <td>0</td>\n",
              "      <td>0</td>\n",
              "      <td>9.6875</td>\n",
              "      <td>0</td>\n",
              "      <td>1</td>\n",
              "      <td>0</td>\n",
              "      <td>1</td>\n",
              "      <td>0</td>\n",
              "    </tr>\n",
              "    <tr>\n",
              "      <th>3</th>\n",
              "      <td>895</td>\n",
              "      <td>3</td>\n",
              "      <td>27.0</td>\n",
              "      <td>0</td>\n",
              "      <td>0</td>\n",
              "      <td>8.6625</td>\n",
              "      <td>0</td>\n",
              "      <td>1</td>\n",
              "      <td>0</td>\n",
              "      <td>0</td>\n",
              "      <td>1</td>\n",
              "    </tr>\n",
              "    <tr>\n",
              "      <th>4</th>\n",
              "      <td>896</td>\n",
              "      <td>3</td>\n",
              "      <td>22.0</td>\n",
              "      <td>1</td>\n",
              "      <td>1</td>\n",
              "      <td>12.2875</td>\n",
              "      <td>1</td>\n",
              "      <td>0</td>\n",
              "      <td>0</td>\n",
              "      <td>0</td>\n",
              "      <td>1</td>\n",
              "    </tr>\n",
              "  </tbody>\n",
              "</table>\n",
              "</div>"
            ],
            "text/plain": [
              "   PassengerId  Pclass   Age  ...  Embarked_C  Embarked_Q  Embarked_S\n",
              "0          892       3  34.5  ...           0           1           0\n",
              "1          893       3  47.0  ...           0           0           1\n",
              "2          894       2  62.0  ...           0           1           0\n",
              "3          895       3  27.0  ...           0           0           1\n",
              "4          896       3  22.0  ...           0           0           1\n",
              "\n",
              "[5 rows x 11 columns]"
            ]
          },
          "metadata": {
            "tags": []
          },
          "execution_count": 61
        }
      ]
    },
    {
      "cell_type": "code",
      "metadata": {
        "id": "8cGZdikYWkiX",
        "colab_type": "code",
        "colab": {}
      },
      "source": [
        "from sklearn.preprocessing import StandardScaler\n",
        "\n",
        "scaler = MinMaxScaler()\n",
        "\n",
        "ds[sc]= scaler.fit_transform(ds[sc])\n"
      ],
      "execution_count": null,
      "outputs": []
    },
    {
      "cell_type": "code",
      "metadata": {
        "id": "0FnXunYWXdLS",
        "colab_type": "code",
        "colab": {
          "base_uri": "https://localhost:8080/",
          "height": 195
        },
        "outputId": "940e211e-3010-4d8f-a81a-5d202b4836b6"
      },
      "source": [
        "ds.head()"
      ],
      "execution_count": null,
      "outputs": [
        {
          "output_type": "execute_result",
          "data": {
            "text/html": [
              "<div>\n",
              "<style scoped>\n",
              "    .dataframe tbody tr th:only-of-type {\n",
              "        vertical-align: middle;\n",
              "    }\n",
              "\n",
              "    .dataframe tbody tr th {\n",
              "        vertical-align: top;\n",
              "    }\n",
              "\n",
              "    .dataframe thead th {\n",
              "        text-align: right;\n",
              "    }\n",
              "</style>\n",
              "<table border=\"1\" class=\"dataframe\">\n",
              "  <thead>\n",
              "    <tr style=\"text-align: right;\">\n",
              "      <th></th>\n",
              "      <th>PassengerId</th>\n",
              "      <th>Pclass</th>\n",
              "      <th>Age</th>\n",
              "      <th>SibSp</th>\n",
              "      <th>Parch</th>\n",
              "      <th>Fare</th>\n",
              "      <th>Sex_female</th>\n",
              "      <th>Sex_male</th>\n",
              "      <th>Embarked_C</th>\n",
              "      <th>Embarked_Q</th>\n",
              "      <th>Embarked_S</th>\n",
              "    </tr>\n",
              "  </thead>\n",
              "  <tbody>\n",
              "    <tr>\n",
              "      <th>0</th>\n",
              "      <td>892</td>\n",
              "      <td>3</td>\n",
              "      <td>0.452723</td>\n",
              "      <td>0</td>\n",
              "      <td>0</td>\n",
              "      <td>0.015282</td>\n",
              "      <td>0</td>\n",
              "      <td>1</td>\n",
              "      <td>0</td>\n",
              "      <td>1</td>\n",
              "      <td>0</td>\n",
              "    </tr>\n",
              "    <tr>\n",
              "      <th>1</th>\n",
              "      <td>893</td>\n",
              "      <td>3</td>\n",
              "      <td>0.617566</td>\n",
              "      <td>1</td>\n",
              "      <td>0</td>\n",
              "      <td>0.013663</td>\n",
              "      <td>1</td>\n",
              "      <td>0</td>\n",
              "      <td>0</td>\n",
              "      <td>0</td>\n",
              "      <td>1</td>\n",
              "    </tr>\n",
              "    <tr>\n",
              "      <th>2</th>\n",
              "      <td>894</td>\n",
              "      <td>2</td>\n",
              "      <td>0.815377</td>\n",
              "      <td>0</td>\n",
              "      <td>0</td>\n",
              "      <td>0.018909</td>\n",
              "      <td>0</td>\n",
              "      <td>1</td>\n",
              "      <td>0</td>\n",
              "      <td>1</td>\n",
              "      <td>0</td>\n",
              "    </tr>\n",
              "    <tr>\n",
              "      <th>3</th>\n",
              "      <td>895</td>\n",
              "      <td>3</td>\n",
              "      <td>0.353818</td>\n",
              "      <td>0</td>\n",
              "      <td>0</td>\n",
              "      <td>0.016908</td>\n",
              "      <td>0</td>\n",
              "      <td>1</td>\n",
              "      <td>0</td>\n",
              "      <td>0</td>\n",
              "      <td>1</td>\n",
              "    </tr>\n",
              "    <tr>\n",
              "      <th>4</th>\n",
              "      <td>896</td>\n",
              "      <td>3</td>\n",
              "      <td>0.287881</td>\n",
              "      <td>1</td>\n",
              "      <td>1</td>\n",
              "      <td>0.023984</td>\n",
              "      <td>1</td>\n",
              "      <td>0</td>\n",
              "      <td>0</td>\n",
              "      <td>0</td>\n",
              "      <td>1</td>\n",
              "    </tr>\n",
              "  </tbody>\n",
              "</table>\n",
              "</div>"
            ],
            "text/plain": [
              "   PassengerId  Pclass       Age  ...  Embarked_C  Embarked_Q  Embarked_S\n",
              "0          892       3  0.452723  ...           0           1           0\n",
              "1          893       3  0.617566  ...           0           0           1\n",
              "2          894       2  0.815377  ...           0           1           0\n",
              "3          895       3  0.353818  ...           0           0           1\n",
              "4          896       3  0.287881  ...           0           0           1\n",
              "\n",
              "[5 rows x 11 columns]"
            ]
          },
          "metadata": {
            "tags": []
          },
          "execution_count": 63
        }
      ]
    },
    {
      "cell_type": "markdown",
      "metadata": {
        "id": "AFTaNW6JMvF3",
        "colab_type": "text"
      },
      "source": [
        "# Model Building"
      ]
    },
    {
      "cell_type": "code",
      "metadata": {
        "id": "sVwxMYiZMypo",
        "colab_type": "code",
        "colab": {}
      },
      "source": [
        "from sklearn.preprocessing import StandardScaler\n",
        "from sklearn.model_selection import train_test_split\n",
        "from sklearn.metrics import classification_report,confusion_matrix\n",
        "from sklearn.linear_model import LogisticRegression\n",
        "from sklearn import svm\n",
        "from sklearn import tree\n",
        "from sklearn.ensemble import RandomForestClassifier\n",
        "\n",
        "X_Train, X_Test, Y_Train, Y_Test = train_test_split(feature, target, test_size = 0.20, random_state = 50) #train.csv"
      ],
      "execution_count": null,
      "outputs": []
    },
    {
      "cell_type": "markdown",
      "metadata": {
        "id": "8TUS_A94su_7",
        "colab_type": "text"
      },
      "source": [
        "**Random Forest Classifier**"
      ]
    },
    {
      "cell_type": "code",
      "metadata": {
        "id": "-SHILOs_Moir",
        "colab_type": "code",
        "colab": {
          "base_uri": "https://localhost:8080/",
          "height": 218
        },
        "outputId": "78adf1c5-a5f7-47aa-f614-0d6d744ff3d1"
      },
      "source": [
        "start = time.process_time()\n",
        "trainedforest = RandomForestClassifier(n_estimators=100).fit(X_Train,Y_Train)\n",
        "print(time.process_time() - start)\n",
        "predictionforest = trainedforest.predict(X_Test)\n",
        "print(confusion_matrix(Y_Test,predictionforest))\n",
        "print(classification_report(Y_Test,predictionforest))"
      ],
      "execution_count": null,
      "outputs": [
        {
          "output_type": "stream",
          "text": [
            "0.18508763500000214\n",
            "[[94  7]\n",
            " [27 51]]\n",
            "              precision    recall  f1-score   support\n",
            "\n",
            "           0       0.78      0.93      0.85       101\n",
            "           1       0.88      0.65      0.75        78\n",
            "\n",
            "    accuracy                           0.81       179\n",
            "   macro avg       0.83      0.79      0.80       179\n",
            "weighted avg       0.82      0.81      0.80       179\n",
            "\n"
          ],
          "name": "stdout"
        }
      ]
    },
    {
      "cell_type": "markdown",
      "metadata": {
        "id": "H3olPguJszmc",
        "colab_type": "text"
      },
      "source": [
        "**Feature Selection**"
      ]
    },
    {
      "cell_type": "code",
      "metadata": {
        "id": "cWyZ3cFzNlKV",
        "colab_type": "code",
        "colab": {
          "base_uri": "https://localhost:8080/",
          "height": 1000
        },
        "outputId": "16a2183c-4ff6-4ff0-e46f-b57048412445"
      },
      "source": [
        "figure(num=None, figsize=(20, 22), dpi=80, facecolor='w', edgecolor='k')\n",
        "X=df.iloc[:,:-1]\n",
        "feat_importances = pd.Series(trainedforest.feature_importances_, index= feature.columns)\n",
        "feat_importances.nlargest(19).plot(kind='barh')"
      ],
      "execution_count": null,
      "outputs": [
        {
          "output_type": "execute_result",
          "data": {
            "text/plain": [
              "<matplotlib.axes._subplots.AxesSubplot at 0x7f1360d0d668>"
            ]
          },
          "metadata": {
            "tags": []
          },
          "execution_count": 66
        },
        {
          "output_type": "display_data",
          "data": {
            "image/png": "[encoded data removed]",
            "text/plain": [
              "<Figure size 1600x1760 with 1 Axes>"
            ]
          },
          "metadata": {
            "tags": []
          }
        }
      ]
    },
    {
      "cell_type": "markdown",
      "metadata": {
        "id": "d4XjB-sNs3jH",
        "colab_type": "text"
      },
      "source": [
        "**Defining the ROC CURVE fuction**"
      ]
    },
    {
      "cell_type": "code",
      "metadata": {
        "id": "kDV7MS16Nyn_",
        "colab_type": "code",
        "colab": {}
      },
      "source": [
        "from sklearn import  metrics\n",
        "def draw_roc( actual, probs ):\n",
        "    fpr, tpr, thresholds = metrics.roc_curve( actual, probs,drop_intermediate = False )\n",
        "    auc_score = metrics.roc_auc_score( actual, probs )\n",
        "    plt.figure(figsize=(5, 5))\n",
        "    plt.plot( fpr, tpr, label='ROC curve (area = %0.2f)' % auc_score )\n",
        "    plt.plot([0, 1], [0, 1], 'k--')\n",
        "    plt.xlim([0.0, 1.0])\n",
        "    plt.ylim([0.0, 1.05])\n",
        "    plt.xlabel('False Positive Rate or [1 - True Negative Rate]')\n",
        "    plt.ylabel('True Positive Rate')\n",
        "    plt.title('Receiver operating characteristic example')\n",
        "    plt.legend(loc=\"lower right\")\n",
        "    plt.show()\n",
        "    return None"
      ],
      "execution_count": null,
      "outputs": []
    },
    {
      "cell_type": "code",
      "metadata": {
        "id": "m1msCOsQPwc5",
        "colab_type": "code",
        "colab": {
          "base_uri": "https://localhost:8080/",
          "height": 218
        },
        "outputId": "fd56763e-d897-4ef2-ba07-01b757bb08e0"
      },
      "source": [
        "Y_Train"
      ],
      "execution_count": null,
      "outputs": [
        {
          "output_type": "execute_result",
          "data": {
            "text/plain": [
              "567    0\n",
              "648    0\n",
              "790    0\n",
              "618    1\n",
              "77     0\n",
              "      ..\n",
              "132    0\n",
              "289    1\n",
              "109    1\n",
              "480    0\n",
              "688    0\n",
              "Name: Survived, Length: 712, dtype: int64"
            ]
          },
          "metadata": {
            "tags": []
          },
          "execution_count": 68
        }
      ]
    },
    {
      "cell_type": "code",
      "metadata": {
        "id": "4VHpyjTNQYf1",
        "colab_type": "code",
        "colab": {
          "base_uri": "https://localhost:8080/",
          "height": 50
        },
        "outputId": "f20ab170-f837-4ace-960d-f696cabadfd3"
      },
      "source": [
        "print(len(Y_Test))\n",
        "print(len(predictionforest))"
      ],
      "execution_count": null,
      "outputs": [
        {
          "output_type": "stream",
          "text": [
            "179\n",
            "179\n"
          ],
          "name": "stdout"
        }
      ]
    },
    {
      "cell_type": "markdown",
      "metadata": {
        "id": "qkRQI2wFs8GD",
        "colab_type": "text"
      },
      "source": [
        "**ROC CURVE**"
      ]
    },
    {
      "cell_type": "code",
      "metadata": {
        "id": "1M7y01VhPA0-",
        "colab_type": "code",
        "colab": {
          "base_uri": "https://localhost:8080/",
          "height": 355
        },
        "outputId": "e4eda9d6-dfea-4daf-cf9e-8ba49a906fba"
      },
      "source": [
        "fpr, tpr, thresholds = metrics.roc_curve( Y_Test , predictionforest)\n",
        "draw_roc(Y_Test , predictionforest)"
      ],
      "execution_count": null,
      "outputs": [
        {
          "output_type": "display_data",
          "data": {
            "image/png": "[encoded data removed]",
            "text/plain": [
              "<Figure size 360x360 with 1 Axes>"
            ]
          },
          "metadata": {
            "tags": []
          }
        }
      ]
    },
    {
      "cell_type": "markdown",
      "metadata": {
        "id": "u-Qvykh3s-KI",
        "colab_type": "text"
      },
      "source": [
        "**Logistic Regression Model**"
      ]
    },
    {
      "cell_type": "code",
      "metadata": {
        "id": "e4kauA1uPgbT",
        "colab_type": "code",
        "colab": {}
      },
      "source": [
        "cls=LogisticRegression()"
      ],
      "execution_count": null,
      "outputs": []
    },
    {
      "cell_type": "code",
      "metadata": {
        "id": "LY5atkqNQ9Z5",
        "colab_type": "code",
        "colab": {}
      },
      "source": [
        "cls.fit(X_Train,Y_Train)\n",
        "pred=cls.predict(X_Test)"
      ],
      "execution_count": null,
      "outputs": []
    },
    {
      "cell_type": "markdown",
      "metadata": {
        "id": "ShWkoDWatCnv",
        "colab_type": "text"
      },
      "source": [
        "***Confusion Matrix & Classification Report***"
      ]
    },
    {
      "cell_type": "code",
      "metadata": {
        "id": "VczjPt5YREIi",
        "colab_type": "code",
        "colab": {
          "base_uri": "https://localhost:8080/",
          "height": 202
        },
        "outputId": "0d4ed6eb-1125-4120-fb25-0705b84be070"
      },
      "source": [
        "print(confusion_matrix(Y_Test,pred))\n",
        "print(classification_report(Y_Test,pred))"
      ],
      "execution_count": null,
      "outputs": [
        {
          "output_type": "stream",
          "text": [
            "[[89 12]\n",
            " [27 51]]\n",
            "              precision    recall  f1-score   support\n",
            "\n",
            "           0       0.77      0.88      0.82       101\n",
            "           1       0.81      0.65      0.72        78\n",
            "\n",
            "    accuracy                           0.78       179\n",
            "   macro avg       0.79      0.77      0.77       179\n",
            "weighted avg       0.79      0.78      0.78       179\n",
            "\n"
          ],
          "name": "stdout"
        }
      ]
    },
    {
      "cell_type": "code",
      "metadata": {
        "id": "f8KWg2uwRkdR",
        "colab_type": "code",
        "colab": {
          "base_uri": "https://localhost:8080/",
          "height": 355
        },
        "outputId": "5283cc29-1f78-4d32-d0b5-46faf7c5c7a7"
      },
      "source": [
        "fpr, tpr, thresholds = metrics.roc_curve( Y_Test , pred)\n",
        "draw_roc(Y_Test , pred)"
      ],
      "execution_count": null,
      "outputs": [
        {
          "output_type": "display_data",
          "data": {
            "image/png": "[encoded data removed]",
            "text/plain": [
              "<Figure size 360x360 with 1 Axes>"
            ]
          },
          "metadata": {
            "tags": []
          }
        }
      ]
    },
    {
      "cell_type": "markdown",
      "metadata": {
        "id": "4qgLqdkNtPEc",
        "colab_type": "text"
      },
      "source": [
        "**Reduced Features**"
      ]
    },
    {
      "cell_type": "code",
      "metadata": {
        "id": "Oslm2xhVRv8b",
        "colab_type": "code",
        "colab": {}
      },
      "source": [
        "feature_reduced=feature[['Age','Sex_male','Sex_female','Fare','Pclass']]"
      ],
      "execution_count": null,
      "outputs": []
    },
    {
      "cell_type": "code",
      "metadata": {
        "id": "W-iNF9dYSP-i",
        "colab_type": "code",
        "colab": {}
      },
      "source": [
        "X_Train, X_Test, Y_Train, Y_Test = train_test_split(feature_reduced, target, test_size = 0.20, random_state = 50) #train.csv"
      ],
      "execution_count": null,
      "outputs": []
    },
    {
      "cell_type": "code",
      "metadata": {
        "id": "Gs2uJo7nSdXW",
        "colab_type": "code",
        "colab": {}
      },
      "source": [
        "cls=LogisticRegression()\n",
        "cls.fit(X_Train,Y_Train)\n",
        "pred=cls.predict(X_Test)"
      ],
      "execution_count": null,
      "outputs": []
    },
    {
      "cell_type": "code",
      "metadata": {
        "id": "Yq5wOxdiSiAE",
        "colab_type": "code",
        "colab": {
          "base_uri": "https://localhost:8080/",
          "height": 202
        },
        "outputId": "f2a40148-d655-4f62-875f-c762c9a2c1d0"
      },
      "source": [
        "print(confusion_matrix(Y_Test,pred))\n",
        "print(classification_report(Y_Test,pred))"
      ],
      "execution_count": null,
      "outputs": [
        {
          "output_type": "stream",
          "text": [
            "[[88 13]\n",
            " [27 51]]\n",
            "              precision    recall  f1-score   support\n",
            "\n",
            "           0       0.77      0.87      0.81       101\n",
            "           1       0.80      0.65      0.72        78\n",
            "\n",
            "    accuracy                           0.78       179\n",
            "   macro avg       0.78      0.76      0.77       179\n",
            "weighted avg       0.78      0.78      0.77       179\n",
            "\n"
          ],
          "name": "stdout"
        }
      ]
    },
    {
      "cell_type": "markdown",
      "metadata": {
        "id": "c9k2XZdftWhn",
        "colab_type": "text"
      },
      "source": [
        "Now the Accuracy comes 78% with Precision up to 78.5% and Recaal 75% "
      ]
    },
    {
      "cell_type": "code",
      "metadata": {
        "id": "UEM6SqZYVuJH",
        "colab_type": "code",
        "colab": {}
      },
      "source": [
        "Test=ds[['Age','Sex_male','Sex_female','Fare','Pclass']]"
      ],
      "execution_count": null,
      "outputs": []
    },
    {
      "cell_type": "code",
      "metadata": {
        "id": "m9M8J88STK_F",
        "colab_type": "code",
        "colab": {
          "base_uri": "https://localhost:8080/",
          "height": 118
        },
        "outputId": "3957f7a9-f914-4edf-c112-780666d13a10"
      },
      "source": [
        "Test.isna().sum()"
      ],
      "execution_count": null,
      "outputs": [
        {
          "output_type": "execute_result",
          "data": {
            "text/plain": [
              "Age           0\n",
              "Sex_male      0\n",
              "Sex_female    0\n",
              "Fare          1\n",
              "Pclass        0\n",
              "dtype: int64"
            ]
          },
          "metadata": {
            "tags": []
          },
          "execution_count": 81
        }
      ]
    },
    {
      "cell_type": "code",
      "metadata": {
        "id": "adISqpEnULFB",
        "colab_type": "code",
        "colab": {
          "base_uri": "https://localhost:8080/",
          "height": 195
        },
        "outputId": "b4fa7697-e66a-4544-841f-7ee789b712c7"
      },
      "source": [
        "Test.head()"
      ],
      "execution_count": null,
      "outputs": [
        {
          "output_type": "execute_result",
          "data": {
            "text/html": [
              "<div>\n",
              "<style scoped>\n",
              "    .dataframe tbody tr th:only-of-type {\n",
              "        vertical-align: middle;\n",
              "    }\n",
              "\n",
              "    .dataframe tbody tr th {\n",
              "        vertical-align: top;\n",
              "    }\n",
              "\n",
              "    .dataframe thead th {\n",
              "        text-align: right;\n",
              "    }\n",
              "</style>\n",
              "<table border=\"1\" class=\"dataframe\">\n",
              "  <thead>\n",
              "    <tr style=\"text-align: right;\">\n",
              "      <th></th>\n",
              "      <th>Age</th>\n",
              "      <th>Sex_male</th>\n",
              "      <th>Sex_female</th>\n",
              "      <th>Fare</th>\n",
              "      <th>Pclass</th>\n",
              "    </tr>\n",
              "  </thead>\n",
              "  <tbody>\n",
              "    <tr>\n",
              "      <th>0</th>\n",
              "      <td>0.452723</td>\n",
              "      <td>1</td>\n",
              "      <td>0</td>\n",
              "      <td>0.015282</td>\n",
              "      <td>3</td>\n",
              "    </tr>\n",
              "    <tr>\n",
              "      <th>1</th>\n",
              "      <td>0.617566</td>\n",
              "      <td>0</td>\n",
              "      <td>1</td>\n",
              "      <td>0.013663</td>\n",
              "      <td>3</td>\n",
              "    </tr>\n",
              "    <tr>\n",
              "      <th>2</th>\n",
              "      <td>0.815377</td>\n",
              "      <td>1</td>\n",
              "      <td>0</td>\n",
              "      <td>0.018909</td>\n",
              "      <td>2</td>\n",
              "    </tr>\n",
              "    <tr>\n",
              "      <th>3</th>\n",
              "      <td>0.353818</td>\n",
              "      <td>1</td>\n",
              "      <td>0</td>\n",
              "      <td>0.016908</td>\n",
              "      <td>3</td>\n",
              "    </tr>\n",
              "    <tr>\n",
              "      <th>4</th>\n",
              "      <td>0.287881</td>\n",
              "      <td>0</td>\n",
              "      <td>1</td>\n",
              "      <td>0.023984</td>\n",
              "      <td>3</td>\n",
              "    </tr>\n",
              "  </tbody>\n",
              "</table>\n",
              "</div>"
            ],
            "text/plain": [
              "        Age  Sex_male  Sex_female      Fare  Pclass\n",
              "0  0.452723         1           0  0.015282       3\n",
              "1  0.617566         0           1  0.013663       3\n",
              "2  0.815377         1           0  0.018909       2\n",
              "3  0.353818         1           0  0.016908       3\n",
              "4  0.287881         0           1  0.023984       3"
            ]
          },
          "metadata": {
            "tags": []
          },
          "execution_count": 82
        }
      ]
    },
    {
      "cell_type": "code",
      "metadata": {
        "id": "IFXLgcVMUMUd",
        "colab_type": "code",
        "colab": {
          "base_uri": "https://localhost:8080/",
          "height": 118
        },
        "outputId": "9058b817-12e1-416c-def5-2f296301e86a"
      },
      "source": [
        "Test.isna().sum()"
      ],
      "execution_count": null,
      "outputs": [
        {
          "output_type": "execute_result",
          "data": {
            "text/plain": [
              "Age           0\n",
              "Sex_male      0\n",
              "Sex_female    0\n",
              "Fare          1\n",
              "Pclass        0\n",
              "dtype: int64"
            ]
          },
          "metadata": {
            "tags": []
          },
          "execution_count": 83
        }
      ]
    },
    {
      "cell_type": "code",
      "metadata": {
        "id": "YgyXj903bPDx",
        "colab_type": "code",
        "colab": {
          "base_uri": "https://localhost:8080/",
          "height": 151
        },
        "outputId": "ef33e2de-50af-4e5d-d6cb-16544533ca20"
      },
      "source": [
        "Test[\"Fare\"]=Test[\"Fare\"].fillna(method='bfill')"
      ],
      "execution_count": null,
      "outputs": [
        {
          "output_type": "stream",
          "text": [
            "/usr/local/lib/python3.6/dist-packages/ipykernel_launcher.py:1: SettingWithCopyWarning:\n",
            "\n",
            "\n",
            "A value is trying to be set on a copy of a slice from a DataFrame.\n",
            "Try using .loc[row_indexer,col_indexer] = value instead\n",
            "\n",
            "See the caveats in the documentation: https://pandas.pydata.org/pandas-docs/stable/user_guide/indexing.html#returning-a-view-versus-a-copy\n",
            "\n"
          ],
          "name": "stderr"
        }
      ]
    },
    {
      "cell_type": "code",
      "metadata": {
        "id": "lrO1IQHPUqLD",
        "colab_type": "code",
        "colab": {}
      },
      "source": [
        "final=cls.predict(Test)"
      ],
      "execution_count": null,
      "outputs": []
    },
    {
      "cell_type": "code",
      "metadata": {
        "id": "bty1VUm_U-ks",
        "colab_type": "code",
        "colab": {
          "base_uri": "https://localhost:8080/",
          "height": 336
        },
        "outputId": "b41757af-2398-4713-fcd5-9b6e7e5dc136"
      },
      "source": [
        "final"
      ],
      "execution_count": null,
      "outputs": [
        {
          "output_type": "execute_result",
          "data": {
            "text/plain": [
              "array([0, 0, 0, 0, 1, 0, 1, 0, 1, 0, 0, 0, 1, 0, 1, 1, 0, 0, 1, 0, 0, 0,\n",
              "       1, 0, 1, 0, 1, 0, 0, 0, 0, 0, 1, 1, 0, 0, 1, 1, 0, 0, 0, 0, 0, 1,\n",
              "       1, 0, 0, 0, 1, 1, 0, 0, 1, 1, 0, 0, 0, 0, 0, 1, 0, 0, 0, 1, 1, 1,\n",
              "       1, 0, 0, 1, 1, 0, 1, 0, 1, 0, 0, 1, 0, 1, 0, 0, 0, 0, 0, 0, 1, 1,\n",
              "       1, 0, 1, 0, 1, 0, 0, 0, 1, 0, 1, 0, 1, 0, 0, 0, 1, 0, 0, 0, 0, 0,\n",
              "       0, 0, 1, 1, 1, 0, 0, 1, 0, 1, 1, 0, 1, 0, 0, 1, 0, 1, 0, 0, 0, 0,\n",
              "       0, 0, 0, 0, 0, 0, 1, 0, 1, 1, 0, 0, 0, 0, 0, 0, 0, 0, 1, 0, 0, 1,\n",
              "       0, 0, 1, 1, 0, 1, 1, 0, 1, 0, 0, 1, 0, 0, 1, 1, 0, 0, 0, 0, 0, 1,\n",
              "       1, 0, 1, 1, 0, 0, 1, 0, 1, 0, 1, 0, 1, 0, 0, 0, 0, 0, 0, 0, 1, 1,\n",
              "       0, 1, 1, 0, 0, 1, 0, 0, 1, 0, 1, 0, 0, 0, 0, 1, 0, 0, 0, 0, 1, 0,\n",
              "       1, 0, 1, 0, 1, 0, 0, 1, 0, 0, 0, 1, 0, 0, 0, 0, 0, 0, 1, 1, 1, 1,\n",
              "       0, 0, 0, 0, 1, 0, 1, 1, 1, 0, 0, 0, 0, 0, 0, 0, 1, 0, 0, 0, 1, 1,\n",
              "       0, 0, 0, 0, 1, 0, 0, 0, 1, 1, 0, 1, 0, 0, 0, 0, 1, 0, 1, 1, 1, 0,\n",
              "       0, 0, 0, 0, 0, 1, 0, 0, 0, 0, 1, 0, 0, 0, 0, 0, 0, 0, 1, 1, 0, 0,\n",
              "       0, 0, 0, 0, 0, 0, 1, 1, 0, 0, 0, 0, 0, 0, 0, 0, 1, 0, 1, 0, 0, 0,\n",
              "       1, 0, 0, 1, 0, 0, 0, 0, 0, 0, 0, 0, 0, 1, 0, 1, 0, 0, 0, 1, 1, 0,\n",
              "       0, 0, 1, 0, 1, 0, 0, 1, 0, 1, 1, 0, 1, 1, 0, 1, 1, 0, 0, 1, 0, 0,\n",
              "       1, 1, 1, 0, 0, 0, 0, 0, 1, 1, 0, 1, 0, 0, 0, 0, 0, 1, 0, 0, 0, 1,\n",
              "       0, 1, 0, 0, 1, 0, 1, 1, 0, 0, 0, 0, 0, 1, 1, 1, 1, 0, 1, 0, 0, 0])"
            ]
          },
          "metadata": {
            "tags": []
          },
          "execution_count": 86
        }
      ]
    },
    {
      "cell_type": "markdown",
      "metadata": {
        "id": "kLZw-TwotnWQ",
        "colab_type": "text"
      },
      "source": [
        "**Designing the OUTPUT SUBMISSION FILE**"
      ]
    },
    {
      "cell_type": "code",
      "metadata": {
        "id": "ou4d5CC9U_DL",
        "colab_type": "code",
        "colab": {}
      },
      "source": [
        "final_df=ds['PassengerId']"
      ],
      "execution_count": null,
      "outputs": []
    },
    {
      "cell_type": "code",
      "metadata": {
        "id": "Xb-zc5vu6lxr",
        "colab_type": "code",
        "colab": {}
      },
      "source": [
        "final=pd.Series(final)"
      ],
      "execution_count": null,
      "outputs": []
    },
    {
      "cell_type": "code",
      "metadata": {
        "id": "OVrI-F9b6whi",
        "colab_type": "code",
        "colab": {}
      },
      "source": [
        "final_df=pd.concat([final_df,final],axis=1)"
      ],
      "execution_count": null,
      "outputs": []
    },
    {
      "cell_type": "code",
      "metadata": {
        "id": "r3nxDhZ162a2",
        "colab_type": "code",
        "colab": {
          "base_uri": "https://localhost:8080/",
          "height": 195
        },
        "outputId": "5548b400-7887-4e0d-bbbd-6eb411dd5221"
      },
      "source": [
        "final_df.head()"
      ],
      "execution_count": null,
      "outputs": [
        {
          "output_type": "execute_result",
          "data": {
            "text/html": [
              "<div>\n",
              "<style scoped>\n",
              "    .dataframe tbody tr th:only-of-type {\n",
              "        vertical-align: middle;\n",
              "    }\n",
              "\n",
              "    .dataframe tbody tr th {\n",
              "        vertical-align: top;\n",
              "    }\n",
              "\n",
              "    .dataframe thead th {\n",
              "        text-align: right;\n",
              "    }\n",
              "</style>\n",
              "<table border=\"1\" class=\"dataframe\">\n",
              "  <thead>\n",
              "    <tr style=\"text-align: right;\">\n",
              "      <th></th>\n",
              "      <th>PassengerId</th>\n",
              "      <th>0</th>\n",
              "    </tr>\n",
              "  </thead>\n",
              "  <tbody>\n",
              "    <tr>\n",
              "      <th>0</th>\n",
              "      <td>892</td>\n",
              "      <td>0</td>\n",
              "    </tr>\n",
              "    <tr>\n",
              "      <th>1</th>\n",
              "      <td>893</td>\n",
              "      <td>0</td>\n",
              "    </tr>\n",
              "    <tr>\n",
              "      <th>2</th>\n",
              "      <td>894</td>\n",
              "      <td>0</td>\n",
              "    </tr>\n",
              "    <tr>\n",
              "      <th>3</th>\n",
              "      <td>895</td>\n",
              "      <td>0</td>\n",
              "    </tr>\n",
              "    <tr>\n",
              "      <th>4</th>\n",
              "      <td>896</td>\n",
              "      <td>1</td>\n",
              "    </tr>\n",
              "  </tbody>\n",
              "</table>\n",
              "</div>"
            ],
            "text/plain": [
              "   PassengerId  0\n",
              "0          892  0\n",
              "1          893  0\n",
              "2          894  0\n",
              "3          895  0\n",
              "4          896  1"
            ]
          },
          "metadata": {
            "tags": []
          },
          "execution_count": 90
        }
      ]
    },
    {
      "cell_type": "code",
      "metadata": {
        "id": "g6GlK6CO7LYw",
        "colab_type": "code",
        "colab": {}
      },
      "source": [
        "final_df.rename(columns={0:'Survived'},inplace = True)"
      ],
      "execution_count": null,
      "outputs": []
    },
    {
      "cell_type": "code",
      "metadata": {
        "id": "iCE0-F0c7e3D",
        "colab_type": "code",
        "colab": {
          "base_uri": "https://localhost:8080/",
          "height": 67
        },
        "outputId": "0238ff1c-814d-4404-ae6e-c417da00ed02"
      },
      "source": [
        "final_df.isna().sum()"
      ],
      "execution_count": null,
      "outputs": [
        {
          "output_type": "execute_result",
          "data": {
            "text/plain": [
              "PassengerId    0\n",
              "Survived       0\n",
              "dtype: int64"
            ]
          },
          "metadata": {
            "tags": []
          },
          "execution_count": 92
        }
      ]
    },
    {
      "cell_type": "code",
      "metadata": {
        "id": "tOAxFOA08E0H",
        "colab_type": "code",
        "colab": {}
      },
      "source": [
        "final_df=final_df.dropna(axis=0)"
      ],
      "execution_count": null,
      "outputs": []
    },
    {
      "cell_type": "markdown",
      "metadata": {
        "id": "dPyh996Lt6Lo",
        "colab_type": "text"
      },
      "source": [
        "*Final Output Dataframe*"
      ]
    },
    {
      "cell_type": "code",
      "metadata": {
        "id": "K7lSjwKB971L",
        "colab_type": "code",
        "colab": {
          "base_uri": "https://localhost:8080/",
          "height": 402
        },
        "outputId": "1ca0cd6d-d05d-4166-aca6-b18f8b222db7"
      },
      "source": [
        "final_df"
      ],
      "execution_count": null,
      "outputs": [
        {
          "output_type": "execute_result",
          "data": {
            "text/html": [
              "<div>\n",
              "<style scoped>\n",
              "    .dataframe tbody tr th:only-of-type {\n",
              "        vertical-align: middle;\n",
              "    }\n",
              "\n",
              "    .dataframe tbody tr th {\n",
              "        vertical-align: top;\n",
              "    }\n",
              "\n",
              "    .dataframe thead th {\n",
              "        text-align: right;\n",
              "    }\n",
              "</style>\n",
              "<table border=\"1\" class=\"dataframe\">\n",
              "  <thead>\n",
              "    <tr style=\"text-align: right;\">\n",
              "      <th></th>\n",
              "      <th>PassengerId</th>\n",
              "      <th>Survived</th>\n",
              "    </tr>\n",
              "  </thead>\n",
              "  <tbody>\n",
              "    <tr>\n",
              "      <th>0</th>\n",
              "      <td>892</td>\n",
              "      <td>0</td>\n",
              "    </tr>\n",
              "    <tr>\n",
              "      <th>1</th>\n",
              "      <td>893</td>\n",
              "      <td>0</td>\n",
              "    </tr>\n",
              "    <tr>\n",
              "      <th>2</th>\n",
              "      <td>894</td>\n",
              "      <td>0</td>\n",
              "    </tr>\n",
              "    <tr>\n",
              "      <th>3</th>\n",
              "      <td>895</td>\n",
              "      <td>0</td>\n",
              "    </tr>\n",
              "    <tr>\n",
              "      <th>4</th>\n",
              "      <td>896</td>\n",
              "      <td>1</td>\n",
              "    </tr>\n",
              "    <tr>\n",
              "      <th>...</th>\n",
              "      <td>...</td>\n",
              "      <td>...</td>\n",
              "    </tr>\n",
              "    <tr>\n",
              "      <th>413</th>\n",
              "      <td>1305</td>\n",
              "      <td>0</td>\n",
              "    </tr>\n",
              "    <tr>\n",
              "      <th>414</th>\n",
              "      <td>1306</td>\n",
              "      <td>1</td>\n",
              "    </tr>\n",
              "    <tr>\n",
              "      <th>415</th>\n",
              "      <td>1307</td>\n",
              "      <td>0</td>\n",
              "    </tr>\n",
              "    <tr>\n",
              "      <th>416</th>\n",
              "      <td>1308</td>\n",
              "      <td>0</td>\n",
              "    </tr>\n",
              "    <tr>\n",
              "      <th>417</th>\n",
              "      <td>1309</td>\n",
              "      <td>0</td>\n",
              "    </tr>\n",
              "  </tbody>\n",
              "</table>\n",
              "<p>418 rows × 2 columns</p>\n",
              "</div>"
            ],
            "text/plain": [
              "     PassengerId  Survived\n",
              "0            892         0\n",
              "1            893         0\n",
              "2            894         0\n",
              "3            895         0\n",
              "4            896         1\n",
              "..           ...       ...\n",
              "413         1305         0\n",
              "414         1306         1\n",
              "415         1307         0\n",
              "416         1308         0\n",
              "417         1309         0\n",
              "\n",
              "[418 rows x 2 columns]"
            ]
          },
          "metadata": {
            "tags": []
          },
          "execution_count": 94
        }
      ]
    },
    {
      "cell_type": "markdown",
      "metadata": {
        "id": "or3i9_mKt95o",
        "colab_type": "text"
      },
      "source": [
        "**Saving the Submission.csv**"
      ]
    },
    {
      "cell_type": "code",
      "metadata": {
        "id": "ZhDfsxTA9_3Q",
        "colab_type": "code",
        "colab": {}
      },
      "source": [
        "final_df.to_csv('submission.csv',index=False)"
      ],
      "execution_count": null,
      "outputs": []
    },
    {
      "cell_type": "code",
      "metadata": {
        "id": "sMC3e9Qk-rhU",
        "colab_type": "code",
        "colab": {}
      },
      "source": [
        "X=feature\n",
        "Y=target"
      ],
      "execution_count": null,
      "outputs": []
    },
    {
      "cell_type": "code",
      "metadata": {
        "id": "QxO1ys7Ae32X",
        "colab_type": "code",
        "colab": {
          "base_uri": "https://localhost:8080/",
          "height": 195
        },
        "outputId": "6d21ba5e-c591-4bea-c626-5897cedeedd8"
      },
      "source": [
        "X.head()"
      ],
      "execution_count": null,
      "outputs": [
        {
          "output_type": "execute_result",
          "data": {
            "text/html": [
              "<div>\n",
              "<style scoped>\n",
              "    .dataframe tbody tr th:only-of-type {\n",
              "        vertical-align: middle;\n",
              "    }\n",
              "\n",
              "    .dataframe tbody tr th {\n",
              "        vertical-align: top;\n",
              "    }\n",
              "\n",
              "    .dataframe thead th {\n",
              "        text-align: right;\n",
              "    }\n",
              "</style>\n",
              "<table border=\"1\" class=\"dataframe\">\n",
              "  <thead>\n",
              "    <tr style=\"text-align: right;\">\n",
              "      <th></th>\n",
              "      <th>Pclass</th>\n",
              "      <th>Age</th>\n",
              "      <th>SibSp</th>\n",
              "      <th>Parch</th>\n",
              "      <th>Fare</th>\n",
              "      <th>Sex_female</th>\n",
              "      <th>Sex_male</th>\n",
              "      <th>Embarked_C</th>\n",
              "      <th>Embarked_Q</th>\n",
              "      <th>Embarked_S</th>\n",
              "    </tr>\n",
              "  </thead>\n",
              "  <tbody>\n",
              "    <tr>\n",
              "      <th>0</th>\n",
              "      <td>3</td>\n",
              "      <td>0.271174</td>\n",
              "      <td>1</td>\n",
              "      <td>0</td>\n",
              "      <td>0.014151</td>\n",
              "      <td>0</td>\n",
              "      <td>1</td>\n",
              "      <td>0</td>\n",
              "      <td>0</td>\n",
              "      <td>1</td>\n",
              "    </tr>\n",
              "    <tr>\n",
              "      <th>1</th>\n",
              "      <td>1</td>\n",
              "      <td>0.472229</td>\n",
              "      <td>1</td>\n",
              "      <td>0</td>\n",
              "      <td>0.139136</td>\n",
              "      <td>1</td>\n",
              "      <td>0</td>\n",
              "      <td>1</td>\n",
              "      <td>0</td>\n",
              "      <td>0</td>\n",
              "    </tr>\n",
              "    <tr>\n",
              "      <th>2</th>\n",
              "      <td>3</td>\n",
              "      <td>0.321438</td>\n",
              "      <td>0</td>\n",
              "      <td>0</td>\n",
              "      <td>0.015469</td>\n",
              "      <td>1</td>\n",
              "      <td>0</td>\n",
              "      <td>0</td>\n",
              "      <td>0</td>\n",
              "      <td>1</td>\n",
              "    </tr>\n",
              "    <tr>\n",
              "      <th>3</th>\n",
              "      <td>1</td>\n",
              "      <td>0.434531</td>\n",
              "      <td>1</td>\n",
              "      <td>0</td>\n",
              "      <td>0.103644</td>\n",
              "      <td>1</td>\n",
              "      <td>0</td>\n",
              "      <td>0</td>\n",
              "      <td>0</td>\n",
              "      <td>1</td>\n",
              "    </tr>\n",
              "    <tr>\n",
              "      <th>4</th>\n",
              "      <td>3</td>\n",
              "      <td>0.434531</td>\n",
              "      <td>0</td>\n",
              "      <td>0</td>\n",
              "      <td>0.015713</td>\n",
              "      <td>0</td>\n",
              "      <td>1</td>\n",
              "      <td>0</td>\n",
              "      <td>0</td>\n",
              "      <td>1</td>\n",
              "    </tr>\n",
              "  </tbody>\n",
              "</table>\n",
              "</div>"
            ],
            "text/plain": [
              "   Pclass       Age  SibSp  Parch  ...  Sex_male  Embarked_C  Embarked_Q  Embarked_S\n",
              "0       3  0.271174      1      0  ...         1           0           0           1\n",
              "1       1  0.472229      1      0  ...         0           1           0           0\n",
              "2       3  0.321438      0      0  ...         0           0           0           1\n",
              "3       1  0.434531      1      0  ...         0           0           0           1\n",
              "4       3  0.434531      0      0  ...         1           0           0           1\n",
              "\n",
              "[5 rows x 10 columns]"
            ]
          },
          "metadata": {
            "tags": []
          },
          "execution_count": 98
        }
      ]
    },
    {
      "cell_type": "markdown",
      "metadata": {
        "id": "LSdfVRGYub3b",
        "colab_type": "text"
      },
      "source": [
        "# PCA "
      ]
    },
    {
      "cell_type": "code",
      "metadata": {
        "id": "5xgbrq4PdVDw",
        "colab_type": "code",
        "colab": {}
      },
      "source": [
        "def forest_test(X, Y):\n",
        "    X_Train, X_Test, Y_Train, Y_Test = train_test_split(X, Y, test_size = 0.20, random_state = 101)\n",
        "    start = time.process_time()\n",
        "    trainedforest = RandomForestClassifier(n_estimators=100).fit(X_Train,Y_Train)\n",
        "    print(time.process_time() - start)\n",
        "    predictionforest = trainedforest.predict(X_Test)\n",
        "    print(confusion_matrix(Y_Test,predictionforest))\n",
        "    print(classification_report(Y_Test,predictionforest))"
      ],
      "execution_count": null,
      "outputs": []
    },
    {
      "cell_type": "code",
      "metadata": {
        "id": "cS3TzJkk-p9s",
        "colab_type": "code",
        "colab": {}
      },
      "source": [
        "def complete_test_2D(X, Y, plot_name = ''):\n",
        "    Small_df = pd.DataFrame(data = X, columns = ['C1', 'C2'])\n",
        "    Small_df = pd.concat([Small_df, df['Survived']], axis = 1)\n",
        "    Small_df['Survived'] = LabelEncoder().fit_transform(Small_df['Survived'])\n",
        "    forest_test(X, Y)\n",
        "    data = []\n",
        "    for clas, col, name in zip((1, 0), ['red', 'darkblue'], ['Survived', 'Not Survived']):\n",
        "\n",
        "        trace = dict(\n",
        "            type='scatter',\n",
        "            x= Small_df.loc[Small_df['Survived'] == clas, 'C1'],\n",
        "            y= Small_df.loc[Small_df['Survived'] == clas, 'C2'],\n",
        "            mode= 'markers',\n",
        "            name= name,\n",
        "            marker=dict(\n",
        "                color=col,\n",
        "                size=12,\n",
        "                line=dict(\n",
        "                    color='rgba(217, 217, 217, 0.14)',\n",
        "                    width=0.5),\n",
        "                opacity=0.8)\n",
        "        )\n",
        "        data.append(trace)\n",
        "\n",
        "    layout = dict(\n",
        "            title= plot_name + ' 2D Dimensionality Reduction',\n",
        "            xaxis=dict(title='C1', showline=False),\n",
        "            yaxis=dict(title='C2', showline=False)\n",
        "    )\n",
        "    fig = dict(data=data, layout=layout)\n",
        "    iplot(fig)"
      ],
      "execution_count": null,
      "outputs": []
    },
    {
      "cell_type": "code",
      "metadata": {
        "id": "lta9sb6hd6Gv",
        "colab_type": "code",
        "colab": {}
      },
      "source": [
        "def complete_test_3D(X, Y, plot_name = ''):\n",
        "    Small_df = pd.DataFrame(data = X, columns = ['C1', 'C2', 'C3'])\n",
        "    Small_df = pd.concat([Small_df, df['Survived']], axis = 1)\n",
        "    Small_df['Survived'] = LabelEncoder().fit_transform(Small_df['Survived'])\n",
        "    forest_test(X, Y)\n",
        "    data = []\n",
        "    for clas, col, name in zip((1, 0), ['red', 'darkblue'], ['Survived', 'Not Survived']):\n",
        "\n",
        "        trace = dict(\n",
        "            type='scatter3d',\n",
        "            x= Small_df.loc[Small_df['Survived'] == clas, 'C1'],\n",
        "            y= Small_df.loc[Small_df['Survived'] == clas, 'C2'],\n",
        "            z= Small_df.loc[Small_df['Survived'] == clas, 'C3'],\n",
        "            mode= 'markers',\n",
        "            name= name\n",
        "        )\n",
        "        data.append(trace)\n",
        "\n",
        "    layout = {\n",
        "        \"scene\": {\n",
        "          \"xaxis\": {\n",
        "            \"title\": \"C1\", \n",
        "            \"showline\": False\n",
        "          }, \n",
        "          \"yaxis\": {\n",
        "            \"title\": \"C2\", \n",
        "            \"showline\": False\n",
        "          }, \n",
        "          \"zaxis\": {\n",
        "            \"title\": \"C3\", \n",
        "            \"showline\": False\n",
        "          }\n",
        "        }, \n",
        "        \"title\": plot_name + ' 3D Dimensionality Reduction'\n",
        "    }\n",
        "    fig = dict(data=data, layout=layout)\n",
        "    iplot(fig)"
      ],
      "execution_count": null,
      "outputs": []
    },
    {
      "cell_type": "code",
      "metadata": {
        "id": "MlTYLnT0d9m5",
        "colab_type": "code",
        "colab": {
          "base_uri": "https://localhost:8080/",
          "height": 195
        },
        "outputId": "8cb070d5-70cd-4129-bc73-23677a89cd16"
      },
      "source": [
        "from sklearn.decomposition import PCA\n",
        "\n",
        "pca = PCA(n_components=2)\n",
        "X_pca = pca.fit_transform(X)\n",
        "PCA_df = pd.DataFrame(data = X_pca, columns = ['PC1', 'PC2'])\n",
        "PCA_df = pd.concat([PCA_df, df['Survived']], axis = 1)\n",
        "PCA_df['Survived'] = LabelEncoder().fit_transform(PCA_df['Survived'])\n",
        "PCA_df.head()"
      ],
      "execution_count": null,
      "outputs": [
        {
          "output_type": "execute_result",
          "data": {
            "text/html": [
              "<div>\n",
              "<style scoped>\n",
              "    .dataframe tbody tr th:only-of-type {\n",
              "        vertical-align: middle;\n",
              "    }\n",
              "\n",
              "    .dataframe tbody tr th {\n",
              "        vertical-align: top;\n",
              "    }\n",
              "\n",
              "    .dataframe thead th {\n",
              "        text-align: right;\n",
              "    }\n",
              "</style>\n",
              "<table border=\"1\" class=\"dataframe\">\n",
              "  <thead>\n",
              "    <tr style=\"text-align: right;\">\n",
              "      <th></th>\n",
              "      <th>PC1</th>\n",
              "      <th>PC2</th>\n",
              "      <th>Survived</th>\n",
              "    </tr>\n",
              "  </thead>\n",
              "  <tbody>\n",
              "    <tr>\n",
              "      <th>0</th>\n",
              "      <td>0.267741</td>\n",
              "      <td>-0.929582</td>\n",
              "      <td>0</td>\n",
              "    </tr>\n",
              "    <tr>\n",
              "      <th>1</th>\n",
              "      <td>0.199597</td>\n",
              "      <td>1.615131</td>\n",
              "      <td>1</td>\n",
              "    </tr>\n",
              "    <tr>\n",
              "      <th>2</th>\n",
              "      <td>-0.430092</td>\n",
              "      <td>-0.439731</td>\n",
              "      <td>1</td>\n",
              "    </tr>\n",
              "    <tr>\n",
              "      <th>3</th>\n",
              "      <td>0.262226</td>\n",
              "      <td>1.348371</td>\n",
              "      <td>1</td>\n",
              "    </tr>\n",
              "    <tr>\n",
              "      <th>4</th>\n",
              "      <td>-0.618099</td>\n",
              "      <td>-0.889257</td>\n",
              "      <td>0</td>\n",
              "    </tr>\n",
              "  </tbody>\n",
              "</table>\n",
              "</div>"
            ],
            "text/plain": [
              "        PC1       PC2  Survived\n",
              "0  0.267741 -0.929582         0\n",
              "1  0.199597  1.615131         1\n",
              "2 -0.430092 -0.439731         1\n",
              "3  0.262226  1.348371         1\n",
              "4 -0.618099 -0.889257         0"
            ]
          },
          "metadata": {
            "tags": []
          },
          "execution_count": 102
        }
      ]
    },
    {
      "cell_type": "code",
      "metadata": {
        "id": "HDzh7MOgd-zn",
        "colab_type": "code",
        "colab": {
          "base_uri": "https://localhost:8080/",
          "height": 577
        },
        "outputId": "56e044cf-55e2-4bb9-bcfe-bd0af6139c8e"
      },
      "source": [
        "figure(num=None, figsize=(8, 8), dpi=80, facecolor='w', edgecolor='k')\n",
        "\n",
        "classes = [1, 0]\n",
        "colors = ['r', 'b']\n",
        "for clas, color in zip(classes, colors):\n",
        "    plt.scatter(PCA_df.loc[PCA_df['Survived'] == clas, 'PC1'], PCA_df.loc[PCA_df['Survived'] == clas, 'PC2'], c = color)\n",
        "    \n",
        "plt.xlabel('Principal Component 1', fontsize = 12)\n",
        "plt.ylabel('Principal Component 2', fontsize = 12)\n",
        "plt.title('2D PCA', fontsize = 15)\n",
        "plt.legend(['Survived', 'Not Survived'])\n",
        "plt.grid()"
      ],
      "execution_count": null,
      "outputs": [
        {
          "output_type": "display_data",
          "data": {
            "image/png": "[encoded data removed]",
            "text/plain": [
              "<Figure size 640x640 with 1 Axes>"
            ]
          },
          "metadata": {
            "tags": []
          }
        }
      ]
    },
    {
      "cell_type": "code",
      "metadata": {
        "id": "G6THH3VWeMWz",
        "colab_type": "code",
        "colab": {
          "base_uri": "https://localhost:8080/",
          "height": 34
        },
        "outputId": "178b947f-b8b5-4d48-f29c-26051f876448"
      },
      "source": [
        "pca.explained_variance_ratio_"
      ],
      "execution_count": null,
      "outputs": [
        {
          "output_type": "execute_result",
          "data": {
            "text/plain": [
              "array([0.40782816, 0.21514552])"
            ]
          },
          "metadata": {
            "tags": []
          },
          "execution_count": 104
        }
      ]
    },
    {
      "cell_type": "code",
      "metadata": {
        "id": "CUIk6OdIfrwm",
        "colab_type": "code",
        "colab": {
          "base_uri": "https://localhost:8080/",
          "height": 744
        },
        "outputId": "a968b58a-196b-4a41-dca8-080bff6783f3"
      },
      "source": [
        "complete_test_2D(X_pca,Y.values, 'PCA')"
      ],
      "execution_count": null,
      "outputs": [
        {
          "output_type": "stream",
          "text": [
            "0.17461659900000015\n",
            "[[84 15]\n",
            " [23 57]]\n",
            "              precision    recall  f1-score   support\n",
            "\n",
            "           0       0.79      0.85      0.82        99\n",
            "           1       0.79      0.71      0.75        80\n",
            "\n",
            "    accuracy                           0.79       179\n",
            "   macro avg       0.79      0.78      0.78       179\n",
            "weighted avg       0.79      0.79      0.79       179\n",
            "\n"
          ],
          "name": "stdout"
        },
        {
          "output_type": "display_data",
          "data": {
            "text/html": [
              "<html>\n",
              "<head><meta charset=\"utf-8\" /></head>\n",
              "<body>\n",
              "    <div>\n",
              "            <script src=\"https://cdnjs.cloudflare.com/ajax/libs/mathjax/2.7.5/MathJax.js?config=TeX-AMS-MML_SVG\"></script><script type=\"text/javascript\">if (window.MathJax) {MathJax.Hub.Config({SVG: {font: \"STIX-Web\"}});}</script>\n",
              "                <script type=\"text/javascript\">window.PlotlyConfig = {MathJaxConfig: 'local'};</script>\n",
              "        <script src=\"https://cdn.plot.ly/plotly-latest.min.js\"></script>    \n",
              "            <div id=\"0b74f041-d3bf-46eb-92d8-7edb0c99e543\" class=\"plotly-graph-div\" style=\"height:525px; width:100%;\"></div>\n",
              "            <script type=\"text/javascript\">\n",
              "                \n",
              "                    window.PLOTLYENV=window.PLOTLYENV || {};\n",
              "                    \n",
              "                if (document.getElementById(\"0b74f041-d3bf-46eb-92d8-7edb0c99e543\")) {\n",
              "                    Plotly.newPlot(\n",
              "                        '0b74f041-d3bf-46eb-92d8-7edb0c99e543',\n",
              "                        [{\"marker\": {\"color\": \"red\", \"line\": {\"color\": \"rgba(217, 217, 217, 0.14)\", \"width\": 0.5}, \"opacity\": 0.8, \"size\": 12}, \"mode\": \"markers\", \"name\": \"Survived\", \"type\": \"scatter\", \"x\": [0.19959692240578716, -0.4300918556949303, 0.262226087989861, 0.4574173408713691, 0.30200443742016325, 0.9041980770105941, -0.6290631228396651, -0.5357441450091737, -0.7082653211713756, -0.4960566205061027, -0.7096807626206245, -0.46834711672470447, -0.7984340142971811, 2.6643394941600276, -0.48014647136280414, 0.18839709733634566, -0.4924170838710801, -0.6732156380202375, 0.393686688488133, 1.1953972463886067, -0.4702383812180621, -0.46977002068309864, 0.1945525294458202, 0.35651815581416985, -0.7951313175822672, -0.5198494802664203, 1.2557837200792457, -0.6798979557776897, 0.6468996095375823, -0.5236239907977508, 3.980961166002172, -0.6153890524863087, 0.19429221097179894, -0.43185749772058096, -0.6152297234557417, -0.47448715654033824, -0.5179622250007554, 2.2060008477042707, 2.920849077586905, -0.4130824449897428, -0.08170132839810235, -0.42774013686361734, -0.6195221539219548, 0.39671358061890627, -0.5252085186936623, 0.21086579291862775, -0.6129336874514454, 0.8233052158903573, 0.35651815581416985, 0.27722574594173555, -0.42820927786157176, 0.45079145255134134, -0.6143316459951356, 0.2687204980956193, -0.46882683941094927, -0.5286736198090841, 0.28239648945600354, -0.17822149719986277, 0.9054647306745285, 1.5099873747958643, 0.4685601740173499, 0.39742600945479095, -0.8066940664285909, -0.524972611785454, 0.4529368084148519, 0.6289684210126572, -0.6841261667854809, -0.6875562518826621, -0.47260090358159623, -0.6100785273428593, -0.6752657747260457, -0.4688263930502662, -0.8659157876591534, -0.526174227757757, 0.2040219810307344, -0.430563669511345, -0.6771661890062117, -0.6091348997100265, 0.0780323933506879, -0.7026703758359257, 0.2630379565976405, 3.987250041830773, 0.37460032660273185, 0.4049750305174515, 0.36673724937080726, 0.5214509780855283, 0.39488390216358443, -0.6761448277940538, -0.614249981312146, -0.6669271396549847, -0.0891701649069081, 3.8044291462612683, 0.2663392854417949, -0.181723352935301, -0.615295806480924, -0.61359638594395, -0.08509757375918015, -0.4910016424218312, 0.24967971836190123, 0.8896667337570838, -0.6105503411592753, -0.615701537272158, -0.7134552731519547, -0.47165727594876367, -0.6125671966588102, 0.2090904933875802, -0.8089475591814306, -0.23713456553088783, -0.47024183449951484, 1.1058636486604059, -0.5537740097784298, 0.9850676277746595, -0.6691644110889269, 0.21051043865285746, -0.6767400858480498, -0.6732081467223819, 1.9817638510690672, -0.4300937480503998, 0.3588772248962514, 0.27526806284496363, 0.6442905915755118, -0.5674943555598152, 0.8038486662569403, -0.6774673510315353, -0.5268598670511192, 0.8915613392735191, -0.22615899865037095, 1.2771251057277118, 0.2672099261593584, -0.679856711165244, -0.6228175003860987, 0.6294402348290733, 2.9203772637704883, -0.5211981012541237, -0.5287471223167842, 0.46070622474223766, 0.7208839850769779, -0.16736977942228834, -0.48014647136280414, -0.48014647136280414, 0.18932304113455378, -0.49086655626714837, -0.47260090358159623, -0.6735785539232768, 0.0215425616074123, 0.20743694657847828, -0.4282226419538808, -0.6778421356075487, 0.40810794352999236, 0.2621966869867814, -0.5268598670511192, -0.579621863458023, 0.9676731248700708, -0.6115007630966378, 0.20779649156206464, 0.45898157010593227, -0.5230947113844053, -0.6199899585106783, 0.6287746416741749, 0.22070798754791532, -0.6223490275927598, 0.7982804491061087, 0.3695280399923775, 0.3569899696305861, -0.5184915657720053, -0.616683920772687, -0.7986732315495145, 0.44230548590200275, 0.35038457620075836, 1.1618175520335674, 2.570254192830112, 0.7929234459716655, -0.5230853565197889, -0.6034714634014926, 0.10202384884580068, -0.07188678689952427, -0.8015041144480121, 1.7218227709250298, -0.8098911868142631, 0.011118767528133065, -0.6769723315437013, 0.25511580461515215, -0.5335320809424925, -0.80810950787784, 1.7238279796447988, 1.2425729332195898, -0.5824048574681399, 0.025295906778460733, -0.4475045312954034, 0.022495087286744826, 0.26321235800227455, 0.7180531021784803, 0.19223455494758923, -0.607644587882318, 0.3627982991461704, -0.7986732315495145, -0.612558169587811, -0.6587244958660159, -0.8024547582293068, 0.19173028230685235, -0.5259830598798323, 0.35321545909925584, -0.6140628840198182, -0.23936978551002677, -0.5335320809424925, 0.8132047580314112, 0.3946021925602651, 0.3750721404191481, -0.6754171529678223, 0.21473111400211836, 0.2704001072757773, 0.1713381911625834, 0.3612362939783328, -0.7708856264791698, 0.6268966799152214, 0.034966324056738725, -0.673687564095029, -0.4282086096569564, 0.19403194714990885, 0.7049960951998123, 0.44517111544050425, -0.6166891541512353, -0.7229583699418257, 1.1334179780030769, -0.8024520854108453, -0.4688263930502662, -0.5259162394182867, 0.2604136716411275, -0.6166872617957643, 0.8024599529923095, 0.6441311738742543, 0.27912395476821805, 0.4496117234354599, 0.19317818258042188, -0.532458882972166, 0.010258788188041112, 1.6825794420052091, -0.8636756589986232, -0.7980958414038561, 1.1864327838766968, -0.6171783334138099, 0.4021441476189539, 1.2478148824443664, 1.6923364565489531, 0.07514427982944513, 0.6511591883920811, -0.6102319610989528, -0.8231153377662279, -0.8621546412201324, -0.5230853565197889, -0.6735785539232768, -0.6006448707233, 1.7238279796447988, 0.011259820059898592, -0.8733445318910317, -0.4286864373149118, -0.07415230733544187, -0.4697679038108769, 0.9532651725626166, 0.26870236375156914, 0.25983761790470006, 0.7956232994076295, -0.7082653211713756, -0.42626611525214075, -0.40721584749973716, -0.8585599495456974, -0.15988846514462038, 0.08045305997320001, -0.03731727012249574, -0.6120863557713947, -0.48439669535268637, 0.21320925573677987, -0.8019829444128908, -0.5310928273065564, -0.8052856411278047, -0.6087368023713992, 0.6492586786196638, -0.6741076597203425, 0.07229858417103203, -0.6759548803418837, -0.5226803631649181, -0.0682232596922641, 0.08223607531885395, 2.1153684205753387, -0.4730730515003204, -0.6104414877484503, -0.8506916628573222, -0.8023555298439117, 1.980348409619818, -0.6162154479793481, -0.5240289841526214, 0.8121809458447238, -0.16035086015492633, 1.2364913508503754, 0.6297603730817972, -0.6156654227613949, -0.6727438242038213, 1.1514376480724091, 0.2553414841588966, 1.6764855133719134, -0.42006215231017396, -0.1730992520042762, -0.4856766042865693, 0.27082297660536564, -0.4263288169004368, 1.1659001961469027, -0.6248333913489296, -0.4324306567946141, 0.7995288394014936, 0.9794684702804779, -0.21952366796669268, -0.6143535844890702, 0.2631697156226941, 0.6992327009433633, -0.6143084806775271, 0.013505572902669684, 0.13272620962413473, -0.674294351807753, -0.6729697547246772, 0.3933007389648028, 0.6297984776557981, 0.6433901349557135, -0.6153890524863087, -0.8565142579708315, -0.6774331262926533, 0.21611491246920345, -0.1649558562038352, 0.01766837167348414, 0.7044428999914718, -0.8095249493270888, 0.8412978472604484, -0.6243615775325134, -0.529690749949617, 0.2954375271136284, 0.7202847660229417, 0.7004973631237031, 0.29523678252715496, -0.4866203441777772, -0.244358559673701, -0.0773748194965011, -0.6105701717624973, -0.8593371224139439], \"y\": [1.6151310499358447, -0.43973051893213877, 1.3483712752994375, -0.08719628888503189, 0.6903500994437033, -0.30875907141532966, 1.3914780631755355, 0.48392596571499225, 0.013149189441403126, -0.17162116945564362, 0.01504429842643146, -0.4050550000540665, 0.9184555916267134, 0.41759288809714884, -0.389281812492992, 1.6425430874573486, -0.37287423356267757, -0.6356926266511231, -0.21637695244961178, 1.0363766711924816, -0.4025475753881899, -0.40319597732313006, 1.62278365870888, 0.4367850018581056, 0.9140336706616473, 0.4617371956987697, 0.7733381735617054, 1.6482668462088663, -0.48586811154442733, 0.46679081965884517, -0.22196468202476652, -0.8848907433478989, 0.34764654851108656, -0.4366156250892201, -0.8928600012585652, -0.3968741005444955, 0.459210383718732, -0.5303118223276873, 1.6553896653657685, 1.357156153192406, 0.6473088732732799, -0.4429245773164825, -0.8873976284163316, -0.4147660843836302, 0.46932490204406063, -0.6728685165497742, -0.8963233235868511, -0.01961342370100044, 0.4367850018581056, 1.718295033977538, -0.4422799494453657, -0.47197880208802717, -0.8943436729872052, 1.3419039946388012, -0.4044615417674588, 0.47441810859958256, -0.5525812353159751, 1.5626869806189165, -0.3113736694786234, 0.10928414931025009, -0.10031771903926891, -0.4171474921569312, 0.9280377661302697, 0.4690090505465561, -0.4761707643068625, 0.14087649500369118, 1.6453000423490314, 1.6694986370946459, -0.3994057593530733, -0.8999961449072251, -0.6310402157209646, -0.40445938331314885, 1.1879689047961608, 0.4719381496201691, 1.616136504171135, -0.4390988159371308, 1.6439973350581227, -0.901259550897244, 0.8998075054579185, 0.005245631598607348, 1.352297206417032, -0.22651261890820237, 0.8070485830024968, -0.42725474007708225, 0.8156371579800389, 1.0700799083314927, 0.17711314928906288, 1.643109823239933, 1.3815388425416035, 1.7022497506995578, 0.6578038674766499, -0.6830041830083649, -0.9276189409488266, 1.5836252756911982, 1.391047775669083, -0.8966146764687974, 0.6512784235745902, -0.3747693425477059, 1.3692718636370842, -0.28871744546822803, -0.8993644419122157, -0.8922282982635564, 0.020097922386506803, -0.4006691653430923, 1.3780232775393564, 1.6056872885799962, 0.9317068137115555, 1.8532430671289266, -0.40256427432812064, -0.9198074238363758, 0.4909024938692394, 1.2358270778989664, 1.6389927115765175, 1.6067271989113086, 1.6402313499318262, 1.6398312106408321, 1.9466740401665874, -0.4397396697444242, 0.4336264868830584, 1.7437872026729482, 1.8003090652059706, 0.5092724169641135, 0.608494756302233, 1.6541939753182549, 0.47153586252659396, -0.29120871403897053, 1.8072671483267955, -0.4478391363584826, 1.3549920450338178, 1.657206012672378, -0.882940164041971, 0.14024479200868173, 1.6560213683607785, 0.4639554265864807, 0.4740626745066315, -0.4852122527929569, -0.7647223315293412, 1.5481578117336998, -0.389281812492992, -0.389281812492992, 1.6295412068866044, -0.17856935955595088, -0.3994057593530733, 1.6380400425352528, 1.149643245717167, 1.606430997901881, -0.44234457382590237, 1.6698610816662118, 0.15948955988941518, 1.3482291016622563, 0.47153586252659396, 0.7219187535145045, 1.2539094205520407, -0.8981338909572615, 1.6110828802110597, -0.0883719087917945, 0.46643700150014283, -0.8867465381071615, 0.13993944148591125, 1.393487932695289, -0.8835880231321143, 0.616527562906102, 0.8116530668683725, 0.4361532988630963, 0.4624771455053839, -0.8911523029770934, 0.9172988152151093, -0.4605758359875894, 0.4449971407932282, 1.695240112771977, 0.9279120471458285, 0.6226684910944988, 0.4664822385665185, -0.9088319087897899, 1.2607743308388903, 0.6335907397143264, 0.9210890331851657, -0.07729138825807641, 0.9329702197015741, 1.169154954017016, -0.630552845466916, 1.3576868748827506, 0.4800565825540432, 0.929932875115298, -0.07997612598686642, 0.7910258574219695, 0.7259405464897757, -0.27858361396621106, -0.4161426320515076, 1.1542493484399095, 1.353140554583034, -0.7609321135592845, 1.6261408936540769, 1.3726950006114715, 0.8228088456874642, 0.9172988152151093, -0.8886809613179547, -0.8514754024881699, 0.9223185113754031, 1.6237023960535393, 0.4699493346338925, 0.4412069228231716, 1.3824435838691147, 1.8249548321870586, 0.4800565825540432, 0.5954729501188253, 0.1786641340972048, 0.8064168800074872, 1.6466286207601475, 1.9857053693279338, 1.7348135629669756, -0.016548047267009685, 0.43046797190801145, 0.2770385691420104, 0.145424434160274, 1.5352524117183224, -0.6350614665009099, -0.4422767182263389, 1.6173530526142357, 1.5300735710119395, -0.4641980305682509, -0.8911776098845113, 0.03240886038401254, 1.327523269220287, 0.9223314362515103, -0.40445938331314885, 0.47027245653657496, 1.3512599838104795, -0.8911684590722275, 0.6105191140483344, 1.7966249329953266, 1.7245609108400883, 1.3505675105086739, 1.6248774876640586, 0.48233297668317815, 1.1649963751294892, 0.5774904911727333, 1.184235232834338, 0.9171776448263386, 1.0483790280976604, 1.3965106926550541, -0.4234645221070255, 0.7901550468168572, 0.5664074164054219, 0.8974944941805656, -0.49148934403889616, 1.3747495114440607, 0.9505932791813018, 1.1828506564555485, 0.4664822385665185, 1.6380400425352528, -0.904631461941943, -0.07997612598686642, 1.1669237976037272, 1.1986577721411402, -0.4416740962025711, 0.6372016253531293, -0.403185740821253, 0.8810204762214998, -0.930758068609713, 1.3513876166373038, 0.6211578978231335, 0.013149189441403126, -0.4445364117918668, 1.4233972247103979, 1.1856672083059017, 1.563942318952898, 0.8911203753774408, -0.014659763621025683, -0.8893126643129646, -0.3836153429321476, 1.6226910361886133, 0.9216868083803937, 0.47728581386221525, 0.9261087293454593, 1.3848928504893325, -0.48902662651947426, 1.6354814599108018, 0.9012130824872355, 1.6673342696861746, 0.46552741366882644, 0.6309136770237471, 0.888089493229218, 0.37275211385300483, -0.3987756719675774, 1.3970422317570559, 1.2470215925894146, 0.9227983474008867, 1.948569149151615, -0.8918001620672369, 0.46774564455653717, 0.5963486098256251, -0.7312607259536159, 0.8053159186970833, 0.13791826627297868, 1.3834339515266314, -0.6363243296461323, 1.709137578662184, 1.361691427696971, 0.9794216178280445, -0.4524081999644555, 1.5816300028131618, -0.1855180925010546, 1.3375046915574527, -0.44483961646046816, -0.589637570435369, 1.3857124985895766, -0.43647399462157155, 0.613824649164367, 1.2381168456768052, -0.47278273738256094, -0.8944497603702938, 1.3471078693094183, 1.540075805287924, -0.894231653085983, -0.26276680494827426, 0.6113029676077821, -0.8306292036528589, 1.4425240055372035, -0.21533003780965504, 0.13856864598674082, 1.793041511094575, -0.8848907433478989, 1.175166821506577, 1.6368800329562103, 1.5959564773517352, 1.542351313090903, -0.26885603428171256, 1.544877941879733, 0.9318279841003261, 0.35021717409379566, 1.3850807955945668, 0.4753260804966503, 0.6964667928399285, -0.7647067186037387, 1.531625096391731, 0.698409297995113, -0.1842552293558322, 1.8357896356071075, 0.6420112926014144, 1.3672875545958698, 1.1789958141049552]}, {\"marker\": {\"color\": \"darkblue\", \"line\": {\"color\": \"rgba(217, 217, 217, 0.14)\", \"width\": 0.5}, \"opacity\": 0.8, \"size\": 12}, \"mode\": \"markers\", \"name\": \"Not Survived\", \"type\": \"scatter\", \"x\": [0.26774069459412075, -0.6180993622219356, -0.6705009097032583, -0.8102638336031885, 2.4809498367494687, -0.6110221549756916, 2.4801001502205033, -0.4244319822534044, 3.317444860298793, 0.44754622143335643, -0.7098051100370035, 2.6618834770533093, -0.6722721226457803, 2.738971809650231, -0.6204625527900854, -0.8660034347221532, -0.7248456252074909, 0.020841540477642875, 0.0751294670695297, -0.6114939687921079, 1.3334076607971057, 0.4430720393117394, 0.3573281425239112, -0.664705172316878, -0.6100785273428593, 0.22640045929569283, 1.0880417451974207, 0.45367445540984436, 3.3588161057539323, -0.6115006508382624, -0.4329354861186336, -0.6767542416433595, 4.6807971164441655, -0.6736874518366539, 0.07455529523114, 2.9241362581506576, -0.8608134827415744, -0.6105474464968812, 1.145619052639565, -0.7088039554493376, 4.8622025705644205, -0.7019301278378092, 0.20434626378188603, -0.6133919153316205, -0.6019816056010595, -0.6019774841149914, -0.611940390833137, -0.7981239673556098, 1.6031394670223915, -0.6124375964249406, -0.6129094102413568, -0.6152684793234382, -0.6110273883542399, 0.07348744289773694, 1.1541048507364957, -0.6294442763636213, -0.6350846596129218, -0.8804443458358261, 0.17039456352975077, -0.43103626379075227, -0.6114980902781759, -0.3500667843935308, -0.617139585419957, 1.14040938862283, -0.6148007869930902, -0.6195189251572529, -0.8069574617628894, 0.39353664587301085, -0.6119657826085243, 0.4525176705046815, -0.4873706388328107, -0.6114973098151852, -0.6783047692472911, 0.17261999168874095, -0.40863192950640237, 3.9886624763592526, 1.0575255916628665, -0.616919827680895, 0.10951135861412434, -0.3656366403352682, -0.6563654267839342, -0.6228462331845631, -0.6788595868093663, -0.6110488831603098, 0.43990365172453216, -0.7054344382728779, -0.7661358608541481, 0.07751793715469117, -0.6091037159370326, -0.8570784680978936, 0.3981865988784982, -0.6540330858864709, -0.7021718338348912, 0.6217067279346425, 2.2259869175159794, 0.17738242758637562, -0.7134552731519547, -0.7177142933873948, -0.6277715454584696, 0.2673733169265658, -0.6256680953207524, -0.4263461295995765, -0.6157402931398545, -0.6223293155566036, 7.305016233135047, -0.17818289550950378, -0.6138603881249596, -0.6095903425133643, 3.36164698865243, 2.2169959537272557, -0.7986899366649006, -0.6135017972206436, -0.814057326608155, 3.3165012326659595, -0.6114973098151852, -0.8734729394355747, 0.7135917282029322, 2.4584201557298755, -0.6869305433432927, -0.7077935073549594, -0.618786337924529, 7.505294239911954, -0.7595303551659448, 3.801598263362771, -0.8060672904992933, 0.6599681845085363, -0.6185752975244202, -0.7026035553743804, -0.6648580754794272, -0.1774449626398563, -0.5211981012541237, -0.6147579096393254, 7.309734371299211, -0.6176690893500534, -0.6847751887808116, 0.025247127841532466, 0.26325241881767325, -0.612936138425975, -0.6119871651562186, -0.7077935073549594, 0.22005973625148992, 0.16664678118303874, -0.707860327816505, -0.7063780659057106, -0.6256483832845963, -0.6195189251572529, -0.6119310359685205, -0.6112794444315944, -0.702131741557964, 2.649261886178458, -0.6152758295742083, -0.7214627439387225, -0.7050294449180071, -0.4385945274596536, 0.16567642536558802, -0.7026703758359257, -0.7092283267380562, 0.3866953455349748, -0.7073885140000886, -0.6119905061792962, -0.6774620746263592, 0.9114813721153359, -0.42962405110620533, 0.1609582872014251, -0.6152898618711329, 0.8922360145486309, -0.8147149013076679, 0.2642027284966604, 0.45105461797532703, -0.6464573366391925, 0.515097992384063, -0.8050446306481239, -0.47826266937859174, -0.7106912107150024, 3.354569781406187, -0.7971388496787145, -0.4205874636759069, -0.4390609956391463, -0.697289255977422, 3.3150857912167098, -0.6757097932570015, -0.6148018988855701, -0.60909614384233, -0.8010470011331358, -0.6788390943102194, -0.6119699040945924, -0.7723274620107291, -0.4291235044913242, -0.6129135317274249, -0.8582185067512846, -0.6743951725612782, 1.168322592055268, -0.6107655030454522, -0.6020199473584692, 0.11052863169198464, 0.8018812264374205, -0.6148007869930902, 0.6101025504021604, -0.7190903107643316, -0.6119871651562186, -0.6143289731766738, 7.3087907436663775, -0.6304149662833798, -0.8068778533767936, -0.35605159980931333, 1.150586765227601, -0.6152726008095064, 0.08165327817836764, -0.8064548491762576, -0.7068498797221268, -0.7054344382728779, -0.710624390253457, -0.6213856879237711, -0.6124061908080142, -0.7923137987760783, 0.6532907338025997, 0.26660723549259274, -0.6765184469935268, -0.6147579096393254, -0.5278034946839517, 2.0355904996069993, 0.11109989573772842, -0.0566339061040217, -0.6181260904065541, 0.22073869349869743, -0.6157616756875491, 0.26960779146294517, -0.6105503411592753, -0.8546264808040449, 2.664242546135391, 0.032937487625853884, -0.6728298007552826, -0.6105576914100455, -0.6166872617957643, -0.6100826488289273, -0.7005146863885604, 4.6855152546083305, -0.6530632860152603, 1.144655712970577, -0.6119725769130543, -0.4324528171324812, -0.7149950620175823, -0.7045576311015909, -0.6138530378741894, 0.4520458566882652, 0.2651396740833384, -0.42724126076027513, 0.17026092260665954, -0.6256564017399818, -0.6115013190428782, 2.6502055138112905, -0.6171598560751715, -0.6606355846539047, -0.7147463671848243, -0.43386302520318165, -0.7077935073549594, 0.46578608851116604, -0.673197821012371, -0.6549504316953683, -0.6152731567557465, 0.8928130705919815, 0.7139220431268998, -0.6148180480547165, -0.6601399373152645, -0.6096314370972147, 0.07145919645821053, 2.220325151718984, 1.8461797267588271, -0.7083321416329212, -0.6109833991079952, 0.2663392854417949, 1.0573929685680037, 0.2643060783681238, -0.8612845160949999, -0.6152684793234382, -0.8161303427569168, -0.667688958377925, -0.6176275484055196, -0.8073182922552358, -0.7162861560504522, -0.6195148036711847, -0.619541531855803, -0.7204081329818195, -0.8118840184091701, -0.6453964237568712, -0.6195361862188792, -0.619498432658106, -0.4281534827761813, -0.8008238821494781, 0.17026092260665954, 0.2644325399839061, -0.6119799271638241, 4.6817407440770005, -0.7175772500833218, -0.6251765694681801, 2.649261886178458, -0.8744431829946502, -0.6157402931398545, 0.26855240271587033, -0.6115153513398026, -0.811306628263512, -0.8800474322942453, -0.6114939687921079, -0.688592273242551, -0.6131927903562145, 1.1574708742776938, -0.6129162045458867, -0.6095903425133643, -0.4711854621323474, -0.4787377119597099, -0.4352373720685801, 0.026274101634103465, -0.6144097750346729, -0.6185711760383522, -0.6129242230012721, -0.8074380131397778, -0.6615888503531905, -0.6166880422587551, -0.6119699040945924, -0.6840674680561872, -0.6824160074403549, -0.6641503547548028, -0.7986450614296222, -0.6199899585106783, 1.498872445757705, -0.6713283827545723, 0.6523471061697672, -0.431959398924438, -0.8066940664285909, -0.6117933858177366, 3.9853597796443383, 3.9844161520115065, 0.011109907251852335, -0.8156732294420403, 0.7068531884383489, -0.7060305995056734, -0.6554196822788797, -0.8147149013076679, -0.8601912173606374, -0.6639144478465947, -0.6204625527900854, -0.7068365156298174, -0.6129094102413568, -0.429144887039019, 1.1469766330316729, -0.6105544626453434, 1.3446346951795591, -0.6784055900008167, -0.6091348997100265, -0.6103779443684878, 0.38528001367128284, -0.7187695725489127, -0.863784637708847, -0.6717605506547445, -0.7157608858647996, -0.6119657826085243, -0.6180993622219358, -0.6181240857927078, -0.6237825105666259, 0.4091607751529955, 0.16897912208050198, 0.705534636658341, -0.6249199175379406, -0.6864265371382686, -0.6223498080557506, -0.8057986108859758, -0.6223456865696821, 0.26135714509662267, -0.6157444146259227, 2.663864673422842, -0.6181260904065541, -0.661555378764513, -0.6180993622219358, 0.7062176644911458, 0.4498545069646633, -0.7059730725508399, 0.20387444996546977, -0.6114992021706563, -0.6112788069059313, -0.8140888444834564, -0.7639978518053926, -0.6138571593602574, -0.6827874468639291, -0.6256749992108391, -0.7904184023392192, 3.105541712270915, -0.6166872617957643, 0.6157643161991557, 1.7834180368927726, 0.26892086666082327, -0.6110273883542399, 3.108844408985829, -0.6105544626453434, -0.6124509605172495, -0.6100826488289273, -0.6114837238789439, -0.46979674886771683, 1.0561101502136176, -0.6166880422587551, 0.8475072182422045, -0.7044908106400453, 0.01568588338282265, -0.682180212790522, -0.8076634199391186, -0.6185859887982676, 1.0523356396822876, -0.7054344382728779, -0.6218812230040364, -0.6218738727532663, 0.0803194190501088, -0.726732880473156, -0.702479207958001, -0.6100858775936293, -0.6131453171495649, 3.1063426752158394, -0.4740059878593057, -0.6109907493587652, 4.679381674994918, 0.602422499876966, 1.0012528192251104, 3.3555134090390184, -0.6104936560253371, -0.6100853216473892, -0.6751030055442778, -0.8137712736748355, -0.718160047223808, -0.6223456865696821, 0.45564851250775396, -0.6214127502106971, -0.04389493306078223, -0.6568374624442829, 0.26586958849760045, -0.7116923653026687, -0.80810950787784, -0.6152301698164249, -0.7181734113161176, -0.6105610324331228, -0.6604046077008893, -0.6171630848398733, 0.2700945302976523, -0.7096807626206245, -0.7172297836832847, -0.611005783962613, 0.17464088787749726, 0.4501078178718253, -0.6681885674798016, -0.7048382770400824, -0.7044908106400453, -0.7044908106400453, -0.6148174105290533, 1.7718059480994088, -0.6185752975244202, -0.6185752975244202, 0.07867800172502713, 0.267033611395158, 0.5063741448916222, 0.7148666730666556, 0.08601058585018417, -0.6596681234988481, -0.6171169787214067, -0.6124417179110087, -0.614803459811552, -0.7021718338348912, -0.6176275484055196, -0.6207578483296461, -0.6209549686912056, -0.6091422499607966, -0.8612036940154819, -0.47566769338830206, 0.22002626466281275, -0.6166755682149939, -0.6128706543736604, -0.6242381752138957, -0.5368347776574065, -0.6887856062203501, -0.6100865457982447, -0.6474009642720248, -0.6653302233981512, -0.7990528331289981, 1.154653508083689, -0.6134079522423912, -0.6134026066054679, 3.3146139774002945, -0.8674583720590516, -0.6525909162526038, -0.7008406475250943, 7.497745218849295, -0.8588467111266701, -0.613385345543841, -0.7120398317027056, -0.6774619623679837, 0.8921300427591767, -0.7096807626206245, -0.6162194572070406, -0.8045728168317074, -0.4263213543912915, -0.7120398317027056, -0.6138573812041898, -0.6195562937152473, -0.7102193968985863, 3.9867752210935876, -0.6159762000480626, -0.797023795769047, -0.42867641424567987, 0.5543520257079824, -0.6219166378486555, 2.9213053752521603, -0.8041010030152914, 3.3611751748360144, -0.6455350915540545, -0.6007628241774041, -0.67415926565307, -0.6124428298034886, -0.6100718452967048, -0.6114775977790294, -0.616683920772687, -0.6110254959987691, -0.7012549343866769, -0.6796062852456194, -0.6095903425133643, -0.6214154230291591, 7.3092625574827945, -0.6798032144421989, -0.26236768685576006, 3.803954325524083, -0.636507451312941, 0.840100409068246, 0.34944094856792574, -0.682651914348563, 1.1386874017411148, 0.1761405844661979, 7.498217032665711, -0.7049626244564616, -0.7994486452355317, -0.6034343780453347, -0.6138571593602574, -0.801608293010119, -0.6237357362435438, -0.610974156501754, -0.6105544626453434, -0.6280115738527461, -0.6171598560751715, -0.42813532899318857, -0.7069167001836723, -0.6134079522423912, 1.7406313499883834, -0.7063780659057106, 1.3379462174696108, -0.6601399373152643], \"y\": [-0.9295819055334157, -0.8892571939920644, -0.8355912807154645, 0.9369947023500171, -0.8287035193805422, -0.8987327389172064, -0.037018107503606235, -0.4473201056845374, -0.8180614563490027, -0.4672789962866541, 0.017356235315390975, -0.36968514330034197, -0.6369565754859381, 1.1976346952755876, -0.8861186091759757, 1.1875450722588499, 0.034935672364050256, 1.1549930577617942, 0.8974228645171788, -0.8981010359221968, -0.507500308819149, -0.4626955150197175, 0.43487535206272127, -0.646977123337161, -0.8999961449072251, -0.8894316311323296, -0.69973843823339, -0.47551698497399136, -0.8551485354373946, -0.8981333481124651, 1.3835094320164056, -0.6309548541885521, -0.7079547612395153, -0.6350609236561136, 0.903386078256983, -0.6508140614702252, 1.1805963393137457, -0.8993504442713914, -0.9588817032757373, 0.013457770533729844, -0.2495680881543247, 0.014651709536230781, -0.6636094629746951, -0.8956259234465883, -0.9108624154904944, -0.9108424853315368, -0.8973465466041682, 0.9199548772551613, -0.4026344634814449, -0.8968376299321777, -0.8962059269371687, -0.8930474119621215, -0.898758045824624, 0.9011355338800623, -0.5738449955601335, -0.8741997211206971, -0.8665158861717255, 1.208023998464166, -0.015284641276990809, -0.4384708870059448, -0.8981209660811547, 1.0951785823909632, -0.8904425078806433, -0.9520282912919251, -0.8936990451160883, -0.887382015165994, 0.9325905530895985, -0.21564588930715975, -0.8974693329271878, -0.47528433785353036, -0.1820569283023434, -0.898117192017331, -0.8252597281952784, -0.0190894000574034, 1.381590631148538, -0.22842226837885124, -0.04936663765851402, -0.8908364514795886, 0.24680844674123437, 1.1160247812262745, -0.854633917463217, -0.8830791064601247, -0.6280260334868784, -0.8988619876782794, -0.45762411903025924, 0.009358971471346575, 0.27087447925089403, 0.8944065231793126, -0.9011087563677, 1.1840914471597328, 0.17269122832399691, -0.8579216811993373, 0.004743177364670955, 0.15237316710537774, -0.15958132905971387, 0.3697916480598533, 0.020097922386506803, 0.025721856180081847, -0.8763072825943717, -0.5334613147586434, -0.8792452670332057, 1.3745880408296298, -0.8924157089671122, -0.8834927021708228, -0.7802085987580161, -0.7067874853843676, -0.8949780643564444, -0.9005486830360773, -0.8589387534074511, 0.24582012488199792, 0.9172180347394383, -0.8874175553279362, 0.9390432929398782, -0.8167980503589839, -0.898117192017331, 1.198036835243193, -0.7562866962860416, -0.7978141538360849, 1.649218436315444, 0.01251748644639374, -0.8896659435236938, -0.34709004547320244, 0.26203118016555843, -0.6792139650383081, 0.9310686495774338, -0.699790236116148, -0.8886454211560131, 0.005568753501290037, -0.8432632635530474, -0.7090455639898529, 0.4639554265864807, -0.8934917042535753, -0.7865256287081102, -0.8900897754115344, -0.6202164461181886, -0.27881949295516945, -0.9221533362380956, -0.8963351756982418, -0.8975727319360461, 0.01251748644639374, -0.8822211700955234, -0.01010176855584238, 0.012194364543711029, 0.010622377461365408, -0.8791499460719139, -0.887382015165994, -0.8973013095377925, -0.8985202864285601, 0.004937050506280592, -0.3520615406510827, -0.8930829553714165, 0.030901497682203526, 0.008404146573654441, -0.42840833330737305, -0.008967611326896621, 0.005245631598607348, 0.014318890079643997, -0.20648619587952297, 0.01156266154870156, -0.89758888803118, -0.6300078425408344, 0.913199333932876, -0.4403816092413106, -0.0026505813768023276, -0.8931508109709798, -0.29377268568728737, 0.9387767170454299, -0.9233844300378461, -0.07717897160336515, -0.8678996803584152, 1.0830575518369183, 0.9214476965487317, -0.3918253234129603, 0.015984582513767553, -0.8494632084823099, 0.9159788632168562, 1.3616497015477111, -0.4277507805601489, -0.003691916332773205, -0.8149029413739557, -0.8287340946678307, -0.8937044218645487, -0.9010721401936882, 0.9203862433715662, -0.6279269384617637, -0.897489263086145, 0.27880604497547906, -0.44087436981816647, -0.8962258570961258, 1.1771219728411941, -0.6341133691635993, 1.69173747524372, -0.9004048944388542, -0.9107856320619857, 0.24444454587498815, 0.6106338219990516, -0.8936990451160883, 0.1661769269943364, 0.02780760708769297, -0.8975727319360461, -0.8943307481110975, -0.7852622227180914, -0.873067179501265, 0.9286056527118669, 1.1157630576808661, -0.9639918729193113, -0.8930673421210792, 0.8910977574937237, 0.9291945425418736, 0.011254080456374878, 0.009358971471346575, 0.01630770441645028, -0.884756108160842, -0.8966857626379172, 0.9101788283110545, -0.49574808909257795, -0.9263232221190687, -0.6312712485308534, -0.8934917042535753, 0.47279926851661275, -0.21256654820319304, 0.2442937516701795, 0.011374154763974144, -0.889386442753138, -0.8818511951922164, -0.8925191079759704, -0.9322061969290577, -0.8993644419122157, 1.1901219752779792, -0.3728436582753891, 1.554574025486679, -0.6367400841358759, -0.8993999853215106, -0.8911684590722275, -0.9000160750661828, 0.012756600551202462, -0.7142717911896096, -0.8590585268025132, -0.9577136182470095, -0.8975021879622522, -0.4365811547693772, 0.02430496826049462, 0.007772443578645016, -0.8949425209471495, -0.47465263485852094, -0.9246801482181333, -0.44342541594090523, -0.01593088508235624, -0.8791887207002362, -0.8981365793314919, -0.35332494664110164, -0.890540530141041, -0.8490638416283811, 0.019681094482575472, -0.43466073887693063, 0.01251748644639374, -0.09625284745193206, -0.6356064694269915, -0.8565311849025555, -0.8930700304953092, -0.2938954716855717, -0.7546894013220721, -0.8937825139659891, -0.8495802935031418, -0.9007474030062271, 0.9029805586454391, -0.15200089311960086, 1.6415675354977048, 0.012826067538720422, -0.8985453282136504, -0.9276189409488266, 0.33769280829685416, -0.9228846638534045, 1.1812318163725786, -0.8930474119621215, 0.940671826030458, -0.8394730455829906, -0.889888896987074, 0.9308456948151119, 0.02388814035656338, -0.8873620850070366, -0.8874913337681095, 0.02726153042268861, 0.9349864990753733, -0.8693242433162128, -0.8874654840158952, -0.8872829201408794, -0.4420101426566258, 0.924378414154476, -0.01593088508235624, -0.9251863771653634, -0.8975377313715471, -0.7092181672295341, 0.023471312452632044, -0.8797816490669237, -0.3520615406510827, 1.1991715353169352, -0.8924157089671122, -0.9285699908084893, -0.8982044349310554, 0.9348653286866027, 1.2099433425661015, -0.8981010359221968, -0.6139120755971385, -0.8946630201765942, 1.7062666441289365, -0.8962387819722331, -0.9005486830360773, -0.40130086833810186, -0.3912092336682885, -0.4325669099217526, 1.1521307437961747, -0.8918082391405978, -0.8886254909970555, -0.8962775566005552, 0.9302667637645132, -0.8449338018415053, -0.8911722331360508, -0.897489263086145, -0.6211640006107028, -0.6233744182484392, -0.8442108180455614, 0.9494806803855034, -0.8867465381071615, 0.11962727427094746, -0.6382194386311606, -0.49448468310255883, -0.43710838599081125, 0.9280377661302697, -0.896635678418266, -0.22400034741378522, -0.2227369414237665, 1.17202534895282, 0.9399690362168582, -0.7451734661590953, 0.012302611355315555, -0.8558870869513588, 0.9387767170454299, 1.2127378145710404, -0.8445266695430661, -0.8861186091759757, 0.011318704836911397, -0.8962059269371687, -0.4409777688270249, -0.9581433690786365, -0.8993843720711729, 0.2668399277648956, -0.6287438937060192, -0.901259550897244, -0.8985307874032938, -0.20459055697457446, 0.029358592220570055, 1.1866214877609147, -0.6373960209488514, 0.023514934883700093, -0.8974693329271878, -0.8892571939920645, -0.8893767490960574, -0.8817801570608106, -0.03970576216600272, -0.013389532291962577, -0.7428098304151772, -0.8814538045885716, -0.6180054856356555, -0.8835917971959377, 0.9294546559982687, -0.8835718670369799, -0.91966529888638, -0.8924356391260698, 0.4182100506065371, -0.889386442753138, -0.8476851845181131, -0.8892571939920645, -0.7453334118256586, -0.47068308390774, 0.009667552563673253, -0.6629777599796854, -0.8981263428296148, -0.8970605833955584, 0.9388908828008211, 0.07110023971922408, -0.8949624511061072, -0.8192607081969994, -0.8792786519881906, 0.9018649037034396, -0.19242738838503456, -0.8911684590722275, 0.15859649105422327, 0.45256993539645557, -0.9297014599879402, -0.898758045824624, -0.19684930935010053, -0.8993843720711729, -0.8969022543127144, -0.9000160750661828, -0.8980514948720779, -0.40332522608420324, -0.04747152867348574, -0.8911722331360508, -0.24961570196608, 0.008095565481327754, 1.561461358775567, -0.6236908125907402, 0.9291767701877555, -0.8886971206604425, -0.04241790471341036, 0.009358971471346575, -0.8842391134412849, -0.8842035700319897, 0.8904741315720753, 0.037462484344087936, 0.003256816612330442, -0.90003168831652, -0.8958900754396643, 0.5985003036043159, -0.3974605664731294, -0.8985808716229452, -0.7060596522544872, 0.1785637996131785, 0.5950459789725452, -0.8507266144723284, -0.899090331139732, -0.9000289999422898, -0.6331663575158816, 0.9375133110554108, 0.026479576717137573, -0.8835718670369799, 1.347713804835277, -0.8848869725314283, -0.005681826101280342, -0.8540032872329244, -0.9269770014519402, 0.019883047295428714, 0.929932875115298, -0.8928621597128752, 0.026414952336601044, -0.899416141416645, -0.8479469126098155, -0.890556143391379, -0.9327657274158835, 0.01504429842643146, 0.025151546346582135, -0.8986535740510492, -0.020969968232075618, -0.472371395524522, -0.6405157606461059, 0.0064153315873775926, 0.008095565481327754, 0.008095565481327754, -0.8923228109329876, 0.0728081904690001, -0.8886454211560131, -0.8886454211560131, 0.8971029757819349, -0.9271746480079026, 1.0933102039638058, -0.7559479604835506, 0.8830358692691425, -0.8502119964981508, -0.8903331892785279, -0.8968575600911357, -0.8937119699921959, 0.004743177364670955, -0.889888896987074, -0.8846333215130869, -0.8855865311260012, -0.9012950943065389, 1.1830792656887996, -0.39529968988551206, -0.8794697874189155, -0.8911119127392577, -0.8960185162336124, -0.8810703619643607, 0.484478503519109, -0.6148469706606084, -0.900034919535547, -0.8666362743683961, -0.8426331761675513, 0.9183764264358207, -0.5741051083670576, -0.8957034727032323, -0.8956776229510174, -0.8142712383789459, 1.1979889130499402, -0.8596875414232923, 0.005353878410211921, -0.33698279755305166, 1.1784540423979006, -0.8955941541011164, 0.01820281340147854, -0.6300072996960381, -0.29137189027509014, 0.01504429842643146, -0.8918195493813973, 0.920815993553722, -0.4448035302063767, 0.01820281340147854, -0.8949635238708238, -0.8846494769587508, 0.015352879518758102, -0.22589545639881353, -0.8920998574696072, 0.9107087456335714, -0.4416256279171684, 0.4225009547347184, -0.8844103680497065, -0.6470238435001687, 0.920184290558713, -0.8583070504124415, -0.8692664853572923, -0.9044735361931907, -0.634429220661104, -0.8968629368395962, -0.8999638327169568, -0.8980218710560396, -0.8911523029770934, -0.8987488950123402, 0.003350522613579002, -0.6272669624626371, -0.9005486830360773, -0.8848998974075354, -0.7858939257131009, -0.6267626274968595, 0.18958298480381078, -0.682387020498976, -0.8646563205959927, -0.04327401333447198, 0.44626054678324706, -0.6230585667509342, -0.9487022954475441, -0.02537088724767309, -0.337614500548061, 0.008727268476337159, 0.9222888891830415, -0.9086525761338009, -0.8949624511061072, 0.9176720193890315, -0.8815539717289324, -0.898500633992071, -0.8993843720711729, -0.8760113612558244, -0.890540530141041, -0.4419223568981048, 0.010930958553692147, -0.8957034727032323, 0.4915521234698758, 0.01062237746136542, -0.11824524726190482, -0.8495802935031415]}],\n",
              "                        {\"template\": {\"data\": {\"bar\": [{\"error_x\": {\"color\": \"#2a3f5f\"}, \"error_y\": {\"color\": \"#2a3f5f\"}, \"marker\": {\"line\": {\"color\": \"#E5ECF6\", \"width\": 0.5}}, \"type\": \"bar\"}], \"barpolar\": [{\"marker\": {\"line\": {\"color\": \"#E5ECF6\", \"width\": 0.5}}, \"type\": \"barpolar\"}], \"carpet\": [{\"aaxis\": {\"endlinecolor\": \"#2a3f5f\", \"gridcolor\": \"white\", \"linecolor\": \"white\", \"minorgridcolor\": \"white\", \"startlinecolor\": \"#2a3f5f\"}, \"baxis\": {\"endlinecolor\": \"#2a3f5f\", \"gridcolor\": \"white\", \"linecolor\": \"white\", \"minorgridcolor\": \"white\", \"startlinecolor\": \"#2a3f5f\"}, \"type\": \"carpet\"}], \"choropleth\": [{\"colorbar\": {\"outlinewidth\": 0, \"ticks\": \"\"}, \"type\": \"choropleth\"}], \"contour\": [{\"colorbar\": {\"outlinewidth\": 0, \"ticks\": \"\"}, \"colorscale\": [[0.0, \"#0d0887\"], [0.1111111111111111, \"#46039f\"], [0.2222222222222222, \"#7201a8\"], [0.3333333333333333, \"#9c179e\"], [0.4444444444444444, \"#bd3786\"], [0.5555555555555556, \"#d8576b\"], [0.6666666666666666, \"#ed7953\"], [0.7777777777777778, \"#fb9f3a\"], [0.8888888888888888, \"#fdca26\"], [1.0, \"#f0f921\"]], \"type\": \"contour\"}], \"contourcarpet\": [{\"colorbar\": {\"outlinewidth\": 0, \"ticks\": \"\"}, \"type\": \"contourcarpet\"}], \"heatmap\": [{\"colorbar\": {\"outlinewidth\": 0, \"ticks\": \"\"}, \"colorscale\": [[0.0, \"#0d0887\"], [0.1111111111111111, \"#46039f\"], [0.2222222222222222, \"#7201a8\"], [0.3333333333333333, \"#9c179e\"], [0.4444444444444444, \"#bd3786\"], [0.5555555555555556, \"#d8576b\"], [0.6666666666666666, \"#ed7953\"], [0.7777777777777778, \"#fb9f3a\"], [0.8888888888888888, \"#fdca26\"], [1.0, \"#f0f921\"]], \"type\": \"heatmap\"}], \"heatmapgl\": [{\"colorbar\": {\"outlinewidth\": 0, \"ticks\": \"\"}, \"colorscale\": [[0.0, \"#0d0887\"], [0.1111111111111111, \"#46039f\"], [0.2222222222222222, \"#7201a8\"], [0.3333333333333333, \"#9c179e\"], [0.4444444444444444, \"#bd3786\"], [0.5555555555555556, \"#d8576b\"], [0.6666666666666666, \"#ed7953\"], [0.7777777777777778, \"#fb9f3a\"], [0.8888888888888888, \"#fdca26\"], [1.0, \"#f0f921\"]], \"type\": \"heatmapgl\"}], \"histogram\": [{\"marker\": {\"colorbar\": {\"outlinewidth\": 0, \"ticks\": \"\"}}, \"type\": \"histogram\"}], \"histogram2d\": [{\"colorbar\": {\"outlinewidth\": 0, \"ticks\": \"\"}, \"colorscale\": [[0.0, \"#0d0887\"], [0.1111111111111111, \"#46039f\"], [0.2222222222222222, \"#7201a8\"], [0.3333333333333333, \"#9c179e\"], [0.4444444444444444, \"#bd3786\"], [0.5555555555555556, \"#d8576b\"], [0.6666666666666666, \"#ed7953\"], [0.7777777777777778, \"#fb9f3a\"], [0.8888888888888888, \"#fdca26\"], [1.0, \"#f0f921\"]], \"type\": \"histogram2d\"}], \"histogram2dcontour\": [{\"colorbar\": {\"outlinewidth\": 0, \"ticks\": \"\"}, \"colorscale\": [[0.0, \"#0d0887\"], [0.1111111111111111, \"#46039f\"], [0.2222222222222222, \"#7201a8\"], [0.3333333333333333, \"#9c179e\"], [0.4444444444444444, \"#bd3786\"], [0.5555555555555556, \"#d8576b\"], [0.6666666666666666, \"#ed7953\"], [0.7777777777777778, \"#fb9f3a\"], [0.8888888888888888, \"#fdca26\"], [1.0, \"#f0f921\"]], \"type\": \"histogram2dcontour\"}], \"mesh3d\": [{\"colorbar\": {\"outlinewidth\": 0, \"ticks\": \"\"}, \"type\": \"mesh3d\"}], \"parcoords\": [{\"line\": {\"colorbar\": {\"outlinewidth\": 0, \"ticks\": \"\"}}, \"type\": \"parcoords\"}], \"pie\": [{\"automargin\": true, \"type\": \"pie\"}], \"scatter\": [{\"marker\": {\"colorbar\": {\"outlinewidth\": 0, \"ticks\": \"\"}}, \"type\": \"scatter\"}], \"scatter3d\": [{\"line\": {\"colorbar\": {\"outlinewidth\": 0, \"ticks\": \"\"}}, \"marker\": {\"colorbar\": {\"outlinewidth\": 0, \"ticks\": \"\"}}, \"type\": \"scatter3d\"}], \"scattercarpet\": [{\"marker\": {\"colorbar\": {\"outlinewidth\": 0, \"ticks\": \"\"}}, \"type\": \"scattercarpet\"}], \"scattergeo\": [{\"marker\": {\"colorbar\": {\"outlinewidth\": 0, \"ticks\": \"\"}}, \"type\": \"scattergeo\"}], \"scattergl\": [{\"marker\": {\"colorbar\": {\"outlinewidth\": 0, \"ticks\": \"\"}}, \"type\": \"scattergl\"}], \"scattermapbox\": [{\"marker\": {\"colorbar\": {\"outlinewidth\": 0, \"ticks\": \"\"}}, \"type\": \"scattermapbox\"}], \"scatterpolar\": [{\"marker\": {\"colorbar\": {\"outlinewidth\": 0, \"ticks\": \"\"}}, \"type\": \"scatterpolar\"}], \"scatterpolargl\": [{\"marker\": {\"colorbar\": {\"outlinewidth\": 0, \"ticks\": \"\"}}, \"type\": \"scatterpolargl\"}], \"scatterternary\": [{\"marker\": {\"colorbar\": {\"outlinewidth\": 0, \"ticks\": \"\"}}, \"type\": \"scatterternary\"}], \"surface\": [{\"colorbar\": {\"outlinewidth\": 0, \"ticks\": \"\"}, \"colorscale\": [[0.0, \"#0d0887\"], [0.1111111111111111, \"#46039f\"], [0.2222222222222222, \"#7201a8\"], [0.3333333333333333, \"#9c179e\"], [0.4444444444444444, \"#bd3786\"], [0.5555555555555556, \"#d8576b\"], [0.6666666666666666, \"#ed7953\"], [0.7777777777777778, \"#fb9f3a\"], [0.8888888888888888, \"#fdca26\"], [1.0, \"#f0f921\"]], \"type\": \"surface\"}], \"table\": [{\"cells\": {\"fill\": {\"color\": \"#EBF0F8\"}, \"line\": {\"color\": \"white\"}}, \"header\": {\"fill\": {\"color\": \"#C8D4E3\"}, \"line\": {\"color\": \"white\"}}, \"type\": \"table\"}]}, \"layout\": {\"annotationdefaults\": {\"arrowcolor\": \"#2a3f5f\", \"arrowhead\": 0, \"arrowwidth\": 1}, \"coloraxis\": {\"colorbar\": {\"outlinewidth\": 0, \"ticks\": \"\"}}, \"colorscale\": {\"diverging\": [[0, \"#8e0152\"], [0.1, \"#c51b7d\"], [0.2, \"#de77ae\"], [0.3, \"#f1b6da\"], [0.4, \"#fde0ef\"], [0.5, \"#f7f7f7\"], [0.6, \"#e6f5d0\"], [0.7, \"#b8e186\"], [0.8, \"#7fbc41\"], [0.9, \"#4d9221\"], [1, \"#276419\"]], \"sequential\": [[0.0, \"#0d0887\"], [0.1111111111111111, \"#46039f\"], [0.2222222222222222, \"#7201a8\"], [0.3333333333333333, \"#9c179e\"], [0.4444444444444444, \"#bd3786\"], [0.5555555555555556, \"#d8576b\"], [0.6666666666666666, \"#ed7953\"], [0.7777777777777778, \"#fb9f3a\"], [0.8888888888888888, \"#fdca26\"], [1.0, \"#f0f921\"]], \"sequentialminus\": [[0.0, \"#0d0887\"], [0.1111111111111111, \"#46039f\"], [0.2222222222222222, \"#7201a8\"], [0.3333333333333333, \"#9c179e\"], [0.4444444444444444, \"#bd3786\"], [0.5555555555555556, \"#d8576b\"], [0.6666666666666666, \"#ed7953\"], [0.7777777777777778, \"#fb9f3a\"], [0.8888888888888888, \"#fdca26\"], [1.0, \"#f0f921\"]]}, \"colorway\": [\"#636efa\", \"#EF553B\", \"#00cc96\", \"#ab63fa\", \"#FFA15A\", \"#19d3f3\", \"#FF6692\", \"#B6E880\", \"#FF97FF\", \"#FECB52\"], \"font\": {\"color\": \"#2a3f5f\"}, \"geo\": {\"bgcolor\": \"white\", \"lakecolor\": \"white\", \"landcolor\": \"#E5ECF6\", \"showlakes\": true, \"showland\": true, \"subunitcolor\": \"white\"}, \"hoverlabel\": {\"align\": \"left\"}, \"hovermode\": \"closest\", \"mapbox\": {\"style\": \"light\"}, \"paper_bgcolor\": \"white\", \"plot_bgcolor\": \"#E5ECF6\", \"polar\": {\"angularaxis\": {\"gridcolor\": \"white\", \"linecolor\": \"white\", \"ticks\": \"\"}, \"bgcolor\": \"#E5ECF6\", \"radialaxis\": {\"gridcolor\": \"white\", \"linecolor\": \"white\", \"ticks\": \"\"}}, \"scene\": {\"xaxis\": {\"backgroundcolor\": \"#E5ECF6\", \"gridcolor\": \"white\", \"gridwidth\": 2, \"linecolor\": \"white\", \"showbackground\": true, \"ticks\": \"\", \"zerolinecolor\": \"white\"}, \"yaxis\": {\"backgroundcolor\": \"#E5ECF6\", \"gridcolor\": \"white\", \"gridwidth\": 2, \"linecolor\": \"white\", \"showbackground\": true, \"ticks\": \"\", \"zerolinecolor\": \"white\"}, \"zaxis\": {\"backgroundcolor\": \"#E5ECF6\", \"gridcolor\": \"white\", \"gridwidth\": 2, \"linecolor\": \"white\", \"showbackground\": true, \"ticks\": \"\", \"zerolinecolor\": \"white\"}}, \"shapedefaults\": {\"line\": {\"color\": \"#2a3f5f\"}}, \"ternary\": {\"aaxis\": {\"gridcolor\": \"white\", \"linecolor\": \"white\", \"ticks\": \"\"}, \"baxis\": {\"gridcolor\": \"white\", \"linecolor\": \"white\", \"ticks\": \"\"}, \"bgcolor\": \"#E5ECF6\", \"caxis\": {\"gridcolor\": \"white\", \"linecolor\": \"white\", \"ticks\": \"\"}}, \"title\": {\"x\": 0.05}, \"xaxis\": {\"automargin\": true, \"gridcolor\": \"white\", \"linecolor\": \"white\", \"ticks\": \"\", \"title\": {\"standoff\": 15}, \"zerolinecolor\": \"white\", \"zerolinewidth\": 2}, \"yaxis\": {\"automargin\": true, \"gridcolor\": \"white\", \"linecolor\": \"white\", \"ticks\": \"\", \"title\": {\"standoff\": 15}, \"zerolinecolor\": \"white\", \"zerolinewidth\": 2}}}, \"title\": {\"text\": \"PCA 2D Dimensionality Reduction\"}, \"xaxis\": {\"showline\": false, \"title\": {\"text\": \"C1\"}}, \"yaxis\": {\"showline\": false, \"title\": {\"text\": \"C2\"}}},\n",
              "                        {\"responsive\": true}\n",
              "                    ).then(function(){\n",
              "                            \n",
              "var gd = document.getElementById('0b74f041-d3bf-46eb-92d8-7edb0c99e543');\n",
              "var x = new MutationObserver(function (mutations, observer) {{\n",
              "        var display = window.getComputedStyle(gd).display;\n",
              "        if (!display || display === 'none') {{\n",
              "            console.log([gd, 'removed!']);\n",
              "            Plotly.purge(gd);\n",
              "            observer.disconnect();\n",
              "        }}\n",
              "}});\n",
              "\n",
              "// Listen for the removal of the full notebook cells\n",
              "var notebookContainer = gd.closest('#notebook-container');\n",
              "if (notebookContainer) {{\n",
              "    x.observe(notebookContainer, {childList: true});\n",
              "}}\n",
              "\n",
              "// Listen for the clearing of the current output cell\n",
              "var outputEl = gd.closest('.output');\n",
              "if (outputEl) {{\n",
              "    x.observe(outputEl, {childList: true});\n",
              "}}\n",
              "\n",
              "                        })\n",
              "                };\n",
              "                \n",
              "            </script>\n",
              "        </div>\n",
              "</body>\n",
              "</html>"
            ]
          },
          "metadata": {
            "tags": []
          }
        }
      ]
    },
    {
      "cell_type": "markdown",
      "metadata": {
        "id": "gU93E95AhE6B",
        "colab_type": "text"
      },
      "source": [
        "# LASSO"
      ]
    },
    {
      "cell_type": "code",
      "metadata": {
        "id": "wrQGBquWhqV2",
        "colab_type": "code",
        "colab": {}
      },
      "source": [
        "X_Train, X_Test, Y_Train, Y_Test = train_test_split(feature, target, test_size = 0.20, random_state = 50) #train.csv"
      ],
      "execution_count": null,
      "outputs": []
    },
    {
      "cell_type": "code",
      "metadata": {
        "id": "BtNuBbV7ft4j",
        "colab_type": "code",
        "colab": {
          "base_uri": "https://localhost:8080/",
          "height": 50
        },
        "outputId": "add8af78-1932-44e8-b516-0edf8ee5fd50"
      },
      "source": [
        "from sklearn.feature_selection import RFE\n",
        "\n",
        "model = RandomForestClassifier(n_estimators=25)\n",
        "rfe = RFE(model, 4)\n",
        "start = time.process_time()\n",
        "RFE_X_Train = rfe.fit_transform(X_Train,Y_Train)\n",
        "RFE_X_Test = rfe.transform(X_Test)\n",
        "rfe = rfe.fit(RFE_X_Train,Y_Train)\n",
        "print(time.process_time() - start)\n",
        "print(\"Overall Accuracy using RFE: \", rfe.score(RFE_X_Test,Y_Test))"
      ],
      "execution_count": null,
      "outputs": [
        {
          "output_type": "stream",
          "text": [
            "0.36225849300000235\n",
            "Overall Accuracy using RFE:  0.7597765363128491\n"
          ],
          "name": "stdout"
        }
      ]
    },
    {
      "cell_type": "code",
      "metadata": {
        "id": "yWjutxqUhIVX",
        "colab_type": "code",
        "colab": {
          "base_uri": "https://localhost:8080/",
          "height": 67
        },
        "outputId": "8a194696-c7c5-4ed5-9ecd-069931018db2"
      },
      "source": [
        "model = RandomForestClassifier(n_estimators=100)\n",
        "rfe = RFE(model, 6)\n",
        "RFE_X_Train = rfe.fit_transform(X_Train,Y_Train)\n",
        "model.fit(RFE_X_Train,Y_Train) \n",
        "print(\"Number of Features: \", rfe.n_features_)\n",
        "print(\"Selected Features: \")\n",
        "colcheck = pd.Series(rfe.support_,index = list(feature.columns))\n",
        "colcheck[colcheck == True].index"
      ],
      "execution_count": null,
      "outputs": [
        {
          "output_type": "stream",
          "text": [
            "Number of Features:  6\n",
            "Selected Features: \n"
          ],
          "name": "stdout"
        },
        {
          "output_type": "execute_result",
          "data": {
            "text/plain": [
              "Index(['Pclass', 'Age', 'SibSp', 'Fare', 'Sex_female', 'Sex_male'], dtype='object')"
            ]
          },
          "metadata": {
            "tags": []
          },
          "execution_count": 108
        }
      ]
    },
    {
      "cell_type": "code",
      "metadata": {
        "id": "pcODRAYahLpu",
        "colab_type": "code",
        "colab": {
          "base_uri": "https://localhost:8080/",
          "height": 84
        },
        "outputId": "a7d3820a-f8a3-4adf-de86-fd95a65027c7"
      },
      "source": [
        "from sklearn.linear_model import LassoCV\n",
        "\n",
        "regr = LassoCV(cv=5, random_state=101)\n",
        "regr.fit(X_Train,Y_Train)\n",
        "print(\"LassoCV Best Alpha Scored: \", regr.alpha_)\n",
        "print(\"LassoCV Model Accuracy: \", regr.score(X_Test, Y_Test))\n",
        "model_coef = pd.Series(regr.coef_, index = list(feature.columns))\n",
        "print(\"Variables Eliminated: \", str(sum(model_coef == 0)))\n",
        "print(\"Variables Kept: \", str(sum(model_coef != 0))) "
      ],
      "execution_count": null,
      "outputs": [
        {
          "output_type": "stream",
          "text": [
            "LassoCV Best Alpha Scored:  0.001887116467148036\n",
            "LassoCV Model Accuracy:  0.3750393158515381\n",
            "Variables Eliminated:  3\n",
            "Variables Kept:  7\n"
          ],
          "name": "stdout"
        }
      ]
    },
    {
      "cell_type": "code",
      "metadata": {
        "id": "GAFla7-0hXtS",
        "colab_type": "code",
        "colab": {
          "base_uri": "https://localhost:8080/",
          "height": 694
        },
        "outputId": "4b73484a-aac2-4988-8ba5-c5e3513e5a6b"
      },
      "source": [
        "figure(num=None, figsize=(12, 10), dpi=80, facecolor='w', edgecolor='k')\n",
        "\n",
        "top_coef = model_coef.sort_values()\n",
        "top_coef[top_coef != 0].plot(kind = \"barh\")\n",
        "plt.title(\"Most Important Features Identified using Lasso (!0)\")"
      ],
      "execution_count": null,
      "outputs": [
        {
          "output_type": "execute_result",
          "data": {
            "text/plain": [
              "Text(0.5, 1.0, 'Most Important Features Identified using Lasso (!0)')"
            ]
          },
          "metadata": {
            "tags": []
          },
          "execution_count": 110
        },
        {
          "output_type": "display_data",
          "data": {
            "image/png": "[encoded data removed]",
            "text/plain": [
              "<Figure size 960x800 with 1 Axes>"
            ]
          },
          "metadata": {
            "tags": []
          }
        }
      ]
    },
    {
      "cell_type": "markdown",
      "metadata": {
        "id": "21l74QRwidip",
        "colab_type": "text"
      },
      "source": [
        "**KNN**"
      ]
    },
    {
      "cell_type": "code",
      "metadata": {
        "id": "DhxQNAGjhcU2",
        "colab_type": "code",
        "colab": {}
      },
      "source": [
        "# Fitting K-NN to the Training set\n",
        "from sklearn.neighbors import KNeighborsClassifier\n",
        "classifier = KNeighborsClassifier(n_neighbors = 20, metric = 'minkowski', p = 2)\n",
        "classifier.fit(X_Train, Y_Train)\n",
        "\n",
        "# Predicting the Test set results\n",
        "y_pred = classifier.predict(X_Test)\n",
        "\n"
      ],
      "execution_count": null,
      "outputs": []
    },
    {
      "cell_type": "code",
      "metadata": {
        "id": "o7lgnRQNiijn",
        "colab_type": "code",
        "colab": {}
      },
      "source": [
        "# Making the Confusion Matrix\n",
        "from sklearn.metrics import confusion_matrix\n",
        "cm = confusion_matrix(Y_Test, y_pred)\n"
      ],
      "execution_count": null,
      "outputs": []
    },
    {
      "cell_type": "code",
      "metadata": {
        "id": "ZPxbopL6irsA",
        "colab_type": "code",
        "colab": {
          "base_uri": "https://localhost:8080/",
          "height": 202
        },
        "outputId": "f2ede079-87d5-419f-acb7-733bacd903dd"
      },
      "source": [
        "print(confusion_matrix(Y_Test,y_pred))\n",
        "print(classification_report(Y_Test,y_pred))"
      ],
      "execution_count": null,
      "outputs": [
        {
          "output_type": "stream",
          "text": [
            "[[96  5]\n",
            " [38 40]]\n",
            "              precision    recall  f1-score   support\n",
            "\n",
            "           0       0.72      0.95      0.82       101\n",
            "           1       0.89      0.51      0.65        78\n",
            "\n",
            "    accuracy                           0.76       179\n",
            "   macro avg       0.80      0.73      0.73       179\n",
            "weighted avg       0.79      0.76      0.74       179\n",
            "\n"
          ],
          "name": "stdout"
        }
      ]
    },
    {
      "cell_type": "markdown",
      "metadata": {
        "id": "Oz7ZRRAFjK2i",
        "colab_type": "text"
      },
      "source": [
        "**SVM**"
      ]
    },
    {
      "cell_type": "code",
      "metadata": {
        "id": "j0FYFTAHiqn5",
        "colab_type": "code",
        "colab": {}
      },
      "source": [
        "# Fitting SVM to the Training set\n",
        "from sklearn.svm import SVC\n",
        "classifier = SVC(kernel = 'linear', random_state = 0)\n",
        "classifier.fit(X_Train, Y_Train)\n",
        "\n",
        "# Predicting the Test set results\n",
        "y_pred = classifier.predict(X_Test)\n",
        "\n",
        "# Making the Confusion Matrix\n",
        "from sklearn.metrics import confusion_matrix\n",
        "cm = confusion_matrix(Y_Test, y_pred)"
      ],
      "execution_count": null,
      "outputs": []
    },
    {
      "cell_type": "code",
      "metadata": {
        "id": "FhrL6HULjRE4",
        "colab_type": "code",
        "colab": {
          "base_uri": "https://localhost:8080/",
          "height": 202
        },
        "outputId": "5b4036c9-41f7-4fbc-b756-8388a04c9e35"
      },
      "source": [
        "print(confusion_matrix(Y_Test,y_pred))\n",
        "print(classification_report(Y_Test,y_pred))"
      ],
      "execution_count": null,
      "outputs": [
        {
          "output_type": "stream",
          "text": [
            "[[87 14]\n",
            " [25 53]]\n",
            "              precision    recall  f1-score   support\n",
            "\n",
            "           0       0.78      0.86      0.82       101\n",
            "           1       0.79      0.68      0.73        78\n",
            "\n",
            "    accuracy                           0.78       179\n",
            "   macro avg       0.78      0.77      0.77       179\n",
            "weighted avg       0.78      0.78      0.78       179\n",
            "\n"
          ],
          "name": "stdout"
        }
      ]
    },
    {
      "cell_type": "code",
      "metadata": {
        "id": "px9-gedQm50j",
        "colab_type": "code",
        "colab": {
          "base_uri": "https://localhost:8080/",
          "height": 195
        },
        "outputId": "4bb631ba-fa09-4399-a522-a20cf94cff56"
      },
      "source": [
        "feature.head()"
      ],
      "execution_count": null,
      "outputs": [
        {
          "output_type": "execute_result",
          "data": {
            "text/html": [
              "<div>\n",
              "<style scoped>\n",
              "    .dataframe tbody tr th:only-of-type {\n",
              "        vertical-align: middle;\n",
              "    }\n",
              "\n",
              "    .dataframe tbody tr th {\n",
              "        vertical-align: top;\n",
              "    }\n",
              "\n",
              "    .dataframe thead th {\n",
              "        text-align: right;\n",
              "    }\n",
              "</style>\n",
              "<table border=\"1\" class=\"dataframe\">\n",
              "  <thead>\n",
              "    <tr style=\"text-align: right;\">\n",
              "      <th></th>\n",
              "      <th>Pclass</th>\n",
              "      <th>Age</th>\n",
              "      <th>SibSp</th>\n",
              "      <th>Parch</th>\n",
              "      <th>Fare</th>\n",
              "      <th>Sex_female</th>\n",
              "      <th>Sex_male</th>\n",
              "      <th>Embarked_C</th>\n",
              "      <th>Embarked_Q</th>\n",
              "      <th>Embarked_S</th>\n",
              "    </tr>\n",
              "  </thead>\n",
              "  <tbody>\n",
              "    <tr>\n",
              "      <th>0</th>\n",
              "      <td>3</td>\n",
              "      <td>0.271174</td>\n",
              "      <td>1</td>\n",
              "      <td>0</td>\n",
              "      <td>0.014151</td>\n",
              "      <td>0</td>\n",
              "      <td>1</td>\n",
              "      <td>0</td>\n",
              "      <td>0</td>\n",
              "      <td>1</td>\n",
              "    </tr>\n",
              "    <tr>\n",
              "      <th>1</th>\n",
              "      <td>1</td>\n",
              "      <td>0.472229</td>\n",
              "      <td>1</td>\n",
              "      <td>0</td>\n",
              "      <td>0.139136</td>\n",
              "      <td>1</td>\n",
              "      <td>0</td>\n",
              "      <td>1</td>\n",
              "      <td>0</td>\n",
              "      <td>0</td>\n",
              "    </tr>\n",
              "    <tr>\n",
              "      <th>2</th>\n",
              "      <td>3</td>\n",
              "      <td>0.321438</td>\n",
              "      <td>0</td>\n",
              "      <td>0</td>\n",
              "      <td>0.015469</td>\n",
              "      <td>1</td>\n",
              "      <td>0</td>\n",
              "      <td>0</td>\n",
              "      <td>0</td>\n",
              "      <td>1</td>\n",
              "    </tr>\n",
              "    <tr>\n",
              "      <th>3</th>\n",
              "      <td>1</td>\n",
              "      <td>0.434531</td>\n",
              "      <td>1</td>\n",
              "      <td>0</td>\n",
              "      <td>0.103644</td>\n",
              "      <td>1</td>\n",
              "      <td>0</td>\n",
              "      <td>0</td>\n",
              "      <td>0</td>\n",
              "      <td>1</td>\n",
              "    </tr>\n",
              "    <tr>\n",
              "      <th>4</th>\n",
              "      <td>3</td>\n",
              "      <td>0.434531</td>\n",
              "      <td>0</td>\n",
              "      <td>0</td>\n",
              "      <td>0.015713</td>\n",
              "      <td>0</td>\n",
              "      <td>1</td>\n",
              "      <td>0</td>\n",
              "      <td>0</td>\n",
              "      <td>1</td>\n",
              "    </tr>\n",
              "  </tbody>\n",
              "</table>\n",
              "</div>"
            ],
            "text/plain": [
              "   Pclass       Age  SibSp  Parch  ...  Sex_male  Embarked_C  Embarked_Q  Embarked_S\n",
              "0       3  0.271174      1      0  ...         1           0           0           1\n",
              "1       1  0.472229      1      0  ...         0           1           0           0\n",
              "2       3  0.321438      0      0  ...         0           0           0           1\n",
              "3       1  0.434531      1      0  ...         0           0           0           1\n",
              "4       3  0.434531      0      0  ...         1           0           0           1\n",
              "\n",
              "[5 rows x 10 columns]"
            ]
          },
          "metadata": {
            "tags": []
          },
          "execution_count": 116
        }
      ]
    },
    {
      "cell_type": "code",
      "metadata": {
        "id": "PeNGF6NWm7Nc",
        "colab_type": "code",
        "colab": {
          "base_uri": "https://localhost:8080/",
          "height": 118
        },
        "outputId": "b73e13ec-cc93-4e5a-d2c4-e6c492a71eb7"
      },
      "source": [
        "target.head()"
      ],
      "execution_count": null,
      "outputs": [
        {
          "output_type": "execute_result",
          "data": {
            "text/plain": [
              "0    0\n",
              "1    1\n",
              "2    1\n",
              "3    1\n",
              "4    0\n",
              "Name: Survived, dtype: int64"
            ]
          },
          "metadata": {
            "tags": []
          },
          "execution_count": 117
        }
      ]
    },
    {
      "cell_type": "markdown",
      "metadata": {
        "id": "byUKG3Abu2mI",
        "colab_type": "text"
      },
      "source": [
        "**GLM**"
      ]
    },
    {
      "cell_type": "code",
      "metadata": {
        "id": "k3ku2Z_um81S",
        "colab_type": "code",
        "colab": {}
      },
      "source": [
        "import statsmodels.api as sm # Logistic regression model\n",
        "logm1 = sm.GLM(Y_Train,(sm.add_constant(X_Train)), family = sm.families.Binomial())\n",
        "\n"
      ],
      "execution_count": null,
      "outputs": []
    },
    {
      "cell_type": "code",
      "metadata": {
        "id": "tvgofN3vnCGg",
        "colab_type": "code",
        "colab": {
          "base_uri": "https://localhost:8080/",
          "height": 454
        },
        "outputId": "838ccb5f-61dd-4baa-a453-151f64e7367f"
      },
      "source": [
        "print(logm1.fit().summary())"
      ],
      "execution_count": null,
      "outputs": [
        {
          "output_type": "stream",
          "text": [
            "                 Generalized Linear Model Regression Results                  \n",
            "==============================================================================\n",
            "Dep. Variable:               Survived   No. Observations:                  712\n",
            "Model:                            GLM   Df Residuals:                      703\n",
            "Model Family:                Binomial   Df Model:                            8\n",
            "Link Function:                  logit   Scale:                          1.0000\n",
            "Method:                          IRLS   Log-Likelihood:                -310.53\n",
            "Date:                Fri, 21 Aug 2020   Deviance:                       621.05\n",
            "Time:                        05:35:36   Pearson chi2:                     724.\n",
            "No. Iterations:                     5                                         \n",
            "Covariance Type:            nonrobust                                         \n",
            "==============================================================================\n",
            "                 coef    std err          z      P>|z|      [0.025      0.975]\n",
            "------------------------------------------------------------------------------\n",
            "const          1.8606      0.306      6.078      0.000       1.261       2.461\n",
            "Pclass        -1.0891      0.161     -6.764      0.000      -1.405      -0.774\n",
            "Age           -2.5696      0.616     -4.170      0.000      -3.777      -1.362\n",
            "SibSp         -0.3242      0.118     -2.748      0.006      -0.555      -0.093\n",
            "Parch         -0.1181      0.140     -0.843      0.399      -0.393       0.157\n",
            "Fare           1.5441      1.481      1.042      0.297      -1.359       4.447\n",
            "Sex_female     2.3144      0.212     10.914      0.000       1.899       2.730\n",
            "Sex_male      -0.4538      0.168     -2.709      0.007      -0.782      -0.125\n",
            "Embarked_C     0.6087      0.215      2.836      0.005       0.188       1.029\n",
            "Embarked_Q     0.8748      0.303      2.888      0.004       0.281       1.469\n",
            "Embarked_S     0.3771      0.164      2.297      0.022       0.055       0.699\n",
            "==============================================================================\n"
          ],
          "name": "stdout"
        }
      ]
    },
    {
      "cell_type": "code",
      "metadata": {
        "id": "lXeIeSvInFNw",
        "colab_type": "code",
        "colab": {}
      },
      "source": [
        "from sklearn.linear_model import LogisticRegression\n",
        "logreg = LogisticRegression()\n"
      ],
      "execution_count": null,
      "outputs": []
    },
    {
      "cell_type": "code",
      "metadata": {
        "id": "acRTt008ncTv",
        "colab_type": "code",
        "colab": {}
      },
      "source": [
        "from sklearn.feature_selection import RFE\n",
        "rfe = RFE(logreg, 5) # running RFE with 13 variables as output\n",
        "rfe = rfe.fit(X_Train, Y_Train)\n"
      ],
      "execution_count": null,
      "outputs": []
    },
    {
      "cell_type": "code",
      "metadata": {
        "id": "6oDf7CkynhD2",
        "colab_type": "code",
        "colab": {
          "base_uri": "https://localhost:8080/",
          "height": 50
        },
        "outputId": "8f8bb360-06f9-41c7-e47d-0ca26cd4ad2e"
      },
      "source": [
        "rfe.support_\n"
      ],
      "execution_count": null,
      "outputs": [
        {
          "output_type": "execute_result",
          "data": {
            "text/plain": [
              "array([ True,  True, False, False, False,  True,  True, False, False,\n",
              "        True])"
            ]
          },
          "metadata": {
            "tags": []
          },
          "execution_count": 122
        }
      ]
    },
    {
      "cell_type": "code",
      "metadata": {
        "id": "c4wHQNcOnjXU",
        "colab_type": "code",
        "colab": {
          "base_uri": "https://localhost:8080/",
          "height": 185
        },
        "outputId": "2b59b998-1998-48c9-a6f6-5032a19bcff7"
      },
      "source": [
        " list(zip(X_Train.columns, rfe.support_, rfe.ranking_))\n"
      ],
      "execution_count": null,
      "outputs": [
        {
          "output_type": "execute_result",
          "data": {
            "text/plain": [
              "[('Pclass', True, 1),\n",
              " ('Age', True, 1),\n",
              " ('SibSp', False, 3),\n",
              " ('Parch', False, 5),\n",
              " ('Fare', False, 2),\n",
              " ('Sex_female', True, 1),\n",
              " ('Sex_male', True, 1),\n",
              " ('Embarked_C', False, 6),\n",
              " ('Embarked_Q', False, 4),\n",
              " ('Embarked_S', True, 1)]"
            ]
          },
          "metadata": {
            "tags": []
          },
          "execution_count": 123
        }
      ]
    },
    {
      "cell_type": "code",
      "metadata": {
        "id": "piiWDuxunoul",
        "colab_type": "code",
        "colab": {}
      },
      "source": [
        "col = X_Train.columns[rfe.support_]\n"
      ],
      "execution_count": null,
      "outputs": []
    },
    {
      "cell_type": "code",
      "metadata": {
        "id": "ChA52LBZoOOr",
        "colab_type": "code",
        "colab": {
          "base_uri": "https://localhost:8080/",
          "height": 34
        },
        "outputId": "70b08417-ebde-4479-f4ea-abbc9fe81d80"
      },
      "source": [
        "X_Train.columns[~rfe.support_]"
      ],
      "execution_count": null,
      "outputs": [
        {
          "output_type": "execute_result",
          "data": {
            "text/plain": [
              "Index(['SibSp', 'Parch', 'Fare', 'Embarked_C', 'Embarked_Q'], dtype='object')"
            ]
          },
          "metadata": {
            "tags": []
          },
          "execution_count": 125
        }
      ]
    },
    {
      "cell_type": "code",
      "metadata": {
        "id": "vbzG6g52oIt4",
        "colab_type": "code",
        "colab": {
          "base_uri": "https://localhost:8080/",
          "height": 370
        },
        "outputId": "45fc501b-2292-43a2-bac3-16bdd31c0651"
      },
      "source": [
        "X_train_sm = sm.add_constant(X_Train[col])\n",
        "logm2 = sm.GLM(Y_Train,X_train_sm, family = sm.families.Binomial())\n",
        "res = logm2.fit()\n",
        "print(res.summary())\n"
      ],
      "execution_count": null,
      "outputs": [
        {
          "output_type": "stream",
          "text": [
            "                 Generalized Linear Model Regression Results                  \n",
            "==============================================================================\n",
            "Dep. Variable:               Survived   No. Observations:                  712\n",
            "Model:                            GLM   Df Residuals:                      707\n",
            "Model Family:                Binomial   Df Model:                            4\n",
            "Link Function:                  logit   Scale:                          1.0000\n",
            "Method:                          IRLS   Log-Likelihood:                -316.64\n",
            "Date:                Fri, 21 Aug 2020   Deviance:                       633.29\n",
            "Time:                        05:35:46   Pearson chi2:                     741.\n",
            "No. Iterations:                     6                                         \n",
            "Covariance Type:            nonrobust                                         \n",
            "==============================================================================\n",
            "                 coef    std err          z      P>|z|      [0.025      0.975]\n",
            "------------------------------------------------------------------------------\n",
            "const          2.2841      0.314      7.265      0.000       1.668       2.900\n",
            "Pclass        -1.1575      0.132     -8.747      0.000      -1.417      -0.898\n",
            "Age           -2.1317      0.587     -3.629      0.000      -3.283      -0.980\n",
            "Sex_female     2.4418      0.209     11.682      0.000       2.032       2.851\n",
            "Sex_male      -0.1576      0.167     -0.943      0.346      -0.485       0.170\n",
            "Embarked_S    -0.4508      0.220     -2.050      0.040      -0.882      -0.020\n",
            "==============================================================================\n"
          ],
          "name": "stdout"
        }
      ]
    },
    {
      "cell_type": "code",
      "metadata": {
        "id": "dEB3UuV6oWLG",
        "colab_type": "code",
        "colab": {}
      },
      "source": [
        "X_train_sm=X_train_sm.drop(\"Sex_male\",axis=1)"
      ],
      "execution_count": null,
      "outputs": []
    },
    {
      "cell_type": "code",
      "metadata": {
        "id": "dLl9zEcOo0A_",
        "colab_type": "code",
        "colab": {
          "base_uri": "https://localhost:8080/",
          "height": 353
        },
        "outputId": "402b306f-d77c-4ec6-9ea6-00b2b72f5386"
      },
      "source": [
        "logm2 = sm.GLM(Y_Train,X_train_sm, family = sm.families.Binomial())\n",
        "res = logm2.fit()\n",
        "print(res.summary())"
      ],
      "execution_count": null,
      "outputs": [
        {
          "output_type": "stream",
          "text": [
            "                 Generalized Linear Model Regression Results                  \n",
            "==============================================================================\n",
            "Dep. Variable:               Survived   No. Observations:                  712\n",
            "Model:                            GLM   Df Residuals:                      707\n",
            "Model Family:                Binomial   Df Model:                            4\n",
            "Link Function:                  logit   Scale:                          1.0000\n",
            "Method:                          IRLS   Log-Likelihood:                -316.64\n",
            "Date:                Fri, 21 Aug 2020   Deviance:                       633.29\n",
            "Time:                        05:35:49   Pearson chi2:                     741.\n",
            "No. Iterations:                     5                                         \n",
            "Covariance Type:            nonrobust                                         \n",
            "==============================================================================\n",
            "                 coef    std err          z      P>|z|      [0.025      0.975]\n",
            "------------------------------------------------------------------------------\n",
            "const          2.1265      0.458      4.641      0.000       1.228       3.025\n",
            "Pclass        -1.1575      0.132     -8.747      0.000      -1.417      -0.898\n",
            "Age           -2.1317      0.587     -3.629      0.000      -3.283      -0.980\n",
            "Sex_female     2.5994      0.211     12.329      0.000       2.186       3.013\n",
            "Embarked_S    -0.4508      0.220     -2.050      0.040      -0.882      -0.020\n",
            "==============================================================================\n"
          ],
          "name": "stdout"
        }
      ]
    },
    {
      "cell_type": "code",
      "metadata": {
        "id": "wx9YbBbWo1vF",
        "colab_type": "code",
        "colab": {
          "base_uri": "https://localhost:8080/",
          "height": 202
        },
        "outputId": "71f4e485-4161-4b2b-9e9f-e54794f15e02"
      },
      "source": [
        "y_train_pred = res.predict(X_train_sm)\n",
        "y_train_pred[:10]"
      ],
      "execution_count": null,
      "outputs": [
        {
          "output_type": "execute_result",
          "data": {
            "text/plain": [
              "567    0.509274\n",
              "648    0.083052\n",
              "790    0.146379\n",
              "618    0.865793\n",
              "77     0.140915\n",
              "11     0.828526\n",
              "553    0.127415\n",
              "162    0.077134\n",
              "18     0.495882\n",
              "741    0.392963\n",
              "dtype: float64"
            ]
          },
          "metadata": {
            "tags": []
          },
          "execution_count": 129
        }
      ]
    },
    {
      "cell_type": "code",
      "metadata": {
        "id": "oqARCV7NpBIs",
        "colab_type": "code",
        "colab": {
          "base_uri": "https://localhost:8080/",
          "height": 50
        },
        "outputId": "4dc04d62-7302-4abe-f9ca-01b010f67806"
      },
      "source": [
        "y_train_pred = y_train_pred.values.reshape(-1)\n",
        "y_train_pred[:10]\n"
      ],
      "execution_count": null,
      "outputs": [
        {
          "output_type": "execute_result",
          "data": {
            "text/plain": [
              "array([0.50927449, 0.08305197, 0.14637939, 0.86579298, 0.1409155 ,\n",
              "       0.82852578, 0.12741511, 0.07713352, 0.49588193, 0.39296342])"
            ]
          },
          "metadata": {
            "tags": []
          },
          "execution_count": 130
        }
      ]
    },
    {
      "cell_type": "markdown",
      "metadata": {
        "id": "8NpqMQiVvRf9",
        "colab_type": "text"
      },
      "source": [
        "**Probabilities**"
      ]
    },
    {
      "cell_type": "code",
      "metadata": {
        "id": "GlNWzMg7pDaA",
        "colab_type": "code",
        "colab": {
          "base_uri": "https://localhost:8080/",
          "height": 195
        },
        "outputId": "842d19b6-2b59-447b-e08a-81f95e9e8c81"
      },
      "source": [
        "y_train_pred_final = pd.DataFrame({'Survived':Y_Train.values, 'Survived_Prob':y_train_pred})\n",
        "y_train_pred_final.head()\n"
      ],
      "execution_count": null,
      "outputs": [
        {
          "output_type": "execute_result",
          "data": {
            "text/html": [
              "<div>\n",
              "<style scoped>\n",
              "    .dataframe tbody tr th:only-of-type {\n",
              "        vertical-align: middle;\n",
              "    }\n",
              "\n",
              "    .dataframe tbody tr th {\n",
              "        vertical-align: top;\n",
              "    }\n",
              "\n",
              "    .dataframe thead th {\n",
              "        text-align: right;\n",
              "    }\n",
              "</style>\n",
              "<table border=\"1\" class=\"dataframe\">\n",
              "  <thead>\n",
              "    <tr style=\"text-align: right;\">\n",
              "      <th></th>\n",
              "      <th>Survived</th>\n",
              "      <th>Survived_Prob</th>\n",
              "    </tr>\n",
              "  </thead>\n",
              "  <tbody>\n",
              "    <tr>\n",
              "      <th>0</th>\n",
              "      <td>0</td>\n",
              "      <td>0.509274</td>\n",
              "    </tr>\n",
              "    <tr>\n",
              "      <th>1</th>\n",
              "      <td>0</td>\n",
              "      <td>0.083052</td>\n",
              "    </tr>\n",
              "    <tr>\n",
              "      <th>2</th>\n",
              "      <td>0</td>\n",
              "      <td>0.146379</td>\n",
              "    </tr>\n",
              "    <tr>\n",
              "      <th>3</th>\n",
              "      <td>1</td>\n",
              "      <td>0.865793</td>\n",
              "    </tr>\n",
              "    <tr>\n",
              "      <th>4</th>\n",
              "      <td>0</td>\n",
              "      <td>0.140915</td>\n",
              "    </tr>\n",
              "  </tbody>\n",
              "</table>\n",
              "</div>"
            ],
            "text/plain": [
              "   Survived  Survived_Prob\n",
              "0         0       0.509274\n",
              "1         0       0.083052\n",
              "2         0       0.146379\n",
              "3         1       0.865793\n",
              "4         0       0.140915"
            ]
          },
          "metadata": {
            "tags": []
          },
          "execution_count": 131
        }
      ]
    },
    {
      "cell_type": "markdown",
      "metadata": {
        "id": "qznxjmslvVC6",
        "colab_type": "text"
      },
      "source": [
        "**Criteria of 0.65 was the optimal in our case**"
      ]
    },
    {
      "cell_type": "code",
      "metadata": {
        "id": "rrmVFd7epXam",
        "colab_type": "code",
        "colab": {}
      },
      "source": [
        "y_train_pred_final['Predicted'] = y_train_pred_final.Survived_Prob.map(lambda x: 1 if x >0.65 else 0)"
      ],
      "execution_count": null,
      "outputs": []
    },
    {
      "cell_type": "code",
      "metadata": {
        "id": "FEMYpkmypf2z",
        "colab_type": "code",
        "colab": {
          "base_uri": "https://localhost:8080/",
          "height": 195
        },
        "outputId": "95cedf2e-c6b5-41b9-9ec1-d730d5b86335"
      },
      "source": [
        "y_train_pred_final.head()"
      ],
      "execution_count": null,
      "outputs": [
        {
          "output_type": "execute_result",
          "data": {
            "text/html": [
              "<div>\n",
              "<style scoped>\n",
              "    .dataframe tbody tr th:only-of-type {\n",
              "        vertical-align: middle;\n",
              "    }\n",
              "\n",
              "    .dataframe tbody tr th {\n",
              "        vertical-align: top;\n",
              "    }\n",
              "\n",
              "    .dataframe thead th {\n",
              "        text-align: right;\n",
              "    }\n",
              "</style>\n",
              "<table border=\"1\" class=\"dataframe\">\n",
              "  <thead>\n",
              "    <tr style=\"text-align: right;\">\n",
              "      <th></th>\n",
              "      <th>Survived</th>\n",
              "      <th>Survived_Prob</th>\n",
              "      <th>Predicted</th>\n",
              "    </tr>\n",
              "  </thead>\n",
              "  <tbody>\n",
              "    <tr>\n",
              "      <th>0</th>\n",
              "      <td>0</td>\n",
              "      <td>0.509274</td>\n",
              "      <td>0</td>\n",
              "    </tr>\n",
              "    <tr>\n",
              "      <th>1</th>\n",
              "      <td>0</td>\n",
              "      <td>0.083052</td>\n",
              "      <td>0</td>\n",
              "    </tr>\n",
              "    <tr>\n",
              "      <th>2</th>\n",
              "      <td>0</td>\n",
              "      <td>0.146379</td>\n",
              "      <td>0</td>\n",
              "    </tr>\n",
              "    <tr>\n",
              "      <th>3</th>\n",
              "      <td>1</td>\n",
              "      <td>0.865793</td>\n",
              "      <td>1</td>\n",
              "    </tr>\n",
              "    <tr>\n",
              "      <th>4</th>\n",
              "      <td>0</td>\n",
              "      <td>0.140915</td>\n",
              "      <td>0</td>\n",
              "    </tr>\n",
              "  </tbody>\n",
              "</table>\n",
              "</div>"
            ],
            "text/plain": [
              "   Survived  Survived_Prob  Predicted\n",
              "0         0       0.509274          0\n",
              "1         0       0.083052          0\n",
              "2         0       0.146379          0\n",
              "3         1       0.865793          1\n",
              "4         0       0.140915          0"
            ]
          },
          "metadata": {
            "tags": []
          },
          "execution_count": 133
        }
      ]
    },
    {
      "cell_type": "code",
      "metadata": {
        "id": "cQC-oxhmpqAk",
        "colab_type": "code",
        "colab": {
          "base_uri": "https://localhost:8080/",
          "height": 50
        },
        "outputId": "39f8668c-f90c-4239-d2b6-823768544fae"
      },
      "source": [
        "confusion = metrics.confusion_matrix(y_train_pred_final.Survived, y_train_pred_final.Predicted )\n",
        "print(confusion)"
      ],
      "execution_count": null,
      "outputs": [
        {
          "output_type": "stream",
          "text": [
            "[[430  18]\n",
            " [115 149]]\n"
          ],
          "name": "stdout"
        }
      ]
    },
    {
      "cell_type": "markdown",
      "metadata": {
        "id": "iQcyqm8uvaUV",
        "colab_type": "text"
      },
      "source": [
        "**Thus accurcay came out to be 81.3%**"
      ]
    },
    {
      "cell_type": "code",
      "metadata": {
        "id": "W24Cn3GSp1VD",
        "colab_type": "code",
        "colab": {
          "base_uri": "https://localhost:8080/",
          "height": 34
        },
        "outputId": "55deef95-f7d7-4d0d-edd0-36e767f48621"
      },
      "source": [
        "print(metrics.accuracy_score(y_train_pred_final.Survived, y_train_pred_final.Predicted))"
      ],
      "execution_count": null,
      "outputs": [
        {
          "output_type": "stream",
          "text": [
            "0.8132022471910112\n"
          ],
          "name": "stdout"
        }
      ]
    },
    {
      "cell_type": "code",
      "metadata": {
        "id": "ELQ49H7HjO0f",
        "colab_type": "code",
        "colab": {}
      },
      "source": [
        "TP = confusion[1,1] # true positive\n",
        "TN = confusion[0,0] # true negatives\n",
        "FP = confusion[0,1] # false positives\n",
        "FN = confusion[1,0]"
      ],
      "execution_count": null,
      "outputs": []
    },
    {
      "cell_type": "code",
      "metadata": {
        "id": "UmY_uMeLjO66",
        "colab_type": "code",
        "colab": {
          "base_uri": "https://localhost:8080/",
          "height": 34
        },
        "outputId": "2c531116-0b3d-4b80-a0f8-12e12130ddfc"
      },
      "source": [
        "# Let's see the sensitivity of our logistic regression model\n",
        "TP / float(TP+FN)"
      ],
      "execution_count": null,
      "outputs": [
        {
          "output_type": "execute_result",
          "data": {
            "text/plain": [
              "0.5643939393939394"
            ]
          },
          "metadata": {
            "tags": []
          },
          "execution_count": 149
        }
      ]
    },
    {
      "cell_type": "code",
      "metadata": {
        "id": "ArA7r_NijXf8",
        "colab_type": "code",
        "colab": {
          "base_uri": "https://localhost:8080/",
          "height": 34
        },
        "outputId": "6b533cce-6812-494b-e83f-22049b6f47c1"
      },
      "source": [
        "# Let us calculate specificity\n",
        "TN / float(TN+FP)"
      ],
      "execution_count": null,
      "outputs": [
        {
          "output_type": "execute_result",
          "data": {
            "text/plain": [
              "0.9598214285714286"
            ]
          },
          "metadata": {
            "tags": []
          },
          "execution_count": 150
        }
      ]
    },
    {
      "cell_type": "code",
      "metadata": {
        "id": "ExJ8X_DmjXmj",
        "colab_type": "code",
        "colab": {
          "base_uri": "https://localhost:8080/",
          "height": 34
        },
        "outputId": "e4b20b19-425b-4684-9176-25732bf24ebb"
      },
      "source": [
        "# Calculate false postive rate - predicting churn when customer does not have churned\n",
        "print(FP/ float(TN+FP))"
      ],
      "execution_count": null,
      "outputs": [
        {
          "output_type": "stream",
          "text": [
            "0.04017857142857143\n"
          ],
          "name": "stdout"
        }
      ]
    },
    {
      "cell_type": "code",
      "metadata": {
        "id": "PcqV3a2ejXsK",
        "colab_type": "code",
        "colab": {
          "base_uri": "https://localhost:8080/",
          "height": 34
        },
        "outputId": "e0b589a4-7206-4c29-af7c-5e85e51742bd"
      },
      "source": [
        "# positive predictive value\n",
        "print (TP / float(TP+FP))"
      ],
      "execution_count": null,
      "outputs": [
        {
          "output_type": "stream",
          "text": [
            "0.8922155688622755\n"
          ],
          "name": "stdout"
        }
      ]
    },
    {
      "cell_type": "code",
      "metadata": {
        "id": "LPU8W64ajhZP",
        "colab_type": "code",
        "colab": {
          "base_uri": "https://localhost:8080/",
          "height": 34
        },
        "outputId": "b61aa7ca-a840-4be0-cd91-73b99ac71a86"
      },
      "source": [
        "# Negative predictive value\n",
        "print (TN / float(TN+ FN))"
      ],
      "execution_count": null,
      "outputs": [
        {
          "output_type": "stream",
          "text": [
            "0.7889908256880734\n"
          ],
          "name": "stdout"
        }
      ]
    },
    {
      "cell_type": "markdown",
      "metadata": {
        "id": "YmRgwlpSve4v",
        "colab_type": "text"
      },
      "source": [
        "**FINAL ROC Curve**"
      ]
    },
    {
      "cell_type": "code",
      "metadata": {
        "id": "SXiZ0Cm2jhep",
        "colab_type": "code",
        "colab": {
          "base_uri": "https://localhost:8080/",
          "height": 355
        },
        "outputId": "3c24cc22-3688-4d90-b845-2052800f0b6b"
      },
      "source": [
        "draw_roc(y_train_pred_final.Survived, y_train_pred_final.Survived_Prob)"
      ],
      "execution_count": null,
      "outputs": [
        {
          "output_type": "display_data",
          "data": {
            "image/png": "[encoded data removed]",
            "text/plain": [
              "<Figure size 360x360 with 1 Axes>"
            ]
          },
          "metadata": {
            "tags": []
          }
        }
      ]
    }
  ]
}