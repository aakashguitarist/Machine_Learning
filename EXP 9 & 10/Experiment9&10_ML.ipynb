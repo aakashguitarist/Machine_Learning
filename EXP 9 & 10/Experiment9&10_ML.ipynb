{
  "nbformat": 4,
  "nbformat_minor": 0,
  "metadata": {
    "colab": {
      "name": "Experiment9&10_ML.ipynb",
      "provenance": [],
      "collapsed_sections": []
    },
    "kernelspec": {
      "name": "python3",
      "display_name": "Python 3"
    }
  },
  "cells": [
    {
      "cell_type": "code",
      "metadata": {
        "id": "nxEt5mBPUu7o"
      },
      "source": [
        "import cv2\n",
        "import numpy as np\n",
        "import pandas as pd\n",
        "import matplotlib.pyplot as plt\n",
        "\n"
      ],
      "execution_count": null,
      "outputs": []
    },
    {
      "cell_type": "code",
      "metadata": {
        "id": "whj1jnXJU0SZ"
      },
      "source": [
        "import numpy as np # linear algebra\n",
        "import pandas as pd # data processing, CSV file I/O (e.g. pd.read_csv)\n",
        "import matplotlib.pyplot as plt\n",
        "import seaborn as sns\n",
        "from matplotlib.pyplot import figure\n",
        "import plotly.graph_objs as go\n",
        "from plotly.offline import init_notebook_mode, iplot\n",
        "from sklearn.utils import shuffle\n",
        "from sklearn import preprocessing\n",
        "from sklearn.preprocessing import LabelEncoder\n",
        "import time\n",
        "import os\n",
        "\n",
        "for dirname, _, filenames in os.walk('/kaggle/input'):\n",
        "    for filename in filenames:\n",
        "        print(os.path.join(dirname, filename))\n",
        "\n",
        "# Any results you write to the current directory are saved as output."
      ],
      "execution_count": null,
      "outputs": []
    },
    {
      "cell_type": "code",
      "metadata": {
        "id": "ZU5lES0sU_G5"
      },
      "source": [
        "df=pd.read_csv('Cricket.csv',encoding='latin')"
      ],
      "execution_count": null,
      "outputs": []
    },
    {
      "cell_type": "code",
      "metadata": {
        "colab": {
          "base_uri": "https://localhost:8080/",
          "height": 343
        },
        "id": "2RnisUhbVF88",
        "outputId": "5fa29f02-ae77-4659-b0a8-183ce80f0853"
      },
      "source": [
        "df.head(10)"
      ],
      "execution_count": null,
      "outputs": [
        {
          "output_type": "execute_result",
          "data": {
            "text/html": [
              "<div>\n",
              "<style scoped>\n",
              "    .dataframe tbody tr th:only-of-type {\n",
              "        vertical-align: middle;\n",
              "    }\n",
              "\n",
              "    .dataframe tbody tr th {\n",
              "        vertical-align: top;\n",
              "    }\n",
              "\n",
              "    .dataframe thead th {\n",
              "        text-align: right;\n",
              "    }\n",
              "</style>\n",
              "<table border=\"1\" class=\"dataframe\">\n",
              "  <thead>\n",
              "    <tr style=\"text-align: right;\">\n",
              "      <th></th>\n",
              "      <th>Player</th>\n",
              "      <th>Span</th>\n",
              "      <th>Mat</th>\n",
              "      <th>Inns</th>\n",
              "      <th>NO</th>\n",
              "      <th>Runs</th>\n",
              "      <th>HS</th>\n",
              "      <th>Ave</th>\n",
              "      <th>BF</th>\n",
              "      <th>SR</th>\n",
              "      <th>100</th>\n",
              "      <th>50</th>\n",
              "      <th>0</th>\n",
              "    </tr>\n",
              "  </thead>\n",
              "  <tbody>\n",
              "    <tr>\n",
              "      <th>0</th>\n",
              "      <td>SR Tendulkar (INDIA)</td>\n",
              "      <td>1989-2012</td>\n",
              "      <td>463</td>\n",
              "      <td>452</td>\n",
              "      <td>41</td>\n",
              "      <td>18426</td>\n",
              "      <td>200*</td>\n",
              "      <td>44.83</td>\n",
              "      <td>21367</td>\n",
              "      <td>86.23</td>\n",
              "      <td>49</td>\n",
              "      <td>96</td>\n",
              "      <td>20</td>\n",
              "    </tr>\n",
              "    <tr>\n",
              "      <th>1</th>\n",
              "      <td>KC Sangakkara (Asia/ICC/SL)</td>\n",
              "      <td>2000-2015</td>\n",
              "      <td>404</td>\n",
              "      <td>380</td>\n",
              "      <td>41</td>\n",
              "      <td>14234</td>\n",
              "      <td>169</td>\n",
              "      <td>41.98</td>\n",
              "      <td>18048</td>\n",
              "      <td>78.86</td>\n",
              "      <td>25</td>\n",
              "      <td>93</td>\n",
              "      <td>15</td>\n",
              "    </tr>\n",
              "    <tr>\n",
              "      <th>2</th>\n",
              "      <td>RT Ponting (AUS/ICC)</td>\n",
              "      <td>1995-2012</td>\n",
              "      <td>375</td>\n",
              "      <td>365</td>\n",
              "      <td>39</td>\n",
              "      <td>13704</td>\n",
              "      <td>164</td>\n",
              "      <td>42.03</td>\n",
              "      <td>17046</td>\n",
              "      <td>80.39</td>\n",
              "      <td>30</td>\n",
              "      <td>82</td>\n",
              "      <td>20</td>\n",
              "    </tr>\n",
              "    <tr>\n",
              "      <th>3</th>\n",
              "      <td>ST Jayasuriya (Asia/SL)</td>\n",
              "      <td>1989-2011</td>\n",
              "      <td>445</td>\n",
              "      <td>433</td>\n",
              "      <td>18</td>\n",
              "      <td>13430</td>\n",
              "      <td>189</td>\n",
              "      <td>32.36</td>\n",
              "      <td>14725</td>\n",
              "      <td>91.20</td>\n",
              "      <td>28</td>\n",
              "      <td>68</td>\n",
              "      <td>34</td>\n",
              "    </tr>\n",
              "    <tr>\n",
              "      <th>4</th>\n",
              "      <td>DPMD Jayawardene (Asia/SL)</td>\n",
              "      <td>1998-2015</td>\n",
              "      <td>448</td>\n",
              "      <td>418</td>\n",
              "      <td>39</td>\n",
              "      <td>12650</td>\n",
              "      <td>144</td>\n",
              "      <td>33.37</td>\n",
              "      <td>16020</td>\n",
              "      <td>78.96</td>\n",
              "      <td>19</td>\n",
              "      <td>77</td>\n",
              "      <td>28</td>\n",
              "    </tr>\n",
              "    <tr>\n",
              "      <th>5</th>\n",
              "      <td>Inzamam-ul-Haq (Asia/PAK)</td>\n",
              "      <td>1991-2007</td>\n",
              "      <td>378</td>\n",
              "      <td>350</td>\n",
              "      <td>53</td>\n",
              "      <td>11739</td>\n",
              "      <td>137*</td>\n",
              "      <td>39.52</td>\n",
              "      <td>15812</td>\n",
              "      <td>74.24</td>\n",
              "      <td>10</td>\n",
              "      <td>83</td>\n",
              "      <td>20</td>\n",
              "    </tr>\n",
              "    <tr>\n",
              "      <th>6</th>\n",
              "      <td>JH Kallis (Afr/ICC/SA)</td>\n",
              "      <td>1996-2014</td>\n",
              "      <td>328</td>\n",
              "      <td>314</td>\n",
              "      <td>53</td>\n",
              "      <td>11579</td>\n",
              "      <td>139</td>\n",
              "      <td>44.36</td>\n",
              "      <td>15885</td>\n",
              "      <td>72.89</td>\n",
              "      <td>17</td>\n",
              "      <td>86</td>\n",
              "      <td>17</td>\n",
              "    </tr>\n",
              "    <tr>\n",
              "      <th>7</th>\n",
              "      <td>SC Ganguly (Asia/INDIA)</td>\n",
              "      <td>1992-2007</td>\n",
              "      <td>311</td>\n",
              "      <td>300</td>\n",
              "      <td>23</td>\n",
              "      <td>11363</td>\n",
              "      <td>183</td>\n",
              "      <td>41.02</td>\n",
              "      <td>15416</td>\n",
              "      <td>73.70</td>\n",
              "      <td>22</td>\n",
              "      <td>72</td>\n",
              "      <td>16</td>\n",
              "    </tr>\n",
              "    <tr>\n",
              "      <th>8</th>\n",
              "      <td>R Dravid (Asia/ICC/INDIA)</td>\n",
              "      <td>1996-2011</td>\n",
              "      <td>344</td>\n",
              "      <td>318</td>\n",
              "      <td>40</td>\n",
              "      <td>10889</td>\n",
              "      <td>153</td>\n",
              "      <td>39.16</td>\n",
              "      <td>15284</td>\n",
              "      <td>71.24</td>\n",
              "      <td>12</td>\n",
              "      <td>83</td>\n",
              "      <td>13</td>\n",
              "    </tr>\n",
              "    <tr>\n",
              "      <th>9</th>\n",
              "      <td>BC Lara (ICC/WI)</td>\n",
              "      <td>1990-2007</td>\n",
              "      <td>299</td>\n",
              "      <td>289</td>\n",
              "      <td>32</td>\n",
              "      <td>10405</td>\n",
              "      <td>169</td>\n",
              "      <td>40.48</td>\n",
              "      <td>13086</td>\n",
              "      <td>79.51</td>\n",
              "      <td>19</td>\n",
              "      <td>63</td>\n",
              "      <td>16</td>\n",
              "    </tr>\n",
              "  </tbody>\n",
              "</table>\n",
              "</div>"
            ],
            "text/plain": [
              "                        Player       Span  Mat  Inns  ...     SR  100  50   0\n",
              "0         SR Tendulkar (INDIA)  1989-2012  463   452  ...  86.23   49  96  20\n",
              "1  KC Sangakkara (Asia/ICC/SL)  2000-2015  404   380  ...  78.86   25  93  15\n",
              "2         RT Ponting (AUS/ICC)  1995-2012  375   365  ...  80.39   30  82  20\n",
              "3      ST Jayasuriya (Asia/SL)  1989-2011  445   433  ...  91.20   28  68  34\n",
              "4   DPMD Jayawardene (Asia/SL)  1998-2015  448   418  ...  78.96   19  77  28\n",
              "5    Inzamam-ul-Haq (Asia/PAK)  1991-2007  378   350  ...  74.24   10  83  20\n",
              "6       JH Kallis (Afr/ICC/SA)  1996-2014  328   314  ...  72.89   17  86  17\n",
              "7      SC Ganguly (Asia/INDIA)  1992-2007  311   300  ...  73.70   22  72  16\n",
              "8    R Dravid (Asia/ICC/INDIA)  1996-2011  344   318  ...  71.24   12  83  13\n",
              "9             BC Lara (ICC/WI)  1990-2007  299   289  ...  79.51   19  63  16\n",
              "\n",
              "[10 rows x 13 columns]"
            ]
          },
          "metadata": {
            "tags": []
          },
          "execution_count": 10
        }
      ]
    },
    {
      "cell_type": "code",
      "metadata": {
        "colab": {
          "base_uri": "https://localhost:8080/"
        },
        "id": "UHqZvOKpVOeF",
        "outputId": "ca8dafcf-460b-4e0a-c3fc-1ea59ca8885e"
      },
      "source": [
        "df.shape"
      ],
      "execution_count": null,
      "outputs": [
        {
          "output_type": "execute_result",
          "data": {
            "text/plain": [
              "(79, 13)"
            ]
          },
          "metadata": {
            "tags": []
          },
          "execution_count": 9
        }
      ]
    },
    {
      "cell_type": "code",
      "metadata": {
        "id": "0MIajahIVR7V"
      },
      "source": [
        "X = df.iloc[:, [7, 9]].values"
      ],
      "execution_count": null,
      "outputs": []
    },
    {
      "cell_type": "code",
      "metadata": {
        "colab": {
          "base_uri": "https://localhost:8080/",
          "height": 295
        },
        "id": "mj241RAgWD45",
        "outputId": "e87cb3f7-54e1-48ad-e7cf-32658c27a97a"
      },
      "source": [
        "from sklearn.cluster import KMeans\n",
        "wcss = []   #within-cluster sums of squares\n",
        "for i in range(1, 11):\n",
        "    kmeans = KMeans(n_clusters = i, init = 'k-means++', random_state = 100)\n",
        "    kmeans.fit(X)\n",
        "    wcss.append(kmeans.inertia_)\n",
        "plt.plot(range(1, 11), wcss)\n",
        "plt.title('The Elbow Method')\n",
        "plt.xlabel('Number of clusters')\n",
        "plt.ylabel('WCSS')\n",
        "plt.show()"
      ],
      "execution_count": null,
      "outputs": [
        {
          "output_type": "display_data",
          "data": {
            "image/png": "[encoded data removed]",
            "text/plain": [
              "<Figure size 432x288 with 1 Axes>"
            ]
          },
          "metadata": {
            "tags": [],
            "needs_background": "light"
          }
        }
      ]
    },
    {
      "cell_type": "code",
      "metadata": {
        "id": "X6WlqPgzWLry"
      },
      "source": [
        "# Fitting K-Means to the dataset\n",
        "kmeans = KMeans(n_clusters = 5, init = 'k-means++', random_state = 100)\n",
        "y_kmeans = kmeans.fit_predict(X)"
      ],
      "execution_count": null,
      "outputs": []
    },
    {
      "cell_type": "code",
      "metadata": {
        "colab": {
          "base_uri": "https://localhost:8080/",
          "height": 295
        },
        "id": "pmFCHZ-6Wa1N",
        "outputId": "8e6de3a2-dc52-4dfb-f375-6b3f314fe0df"
      },
      "source": [
        "plt.scatter(X[y_kmeans == 0, 0], X[y_kmeans == 0, 1], s = 100, c = 'red', label = 'Cluster 1')\n",
        "plt.scatter(X[y_kmeans == 1, 0], X[y_kmeans == 1, 1], s = 100, c = 'blue', label = 'Cluster 2')\n",
        "plt.scatter(X[y_kmeans == 2, 0], X[y_kmeans == 2, 1], s = 100, c = 'green', label = 'Cluster 3')\n",
        "plt.scatter(X[y_kmeans == 3, 0], X[y_kmeans == 3, 1], s = 100, c = 'cyan', label = 'Cluster 4')\n",
        "plt.scatter(X[y_kmeans == 4, 0], X[y_kmeans == 4, 1], s = 100, c = 'magenta', label = 'Cluster 5')\n",
        "plt.scatter(kmeans.cluster_centers_[:, 0], kmeans.cluster_centers_[:, 1], s = 300, c = 'yellow', label = 'Centroids')\n",
        "plt.title('Clusters of players')\n",
        "plt.xlabel('Average')\n",
        "plt.ylabel('Strike Rate (1-150)')\n",
        "plt.legend()\n",
        "plt.show()"
      ],
      "execution_count": null,
      "outputs": [
        {
          "output_type": "display_data",
          "data": {
            "image/png": "[encoded data removed]",
            "text/plain": [
              "<Figure size 432x288 with 1 Axes>"
            ]
          },
          "metadata": {
            "tags": [],
            "needs_background": "light"
          }
        }
      ]
    },
    {
      "cell_type": "code",
      "metadata": {
        "id": "jziFYHE2WeNB"
      },
      "source": [
        ""
      ],
      "execution_count": null,
      "outputs": []
    }
  ]
}