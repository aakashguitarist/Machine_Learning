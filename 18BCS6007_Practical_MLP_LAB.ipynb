{
  "nbformat": 4,
  "nbformat_minor": 0,
  "metadata": {
    "colab": {
      "name": "Practical_MLP_LAB.ipynb",
      "provenance": [],
      "collapsed_sections": []
    },
    "kernelspec": {
      "name": "python3",
      "display_name": "Python 3"
    }
  },
  "cells": [
    {
      "cell_type": "markdown",
      "metadata": {
        "id": "wFVYzBUaDWfH"
      },
      "source": [
        "**Import Necessary Libraries**"
      ]
    },
    {
      "cell_type": "code",
      "metadata": {
        "id": "1TzCYJz0x0vq"
      },
      "source": [
        "import cv2\n",
        "import numpy as np\n",
        "import pandas as pd\n",
        "import matplotlib.pyplot as plt"
      ],
      "execution_count": 1,
      "outputs": []
    },
    {
      "cell_type": "code",
      "metadata": {
        "id": "KgErseYvyfMT"
      },
      "source": [
        "import seaborn as sns\n",
        "from matplotlib.pyplot import figure\n",
        "from sklearn.utils import shuffle\n",
        "from sklearn import preprocessing\n",
        "from sklearn.preprocessing import LabelEncoder\n",
        "import time\n",
        "import os"
      ],
      "execution_count": 2,
      "outputs": []
    },
    {
      "cell_type": "markdown",
      "metadata": {
        "id": "q6FkqyUQDeEC"
      },
      "source": [
        "**Read the DATA and check for missing Values**"
      ]
    },
    {
      "cell_type": "code",
      "metadata": {
        "id": "M5ukOBUD6h_M"
      },
      "source": [
        "df=pd.read_csv(\"A1.csv\")"
      ],
      "execution_count": 3,
      "outputs": []
    },
    {
      "cell_type": "code",
      "metadata": {
        "id": "dctd_Dli6kwF",
        "outputId": "bdd8204a-cc8b-4629-a061-6abc8df0951a",
        "colab": {
          "base_uri": "https://localhost:8080/",
          "height": 195
        }
      },
      "source": [
        "df.head()"
      ],
      "execution_count": 4,
      "outputs": [
        {
          "output_type": "execute_result",
          "data": {
            "text/html": [
              "<div>\n",
              "<style scoped>\n",
              "    .dataframe tbody tr th:only-of-type {\n",
              "        vertical-align: middle;\n",
              "    }\n",
              "\n",
              "    .dataframe tbody tr th {\n",
              "        vertical-align: top;\n",
              "    }\n",
              "\n",
              "    .dataframe thead th {\n",
              "        text-align: right;\n",
              "    }\n",
              "</style>\n",
              "<table border=\"1\" class=\"dataframe\">\n",
              "  <thead>\n",
              "    <tr style=\"text-align: right;\">\n",
              "      <th></th>\n",
              "      <th>number of claims</th>\n",
              "      <th>total payment for all the claims in thousands of Swedish Kronor</th>\n",
              "    </tr>\n",
              "  </thead>\n",
              "  <tbody>\n",
              "    <tr>\n",
              "      <th>0</th>\n",
              "      <td>108</td>\n",
              "      <td>392.5</td>\n",
              "    </tr>\n",
              "    <tr>\n",
              "      <th>1</th>\n",
              "      <td>19</td>\n",
              "      <td>46.2</td>\n",
              "    </tr>\n",
              "    <tr>\n",
              "      <th>2</th>\n",
              "      <td>13</td>\n",
              "      <td>15.7</td>\n",
              "    </tr>\n",
              "    <tr>\n",
              "      <th>3</th>\n",
              "      <td>124</td>\n",
              "      <td>422.2</td>\n",
              "    </tr>\n",
              "    <tr>\n",
              "      <th>4</th>\n",
              "      <td>40</td>\n",
              "      <td>119.4</td>\n",
              "    </tr>\n",
              "  </tbody>\n",
              "</table>\n",
              "</div>"
            ],
            "text/plain": [
              "    number of claims  total payment for all the claims in thousands of Swedish Kronor\n",
              "0                108                                              392.5              \n",
              "1                 19                                               46.2              \n",
              "2                 13                                               15.7              \n",
              "3                124                                              422.2              \n",
              "4                 40                                              119.4              "
            ]
          },
          "metadata": {
            "tags": []
          },
          "execution_count": 4
        }
      ]
    },
    {
      "cell_type": "code",
      "metadata": {
        "id": "apVcid7b6ose",
        "outputId": "cb3be36b-8328-441a-d748-d789bebc5cb6",
        "colab": {
          "base_uri": "https://localhost:8080/",
          "height": 0
        }
      },
      "source": [
        "df.isna().sum()"
      ],
      "execution_count": 5,
      "outputs": [
        {
          "output_type": "execute_result",
          "data": {
            "text/plain": [
              " number of claims                                                  0\n",
              "total payment for all the claims in thousands of Swedish Kronor    0\n",
              "dtype: int64"
            ]
          },
          "metadata": {
            "tags": []
          },
          "execution_count": 5
        }
      ]
    },
    {
      "cell_type": "markdown",
      "metadata": {
        "id": "1lf48QlrDlIw"
      },
      "source": [
        "**Description of the Data**"
      ]
    },
    {
      "cell_type": "code",
      "metadata": {
        "id": "O7kDYzzNCDa0",
        "outputId": "b5e5532c-b1a3-401b-f9f9-62759ff65f5d",
        "colab": {
          "base_uri": "https://localhost:8080/",
          "height": 284
        }
      },
      "source": [
        "df.describe()"
      ],
      "execution_count": 6,
      "outputs": [
        {
          "output_type": "execute_result",
          "data": {
            "text/html": [
              "<div>\n",
              "<style scoped>\n",
              "    .dataframe tbody tr th:only-of-type {\n",
              "        vertical-align: middle;\n",
              "    }\n",
              "\n",
              "    .dataframe tbody tr th {\n",
              "        vertical-align: top;\n",
              "    }\n",
              "\n",
              "    .dataframe thead th {\n",
              "        text-align: right;\n",
              "    }\n",
              "</style>\n",
              "<table border=\"1\" class=\"dataframe\">\n",
              "  <thead>\n",
              "    <tr style=\"text-align: right;\">\n",
              "      <th></th>\n",
              "      <th>number of claims</th>\n",
              "      <th>total payment for all the claims in thousands of Swedish Kronor</th>\n",
              "    </tr>\n",
              "  </thead>\n",
              "  <tbody>\n",
              "    <tr>\n",
              "      <th>count</th>\n",
              "      <td>63.000000</td>\n",
              "      <td>63.000000</td>\n",
              "    </tr>\n",
              "    <tr>\n",
              "      <th>mean</th>\n",
              "      <td>22.904762</td>\n",
              "      <td>98.187302</td>\n",
              "    </tr>\n",
              "    <tr>\n",
              "      <th>std</th>\n",
              "      <td>23.351946</td>\n",
              "      <td>87.327553</td>\n",
              "    </tr>\n",
              "    <tr>\n",
              "      <th>min</th>\n",
              "      <td>0.000000</td>\n",
              "      <td>0.000000</td>\n",
              "    </tr>\n",
              "    <tr>\n",
              "      <th>25%</th>\n",
              "      <td>7.500000</td>\n",
              "      <td>38.850000</td>\n",
              "    </tr>\n",
              "    <tr>\n",
              "      <th>50%</th>\n",
              "      <td>14.000000</td>\n",
              "      <td>73.400000</td>\n",
              "    </tr>\n",
              "    <tr>\n",
              "      <th>75%</th>\n",
              "      <td>29.000000</td>\n",
              "      <td>140.000000</td>\n",
              "    </tr>\n",
              "    <tr>\n",
              "      <th>max</th>\n",
              "      <td>124.000000</td>\n",
              "      <td>422.200000</td>\n",
              "    </tr>\n",
              "  </tbody>\n",
              "</table>\n",
              "</div>"
            ],
            "text/plain": [
              "        number of claims  total payment for all the claims in thousands of Swedish Kronor\n",
              "count          63.000000                                          63.000000              \n",
              "mean           22.904762                                          98.187302              \n",
              "std            23.351946                                          87.327553              \n",
              "min             0.000000                                           0.000000              \n",
              "25%             7.500000                                          38.850000              \n",
              "50%            14.000000                                          73.400000              \n",
              "75%            29.000000                                         140.000000              \n",
              "max           124.000000                                         422.200000              "
            ]
          },
          "metadata": {
            "tags": []
          },
          "execution_count": 6
        }
      ]
    },
    {
      "cell_type": "code",
      "metadata": {
        "id": "xF8jqagk6rc3",
        "outputId": "abddbb71-f165-41f5-d87f-bdc857813798",
        "colab": {
          "base_uri": "https://localhost:8080/",
          "height": 0
        }
      },
      "source": [
        "df.shape    #Shape of the DataFrame"
      ],
      "execution_count": 7,
      "outputs": [
        {
          "output_type": "execute_result",
          "data": {
            "text/plain": [
              "(63, 2)"
            ]
          },
          "metadata": {
            "tags": []
          },
          "execution_count": 7
        }
      ]
    },
    {
      "cell_type": "code",
      "metadata": {
        "id": "AQCNrtkE7MsO",
        "outputId": "2d46eae8-5fe0-472a-fefc-2e4c4e6e6b8a",
        "colab": {
          "base_uri": "https://localhost:8080/",
          "height": 0
        }
      },
      "source": [
        "df.columns  #Column names "
      ],
      "execution_count": 8,
      "outputs": [
        {
          "output_type": "execute_result",
          "data": {
            "text/plain": [
              "Index([' number of claims', 'total payment for all the claims in thousands of Swedish Kronor'], dtype='object')"
            ]
          },
          "metadata": {
            "tags": []
          },
          "execution_count": 8
        }
      ]
    },
    {
      "cell_type": "markdown",
      "metadata": {
        "id": "C-4rBiCRDp3-"
      },
      "source": [
        "**Data Vizualisations**"
      ]
    },
    {
      "cell_type": "code",
      "metadata": {
        "id": "NmtWJg1O-tzE",
        "outputId": "6f634a22-fd9c-4e08-b6b0-29ef1b53ab0d",
        "colab": {
          "base_uri": "https://localhost:8080/",
          "height": 415
        }
      },
      "source": [
        "sns.set(style=\"ticks\")\n",
        "f = sns.scatterplot(x=\" number of claims\", y=\"total payment for all the claims in thousands of Swedish Kronor\", data=df, palette=\"bwr\")\n",
        "plt.show()"
      ],
      "execution_count": 9,
      "outputs": [
        {
          "output_type": "display_data",
          "data": {
            "image/png": "[encoded data removed]",
            "text/plain": [
              "<Figure size 432x288 with 1 Axes>"
            ]
          },
          "metadata": {
            "tags": []
          }
        }
      ]
    },
    {
      "cell_type": "code",
      "metadata": {
        "id": "oqhY00wJ_hpI",
        "outputId": "35cb9afa-50bc-4f6d-d366-46a286442f25",
        "colab": {
          "base_uri": "https://localhost:8080/",
          "height": 499
        }
      },
      "source": [
        "sns.jointplot(x=\" number of claims\", y=\"total payment for all the claims in thousands of Swedish Kronor\", data=df, kind='reg')"
      ],
      "execution_count": 10,
      "outputs": [
        {
          "output_type": "stream",
          "text": [
            "/usr/local/lib/python3.6/dist-packages/seaborn/axisgrid.py:1629: UserWarning:\n",
            "\n",
            "Tight layout not applied. tight_layout cannot make axes height small enough to accommodate all axes decorations\n",
            "\n"
          ],
          "name": "stderr"
        },
        {
          "output_type": "execute_result",
          "data": {
            "text/plain": [
              "<seaborn.axisgrid.JointGrid at 0x7fda91733cf8>"
            ]
          },
          "metadata": {
            "tags": []
          },
          "execution_count": 10
        },
        {
          "output_type": "display_data",
          "data": {
            "image/png": "[encoded data removed]",
            "text/plain": [
              "<Figure size 432x432 with 3 Axes>"
            ]
          },
          "metadata": {
            "tags": []
          }
        }
      ]
    },
    {
      "cell_type": "markdown",
      "metadata": {
        "id": "ovx5426CDtVg"
      },
      "source": [
        "**Checking for the Outliers**\n",
        "\n",
        "Removing them using np.sqrt() because log() can't be dont because of zero values"
      ]
    },
    {
      "cell_type": "markdown",
      "metadata": {
        "id": "MNRjmS-6F5a1"
      },
      "source": [
        "*BOX PLOTS*"
      ]
    },
    {
      "cell_type": "code",
      "metadata": {
        "id": "7A-4Arqr7rzO",
        "outputId": "15c945ef-7e02-459c-ba2c-bea4a43e8097",
        "colab": {
          "base_uri": "https://localhost:8080/",
          "height": 498
        }
      },
      "source": [
        "plt.figure(figsize=(10,6))\n",
        "sns.boxplot((df[\" number of claims\"]))"
      ],
      "execution_count": 11,
      "outputs": [
        {
          "output_type": "stream",
          "text": [
            "/usr/local/lib/python3.6/dist-packages/seaborn/_decorators.py:43: FutureWarning:\n",
            "\n",
            "Pass the following variable as a keyword arg: x. From version 0.12, the only valid positional argument will be `data`, and passing other arguments without an explicit keyword will result in an error or misinterpretation.\n",
            "\n"
          ],
          "name": "stderr"
        },
        {
          "output_type": "execute_result",
          "data": {
            "text/plain": [
              "<matplotlib.axes._subplots.AxesSubplot at 0x7fda8fea35c0>"
            ]
          },
          "metadata": {
            "tags": []
          },
          "execution_count": 11
        },
        {
          "output_type": "display_data",
          "data": {
            "image/png": "[encoded data removed]",
            "text/plain": [
              "<Figure size 720x432 with 1 Axes>"
            ]
          },
          "metadata": {
            "tags": []
          }
        }
      ]
    },
    {
      "cell_type": "code",
      "metadata": {
        "id": "CaJdR6Zs6uQz",
        "outputId": "f683baaa-efc5-49df-9627-171ee29a8855",
        "colab": {
          "base_uri": "https://localhost:8080/",
          "height": 498
        }
      },
      "source": [
        "plt.figure(figsize=(10,6))\n",
        "sns.boxplot(np.sqrt(df[\" number of claims\"]))"
      ],
      "execution_count": 12,
      "outputs": [
        {
          "output_type": "stream",
          "text": [
            "/usr/local/lib/python3.6/dist-packages/seaborn/_decorators.py:43: FutureWarning:\n",
            "\n",
            "Pass the following variable as a keyword arg: x. From version 0.12, the only valid positional argument will be `data`, and passing other arguments without an explicit keyword will result in an error or misinterpretation.\n",
            "\n"
          ],
          "name": "stderr"
        },
        {
          "output_type": "execute_result",
          "data": {
            "text/plain": [
              "<matplotlib.axes._subplots.AxesSubplot at 0x7fda8d6125c0>"
            ]
          },
          "metadata": {
            "tags": []
          },
          "execution_count": 12
        },
        {
          "output_type": "display_data",
          "data": {
            "image/png": "[encoded data removed]",
            "text/plain": [
              "<Figure size 720x432 with 1 Axes>"
            ]
          },
          "metadata": {
            "tags": []
          }
        }
      ]
    },
    {
      "cell_type": "code",
      "metadata": {
        "id": "EFtmjH33CLm_",
        "outputId": "1ae44990-f27b-40ae-8ceb-0a90439c16f6",
        "colab": {
          "base_uri": "https://localhost:8080/",
          "height": 498
        }
      },
      "source": [
        "plt.figure(figsize=(10,6))\n",
        "sns.boxplot((df[\"total payment for all the claims in thousands of Swedish Kronor\"]))"
      ],
      "execution_count": 13,
      "outputs": [
        {
          "output_type": "stream",
          "text": [
            "/usr/local/lib/python3.6/dist-packages/seaborn/_decorators.py:43: FutureWarning:\n",
            "\n",
            "Pass the following variable as a keyword arg: x. From version 0.12, the only valid positional argument will be `data`, and passing other arguments without an explicit keyword will result in an error or misinterpretation.\n",
            "\n"
          ],
          "name": "stderr"
        },
        {
          "output_type": "execute_result",
          "data": {
            "text/plain": [
              "<matplotlib.axes._subplots.AxesSubplot at 0x7fda8d612d30>"
            ]
          },
          "metadata": {
            "tags": []
          },
          "execution_count": 13
        },
        {
          "output_type": "display_data",
          "data": {
            "image/png": "[encoded data removed]",
            "text/plain": [
              "<Figure size 720x432 with 1 Axes>"
            ]
          },
          "metadata": {
            "tags": []
          }
        }
      ]
    },
    {
      "cell_type": "code",
      "metadata": {
        "id": "u2voex337x5Z",
        "outputId": "81b76d3a-98ae-429f-df9e-e1277ac5981e",
        "colab": {
          "base_uri": "https://localhost:8080/",
          "height": 498
        }
      },
      "source": [
        "plt.figure(figsize=(10,6))\n",
        "sns.boxplot(np.sqrt(df[\"total payment for all the claims in thousands of Swedish Kronor\"]))"
      ],
      "execution_count": 14,
      "outputs": [
        {
          "output_type": "stream",
          "text": [
            "/usr/local/lib/python3.6/dist-packages/seaborn/_decorators.py:43: FutureWarning:\n",
            "\n",
            "Pass the following variable as a keyword arg: x. From version 0.12, the only valid positional argument will be `data`, and passing other arguments without an explicit keyword will result in an error or misinterpretation.\n",
            "\n"
          ],
          "name": "stderr"
        },
        {
          "output_type": "execute_result",
          "data": {
            "text/plain": [
              "<matplotlib.axes._subplots.AxesSubplot at 0x7fda8d555e48>"
            ]
          },
          "metadata": {
            "tags": []
          },
          "execution_count": 14
        },
        {
          "output_type": "display_data",
          "data": {
            "image/png": "[encoded data removed]",
            "text/plain": [
              "<Figure size 720x432 with 1 Axes>"
            ]
          },
          "metadata": {
            "tags": []
          }
        }
      ]
    },
    {
      "cell_type": "markdown",
      "metadata": {
        "id": "BJ0p2S68ECDo"
      },
      "source": [
        "**Creating new columns with the SQUARE ROOTED values of each column above**"
      ]
    },
    {
      "cell_type": "code",
      "metadata": {
        "id": "zMcJH70dBJS3"
      },
      "source": [
        "df['num_claims']=np.sqrt(df[' number of claims'])\n",
        "df['payments']=np.sqrt(df['total payment for all the claims in thousands of Swedish Kronor'])"
      ],
      "execution_count": 16,
      "outputs": []
    },
    {
      "cell_type": "code",
      "metadata": {
        "id": "MMPVO5BxBJXl",
        "outputId": "25cbd7de-68a8-4475-f641-0b6dbc726efc",
        "colab": {
          "base_uri": "https://localhost:8080/",
          "height": 195
        }
      },
      "source": [
        "df.head()"
      ],
      "execution_count": 17,
      "outputs": [
        {
          "output_type": "execute_result",
          "data": {
            "text/html": [
              "<div>\n",
              "<style scoped>\n",
              "    .dataframe tbody tr th:only-of-type {\n",
              "        vertical-align: middle;\n",
              "    }\n",
              "\n",
              "    .dataframe tbody tr th {\n",
              "        vertical-align: top;\n",
              "    }\n",
              "\n",
              "    .dataframe thead th {\n",
              "        text-align: right;\n",
              "    }\n",
              "</style>\n",
              "<table border=\"1\" class=\"dataframe\">\n",
              "  <thead>\n",
              "    <tr style=\"text-align: right;\">\n",
              "      <th></th>\n",
              "      <th>number of claims</th>\n",
              "      <th>total payment for all the claims in thousands of Swedish Kronor</th>\n",
              "      <th>num_claims</th>\n",
              "      <th>payments</th>\n",
              "    </tr>\n",
              "  </thead>\n",
              "  <tbody>\n",
              "    <tr>\n",
              "      <th>0</th>\n",
              "      <td>108</td>\n",
              "      <td>392.5</td>\n",
              "      <td>10.392305</td>\n",
              "      <td>19.811613</td>\n",
              "    </tr>\n",
              "    <tr>\n",
              "      <th>1</th>\n",
              "      <td>19</td>\n",
              "      <td>46.2</td>\n",
              "      <td>4.358899</td>\n",
              "      <td>6.797058</td>\n",
              "    </tr>\n",
              "    <tr>\n",
              "      <th>2</th>\n",
              "      <td>13</td>\n",
              "      <td>15.7</td>\n",
              "      <td>3.605551</td>\n",
              "      <td>3.962323</td>\n",
              "    </tr>\n",
              "    <tr>\n",
              "      <th>3</th>\n",
              "      <td>124</td>\n",
              "      <td>422.2</td>\n",
              "      <td>11.135529</td>\n",
              "      <td>20.547506</td>\n",
              "    </tr>\n",
              "    <tr>\n",
              "      <th>4</th>\n",
              "      <td>40</td>\n",
              "      <td>119.4</td>\n",
              "      <td>6.324555</td>\n",
              "      <td>10.927031</td>\n",
              "    </tr>\n",
              "  </tbody>\n",
              "</table>\n",
              "</div>"
            ],
            "text/plain": [
              "    number of claims  ...   payments\n",
              "0                108  ...  19.811613\n",
              "1                 19  ...   6.797058\n",
              "2                 13  ...   3.962323\n",
              "3                124  ...  20.547506\n",
              "4                 40  ...  10.927031\n",
              "\n",
              "[5 rows x 4 columns]"
            ]
          },
          "metadata": {
            "tags": []
          },
          "execution_count": 17
        }
      ]
    },
    {
      "cell_type": "markdown",
      "metadata": {
        "id": "MzyTKJ_pEK4-"
      },
      "source": [
        "**Extracting Features---> X and Target---->y**"
      ]
    },
    {
      "cell_type": "code",
      "metadata": {
        "id": "8PLuxkGb7_iO"
      },
      "source": [
        "X = df.iloc[:, 2].values  #New Feature\n",
        "y = df.iloc[:, 3].values  #New Target"
      ],
      "execution_count": 18,
      "outputs": []
    },
    {
      "cell_type": "code",
      "metadata": {
        "id": "aDyz39M69afP"
      },
      "source": [
        "X=X.reshape(-1,1)     #Reshaping \n",
        "y=y.reshape(-1,1)"
      ],
      "execution_count": 19,
      "outputs": []
    },
    {
      "cell_type": "markdown",
      "metadata": {
        "id": "ci_kU7C-ETgy"
      },
      "source": [
        "**Applying MinMaxScaling**"
      ]
    },
    {
      "cell_type": "code",
      "metadata": {
        "id": "cOgYvKF1-D3S"
      },
      "source": [
        "from sklearn.preprocessing import MinMaxScaler\n",
        "X = MinMaxScaler().fit_transform(X)\n",
        "y = MinMaxScaler().fit_transform(y)"
      ],
      "execution_count": 20,
      "outputs": []
    },
    {
      "cell_type": "code",
      "metadata": {
        "id": "ynbb5d1O_YYF",
        "outputId": "bb3edf14-8f3f-4fc2-887b-e398f1149951",
        "colab": {
          "base_uri": "https://localhost:8080/",
          "height": 0
        }
      },
      "source": [
        "X[:5]"
      ],
      "execution_count": 21,
      "outputs": [
        {
          "output_type": "execute_result",
          "data": {
            "text/plain": [
              "array([[0.93325653],\n",
              "       [0.39144068],\n",
              "       [0.32378806],\n",
              "       [1.        ],\n",
              "       [0.56796183]])"
            ]
          },
          "metadata": {
            "tags": []
          },
          "execution_count": 21
        }
      ]
    },
    {
      "cell_type": "markdown",
      "metadata": {
        "id": "hkynOgzGEY5I"
      },
      "source": [
        "**Splitting the Data into Train and Test**"
      ]
    },
    {
      "cell_type": "code",
      "metadata": {
        "id": "ModEGnIO8Hxg"
      },
      "source": [
        "from sklearn.model_selection import train_test_split\n",
        "X_train, X_test, y_train, y_test = train_test_split(X, y, test_size = 0.25, random_state = 10)\n"
      ],
      "execution_count": 23,
      "outputs": []
    },
    {
      "cell_type": "code",
      "metadata": {
        "id": "q9XDdDG79Xjq",
        "outputId": "854d76a2-d88a-4ea3-ad46-707e1eff210b",
        "colab": {
          "base_uri": "https://localhost:8080/",
          "height": 0
        }
      },
      "source": [
        "X_train.shape"
      ],
      "execution_count": 24,
      "outputs": [
        {
          "output_type": "execute_result",
          "data": {
            "text/plain": [
              "(47, 1)"
            ]
          },
          "metadata": {
            "tags": []
          },
          "execution_count": 24
        }
      ]
    },
    {
      "cell_type": "markdown",
      "metadata": {
        "id": "IJ4MOBacEeIG"
      },
      "source": [
        "**Model Building**"
      ]
    },
    {
      "cell_type": "code",
      "metadata": {
        "id": "XOpZ77bb8Xb1",
        "outputId": "50985fc6-0ee6-47c2-ddde-39c6eb51ae71",
        "colab": {
          "base_uri": "https://localhost:8080/",
          "height": 0
        }
      },
      "source": [
        "from sklearn.linear_model import LinearRegression\n",
        "regressor = LinearRegression()\n",
        "regressor.fit(X_train, y_train)"
      ],
      "execution_count": 25,
      "outputs": [
        {
          "output_type": "execute_result",
          "data": {
            "text/plain": [
              "LinearRegression(copy_X=True, fit_intercept=True, n_jobs=None, normalize=False)"
            ]
          },
          "metadata": {
            "tags": []
          },
          "execution_count": 25
        }
      ]
    },
    {
      "cell_type": "code",
      "metadata": {
        "id": "-rFb_5Ac9PwQ"
      },
      "source": [
        "# Predicting the Test set results\n",
        "Y_Pred = regressor.predict(X_test)"
      ],
      "execution_count": 26,
      "outputs": []
    },
    {
      "cell_type": "markdown",
      "metadata": {
        "id": "xryT4PrEEhUI"
      },
      "source": [
        "**Evaluating the Model**"
      ]
    },
    {
      "cell_type": "code",
      "metadata": {
        "id": "2B8thBIJ-WXw",
        "outputId": "8e6da8e4-cb55-42c3-d5aa-c690e8510ead",
        "colab": {
          "base_uri": "https://localhost:8080/",
          "height": 0
        }
      },
      "source": [
        "from sklearn.metrics import mean_squared_error,mean_absolute_error\n",
        "\n",
        "print('Mean Square Error',mean_squared_error(Y_Pred,y_test))"
      ],
      "execution_count": 27,
      "outputs": [
        {
          "output_type": "stream",
          "text": [
            "Mean Square Error 0.0073626486112859805\n"
          ],
          "name": "stdout"
        }
      ]
    },
    {
      "cell_type": "code",
      "metadata": {
        "id": "v5IHcO2jJTA5",
        "outputId": "ace958fa-a434-45a8-9b04-e6582fcf1552",
        "colab": {
          "base_uri": "https://localhost:8080/"
        }
      },
      "source": [
        "from sklearn.metrics import mean_squared_error,mean_absolute_error\n",
        "\n",
        "print('Mean Absolute Error',mean_absolute_error(Y_Pred,y_test))"
      ],
      "execution_count": 35,
      "outputs": [
        {
          "output_type": "stream",
          "text": [
            "Mean Absolute Error 0.06659877653408068\n"
          ],
          "name": "stdout"
        }
      ]
    },
    {
      "cell_type": "code",
      "metadata": {
        "id": "gS9E_-F9-hYN",
        "outputId": "fecba161-0a32-43bd-b0bf-23a38bd78ade",
        "colab": {
          "base_uri": "https://localhost:8080/",
          "height": 0
        }
      },
      "source": [
        "print('Co-efficient of linear regression',regressor.coef_)"
      ],
      "execution_count": 28,
      "outputs": [
        {
          "output_type": "stream",
          "text": [
            "Co-efficient of linear regression [[0.96419694]]\n"
          ],
          "name": "stdout"
        }
      ]
    },
    {
      "cell_type": "code",
      "metadata": {
        "id": "dhOoD5VD_Dfv",
        "outputId": "f0edcc3f-a332-4a5c-80c0-0a1adcd5fe61",
        "colab": {
          "base_uri": "https://localhost:8080/",
          "height": 0
        }
      },
      "source": [
        "print('Intercept of linear regression model',regressor.intercept_)"
      ],
      "execution_count": 29,
      "outputs": [
        {
          "output_type": "stream",
          "text": [
            "Intercept of linear regression model [0.0785742]\n"
          ],
          "name": "stdout"
        }
      ]
    },
    {
      "cell_type": "code",
      "metadata": {
        "id": "tj8gRYUy_GMc",
        "outputId": "8075205f-306d-4a43-e5f8-68f52aeec9bc",
        "colab": {
          "base_uri": "https://localhost:8080/",
          "height": 0
        }
      },
      "source": [
        "from sklearn import metrics\n",
        "print('Model R^2 Square value', metrics.r2_score(y_test,Y_Pred))"
      ],
      "execution_count": 30,
      "outputs": [
        {
          "output_type": "stream",
          "text": [
            "Model R^2 Square value 0.8273913944609286\n"
          ],
          "name": "stdout"
        }
      ]
    },
    {
      "cell_type": "markdown",
      "metadata": {
        "id": "6mPTDQi6ElYD"
      },
      "source": [
        "**Error Terms**"
      ]
    },
    {
      "cell_type": "code",
      "metadata": {
        "id": "r1tytaML_KUB",
        "outputId": "02e67964-04da-4af6-b329-83d90c177a53",
        "colab": {
          "base_uri": "https://localhost:8080/",
          "height": 318
        }
      },
      "source": [
        "#Model Regression line on test set\n",
        "plt.scatter(X_test, y_test)\n",
        "plt.plot(X_test, Y_Pred, color='red', linewidth=3)\n",
        "plt.xlabel('Hours')\n",
        "plt.ylabel('Marks')\n",
        "plt.title('Linear Regression')"
      ],
      "execution_count": 31,
      "outputs": [
        {
          "output_type": "execute_result",
          "data": {
            "text/plain": [
              "Text(0.5, 1.0, 'Linear Regression')"
            ]
          },
          "metadata": {
            "tags": []
          },
          "execution_count": 31
        },
        {
          "output_type": "display_data",
          "data": {
            "image/png": "[encoded data removed]",
            "text/plain": [
              "<Figure size 432x288 with 1 Axes>"
            ]
          },
          "metadata": {
            "tags": []
          }
        }
      ]
    },
    {
      "cell_type": "code",
      "metadata": {
        "id": "5oAWBRfj_sIx",
        "outputId": "69265834-14a5-45a6-eeea-acd8d7f22b64",
        "colab": {
          "base_uri": "https://localhost:8080/",
          "height": 301
        }
      },
      "source": [
        "#Residual plot is such because of MIN MAX Scaling ; thus every value came into range (0-1)\n",
        "plt.scatter(regressor.predict(X_test), regressor.predict(X_test) - y_test, c='g', s = 40)\n",
        "plt.hlines(y=0, xmin=0, xmax=100)\n",
        "plt.title('Residual plot')\n",
        "plt.ylabel('Residual')"
      ],
      "execution_count": 32,
      "outputs": [
        {
          "output_type": "execute_result",
          "data": {
            "text/plain": [
              "Text(0, 0.5, 'Residual')"
            ]
          },
          "metadata": {
            "tags": []
          },
          "execution_count": 32
        },
        {
          "output_type": "display_data",
          "data": {
            "image/png": "[encoded data removed]",
            "text/plain": [
              "<Figure size 432x288 with 1 Axes>"
            ]
          },
          "metadata": {
            "tags": []
          }
        }
      ]
    },
    {
      "cell_type": "code",
      "metadata": {
        "id": "6M9RaaIGBvqx",
        "outputId": "520a8147-a518-4eb7-a428-dcba20df1e35",
        "colab": {
          "base_uri": "https://localhost:8080/",
          "height": 301
        }
      },
      "source": [
        "# Visualising the Training set results\n",
        "plt.scatter(X_train, y_train, color = 'red')\n",
        "plt.plot(X_train, regressor.predict(X_train), color = 'blue')\n",
        "plt.title('Claim vs Payments (Training set)')\n",
        "plt.xlabel('Claim')\n",
        "plt.ylabel('Payment')\n",
        "plt.show()\n"
      ],
      "execution_count": 33,
      "outputs": [
        {
          "output_type": "display_data",
          "data": {
            "image/png": "[encoded data removed]",
            "text/plain": [
              "<Figure size 432x288 with 1 Axes>"
            ]
          },
          "metadata": {
            "tags": []
          }
        }
      ]
    },
    {
      "cell_type": "code",
      "metadata": {
        "id": "vBIUMtDdG5jx",
        "outputId": "9a5889e9-a7a2-4347-8e82-723033831df3",
        "colab": {
          "base_uri": "https://localhost:8080/",
          "height": 301
        }
      },
      "source": [
        "\n",
        "# Visualising the Test set results\n",
        "plt.scatter(X_test, y_test, color = 'red')\n",
        "plt.plot(X_train, regressor.predict(X_train), color = 'blue')\n",
        "plt.title('Claim vs Payments (Test set)')\n",
        "plt.xlabel('Claim')\n",
        "plt.ylabel('Payment')\n",
        "plt.show()"
      ],
      "execution_count": 34,
      "outputs": [
        {
          "output_type": "display_data",
          "data": {
            "image/png": "[encoded data removed]",
            "text/plain": [
              "<Figure size 432x288 with 1 Axes>"
            ]
          },
          "metadata": {
            "tags": []
          }
        }
      ]
    },
    {
      "cell_type": "code",
      "metadata": {
        "id": "Pp5q-NK3HpHm"
      },
      "source": [
        ""
      ],
      "execution_count": null,
      "outputs": []
    }
  ]
}